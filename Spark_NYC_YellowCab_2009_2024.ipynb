{
  "cells": [
    {
      "cell_type": "markdown",
      "metadata": {
        "id": "view-in-github",
        "colab_type": "text"
      },
      "source": [
        "<a href=\"https://colab.research.google.com/github/uldry/data/blob/main/Spark_NYC_YellowCab_2009_2024.ipynb\" target=\"_parent\"><img src=\"https://colab.research.google.com/assets/colab-badge.svg\" alt=\"Open In Colab\"/></a>"
      ]
    },
    {
      "cell_type": "markdown",
      "source": [
        "# Spark_NYC_YellowCab-2009-2024"
      ],
      "metadata": {
        "id": "CftvVI_S55EF"
      }
    },
    {
      "cell_type": "markdown",
      "source": [
        "Data Download, Transformation and  Exploration/Cleaning of NYC Yellow Cab dataset from 2009 to 2024 using Google Colab. about ~1.8 billion rows. As the resuling dataset couldn't be saved anywhere due to a stalling issue and colab crashing, the work stopped there."
      ],
      "metadata": {
        "id": "dvSV2AXi4ns7"
      }
    },
    {
      "cell_type": "markdown",
      "metadata": {
        "id": "BTFW3LUj_pEl"
      },
      "source": [
        "Setting up pySpark and starting the session"
      ]
    },
    {
      "cell_type": "code",
      "execution_count": null,
      "metadata": {
        "colab": {
          "base_uri": "https://localhost:8080/"
        },
        "id": "r_Kz-fIRFV1l",
        "outputId": "6f8c2f74-78eb-41d4-82e3-1b7152870ce8"
      },
      "outputs": [
        {
          "output_type": "stream",
          "name": "stdout",
          "text": [
            "\r0% [Working]\r            \rGet:1 https://cloud.r-project.org/bin/linux/ubuntu jammy-cran40/ InRelease [3,626 B]\n",
            "Get:2 https://developer.download.nvidia.com/compute/cuda/repos/ubuntu2204/x86_64  InRelease [1,581 B]\n",
            "Get:3 http://security.ubuntu.com/ubuntu jammy-security InRelease [129 kB]\n",
            "Get:4 https://r2u.stat.illinois.edu/ubuntu jammy InRelease [6,555 B]\n",
            "Hit:5 http://archive.ubuntu.com/ubuntu jammy InRelease\n",
            "Get:6 http://archive.ubuntu.com/ubuntu jammy-updates InRelease [128 kB]\n",
            "Hit:7 https://ppa.launchpadcontent.net/deadsnakes/ppa/ubuntu jammy InRelease\n",
            "Get:8 https://developer.download.nvidia.com/compute/cuda/repos/ubuntu2204/x86_64  Packages [1,199 kB]\n",
            "Hit:9 https://ppa.launchpadcontent.net/graphics-drivers/ppa/ubuntu jammy InRelease\n",
            "Hit:10 https://ppa.launchpadcontent.net/ubuntugis/ppa/ubuntu jammy InRelease\n",
            "Get:11 http://archive.ubuntu.com/ubuntu jammy-backports InRelease [127 kB]\n",
            "Get:12 https://r2u.stat.illinois.edu/ubuntu jammy/main all Packages [8,584 kB]\n",
            "Get:13 https://r2u.stat.illinois.edu/ubuntu jammy/main amd64 Packages [2,639 kB]\n",
            "Get:14 http://security.ubuntu.com/ubuntu jammy-security/main amd64 Packages [2,560 kB]\n",
            "Get:15 http://security.ubuntu.com/ubuntu jammy-security/restricted amd64 Packages [3,527 kB]\n",
            "Get:16 http://security.ubuntu.com/ubuntu jammy-security/universe amd64 Packages [1,227 kB]\n",
            "Get:17 http://security.ubuntu.com/ubuntu jammy-security/multiverse amd64 Packages [45.2 kB]\n",
            "Get:18 http://archive.ubuntu.com/ubuntu jammy-updates/restricted amd64 Packages [3,663 kB]\n",
            "Get:19 http://archive.ubuntu.com/ubuntu jammy-updates/universe amd64 Packages [1,518 kB]\n",
            "Get:20 http://archive.ubuntu.com/ubuntu jammy-updates/main amd64 Packages [2,859 kB]\n",
            "Fetched 28.2 MB in 6s (4,904 kB/s)\n",
            "Reading package lists... Done\n",
            "W: Skipping acquire of configured file 'main/source/Sources' as repository 'https://r2u.stat.illinois.edu/ubuntu jammy InRelease' does not seem to provide it (sources.list entry misspelt?)\n"
          ]
        }
      ],
      "source": [
        "!apt-get update\n",
        "!apt-get install openjdk-8-jdk-headless -qq > /dev/null\n",
        "!wget -q http://archive.apache.org/dist/spark/spark-3.5.3/spark-3.5.3-bin-hadoop3-scala2.13.tgz\n",
        "!tar xf spark-3.5.3-bin-hadoop3-scala2.13.tgz\n",
        "!pip install -q findspark\n",
        "# remove?\n",
        "#!pip install pyspark_dist_explore"
      ]
    },
    {
      "cell_type": "code",
      "execution_count": null,
      "metadata": {
        "id": "1dOYJtb8jq7S"
      },
      "outputs": [],
      "source": [
        "import os\n",
        "os.environ[\"JAVA_HOME\"] = \"/usr/lib/jvm/java-8-openjdk-amd64\"\n",
        "os.environ[\"SPARK_HOME\"] = \"/content/spark-3.5.3-bin-hadoop3-scala2.13\"\n",
        "import findspark\n",
        "findspark.init()\n",
        "\n",
        "from pyspark.sql import SparkSession\n",
        "\n",
        "spark = SparkSession.builder\\\n",
        "        .master(\"local[*]\")\\\n",
        "        .appName(\"Test Setup\")\\\n",
        "        .getOrCreate()"
      ]
    },
    {
      "cell_type": "markdown",
      "metadata": {
        "id": "MasLNE3N_8ON"
      },
      "source": [
        "Imports"
      ]
    },
    {
      "cell_type": "code",
      "execution_count": null,
      "metadata": {
        "id": "X7zO9-7dF5Wu",
        "colab": {
          "base_uri": "https://localhost:8080/"
        },
        "outputId": "0b484202-0bc0-4a83-ad76-59e62d5af4fc"
      },
      "outputs": [
        {
          "output_type": "stream",
          "name": "stdout",
          "text": [
            "3.5.3\n"
          ]
        }
      ],
      "source": [
        "import pyspark\n",
        "print(pyspark.__version__)\n",
        "\n",
        "from pyspark.sql import SparkSession\n",
        "from pyspark.sql.functions import udf, lit, array, struct, col, lower, create_map\n",
        "from pyspark.sql.functions import to_timestamp_ntz, unix_timestamp\n",
        "from pyspark.sql import functions as F\n",
        "from pyspark.sql.types import FloatType, ShortType, IntegerType, StructType, StructField, ArrayType\n",
        "from pyspark.sql.types import StringType,LongType, IntegerType, DoubleType\n",
        "from pyspark.ml.feature import Bucketizer\n",
        "\n",
        "\n",
        "import numpy as np\n",
        "import pandas as pd\n",
        "import math\n",
        "import os\n",
        "import glob\n",
        "import matplotlib.pyplot as plt\n",
        "import seaborn as sns\n",
        "\n",
        "import shapefile\n",
        "import geopandas as gpd\n",
        "from shapely.geometry import Point\n",
        "\n",
        "from google.colab import drive\n",
        "from google.colab import userdata\n",
        "\n"
      ]
    },
    {
      "cell_type": "markdown",
      "metadata": {
        "id": "GMLGMRrbZMm6"
      },
      "source": [
        "### Downloading the data from the repository"
      ]
    },
    {
      "cell_type": "markdown",
      "metadata": {
        "id": "WHt9ef1i3aeE"
      },
      "source": [
        "Adjust to download the necessary data"
      ]
    },
    {
      "cell_type": "code",
      "execution_count": null,
      "metadata": {
        "id": "xsGXIJ9WikbN",
        "colab": {
          "base_uri": "https://localhost:8080/"
        },
        "collapsed": true,
        "outputId": "9c8548ca-1133-4606-daed-c9a2971158df"
      },
      "outputs": [
        {
          "output_type": "stream",
          "name": "stdout",
          "text": [
            "File ‘yellow_tripdata_2009-01.parquet’ already there; not retrieving.\n",
            "\n",
            "File ‘yellow_tripdata_2009-02.parquet’ already there; not retrieving.\n",
            "\n",
            "File ‘yellow_tripdata_2009-03.parquet’ already there; not retrieving.\n",
            "\n",
            "File ‘yellow_tripdata_2009-04.parquet’ already there; not retrieving.\n",
            "\n",
            "File ‘yellow_tripdata_2009-05.parquet’ already there; not retrieving.\n",
            "\n",
            "File ‘yellow_tripdata_2009-06.parquet’ already there; not retrieving.\n",
            "\n",
            "File ‘yellow_tripdata_2009-07.parquet’ already there; not retrieving.\n",
            "\n",
            "File ‘yellow_tripdata_2009-08.parquet’ already there; not retrieving.\n",
            "\n",
            "File ‘yellow_tripdata_2009-09.parquet’ already there; not retrieving.\n",
            "\n",
            "File ‘yellow_tripdata_2009-10.parquet’ already there; not retrieving.\n",
            "\n",
            "File ‘yellow_tripdata_2009-11.parquet’ already there; not retrieving.\n",
            "\n",
            "File ‘yellow_tripdata_2009-12.parquet’ already there; not retrieving.\n",
            "\n",
            "File ‘yellow_tripdata_2010-01.parquet’ already there; not retrieving.\n",
            "\n",
            "File ‘yellow_tripdata_2010-02.parquet’ already there; not retrieving.\n",
            "\n",
            "File ‘yellow_tripdata_2010-03.parquet’ already there; not retrieving.\n",
            "\n",
            "File ‘yellow_tripdata_2010-04.parquet’ already there; not retrieving.\n",
            "\n",
            "File ‘yellow_tripdata_2010-05.parquet’ already there; not retrieving.\n",
            "\n",
            "File ‘yellow_tripdata_2010-06.parquet’ already there; not retrieving.\n",
            "\n",
            "File ‘yellow_tripdata_2010-07.parquet’ already there; not retrieving.\n",
            "\n",
            "File ‘yellow_tripdata_2010-08.parquet’ already there; not retrieving.\n",
            "\n",
            "File ‘yellow_tripdata_2010-09.parquet’ already there; not retrieving.\n",
            "\n",
            "File ‘yellow_tripdata_2010-10.parquet’ already there; not retrieving.\n",
            "\n",
            "File ‘yellow_tripdata_2010-11.parquet’ already there; not retrieving.\n",
            "\n",
            "File ‘yellow_tripdata_2010-12.parquet’ already there; not retrieving.\n",
            "\n",
            "File ‘yellow_tripdata_2011-01.parquet’ already there; not retrieving.\n",
            "\n",
            "File ‘yellow_tripdata_2011-02.parquet’ already there; not retrieving.\n",
            "\n",
            "File ‘yellow_tripdata_2011-03.parquet’ already there; not retrieving.\n",
            "\n",
            "File ‘yellow_tripdata_2011-04.parquet’ already there; not retrieving.\n",
            "\n",
            "File ‘yellow_tripdata_2011-05.parquet’ already there; not retrieving.\n",
            "\n",
            "File ‘yellow_tripdata_2011-06.parquet’ already there; not retrieving.\n",
            "\n",
            "File ‘yellow_tripdata_2011-07.parquet’ already there; not retrieving.\n",
            "\n",
            "File ‘yellow_tripdata_2011-08.parquet’ already there; not retrieving.\n",
            "\n",
            "File ‘yellow_tripdata_2011-09.parquet’ already there; not retrieving.\n",
            "\n",
            "File ‘yellow_tripdata_2011-10.parquet’ already there; not retrieving.\n",
            "\n",
            "File ‘yellow_tripdata_2011-11.parquet’ already there; not retrieving.\n",
            "\n",
            "File ‘yellow_tripdata_2011-12.parquet’ already there; not retrieving.\n",
            "\n",
            "File ‘yellow_tripdata_2012-01.parquet’ already there; not retrieving.\n",
            "\n",
            "File ‘yellow_tripdata_2012-02.parquet’ already there; not retrieving.\n",
            "\n",
            "File ‘yellow_tripdata_2012-03.parquet’ already there; not retrieving.\n",
            "\n",
            "File ‘yellow_tripdata_2012-04.parquet’ already there; not retrieving.\n",
            "\n",
            "File ‘yellow_tripdata_2012-05.parquet’ already there; not retrieving.\n",
            "\n",
            "File ‘yellow_tripdata_2012-06.parquet’ already there; not retrieving.\n",
            "\n",
            "File ‘yellow_tripdata_2012-07.parquet’ already there; not retrieving.\n",
            "\n",
            "File ‘yellow_tripdata_2012-08.parquet’ already there; not retrieving.\n",
            "\n",
            "File ‘yellow_tripdata_2012-09.parquet’ already there; not retrieving.\n",
            "\n",
            "File ‘yellow_tripdata_2012-10.parquet’ already there; not retrieving.\n",
            "\n",
            "File ‘yellow_tripdata_2012-11.parquet’ already there; not retrieving.\n",
            "\n",
            "File ‘yellow_tripdata_2012-12.parquet’ already there; not retrieving.\n",
            "\n",
            "File ‘yellow_tripdata_2013-01.parquet’ already there; not retrieving.\n",
            "\n",
            "File ‘yellow_tripdata_2013-02.parquet’ already there; not retrieving.\n",
            "\n",
            "File ‘yellow_tripdata_2013-03.parquet’ already there; not retrieving.\n",
            "\n",
            "File ‘yellow_tripdata_2013-04.parquet’ already there; not retrieving.\n",
            "\n",
            "File ‘yellow_tripdata_2013-05.parquet’ already there; not retrieving.\n",
            "\n",
            "File ‘yellow_tripdata_2013-06.parquet’ already there; not retrieving.\n",
            "\n",
            "File ‘yellow_tripdata_2013-07.parquet’ already there; not retrieving.\n",
            "\n",
            "File ‘yellow_tripdata_2013-08.parquet’ already there; not retrieving.\n",
            "\n",
            "File ‘yellow_tripdata_2013-09.parquet’ already there; not retrieving.\n",
            "\n",
            "File ‘yellow_tripdata_2013-10.parquet’ already there; not retrieving.\n",
            "\n",
            "File ‘yellow_tripdata_2013-11.parquet’ already there; not retrieving.\n",
            "\n",
            "File ‘yellow_tripdata_2013-12.parquet’ already there; not retrieving.\n",
            "\n",
            "File ‘yellow_tripdata_2014-01.parquet’ already there; not retrieving.\n",
            "\n",
            "File ‘yellow_tripdata_2014-02.parquet’ already there; not retrieving.\n",
            "\n",
            "File ‘yellow_tripdata_2014-03.parquet’ already there; not retrieving.\n",
            "\n",
            "File ‘yellow_tripdata_2014-04.parquet’ already there; not retrieving.\n",
            "\n",
            "File ‘yellow_tripdata_2014-05.parquet’ already there; not retrieving.\n",
            "\n",
            "File ‘yellow_tripdata_2014-06.parquet’ already there; not retrieving.\n",
            "\n",
            "File ‘yellow_tripdata_2014-07.parquet’ already there; not retrieving.\n",
            "\n",
            "File ‘yellow_tripdata_2014-08.parquet’ already there; not retrieving.\n",
            "\n",
            "File ‘yellow_tripdata_2014-09.parquet’ already there; not retrieving.\n",
            "\n",
            "File ‘yellow_tripdata_2014-10.parquet’ already there; not retrieving.\n",
            "\n",
            "File ‘yellow_tripdata_2014-11.parquet’ already there; not retrieving.\n",
            "\n",
            "File ‘yellow_tripdata_2014-12.parquet’ already there; not retrieving.\n",
            "\n",
            "File ‘yellow_tripdata_2015-01.parquet’ already there; not retrieving.\n",
            "\n",
            "File ‘yellow_tripdata_2015-02.parquet’ already there; not retrieving.\n",
            "\n",
            "File ‘yellow_tripdata_2015-03.parquet’ already there; not retrieving.\n",
            "\n",
            "File ‘yellow_tripdata_2015-04.parquet’ already there; not retrieving.\n",
            "\n",
            "File ‘yellow_tripdata_2015-05.parquet’ already there; not retrieving.\n",
            "\n",
            "File ‘yellow_tripdata_2015-06.parquet’ already there; not retrieving.\n",
            "\n",
            "File ‘yellow_tripdata_2015-07.parquet’ already there; not retrieving.\n",
            "\n",
            "File ‘yellow_tripdata_2015-08.parquet’ already there; not retrieving.\n",
            "\n",
            "File ‘yellow_tripdata_2015-09.parquet’ already there; not retrieving.\n",
            "\n",
            "File ‘yellow_tripdata_2015-10.parquet’ already there; not retrieving.\n",
            "\n",
            "File ‘yellow_tripdata_2015-11.parquet’ already there; not retrieving.\n",
            "\n",
            "File ‘yellow_tripdata_2015-12.parquet’ already there; not retrieving.\n",
            "\n",
            "File ‘yellow_tripdata_2016-01.parquet’ already there; not retrieving.\n",
            "\n",
            "File ‘yellow_tripdata_2016-02.parquet’ already there; not retrieving.\n",
            "\n",
            "File ‘yellow_tripdata_2016-03.parquet’ already there; not retrieving.\n",
            "\n",
            "File ‘yellow_tripdata_2016-04.parquet’ already there; not retrieving.\n",
            "\n",
            "File ‘yellow_tripdata_2016-05.parquet’ already there; not retrieving.\n",
            "\n",
            "File ‘yellow_tripdata_2016-06.parquet’ already there; not retrieving.\n",
            "\n",
            "File ‘yellow_tripdata_2016-07.parquet’ already there; not retrieving.\n",
            "\n",
            "File ‘yellow_tripdata_2016-08.parquet’ already there; not retrieving.\n",
            "\n",
            "File ‘yellow_tripdata_2016-09.parquet’ already there; not retrieving.\n",
            "\n",
            "File ‘yellow_tripdata_2016-10.parquet’ already there; not retrieving.\n",
            "\n",
            "File ‘yellow_tripdata_2016-11.parquet’ already there; not retrieving.\n",
            "\n",
            "File ‘yellow_tripdata_2016-12.parquet’ already there; not retrieving.\n",
            "\n",
            "File ‘yellow_tripdata_2017-01.parquet’ already there; not retrieving.\n",
            "\n",
            "File ‘yellow_tripdata_2017-02.parquet’ already there; not retrieving.\n",
            "\n",
            "File ‘yellow_tripdata_2017-03.parquet’ already there; not retrieving.\n",
            "\n",
            "File ‘yellow_tripdata_2017-04.parquet’ already there; not retrieving.\n",
            "\n",
            "File ‘yellow_tripdata_2017-05.parquet’ already there; not retrieving.\n",
            "\n",
            "File ‘yellow_tripdata_2017-06.parquet’ already there; not retrieving.\n",
            "\n",
            "File ‘yellow_tripdata_2017-07.parquet’ already there; not retrieving.\n",
            "\n",
            "File ‘yellow_tripdata_2017-08.parquet’ already there; not retrieving.\n",
            "\n",
            "File ‘yellow_tripdata_2017-09.parquet’ already there; not retrieving.\n",
            "\n",
            "File ‘yellow_tripdata_2017-10.parquet’ already there; not retrieving.\n",
            "\n",
            "File ‘yellow_tripdata_2017-11.parquet’ already there; not retrieving.\n",
            "\n",
            "File ‘yellow_tripdata_2017-12.parquet’ already there; not retrieving.\n",
            "\n",
            "File ‘yellow_tripdata_2018-01.parquet’ already there; not retrieving.\n",
            "\n",
            "File ‘yellow_tripdata_2018-02.parquet’ already there; not retrieving.\n",
            "\n",
            "File ‘yellow_tripdata_2018-03.parquet’ already there; not retrieving.\n",
            "\n",
            "File ‘yellow_tripdata_2018-04.parquet’ already there; not retrieving.\n",
            "\n",
            "File ‘yellow_tripdata_2018-05.parquet’ already there; not retrieving.\n",
            "\n",
            "File ‘yellow_tripdata_2018-06.parquet’ already there; not retrieving.\n",
            "\n",
            "File ‘yellow_tripdata_2018-07.parquet’ already there; not retrieving.\n",
            "\n",
            "File ‘yellow_tripdata_2018-08.parquet’ already there; not retrieving.\n",
            "\n",
            "File ‘yellow_tripdata_2018-09.parquet’ already there; not retrieving.\n",
            "\n",
            "File ‘yellow_tripdata_2018-10.parquet’ already there; not retrieving.\n",
            "\n",
            "File ‘yellow_tripdata_2018-11.parquet’ already there; not retrieving.\n",
            "\n",
            "File ‘yellow_tripdata_2018-12.parquet’ already there; not retrieving.\n",
            "\n"
          ]
        }
      ],
      "source": [
        "!wget -nc https://d37ci6vzurychx.cloudfront.net/trip-data/yellow_tripdata_20{09..18}-{01..12}.parquet"
      ]
    },
    {
      "cell_type": "markdown",
      "source": [
        "**Wait some time here to not exceed the download limit**"
      ],
      "metadata": {
        "id": "0t_m5aNtvmw1"
      }
    },
    {
      "cell_type": "code",
      "source": [
        "!wget -nc https://d37ci6vzurychx.cloudfront.net/trip-data/yellow_tripdata_20{19..24}-{01..12}.parquet"
      ],
      "metadata": {
        "colab": {
          "base_uri": "https://localhost:8080/"
        },
        "collapsed": true,
        "id": "QMGI0nkGu56-",
        "outputId": "be04fdc6-e8f3-415d-e52e-59ac9f19bf7c"
      },
      "execution_count": null,
      "outputs": [
        {
          "output_type": "stream",
          "name": "stdout",
          "text": [
            "File ‘yellow_tripdata_2019-01.parquet’ already there; not retrieving.\n",
            "\n",
            "File ‘yellow_tripdata_2019-02.parquet’ already there; not retrieving.\n",
            "\n",
            "File ‘yellow_tripdata_2019-03.parquet’ already there; not retrieving.\n",
            "\n",
            "File ‘yellow_tripdata_2019-04.parquet’ already there; not retrieving.\n",
            "\n",
            "File ‘yellow_tripdata_2019-05.parquet’ already there; not retrieving.\n",
            "\n",
            "File ‘yellow_tripdata_2019-06.parquet’ already there; not retrieving.\n",
            "\n",
            "File ‘yellow_tripdata_2019-07.parquet’ already there; not retrieving.\n",
            "\n",
            "File ‘yellow_tripdata_2019-08.parquet’ already there; not retrieving.\n",
            "\n",
            "File ‘yellow_tripdata_2019-09.parquet’ already there; not retrieving.\n",
            "\n",
            "File ‘yellow_tripdata_2019-10.parquet’ already there; not retrieving.\n",
            "\n",
            "File ‘yellow_tripdata_2019-11.parquet’ already there; not retrieving.\n",
            "\n",
            "File ‘yellow_tripdata_2019-12.parquet’ already there; not retrieving.\n",
            "\n",
            "File ‘yellow_tripdata_2020-01.parquet’ already there; not retrieving.\n",
            "\n",
            "File ‘yellow_tripdata_2020-02.parquet’ already there; not retrieving.\n",
            "\n",
            "File ‘yellow_tripdata_2020-03.parquet’ already there; not retrieving.\n",
            "\n",
            "File ‘yellow_tripdata_2020-04.parquet’ already there; not retrieving.\n",
            "\n",
            "File ‘yellow_tripdata_2020-05.parquet’ already there; not retrieving.\n",
            "\n",
            "File ‘yellow_tripdata_2020-06.parquet’ already there; not retrieving.\n",
            "\n",
            "File ‘yellow_tripdata_2020-07.parquet’ already there; not retrieving.\n",
            "\n",
            "File ‘yellow_tripdata_2020-08.parquet’ already there; not retrieving.\n",
            "\n",
            "File ‘yellow_tripdata_2020-09.parquet’ already there; not retrieving.\n",
            "\n",
            "File ‘yellow_tripdata_2020-10.parquet’ already there; not retrieving.\n",
            "\n",
            "File ‘yellow_tripdata_2020-11.parquet’ already there; not retrieving.\n",
            "\n",
            "File ‘yellow_tripdata_2020-12.parquet’ already there; not retrieving.\n",
            "\n",
            "File ‘yellow_tripdata_2021-01.parquet’ already there; not retrieving.\n",
            "\n",
            "File ‘yellow_tripdata_2021-02.parquet’ already there; not retrieving.\n",
            "\n",
            "File ‘yellow_tripdata_2021-03.parquet’ already there; not retrieving.\n",
            "\n",
            "File ‘yellow_tripdata_2021-04.parquet’ already there; not retrieving.\n",
            "\n",
            "File ‘yellow_tripdata_2021-05.parquet’ already there; not retrieving.\n",
            "\n",
            "File ‘yellow_tripdata_2021-06.parquet’ already there; not retrieving.\n",
            "\n",
            "File ‘yellow_tripdata_2021-07.parquet’ already there; not retrieving.\n",
            "\n",
            "File ‘yellow_tripdata_2021-08.parquet’ already there; not retrieving.\n",
            "\n",
            "File ‘yellow_tripdata_2021-09.parquet’ already there; not retrieving.\n",
            "\n",
            "File ‘yellow_tripdata_2021-10.parquet’ already there; not retrieving.\n",
            "\n",
            "File ‘yellow_tripdata_2021-11.parquet’ already there; not retrieving.\n",
            "\n",
            "File ‘yellow_tripdata_2021-12.parquet’ already there; not retrieving.\n",
            "\n",
            "File ‘yellow_tripdata_2022-01.parquet’ already there; not retrieving.\n",
            "\n",
            "File ‘yellow_tripdata_2022-02.parquet’ already there; not retrieving.\n",
            "\n",
            "File ‘yellow_tripdata_2022-03.parquet’ already there; not retrieving.\n",
            "\n",
            "File ‘yellow_tripdata_2022-04.parquet’ already there; not retrieving.\n",
            "\n",
            "File ‘yellow_tripdata_2022-05.parquet’ already there; not retrieving.\n",
            "\n",
            "File ‘yellow_tripdata_2022-06.parquet’ already there; not retrieving.\n",
            "\n",
            "File ‘yellow_tripdata_2022-07.parquet’ already there; not retrieving.\n",
            "\n",
            "File ‘yellow_tripdata_2022-08.parquet’ already there; not retrieving.\n",
            "\n",
            "File ‘yellow_tripdata_2022-09.parquet’ already there; not retrieving.\n",
            "\n",
            "File ‘yellow_tripdata_2022-10.parquet’ already there; not retrieving.\n",
            "\n",
            "File ‘yellow_tripdata_2022-11.parquet’ already there; not retrieving.\n",
            "\n",
            "File ‘yellow_tripdata_2022-12.parquet’ already there; not retrieving.\n",
            "\n",
            "File ‘yellow_tripdata_2023-01.parquet’ already there; not retrieving.\n",
            "\n",
            "File ‘yellow_tripdata_2023-02.parquet’ already there; not retrieving.\n",
            "\n",
            "File ‘yellow_tripdata_2023-03.parquet’ already there; not retrieving.\n",
            "\n",
            "File ‘yellow_tripdata_2023-04.parquet’ already there; not retrieving.\n",
            "\n",
            "File ‘yellow_tripdata_2023-05.parquet’ already there; not retrieving.\n",
            "\n",
            "File ‘yellow_tripdata_2023-06.parquet’ already there; not retrieving.\n",
            "\n",
            "File ‘yellow_tripdata_2023-07.parquet’ already there; not retrieving.\n",
            "\n",
            "File ‘yellow_tripdata_2023-08.parquet’ already there; not retrieving.\n",
            "\n",
            "File ‘yellow_tripdata_2023-09.parquet’ already there; not retrieving.\n",
            "\n",
            "File ‘yellow_tripdata_2023-10.parquet’ already there; not retrieving.\n",
            "\n",
            "File ‘yellow_tripdata_2023-11.parquet’ already there; not retrieving.\n",
            "\n",
            "File ‘yellow_tripdata_2023-12.parquet’ already there; not retrieving.\n",
            "\n",
            "File ‘yellow_tripdata_2024-01.parquet’ already there; not retrieving.\n",
            "\n",
            "File ‘yellow_tripdata_2024-02.parquet’ already there; not retrieving.\n",
            "\n",
            "File ‘yellow_tripdata_2024-03.parquet’ already there; not retrieving.\n",
            "\n",
            "File ‘yellow_tripdata_2024-04.parquet’ already there; not retrieving.\n",
            "\n",
            "File ‘yellow_tripdata_2024-05.parquet’ already there; not retrieving.\n",
            "\n",
            "File ‘yellow_tripdata_2024-06.parquet’ already there; not retrieving.\n",
            "\n",
            "File ‘yellow_tripdata_2024-07.parquet’ already there; not retrieving.\n",
            "\n",
            "File ‘yellow_tripdata_2024-08.parquet’ already there; not retrieving.\n",
            "\n",
            "File ‘yellow_tripdata_2024-09.parquet’ already there; not retrieving.\n",
            "\n",
            "File ‘yellow_tripdata_2024-10.parquet’ already there; not retrieving.\n",
            "\n",
            "--2025-01-12 18:33:46--  https://d37ci6vzurychx.cloudfront.net/trip-data/yellow_tripdata_2024-11.parquet\n",
            "Resolving d37ci6vzurychx.cloudfront.net (d37ci6vzurychx.cloudfront.net)... 52.84.160.213, 52.84.160.73, 52.84.160.116, ...\n",
            "Connecting to d37ci6vzurychx.cloudfront.net (d37ci6vzurychx.cloudfront.net)|52.84.160.213|:443... connected.\n",
            "HTTP request sent, awaiting response... 403 Forbidden\n",
            "2025-01-12 18:33:46 ERROR 403: Forbidden.\n",
            "\n",
            "--2025-01-12 18:33:46--  https://d37ci6vzurychx.cloudfront.net/trip-data/yellow_tripdata_2024-12.parquet\n",
            "Reusing existing connection to d37ci6vzurychx.cloudfront.net:443.\n",
            "HTTP request sent, awaiting response... 403 Forbidden\n",
            "2025-01-12 18:33:47 ERROR 403: Forbidden.\n",
            "\n"
          ]
        }
      ]
    },
    {
      "cell_type": "markdown",
      "metadata": {
        "id": "no367dBdlvSR"
      },
      "source": [
        "Downloading location data"
      ]
    },
    {
      "cell_type": "code",
      "execution_count": null,
      "metadata": {
        "id": "KZcSd8qEluPd",
        "colab": {
          "base_uri": "https://localhost:8080/"
        },
        "outputId": "32a4d191-2c8e-4e39-f4af-bde5b284ac5b"
      },
      "outputs": [
        {
          "output_type": "stream",
          "name": "stdout",
          "text": [
            "--2025-01-12 18:21:55--  https://d37ci6vzurychx.cloudfront.net/misc/taxi_zones.zip\n",
            "Resolving d37ci6vzurychx.cloudfront.net (d37ci6vzurychx.cloudfront.net)... 52.84.160.213, 52.84.160.84, 52.84.160.73, ...\n",
            "Connecting to d37ci6vzurychx.cloudfront.net (d37ci6vzurychx.cloudfront.net)|52.84.160.213|:443... connected.\n",
            "HTTP request sent, awaiting response... 200 OK\n",
            "Length: 1025147 (1001K) [application/zip]\n",
            "Saving to: ‘taxi_zones.zip’\n",
            "\n",
            "\rtaxi_zones.zip        0%[                    ]       0  --.-KB/s               \rtaxi_zones.zip      100%[===================>]   1001K  --.-KB/s    in 0.05s   \n",
            "\n",
            "2025-01-12 18:21:55 (18.7 MB/s) - ‘taxi_zones.zip’ saved [1025147/1025147]\n",
            "\n",
            "--2025-01-12 18:21:55--  https://d37ci6vzurychx.cloudfront.net/misc/taxi_zone_lookup.csv\n",
            "Resolving d37ci6vzurychx.cloudfront.net (d37ci6vzurychx.cloudfront.net)... 52.84.160.213, 52.84.160.84, 52.84.160.73, ...\n",
            "Connecting to d37ci6vzurychx.cloudfront.net (d37ci6vzurychx.cloudfront.net)|52.84.160.213|:443... connected.\n",
            "HTTP request sent, awaiting response... 200 OK\n",
            "Length: 12331 (12K) [text/csv]\n",
            "Saving to: ‘taxi_zone_lookup.csv’\n",
            "\n",
            "taxi_zone_lookup.cs 100%[===================>]  12.04K  --.-KB/s    in 0s      \n",
            "\n",
            "2025-01-12 18:21:55 (69.6 MB/s) - ‘taxi_zone_lookup.csv’ saved [12331/12331]\n",
            "\n",
            "Archive:  taxi_zones.zip\n",
            "  inflating: taxi_zones.prj          \n",
            "  inflating: taxi_zones.dbf          \n",
            "  inflating: taxi_zones.shp          \n",
            "  inflating: taxi_zones.shp.xml      \n",
            "  inflating: taxi_zones.shx          \n",
            "  inflating: taxi_zones.sbn          \n",
            "  inflating: taxi_zones.sbx          \n"
          ]
        }
      ],
      "source": [
        "!wget -nc 'https://d37ci6vzurychx.cloudfront.net/misc/taxi_zones.zip'\n",
        "!wget -nc 'https://d37ci6vzurychx.cloudfront.net/misc/taxi_zone_lookup.csv'\n",
        "!unzip -n taxi_zones.zip"
      ]
    },
    {
      "cell_type": "markdown",
      "metadata": {
        "id": "TZBhoiTjMx_7"
      },
      "source": [
        "### Loading the data\n",
        "There are 3 different schema versions, 2009, 2010 and 2011 onwards.\n",
        "\n",
        "The oldest schemas will be transformed into the lastest version, some columns may be dropped"
      ]
    },
    {
      "cell_type": "markdown",
      "metadata": {
        "id": "N3bqoTy3beV1"
      },
      "source": [
        "#### Recent schema, 2011 onwards"
      ]
    },
    {
      "cell_type": "code",
      "execution_count": null,
      "metadata": {
        "id": "Jhvh7TTlIi1g"
      },
      "outputs": [],
      "source": [
        "parquet_files=[]\n",
        "for i in range(11,25):\n",
        "  parquet_files.extend(glob.glob( f'*20{str(i)}*.parquet'))\n",
        "parquet_files.sort()  # Ensure sequential order\n",
        "\n",
        "#parquet_files =['yellow_tripdata_2011-01.parquet']"
      ]
    },
    {
      "cell_type": "code",
      "execution_count": null,
      "metadata": {
        "id": "dlvi9JbxBD5h"
      },
      "outputs": [],
      "source": [
        "df3 = None\n",
        "for file_path in parquet_files:\n",
        "    if df3 is None:\n",
        "        df3 = spark.read.parquet(file_path)\n",
        "    else:\n",
        "        #df = spark.read.parquet(file_path)\n",
        "        df3 = df3.union(spark.read.parquet(file_path))"
      ]
    },
    {
      "cell_type": "code",
      "execution_count": null,
      "metadata": {
        "colab": {
          "base_uri": "https://localhost:8080/"
        },
        "id": "KHkErTl-ZYgM",
        "outputId": "ee59a2c2-0000-4a14-90cd-8884e72d29a4"
      },
      "outputs": [
        {
          "output_type": "execute_result",
          "data": {
            "text/plain": [
              "[('VendorID', 'bigint'),\n",
              " ('tpep_pickup_datetime', 'timestamp_ntz'),\n",
              " ('tpep_dropoff_datetime', 'timestamp_ntz'),\n",
              " ('passenger_count', 'double'),\n",
              " ('trip_distance', 'double'),\n",
              " ('RatecodeID', 'double'),\n",
              " ('store_and_fwd_flag', 'string'),\n",
              " ('PULocationID', 'bigint'),\n",
              " ('DOLocationID', 'bigint'),\n",
              " ('payment_type', 'bigint'),\n",
              " ('fare_amount', 'double'),\n",
              " ('extra', 'double'),\n",
              " ('mta_tax', 'double'),\n",
              " ('tip_amount', 'double'),\n",
              " ('tolls_amount', 'double'),\n",
              " ('improvement_surcharge', 'double'),\n",
              " ('total_amount', 'double'),\n",
              " ('congestion_surcharge', 'double'),\n",
              " ('airport_fee', 'double')]"
            ]
          },
          "metadata": {},
          "execution_count": 92
        }
      ],
      "source": [
        "df3.dtypes"
      ]
    },
    {
      "cell_type": "markdown",
      "metadata": {
        "id": "d-OEQb6BAMTW"
      },
      "source": [
        "Dropping column that are not interesting"
      ]
    },
    {
      "cell_type": "code",
      "execution_count": null,
      "metadata": {
        "id": "fCR48iuemQEQ"
      },
      "outputs": [],
      "source": [
        "df3 = df3.drop('airport_fee').drop('store_and_fwd_flag').drop('airport_fee').drop('RatecodeID').drop('improvement_surcharge').drop('congestion_surcharge')\\\n",
        "      .drop('extra').drop('mta_tax').drop('tolls_amount').drop('total_amount').drop('VendorID')"
      ]
    },
    {
      "cell_type": "markdown",
      "metadata": {
        "id": "m0GcF7uPAWg7"
      },
      "source": [
        "Casting to Short Int whereever possible to save memory"
      ]
    },
    {
      "cell_type": "code",
      "execution_count": null,
      "metadata": {
        "id": "ELCXAbS8xFt4"
      },
      "outputs": [],
      "source": [
        "df3 = df3.withColumn('PULocationID', col('PULocationID').cast(ShortType()))\\\n",
        ".withColumn('DOLocationID', col('DOLocationID').cast(ShortType()))\\\n",
        ".withColumn('payment_type', col('payment_type').cast(ShortType()))\\\n",
        ".withColumn('passenger_count', col('passenger_count').cast(ShortType()))"
      ]
    },
    {
      "cell_type": "code",
      "execution_count": null,
      "metadata": {
        "id": "MttVXIw6VUyC",
        "colab": {
          "base_uri": "https://localhost:8080/"
        },
        "outputId": "0ad63890-aa6e-4ce3-c97d-12f16c929173"
      },
      "outputs": [
        {
          "output_type": "execute_result",
          "data": {
            "text/plain": [
              "1431026083"
            ]
          },
          "metadata": {},
          "execution_count": 95
        }
      ],
      "source": [
        "df3.count()"
      ]
    },
    {
      "cell_type": "markdown",
      "metadata": {
        "id": "XWYEyx3vVVz8"
      },
      "source": [
        "#### 2009 Schema"
      ]
    },
    {
      "cell_type": "code",
      "execution_count": null,
      "metadata": {
        "id": "4_mHlzQ6Yppi"
      },
      "outputs": [],
      "source": [
        "parquet_files=[]\n",
        "\n",
        "parquet_files.extend(glob.glob( f'*2009*.parquet'))\n",
        "parquet_files.sort()  # Ensure sequential order\n",
        "\n",
        "df1 = None\n",
        "for file_path in parquet_files:\n",
        "    if df1 is None:\n",
        "        df1 = spark.read.parquet(file_path)\n",
        "    else:\n",
        "       df1 = df1.union(spark.read.parquet(file_path))"
      ]
    },
    {
      "cell_type": "code",
      "execution_count": null,
      "metadata": {
        "id": "53ZoZpWkRdFP",
        "colab": {
          "base_uri": "https://localhost:8080/"
        },
        "outputId": "e49f1d2a-d775-4ba6-afd8-651c5c28fb72"
      },
      "outputs": [
        {
          "output_type": "execute_result",
          "data": {
            "text/plain": [
              "[('vendor_name', 'string'),\n",
              " ('Trip_Pickup_DateTime', 'string'),\n",
              " ('Trip_Dropoff_DateTime', 'string'),\n",
              " ('Passenger_Count', 'bigint'),\n",
              " ('Trip_Distance', 'double'),\n",
              " ('Start_Lon', 'double'),\n",
              " ('Start_Lat', 'double'),\n",
              " ('Rate_Code', 'double'),\n",
              " ('store_and_forward', 'double'),\n",
              " ('End_Lon', 'double'),\n",
              " ('End_Lat', 'double'),\n",
              " ('Payment_Type', 'string'),\n",
              " ('Fare_Amt', 'double'),\n",
              " ('surcharge', 'double'),\n",
              " ('mta_tax', 'double'),\n",
              " ('Tip_Amt', 'double'),\n",
              " ('Tolls_Amt', 'double'),\n",
              " ('Total_Amt', 'double')]"
            ]
          },
          "metadata": {},
          "execution_count": 54
        }
      ],
      "source": [
        "df1.dtypes"
      ]
    },
    {
      "cell_type": "code",
      "execution_count": null,
      "metadata": {
        "id": "naq_6lvgV8cp",
        "colab": {
          "base_uri": "https://localhost:8080/"
        },
        "outputId": "0dd5fd4a-85af-4817-f165-55096d6aabd6"
      },
      "outputs": [
        {
          "output_type": "execute_result",
          "data": {
            "text/plain": [
              "170896055"
            ]
          },
          "metadata": {},
          "execution_count": 55
        }
      ],
      "source": [
        "df1.count()"
      ]
    },
    {
      "cell_type": "code",
      "execution_count": null,
      "metadata": {
        "id": "63yXy5h7UtqM",
        "colab": {
          "base_uri": "https://localhost:8080/"
        },
        "outputId": "56593d2f-7334-49cb-c58e-8987fe2e4423"
      },
      "outputs": [
        {
          "output_type": "stream",
          "name": "stdout",
          "text": [
            "+-----------+--------------------+---------------------+---------------+-------------+----------+---------+---------+-----------------+----------+---------+------------+--------+---------+-------+-------+---------+---------+\n",
            "|vendor_name|Trip_Pickup_DateTime|Trip_Dropoff_DateTime|Passenger_Count|Trip_Distance| Start_Lon|Start_Lat|Rate_Code|store_and_forward|   End_Lon|  End_Lat|Payment_Type|Fare_Amt|surcharge|mta_tax|Tip_Amt|Tolls_Amt|Total_Amt|\n",
            "+-----------+--------------------+---------------------+---------------+-------------+----------+---------+---------+-----------------+----------+---------+------------+--------+---------+-------+-------+---------+---------+\n",
            "|        VTS| 2009-01-04 02:52:00|  2009-01-04 03:02:00|              1|         2.63|-73.991957|40.721567|     NULL|             NULL|-73.993803|40.695922|        CASH|     8.9|      0.5|   NULL|    0.0|      0.0|      9.4|\n",
            "+-----------+--------------------+---------------------+---------------+-------------+----------+---------+---------+-----------------+----------+---------+------------+--------+---------+-------+-------+---------+---------+\n",
            "only showing top 1 row\n",
            "\n"
          ]
        }
      ],
      "source": [
        "df1.show(1)"
      ]
    },
    {
      "cell_type": "markdown",
      "metadata": {
        "id": "W3vfUcW3TWif"
      },
      "source": [
        "Vendor Name in the older data set is now irrelevant, but the type must match the new schema"
      ]
    },
    {
      "cell_type": "code",
      "execution_count": null,
      "metadata": {
        "id": "BlLjUtkPoUN3"
      },
      "outputs": [],
      "source": [
        "df1 = df1.drop('store_and_forward').drop('rate_code').drop('surcharge').drop('mta_tax').drop('tolls_Amt').drop('Total_Amt').drop('Vendor_Name')"
      ]
    },
    {
      "cell_type": "markdown",
      "metadata": {
        "id": "V_orpCu4driY"
      },
      "source": [
        "A few columns are renamed"
      ]
    },
    {
      "cell_type": "code",
      "execution_count": null,
      "metadata": {
        "id": "OU9bPr0odDIl"
      },
      "outputs": [],
      "source": [
        "df1 = df1.withColumnRenamed('Fare_Amt', 'fare_amount').withColumnRenamed('Tip_Amt', 'tip_amount')"
      ]
    },
    {
      "cell_type": "code",
      "execution_count": null,
      "metadata": {
        "colab": {
          "base_uri": "https://localhost:8080/"
        },
        "id": "yFvo3LBiB2Ur",
        "outputId": "e83bdcfd-5b56-4ae9-d96a-956052b4847a"
      },
      "outputs": [
        {
          "output_type": "stream",
          "name": "stdout",
          "text": [
            "+-----------+--------------------+---------------------+---------------+-------------+----------+---------+----------+---------+------------+-----------+----------+\n",
            "|vendor_name|Trip_Pickup_DateTime|Trip_Dropoff_DateTime|Passenger_Count|Trip_Distance| Start_Lon|Start_Lat|   End_Lon|  End_Lat|Payment_Type|fare_amount|tip_amount|\n",
            "+-----------+--------------------+---------------------+---------------+-------------+----------+---------+----------+---------+------------+-----------+----------+\n",
            "|        VTS| 2009-01-04 02:52:00|  2009-01-04 03:02:00|              1|         2.63|-73.991957|40.721567|-73.993803|40.695922|        CASH|        8.9|       0.0|\n",
            "+-----------+--------------------+---------------------+---------------+-------------+----------+---------+----------+---------+------------+-----------+----------+\n",
            "only showing top 1 row\n",
            "\n"
          ]
        }
      ],
      "source": [
        "df1.show(1)"
      ]
    },
    {
      "cell_type": "markdown",
      "metadata": {
        "id": "u98pIdzXg2aE"
      },
      "source": [
        "`Payment_Type` has to be converted according to the data dictionary\n",
        "\n",
        "\n"
      ]
    },
    {
      "cell_type": "code",
      "execution_count": null,
      "metadata": {
        "id": "qro9Evjck5tA"
      },
      "outputs": [],
      "source": [
        "df1 = df1.withColumn('Payment_Type', lower(col('Payment_Type')))"
      ]
    },
    {
      "cell_type": "code",
      "execution_count": null,
      "metadata": {
        "id": "T5R7Xbuodfhb"
      },
      "outputs": [],
      "source": [
        "#df1.select('Payment_Type').distinct().collect()"
      ]
    },
    {
      "cell_type": "code",
      "execution_count": null,
      "metadata": {
        "id": "0NrutgjxgXmL"
      },
      "outputs": [],
      "source": [
        "df1 = df1.withColumn(\n",
        "    \"payment_Type\",\n",
        "      F.when(col(\"Payment_Type\") == \"credit\", 1)\n",
        "     .when(col(\"Payment_Type\") == \"cash\", 2)\n",
        "     .when(col(\"Payment_Type\") == \"no charge\", 3)\n",
        "     .when(col(\"Payment_Type\") == \"dispute\", 4)\n",
        "     .when(col(\"Payment_Type\") == \"unknown\", 5)\n",
        "     .when(col(\"Payment_Type\") == \"voided trip\", 6)\n",
        "     .otherwise(None)  # Handle any unexpected values\n",
        ")"
      ]
    },
    {
      "cell_type": "code",
      "execution_count": null,
      "metadata": {
        "id": "WUjDSwge4EuN"
      },
      "outputs": [],
      "source": [
        "df1 = df1.withColumn('payment_type', col('payment_type').cast(ShortType()))\\\n",
        ".withColumn('passenger_count', col('passenger_count').cast(ShortType()))"
      ]
    },
    {
      "cell_type": "markdown",
      "metadata": {
        "id": "5E5driPAdRMR"
      },
      "source": [
        "The datetime are converted to the `timestamp_ntz` type"
      ]
    },
    {
      "cell_type": "code",
      "execution_count": null,
      "metadata": {
        "id": "j4LWzh4kTkSc"
      },
      "outputs": [],
      "source": [
        "df1 = df1.withColumn('tpep_pickup_datetime', to_timestamp_ntz(df1['Trip_Pickup_DateTime'])).drop('Trip_Pickup_DateTime')\n",
        "df1 = df1.withColumn('tpep_dropoff_datetime', to_timestamp_ntz(df1['Trip_Dropoff_DateTime'])).drop('Trip_Dropoff_DateTime')"
      ]
    },
    {
      "cell_type": "code",
      "execution_count": null,
      "metadata": {
        "id": "hhDLqYDFet4p",
        "colab": {
          "base_uri": "https://localhost:8080/"
        },
        "outputId": "0769fa6b-7666-44d4-bffb-17c03a5cbf4b"
      },
      "outputs": [
        {
          "output_type": "stream",
          "name": "stdout",
          "text": [
            "+-----------+---------------+-------------+----------+---------+----------+---------+------------+-----------+----------+--------------------+---------------------+\n",
            "|vendor_name|passenger_count|Trip_Distance| Start_Lon|Start_Lat|   End_Lon|  End_Lat|payment_type|fare_amount|tip_amount|tpep_pickup_datetime|tpep_dropoff_datetime|\n",
            "+-----------+---------------+-------------+----------+---------+----------+---------+------------+-----------+----------+--------------------+---------------------+\n",
            "|        VTS|              1|         2.63|-73.991957|40.721567|-73.993803|40.695922|           2|        8.9|       0.0| 2009-01-04 02:52:00|  2009-01-04 03:02:00|\n",
            "+-----------+---------------+-------------+----------+---------+----------+---------+------------+-----------+----------+--------------------+---------------------+\n",
            "only showing top 1 row\n",
            "\n"
          ]
        }
      ],
      "source": [
        "df1.show(1)"
      ]
    },
    {
      "cell_type": "markdown",
      "metadata": {
        "id": "-K_NVrLmhHvV"
      },
      "source": [
        "Converting Lat/Long into the locationID\n"
      ]
    },
    {
      "cell_type": "markdown",
      "metadata": {
        "id": "XPL8Okz4N2iv"
      },
      "source": [
        "The problem here is to get a borough and location ID from a lat long.\n",
        "The X-Y format is also not WGS84..."
      ]
    },
    {
      "cell_type": "code",
      "execution_count": null,
      "metadata": {
        "id": "17qiWANTNaav"
      },
      "outputs": [],
      "source": [
        "from math import isnan\n",
        "# Create a point from lat/long\n",
        "def get_locID(lat, long):\n",
        "  #lat = 40.695922; long= -73.993803\n",
        "  point = gpd.GeoDataFrame(geometry=[Point(long, lat)],crs=\"EPSG:4326\")\n",
        "  point = point.to_crs(epsg=2263)\n",
        "  # Load borough shapefile\n",
        "  boroughs = gpd.read_file('taxi_zones.shp')\n",
        "\n",
        "  # Perform spatial join\n",
        "  result = gpd.sjoin(point, boroughs, how=\"left\", predicate='intersects')\n",
        "  locid = result.loc[0, 'LocationID']\n",
        "  if math.isnan(locid):\n",
        "    return(265)\n",
        "  else:\n",
        "    return(int(locid))\n",
        "\n",
        "  return()"
      ]
    },
    {
      "cell_type": "code",
      "execution_count": null,
      "metadata": {
        "id": "jJpMVVF_bEXs"
      },
      "outputs": [],
      "source": [
        " # print(get_locID(40.695922, -73.993803))\n",
        "\n",
        "# Registering the UDF with Spark\n",
        "get_locID_udf = udf(lambda lat, long: get_locID(lat, long), ShortType())"
      ]
    },
    {
      "cell_type": "code",
      "execution_count": null,
      "metadata": {
        "id": "txn59dKaXahw"
      },
      "outputs": [],
      "source": [
        "df1 = df1.withColumn(\"PULocationID\", get_locID_udf(df1.Start_Lat, df1.Start_Lon))\\\n",
        "  .withColumn(\"DOLocationID\", get_locID_udf(df1.End_Lat, df1.End_Lon))\\\n",
        "  .drop('Start_Lon', 'Start_Lat', 'End_Lon', 'End_Lat')"
      ]
    },
    {
      "cell_type": "code",
      "execution_count": null,
      "metadata": {
        "id": "i9u4mVszXwOq",
        "colab": {
          "base_uri": "https://localhost:8080/"
        },
        "outputId": "31f3dc0e-f487-499e-cbb7-c241e3c623fe"
      },
      "outputs": [
        {
          "output_type": "stream",
          "name": "stdout",
          "text": [
            "+-----------+---------------+-------------+------------+-----------+----------+--------------------+---------------------+------------+------------+\n",
            "|vendor_name|passenger_count|Trip_Distance|payment_type|fare_amount|tip_amount|tpep_pickup_datetime|tpep_dropoff_datetime|PULocationID|DOLocationID|\n",
            "+-----------+---------------+-------------+------------+-----------+----------+--------------------+---------------------+------------+------------+\n",
            "|        VTS|              1|         2.63|           2|        8.9|       0.0| 2009-01-04 02:52:00|  2009-01-04 03:02:00|         148|          33|\n",
            "|        VTS|              3|         4.55|           1|       12.1|       2.0| 2009-01-04 03:31:00|  2009-01-04 03:38:00|         107|         141|\n",
            "+-----------+---------------+-------------+------------+-----------+----------+--------------------+---------------------+------------+------------+\n",
            "only showing top 2 rows\n",
            "\n"
          ]
        }
      ],
      "source": [
        "df1.show(2)"
      ]
    },
    {
      "cell_type": "code",
      "execution_count": null,
      "metadata": {
        "id": "2w4FgSPOabIs"
      },
      "outputs": [],
      "source": [
        "#df1.select('payment_type').distinct().collect()"
      ]
    },
    {
      "cell_type": "code",
      "execution_count": null,
      "metadata": {
        "id": "EfhO7cUMgpQx"
      },
      "outputs": [],
      "source": [
        "df1.dtypes"
      ]
    },
    {
      "cell_type": "code",
      "source": [
        "df1.count()"
      ],
      "metadata": {
        "id": "vDt9chtfXwwh"
      },
      "execution_count": null,
      "outputs": []
    },
    {
      "cell_type": "markdown",
      "metadata": {
        "id": "vuOBx95qagek"
      },
      "source": [
        "#### 2010 Schema"
      ]
    },
    {
      "cell_type": "code",
      "execution_count": null,
      "metadata": {
        "id": "KyrVwmtGcBJY"
      },
      "outputs": [],
      "source": [
        "parquet_files=[]\n",
        "\n",
        "parquet_files.extend(glob.glob( f'*2010*.parquet'))\n",
        "parquet_files.sort()  # Ensure sequential order\n",
        "\n",
        "df2 = None\n",
        "for file_path in parquet_files:\n",
        "    if df2 is None:\n",
        "        df2 = spark.read.parquet(file_path)\n",
        "    else:\n",
        "      dt  = spark.read.parquet(file_path)\n",
        "      # removing some extra columns that are present in some files\n",
        "      columns_to_drop = [col for col in dt.columns if col.startswith(\"__\")]\n",
        "      dt = dt.drop(*columns_to_drop)\n",
        "\n",
        "      df2 = df2.union(dt)"
      ]
    },
    {
      "cell_type": "code",
      "execution_count": null,
      "metadata": {
        "id": "KGzqrCirQYak",
        "colab": {
          "base_uri": "https://localhost:8080/"
        },
        "outputId": "4099dd31-6680-4bef-9ea5-9e8041fb9377"
      },
      "outputs": [
        {
          "output_type": "execute_result",
          "data": {
            "text/plain": [
              "[('vendor_id', 'string'),\n",
              " ('pickup_datetime', 'string'),\n",
              " ('dropoff_datetime', 'string'),\n",
              " ('passenger_count', 'bigint'),\n",
              " ('trip_distance', 'double'),\n",
              " ('pickup_longitude', 'double'),\n",
              " ('pickup_latitude', 'double'),\n",
              " ('rate_code', 'string'),\n",
              " ('store_and_fwd_flag', 'string'),\n",
              " ('dropoff_longitude', 'double'),\n",
              " ('dropoff_latitude', 'double'),\n",
              " ('payment_type', 'string'),\n",
              " ('fare_amount', 'double'),\n",
              " ('surcharge', 'double'),\n",
              " ('mta_tax', 'double'),\n",
              " ('tip_amount', 'double'),\n",
              " ('tolls_amount', 'double'),\n",
              " ('total_amount', 'double')]"
            ]
          },
          "metadata": {},
          "execution_count": 69
        }
      ],
      "source": [
        "df2.dtypes"
      ]
    },
    {
      "cell_type": "code",
      "execution_count": null,
      "metadata": {
        "id": "mHYJ_9WaiFtg",
        "colab": {
          "base_uri": "https://localhost:8080/"
        },
        "outputId": "9e8923c4-b79d-4533-9071-c94268a8a6dd"
      },
      "outputs": [
        {
          "output_type": "stream",
          "name": "stdout",
          "text": [
            "+---------+-------------------+-------------------+---------------+------------------+------------------+---------------+---------+------------------+------------------+----------------+------------+-----------+---------+-------+----------+------------+-----------------+\n",
            "|vendor_id|    pickup_datetime|   dropoff_datetime|passenger_count|     trip_distance|  pickup_longitude|pickup_latitude|rate_code|store_and_fwd_flag| dropoff_longitude|dropoff_latitude|payment_type|fare_amount|surcharge|mta_tax|tip_amount|tolls_amount|     total_amount|\n",
            "+---------+-------------------+-------------------+---------------+------------------+------------------+---------------+---------+------------------+------------------+----------------+------------+-----------+---------+-------+----------+------------+-----------------+\n",
            "|      VTS|2010-01-26 07:41:00|2010-01-26 07:45:00|              1|              0.75|        -73.956778|       40.76775|        1|              NULL|        -73.965957|       40.765232|         CAS|        4.5|      0.0|    0.5|       0.0|         0.0|              5.0|\n",
            "|      DDS|2010-01-30 23:31:00|2010-01-30 23:46:12|              1|               5.9|-73.99611799999998|      40.763932|        1|              NULL|-73.98151199999998|       40.741193|         CAS|       15.3|      0.5|    0.5|       0.0|         0.0|             16.3|\n",
            "|      DDS|2010-01-18 20:22:20|2010-01-18 20:38:12|              1|               4.0|        -73.979673|       40.78379|        1|              NULL|-73.91785199999998|        40.87856|         CAS|       11.7|      0.5|    0.5|       0.0|         0.0|             12.7|\n",
            "|      VTS|2010-01-09 01:18:00|2010-01-09 01:35:00|              2|               4.7|        -73.977922|      40.763997|        1|              NULL|-73.92390799999998|       40.759725|         CAS|       13.3|      0.5|    0.5|       0.0|         0.0|             14.3|\n",
            "|      CMT|2010-01-18 19:10:14|2010-01-18 19:17:07|              1|0.5999999999999999|        -73.990924|      40.734682|        1|                 0|-73.99551099999998|       40.739088|         Cre|        5.3|      0.0|    0.5|      0.87|         0.0|             6.67|\n",
            "|      DDS|2010-01-23 18:40:25|2010-01-23 18:54:51|              1|               3.3|               0.0|            0.0|        1|              NULL|               0.0|             0.0|         CRE|       10.5|      0.0|    0.5|       1.0|         0.0|             12.0|\n",
            "|      VTS|2010-01-17 09:18:00|2010-01-17 09:25:00|              1|              1.33|        -73.993747|      40.754917|        1|              NULL|-73.98471499999998|       40.755927|         CAS|        6.1|      0.0|    0.5|       0.0|         0.0|              6.6|\n",
            "|      VTS|2010-01-09 13:49:00|2010-01-09 13:56:00|              1|              1.83|         -73.97103|      40.751307|        1|              NULL|         -73.99056|       40.734923|         CAS|        6.9|      0.0|    0.5|       0.0|         0.0|              7.4|\n",
            "|      VTS|2010-01-09 00:25:00|2010-01-09 00:39:00|              1|              3.28|        -73.990037|      40.725633|        1|              NULL|        -73.993842|       40.761697|         CAS|       11.3|      0.5|    0.5|       0.0|         0.0|             12.3|\n",
            "|      VTS|2010-01-27 18:15:00|2010-01-27 18:29:00|              1|              1.42|        -73.979623|       40.74378|        1|              NULL|-73.98941499999998|       40.756788|         Cre|        8.5|      1.0|    0.5|       2.0|         0.0|             12.0|\n",
            "|      VTS|2010-01-08 16:05:00|2010-01-08 16:13:00|              1|0.8399999999999999|        -74.000917|       40.75728|        1|              NULL|        -73.989767|       40.757407|         Cre|        5.7|      1.0|    0.5|       3.0|         0.0|             10.2|\n",
            "|      VTS|2010-01-09 02:07:00|2010-01-09 02:21:00|              1|              2.76|        -73.991175|      40.728072|        1|              NULL|        -73.979307|        40.74422|         CAS|       10.1|      0.5|    0.5|       0.0|         0.0|             11.1|\n",
            "|      VTS|2010-01-16 19:04:00|2010-01-16 19:22:00|              1|              1.52|        -73.980985|      40.737848|        1|              NULL|-74.00325499999998|       40.738717|         CAS|       10.5|      0.0|    0.5|       0.0|         0.0|             11.0|\n",
            "|      VTS|2010-01-08 17:15:00|2010-01-08 17:40:00|              1|              7.12|-73.84416799999998|      40.721353|        1|              NULL|        -73.931442|       40.670685|         CAS|       19.7|      1.0|    0.5|       0.0|         0.0|             21.2|\n",
            "|      DDS|2010-01-14 19:23:15|2010-01-14 19:44:25|              1|               1.4|        -73.955577|      40.772523|        1|              NULL|-73.99111999999998|       40.755463|         CAS|        9.7|      1.5|    0.0|       0.0|         0.0|             11.2|\n",
            "|      DDS|2010-01-06 22:34:49|2010-01-06 22:41:30|              1|               1.1|        -74.010253|       40.72055|        1|              NULL|-74.00396499999998|       40.715782|         CAS|        5.7|      0.5|   -1.0|       0.0|         0.0|              6.7|\n",
            "|      DDS|2010-01-20 15:52:26|2010-01-20 16:07:19|              1|               2.0|-73.96953499999998|      40.800547|        1|              NULL|        -73.942722|       40.841573|         CRE|        8.9|      0.0|    0.5|       1.1|         0.0|             10.5|\n",
            "|      DDS|2010-01-22 11:54:52|2010-01-22 11:59:38|              1|               1.1|        -73.996835|      40.716547|        1|              NULL|-73.94853999999998|        40.79509|         CAS|        4.9|      0.0|    0.5|       0.0|         0.0|              5.4|\n",
            "|      VTS|2010-01-26 16:59:00|2010-01-26 17:08:00|              2|              1.34|-73.98881299999998|      40.736657|        1|              NULL|        -73.980332|       40.723988|         CAS|        6.1|      1.0|    0.5|       0.0|         0.0|7.599999999999999|\n",
            "|      VTS|2010-01-26 12:05:00|2010-01-26 12:16:00|              5|              1.64|-73.99038799999998|       40.74583|        1|              NULL|        -74.007802|       40.745153|         Cre|        7.7|      0.0|    0.5|       3.0|         0.0|             11.2|\n",
            "+---------+-------------------+-------------------+---------------+------------------+------------------+---------------+---------+------------------+------------------+----------------+------------+-----------+---------+-------+----------+------------+-----------------+\n",
            "only showing top 20 rows\n",
            "\n"
          ]
        }
      ],
      "source": [
        "df2.show()"
      ]
    },
    {
      "cell_type": "code",
      "execution_count": null,
      "metadata": {
        "id": "fim3eG6Kp020"
      },
      "outputs": [],
      "source": [
        "df2 = df2.drop('store_and_fwd_flag').drop('rate_code').drop('surcharge').drop('mta_tax').drop('tolls_amount').drop('total_amount').drop('vendor_id')"
      ]
    },
    {
      "cell_type": "code",
      "execution_count": null,
      "metadata": {
        "id": "G-XKeuvQkT5E"
      },
      "outputs": [],
      "source": [
        "df2 = df2.withColumn('Payment_Type', lower(col('Payment_Type')))"
      ]
    },
    {
      "cell_type": "code",
      "execution_count": null,
      "metadata": {
        "id": "jTxTBa-4judh",
        "colab": {
          "base_uri": "https://localhost:8080/"
        },
        "outputId": "bd43e1eb-c939-466e-a0ef-c1ccb606a6aa"
      },
      "outputs": [
        {
          "output_type": "execute_result",
          "data": {
            "text/plain": [
              "[Row(payment_type='cas'),\n",
              " Row(payment_type='cre'),\n",
              " Row(payment_type='dis'),\n",
              " Row(payment_type='no '),\n",
              " Row(payment_type='crd'),\n",
              " Row(payment_type='csh'),\n",
              " Row(payment_type='na '),\n",
              " Row(payment_type='noc')]"
            ]
          },
          "metadata": {},
          "execution_count": 73
        }
      ],
      "source": [
        "df2.select('payment_type').distinct().collect()"
      ]
    },
    {
      "cell_type": "code",
      "execution_count": null,
      "metadata": {
        "id": "Fbclkz0JkZvm"
      },
      "outputs": [],
      "source": [
        "df2 = df2.withColumn(\n",
        "    \"Payment_Type\",\n",
        "      F.when(col(\"Payment_Type\") == \"cre\", 1)\n",
        "     .when(col(\"Payment_Type\") == \"cas\", 2)\n",
        "     .when(col(\"Payment_Type\") == \"no\", 3)\n",
        "     .when(col(\"Payment_Type\") == \"dis\", 4)\n",
        "     .when(col(\"Payment_Type\") == \"unknown\", 5)\n",
        "     .when(col(\"Payment_Type\") == \"voided trip\", 6)\n",
        "     .otherwise(None)  # Handle any unexpected values\n",
        ")"
      ]
    },
    {
      "cell_type": "code",
      "execution_count": null,
      "metadata": {
        "id": "qqzBq9H20sKR"
      },
      "outputs": [],
      "source": [
        "df2 = df2.withColumn('payment_type', col('payment_type').cast(ShortType()))\\\n",
        ".withColumn('passenger_count', col('passenger_count').cast(ShortType()))"
      ]
    },
    {
      "cell_type": "code",
      "execution_count": null,
      "metadata": {
        "id": "uVFqtRxGd4ud"
      },
      "outputs": [],
      "source": [
        "df2 = df2.withColumn('tpep_pickup_datetime', to_timestamp_ntz(df2['pickup_datetime'])).drop('pickup_datetime')\\\n",
        "    .withColumn('tpep_dropoff_datetime', to_timestamp_ntz(df2['dropoff_DateTime'])).drop('dropoff_DateTime')"
      ]
    },
    {
      "cell_type": "code",
      "execution_count": null,
      "metadata": {
        "id": "Vi8GaBdBgdru"
      },
      "outputs": [],
      "source": [
        "df2 = df2.withColumn(\"PULocationID\", get_locID_udf(df2.pickup_latitude, df2.pickup_longitude))\\\n",
        "  .withColumn(\"DOLocationID\", get_locID_udf(df2.dropoff_latitude, df2.dropoff_longitude))\\\n",
        "  .drop('pickup_longitude', 'pickup_latitude', 'dropoff_longitude', 'dropoff_latitude')"
      ]
    },
    {
      "cell_type": "code",
      "execution_count": null,
      "metadata": {
        "id": "9En-ar4ykaNY",
        "colab": {
          "base_uri": "https://localhost:8080/"
        },
        "outputId": "dfc4dbec-5f0c-4598-b7fd-e0f46135dc80"
      },
      "outputs": [
        {
          "output_type": "stream",
          "name": "stdout",
          "text": [
            "+---------------+-------------+------------+-----------+----------+--------------------+---------------------+------------+------------+\n",
            "|passenger_count|trip_distance|payment_type|fare_amount|tip_amount|tpep_pickup_datetime|tpep_dropoff_datetime|PULocationID|DOLocationID|\n",
            "+---------------+-------------+------------+-----------+----------+--------------------+---------------------+------------+------------+\n",
            "|              1|         0.75|           2|        4.5|       0.0| 2010-01-26 07:41:00|  2010-01-26 07:45:00|         141|         237|\n",
            "+---------------+-------------+------------+-----------+----------+--------------------+---------------------+------------+------------+\n",
            "only showing top 1 row\n",
            "\n"
          ]
        }
      ],
      "source": [
        "df2.show(1)"
      ]
    },
    {
      "cell_type": "markdown",
      "metadata": {
        "id": "5bKkZYdnt_5c"
      },
      "source": [
        "### Union of dataframes"
      ]
    },
    {
      "cell_type": "code",
      "source": [
        "a = df1.count()\n",
        "b = df2.count()\n",
        "c = df3.count()"
      ],
      "metadata": {
        "id": "PkY8GxMsxx8-"
      },
      "execution_count": null,
      "outputs": []
    },
    {
      "cell_type": "code",
      "source": [
        "print(a,b,c)\n",
        "print(a+b+c)"
      ],
      "metadata": {
        "colab": {
          "base_uri": "https://localhost:8080/"
        },
        "id": "xX9cdxVwx8Sk",
        "outputId": "cb974005-eae9-4fb4-e4ee-e36cc25e9a41"
      },
      "execution_count": null,
      "outputs": [
        {
          "output_type": "stream",
          "name": "stdout",
          "text": [
            "170896055 169001162 1431026083\n",
            "1770923300\n"
          ]
        }
      ]
    },
    {
      "cell_type": "code",
      "execution_count": null,
      "metadata": {
        "id": "3Qs41OS-iQH-"
      },
      "outputs": [],
      "source": [
        "df=[]\n",
        "df = df1.unionByName(df2)\n",
        "df = df.unionByName(df3)"
      ]
    },
    {
      "cell_type": "code",
      "execution_count": null,
      "metadata": {
        "id": "9WVX_YVQgugu"
      },
      "outputs": [],
      "source": [
        "#del df1, df2, df3"
      ]
    },
    {
      "cell_type": "code",
      "execution_count": null,
      "metadata": {
        "id": "lKFSdlnkfZ0k",
        "colab": {
          "base_uri": "https://localhost:8080/"
        },
        "outputId": "e9333aa6-1744-44d7-993e-1e8ad7ea5b72"
      },
      "outputs": [
        {
          "output_type": "execute_result",
          "data": {
            "text/plain": [
              "1770923300"
            ]
          },
          "metadata": {},
          "execution_count": 99
        }
      ],
      "source": [
        "df.count()"
      ]
    },
    {
      "cell_type": "markdown",
      "metadata": {
        "id": "akwXOqHrZFw5"
      },
      "source": [
        "# Data Exploration"
      ]
    },
    {
      "cell_type": "markdown",
      "source": [
        "Let's explore and clean"
      ],
      "metadata": {
        "id": "TMrEtCTj3JLP"
      }
    },
    {
      "cell_type": "code",
      "execution_count": null,
      "metadata": {
        "id": "uXfj3mZLudAb",
        "colab": {
          "base_uri": "https://localhost:8080/"
        },
        "outputId": "020eef01-ed6c-43ea-b312-3965710f92f0"
      },
      "outputs": [
        {
          "output_type": "execute_result",
          "data": {
            "text/plain": [
              "[('passenger_count', 'smallint'),\n",
              " ('Trip_Distance', 'double'),\n",
              " ('payment_type', 'smallint'),\n",
              " ('fare_amount', 'double'),\n",
              " ('tip_amount', 'double'),\n",
              " ('tpep_pickup_datetime', 'timestamp_ntz'),\n",
              " ('tpep_dropoff_datetime', 'timestamp_ntz'),\n",
              " ('PULocationID', 'smallint'),\n",
              " ('DOLocationID', 'smallint')]"
            ]
          },
          "metadata": {},
          "execution_count": 100
        }
      ],
      "source": [
        "df.dtypes"
      ]
    },
    {
      "cell_type": "markdown",
      "source": [
        "#### **Passenger count**"
      ],
      "metadata": {
        "id": "6FXI1mccIOPe"
      }
    },
    {
      "cell_type": "code",
      "execution_count": null,
      "metadata": {
        "id": "5yzu1Ze39Zs4",
        "colab": {
          "base_uri": "https://localhost:8080/",
          "height": 206
        },
        "outputId": "c69843e8-74bb-4cc7-dad4-8a6301a76da4"
      },
      "outputs": [
        {
          "output_type": "execute_result",
          "data": {
            "text/plain": [
              "  summary     passenger_count\n",
              "0   count          1762062885\n",
              "1    mean   1.640041206588379\n",
              "2  stddev  1.2849821073503065\n",
              "3     min                   0\n",
              "4     max                 255"
            ],
            "text/html": [
              "\n",
              "  <div id=\"df-391d56b9-71d0-433c-9ecb-1b5d8c336e59\" class=\"colab-df-container\">\n",
              "    <div>\n",
              "<style scoped>\n",
              "    .dataframe tbody tr th:only-of-type {\n",
              "        vertical-align: middle;\n",
              "    }\n",
              "\n",
              "    .dataframe tbody tr th {\n",
              "        vertical-align: top;\n",
              "    }\n",
              "\n",
              "    .dataframe thead th {\n",
              "        text-align: right;\n",
              "    }\n",
              "</style>\n",
              "<table border=\"1\" class=\"dataframe\">\n",
              "  <thead>\n",
              "    <tr style=\"text-align: right;\">\n",
              "      <th></th>\n",
              "      <th>summary</th>\n",
              "      <th>passenger_count</th>\n",
              "    </tr>\n",
              "  </thead>\n",
              "  <tbody>\n",
              "    <tr>\n",
              "      <th>0</th>\n",
              "      <td>count</td>\n",
              "      <td>1762062885</td>\n",
              "    </tr>\n",
              "    <tr>\n",
              "      <th>1</th>\n",
              "      <td>mean</td>\n",
              "      <td>1.640041206588379</td>\n",
              "    </tr>\n",
              "    <tr>\n",
              "      <th>2</th>\n",
              "      <td>stddev</td>\n",
              "      <td>1.2849821073503065</td>\n",
              "    </tr>\n",
              "    <tr>\n",
              "      <th>3</th>\n",
              "      <td>min</td>\n",
              "      <td>0</td>\n",
              "    </tr>\n",
              "    <tr>\n",
              "      <th>4</th>\n",
              "      <td>max</td>\n",
              "      <td>255</td>\n",
              "    </tr>\n",
              "  </tbody>\n",
              "</table>\n",
              "</div>\n",
              "    <div class=\"colab-df-buttons\">\n",
              "\n",
              "  <div class=\"colab-df-container\">\n",
              "    <button class=\"colab-df-convert\" onclick=\"convertToInteractive('df-391d56b9-71d0-433c-9ecb-1b5d8c336e59')\"\n",
              "            title=\"Convert this dataframe to an interactive table.\"\n",
              "            style=\"display:none;\">\n",
              "\n",
              "  <svg xmlns=\"http://www.w3.org/2000/svg\" height=\"24px\" viewBox=\"0 -960 960 960\">\n",
              "    <path d=\"M120-120v-720h720v720H120Zm60-500h600v-160H180v160Zm220 220h160v-160H400v160Zm0 220h160v-160H400v160ZM180-400h160v-160H180v160Zm440 0h160v-160H620v160ZM180-180h160v-160H180v160Zm440 0h160v-160H620v160Z\"/>\n",
              "  </svg>\n",
              "    </button>\n",
              "\n",
              "  <style>\n",
              "    .colab-df-container {\n",
              "      display:flex;\n",
              "      gap: 12px;\n",
              "    }\n",
              "\n",
              "    .colab-df-convert {\n",
              "      background-color: #E8F0FE;\n",
              "      border: none;\n",
              "      border-radius: 50%;\n",
              "      cursor: pointer;\n",
              "      display: none;\n",
              "      fill: #1967D2;\n",
              "      height: 32px;\n",
              "      padding: 0 0 0 0;\n",
              "      width: 32px;\n",
              "    }\n",
              "\n",
              "    .colab-df-convert:hover {\n",
              "      background-color: #E2EBFA;\n",
              "      box-shadow: 0px 1px 2px rgba(60, 64, 67, 0.3), 0px 1px 3px 1px rgba(60, 64, 67, 0.15);\n",
              "      fill: #174EA6;\n",
              "    }\n",
              "\n",
              "    .colab-df-buttons div {\n",
              "      margin-bottom: 4px;\n",
              "    }\n",
              "\n",
              "    [theme=dark] .colab-df-convert {\n",
              "      background-color: #3B4455;\n",
              "      fill: #D2E3FC;\n",
              "    }\n",
              "\n",
              "    [theme=dark] .colab-df-convert:hover {\n",
              "      background-color: #434B5C;\n",
              "      box-shadow: 0px 1px 3px 1px rgba(0, 0, 0, 0.15);\n",
              "      filter: drop-shadow(0px 1px 2px rgba(0, 0, 0, 0.3));\n",
              "      fill: #FFFFFF;\n",
              "    }\n",
              "  </style>\n",
              "\n",
              "    <script>\n",
              "      const buttonEl =\n",
              "        document.querySelector('#df-391d56b9-71d0-433c-9ecb-1b5d8c336e59 button.colab-df-convert');\n",
              "      buttonEl.style.display =\n",
              "        google.colab.kernel.accessAllowed ? 'block' : 'none';\n",
              "\n",
              "      async function convertToInteractive(key) {\n",
              "        const element = document.querySelector('#df-391d56b9-71d0-433c-9ecb-1b5d8c336e59');\n",
              "        const dataTable =\n",
              "          await google.colab.kernel.invokeFunction('convertToInteractive',\n",
              "                                                    [key], {});\n",
              "        if (!dataTable) return;\n",
              "\n",
              "        const docLinkHtml = 'Like what you see? Visit the ' +\n",
              "          '<a target=\"_blank\" href=https://colab.research.google.com/notebooks/data_table.ipynb>data table notebook</a>'\n",
              "          + ' to learn more about interactive tables.';\n",
              "        element.innerHTML = '';\n",
              "        dataTable['output_type'] = 'display_data';\n",
              "        await google.colab.output.renderOutput(dataTable, element);\n",
              "        const docLink = document.createElement('div');\n",
              "        docLink.innerHTML = docLinkHtml;\n",
              "        element.appendChild(docLink);\n",
              "      }\n",
              "    </script>\n",
              "  </div>\n",
              "\n",
              "\n",
              "<div id=\"df-c459f3fd-cd3f-4986-9cff-0405dc15e6e0\">\n",
              "  <button class=\"colab-df-quickchart\" onclick=\"quickchart('df-c459f3fd-cd3f-4986-9cff-0405dc15e6e0')\"\n",
              "            title=\"Suggest charts\"\n",
              "            style=\"display:none;\">\n",
              "\n",
              "<svg xmlns=\"http://www.w3.org/2000/svg\" height=\"24px\"viewBox=\"0 0 24 24\"\n",
              "     width=\"24px\">\n",
              "    <g>\n",
              "        <path d=\"M19 3H5c-1.1 0-2 .9-2 2v14c0 1.1.9 2 2 2h14c1.1 0 2-.9 2-2V5c0-1.1-.9-2-2-2zM9 17H7v-7h2v7zm4 0h-2V7h2v10zm4 0h-2v-4h2v4z\"/>\n",
              "    </g>\n",
              "</svg>\n",
              "  </button>\n",
              "\n",
              "<style>\n",
              "  .colab-df-quickchart {\n",
              "      --bg-color: #E8F0FE;\n",
              "      --fill-color: #1967D2;\n",
              "      --hover-bg-color: #E2EBFA;\n",
              "      --hover-fill-color: #174EA6;\n",
              "      --disabled-fill-color: #AAA;\n",
              "      --disabled-bg-color: #DDD;\n",
              "  }\n",
              "\n",
              "  [theme=dark] .colab-df-quickchart {\n",
              "      --bg-color: #3B4455;\n",
              "      --fill-color: #D2E3FC;\n",
              "      --hover-bg-color: #434B5C;\n",
              "      --hover-fill-color: #FFFFFF;\n",
              "      --disabled-bg-color: #3B4455;\n",
              "      --disabled-fill-color: #666;\n",
              "  }\n",
              "\n",
              "  .colab-df-quickchart {\n",
              "    background-color: var(--bg-color);\n",
              "    border: none;\n",
              "    border-radius: 50%;\n",
              "    cursor: pointer;\n",
              "    display: none;\n",
              "    fill: var(--fill-color);\n",
              "    height: 32px;\n",
              "    padding: 0;\n",
              "    width: 32px;\n",
              "  }\n",
              "\n",
              "  .colab-df-quickchart:hover {\n",
              "    background-color: var(--hover-bg-color);\n",
              "    box-shadow: 0 1px 2px rgba(60, 64, 67, 0.3), 0 1px 3px 1px rgba(60, 64, 67, 0.15);\n",
              "    fill: var(--button-hover-fill-color);\n",
              "  }\n",
              "\n",
              "  .colab-df-quickchart-complete:disabled,\n",
              "  .colab-df-quickchart-complete:disabled:hover {\n",
              "    background-color: var(--disabled-bg-color);\n",
              "    fill: var(--disabled-fill-color);\n",
              "    box-shadow: none;\n",
              "  }\n",
              "\n",
              "  .colab-df-spinner {\n",
              "    border: 2px solid var(--fill-color);\n",
              "    border-color: transparent;\n",
              "    border-bottom-color: var(--fill-color);\n",
              "    animation:\n",
              "      spin 1s steps(1) infinite;\n",
              "  }\n",
              "\n",
              "  @keyframes spin {\n",
              "    0% {\n",
              "      border-color: transparent;\n",
              "      border-bottom-color: var(--fill-color);\n",
              "      border-left-color: var(--fill-color);\n",
              "    }\n",
              "    20% {\n",
              "      border-color: transparent;\n",
              "      border-left-color: var(--fill-color);\n",
              "      border-top-color: var(--fill-color);\n",
              "    }\n",
              "    30% {\n",
              "      border-color: transparent;\n",
              "      border-left-color: var(--fill-color);\n",
              "      border-top-color: var(--fill-color);\n",
              "      border-right-color: var(--fill-color);\n",
              "    }\n",
              "    40% {\n",
              "      border-color: transparent;\n",
              "      border-right-color: var(--fill-color);\n",
              "      border-top-color: var(--fill-color);\n",
              "    }\n",
              "    60% {\n",
              "      border-color: transparent;\n",
              "      border-right-color: var(--fill-color);\n",
              "    }\n",
              "    80% {\n",
              "      border-color: transparent;\n",
              "      border-right-color: var(--fill-color);\n",
              "      border-bottom-color: var(--fill-color);\n",
              "    }\n",
              "    90% {\n",
              "      border-color: transparent;\n",
              "      border-bottom-color: var(--fill-color);\n",
              "    }\n",
              "  }\n",
              "</style>\n",
              "\n",
              "  <script>\n",
              "    async function quickchart(key) {\n",
              "      const quickchartButtonEl =\n",
              "        document.querySelector('#' + key + ' button');\n",
              "      quickchartButtonEl.disabled = true;  // To prevent multiple clicks.\n",
              "      quickchartButtonEl.classList.add('colab-df-spinner');\n",
              "      try {\n",
              "        const charts = await google.colab.kernel.invokeFunction(\n",
              "            'suggestCharts', [key], {});\n",
              "      } catch (error) {\n",
              "        console.error('Error during call to suggestCharts:', error);\n",
              "      }\n",
              "      quickchartButtonEl.classList.remove('colab-df-spinner');\n",
              "      quickchartButtonEl.classList.add('colab-df-quickchart-complete');\n",
              "    }\n",
              "    (() => {\n",
              "      let quickchartButtonEl =\n",
              "        document.querySelector('#df-c459f3fd-cd3f-4986-9cff-0405dc15e6e0 button');\n",
              "      quickchartButtonEl.style.display =\n",
              "        google.colab.kernel.accessAllowed ? 'block' : 'none';\n",
              "    })();\n",
              "  </script>\n",
              "</div>\n",
              "\n",
              "    </div>\n",
              "  </div>\n"
            ],
            "application/vnd.google.colaboratory.intrinsic+json": {
              "type": "dataframe",
              "summary": "{\n  \"name\": \"df\",\n  \"rows\": 5,\n  \"fields\": [\n    {\n      \"column\": \"summary\",\n      \"properties\": {\n        \"dtype\": \"string\",\n        \"num_unique_values\": 5,\n        \"samples\": [\n          \"mean\",\n          \"max\",\n          \"stddev\"\n        ],\n        \"semantic_type\": \"\",\n        \"description\": \"\"\n      }\n    },\n    {\n      \"column\": \"passenger_count\",\n      \"properties\": {\n        \"dtype\": \"string\",\n        \"num_unique_values\": 5,\n        \"samples\": [\n          \"1.640041206588379\",\n          \"255\",\n          \"1.2849821073503065\"\n        ],\n        \"semantic_type\": \"\",\n        \"description\": \"\"\n      }\n    }\n  ]\n}"
            }
          },
          "metadata": {},
          "execution_count": 101
        }
      ],
      "source": [
        "df.select('passenger_count').describe().toPandas()"
      ]
    },
    {
      "cell_type": "code",
      "source": [
        "dg = df.groupBy(\"passenger_count\").count()..orderBy(\"passenger_count\")show()"
      ],
      "metadata": {
        "id": "BaFd40HU7BNB"
      },
      "execution_count": null,
      "outputs": []
    },
    {
      "cell_type": "markdown",
      "source": [
        "Looking at the distribution, it was decided to drop all trips with more than 9 passenger"
      ],
      "metadata": {
        "id": "wx7XGFs2HThh"
      }
    },
    {
      "cell_type": "code",
      "source": [
        "df = df.where(df.passenger_count < 9)"
      ],
      "metadata": {
        "id": "qjyaot4H9F_F"
      },
      "execution_count": null,
      "outputs": []
    },
    {
      "cell_type": "markdown",
      "source": [
        "#### **Trip distance**"
      ],
      "metadata": {
        "id": "ZD_D60HYH8et"
      }
    },
    {
      "cell_type": "code",
      "execution_count": null,
      "metadata": {
        "id": "Lj0dwmvtdlRm",
        "colab": {
          "base_uri": "https://localhost:8080/",
          "height": 206
        },
        "outputId": "9e2ffab1-5eb8-4650-d605-c790aed0983f"
      },
      "outputs": [
        {
          "output_type": "execute_result",
          "data": {
            "text/plain": [
              "  summary      Trip_Distance\n",
              "0   count         1762059623\n",
              "1    mean  5.582044916752768\n",
              "2  stddev  6031.371714021165\n",
              "3     min      -4.08401244E7\n",
              "4     max      1.346190631E8"
            ],
            "text/html": [
              "\n",
              "  <div id=\"df-c459c640-50de-4073-a5f2-85ec277898c1\" class=\"colab-df-container\">\n",
              "    <div>\n",
              "<style scoped>\n",
              "    .dataframe tbody tr th:only-of-type {\n",
              "        vertical-align: middle;\n",
              "    }\n",
              "\n",
              "    .dataframe tbody tr th {\n",
              "        vertical-align: top;\n",
              "    }\n",
              "\n",
              "    .dataframe thead th {\n",
              "        text-align: right;\n",
              "    }\n",
              "</style>\n",
              "<table border=\"1\" class=\"dataframe\">\n",
              "  <thead>\n",
              "    <tr style=\"text-align: right;\">\n",
              "      <th></th>\n",
              "      <th>summary</th>\n",
              "      <th>Trip_Distance</th>\n",
              "    </tr>\n",
              "  </thead>\n",
              "  <tbody>\n",
              "    <tr>\n",
              "      <th>0</th>\n",
              "      <td>count</td>\n",
              "      <td>1762059623</td>\n",
              "    </tr>\n",
              "    <tr>\n",
              "      <th>1</th>\n",
              "      <td>mean</td>\n",
              "      <td>5.582044916752768</td>\n",
              "    </tr>\n",
              "    <tr>\n",
              "      <th>2</th>\n",
              "      <td>stddev</td>\n",
              "      <td>6031.371714021165</td>\n",
              "    </tr>\n",
              "    <tr>\n",
              "      <th>3</th>\n",
              "      <td>min</td>\n",
              "      <td>-4.08401244E7</td>\n",
              "    </tr>\n",
              "    <tr>\n",
              "      <th>4</th>\n",
              "      <td>max</td>\n",
              "      <td>1.346190631E8</td>\n",
              "    </tr>\n",
              "  </tbody>\n",
              "</table>\n",
              "</div>\n",
              "    <div class=\"colab-df-buttons\">\n",
              "\n",
              "  <div class=\"colab-df-container\">\n",
              "    <button class=\"colab-df-convert\" onclick=\"convertToInteractive('df-c459c640-50de-4073-a5f2-85ec277898c1')\"\n",
              "            title=\"Convert this dataframe to an interactive table.\"\n",
              "            style=\"display:none;\">\n",
              "\n",
              "  <svg xmlns=\"http://www.w3.org/2000/svg\" height=\"24px\" viewBox=\"0 -960 960 960\">\n",
              "    <path d=\"M120-120v-720h720v720H120Zm60-500h600v-160H180v160Zm220 220h160v-160H400v160Zm0 220h160v-160H400v160ZM180-400h160v-160H180v160Zm440 0h160v-160H620v160ZM180-180h160v-160H180v160Zm440 0h160v-160H620v160Z\"/>\n",
              "  </svg>\n",
              "    </button>\n",
              "\n",
              "  <style>\n",
              "    .colab-df-container {\n",
              "      display:flex;\n",
              "      gap: 12px;\n",
              "    }\n",
              "\n",
              "    .colab-df-convert {\n",
              "      background-color: #E8F0FE;\n",
              "      border: none;\n",
              "      border-radius: 50%;\n",
              "      cursor: pointer;\n",
              "      display: none;\n",
              "      fill: #1967D2;\n",
              "      height: 32px;\n",
              "      padding: 0 0 0 0;\n",
              "      width: 32px;\n",
              "    }\n",
              "\n",
              "    .colab-df-convert:hover {\n",
              "      background-color: #E2EBFA;\n",
              "      box-shadow: 0px 1px 2px rgba(60, 64, 67, 0.3), 0px 1px 3px 1px rgba(60, 64, 67, 0.15);\n",
              "      fill: #174EA6;\n",
              "    }\n",
              "\n",
              "    .colab-df-buttons div {\n",
              "      margin-bottom: 4px;\n",
              "    }\n",
              "\n",
              "    [theme=dark] .colab-df-convert {\n",
              "      background-color: #3B4455;\n",
              "      fill: #D2E3FC;\n",
              "    }\n",
              "\n",
              "    [theme=dark] .colab-df-convert:hover {\n",
              "      background-color: #434B5C;\n",
              "      box-shadow: 0px 1px 3px 1px rgba(0, 0, 0, 0.15);\n",
              "      filter: drop-shadow(0px 1px 2px rgba(0, 0, 0, 0.3));\n",
              "      fill: #FFFFFF;\n",
              "    }\n",
              "  </style>\n",
              "\n",
              "    <script>\n",
              "      const buttonEl =\n",
              "        document.querySelector('#df-c459c640-50de-4073-a5f2-85ec277898c1 button.colab-df-convert');\n",
              "      buttonEl.style.display =\n",
              "        google.colab.kernel.accessAllowed ? 'block' : 'none';\n",
              "\n",
              "      async function convertToInteractive(key) {\n",
              "        const element = document.querySelector('#df-c459c640-50de-4073-a5f2-85ec277898c1');\n",
              "        const dataTable =\n",
              "          await google.colab.kernel.invokeFunction('convertToInteractive',\n",
              "                                                    [key], {});\n",
              "        if (!dataTable) return;\n",
              "\n",
              "        const docLinkHtml = 'Like what you see? Visit the ' +\n",
              "          '<a target=\"_blank\" href=https://colab.research.google.com/notebooks/data_table.ipynb>data table notebook</a>'\n",
              "          + ' to learn more about interactive tables.';\n",
              "        element.innerHTML = '';\n",
              "        dataTable['output_type'] = 'display_data';\n",
              "        await google.colab.output.renderOutput(dataTable, element);\n",
              "        const docLink = document.createElement('div');\n",
              "        docLink.innerHTML = docLinkHtml;\n",
              "        element.appendChild(docLink);\n",
              "      }\n",
              "    </script>\n",
              "  </div>\n",
              "\n",
              "\n",
              "<div id=\"df-56e5aa0f-15b9-4165-9172-0801441ae750\">\n",
              "  <button class=\"colab-df-quickchart\" onclick=\"quickchart('df-56e5aa0f-15b9-4165-9172-0801441ae750')\"\n",
              "            title=\"Suggest charts\"\n",
              "            style=\"display:none;\">\n",
              "\n",
              "<svg xmlns=\"http://www.w3.org/2000/svg\" height=\"24px\"viewBox=\"0 0 24 24\"\n",
              "     width=\"24px\">\n",
              "    <g>\n",
              "        <path d=\"M19 3H5c-1.1 0-2 .9-2 2v14c0 1.1.9 2 2 2h14c1.1 0 2-.9 2-2V5c0-1.1-.9-2-2-2zM9 17H7v-7h2v7zm4 0h-2V7h2v10zm4 0h-2v-4h2v4z\"/>\n",
              "    </g>\n",
              "</svg>\n",
              "  </button>\n",
              "\n",
              "<style>\n",
              "  .colab-df-quickchart {\n",
              "      --bg-color: #E8F0FE;\n",
              "      --fill-color: #1967D2;\n",
              "      --hover-bg-color: #E2EBFA;\n",
              "      --hover-fill-color: #174EA6;\n",
              "      --disabled-fill-color: #AAA;\n",
              "      --disabled-bg-color: #DDD;\n",
              "  }\n",
              "\n",
              "  [theme=dark] .colab-df-quickchart {\n",
              "      --bg-color: #3B4455;\n",
              "      --fill-color: #D2E3FC;\n",
              "      --hover-bg-color: #434B5C;\n",
              "      --hover-fill-color: #FFFFFF;\n",
              "      --disabled-bg-color: #3B4455;\n",
              "      --disabled-fill-color: #666;\n",
              "  }\n",
              "\n",
              "  .colab-df-quickchart {\n",
              "    background-color: var(--bg-color);\n",
              "    border: none;\n",
              "    border-radius: 50%;\n",
              "    cursor: pointer;\n",
              "    display: none;\n",
              "    fill: var(--fill-color);\n",
              "    height: 32px;\n",
              "    padding: 0;\n",
              "    width: 32px;\n",
              "  }\n",
              "\n",
              "  .colab-df-quickchart:hover {\n",
              "    background-color: var(--hover-bg-color);\n",
              "    box-shadow: 0 1px 2px rgba(60, 64, 67, 0.3), 0 1px 3px 1px rgba(60, 64, 67, 0.15);\n",
              "    fill: var(--button-hover-fill-color);\n",
              "  }\n",
              "\n",
              "  .colab-df-quickchart-complete:disabled,\n",
              "  .colab-df-quickchart-complete:disabled:hover {\n",
              "    background-color: var(--disabled-bg-color);\n",
              "    fill: var(--disabled-fill-color);\n",
              "    box-shadow: none;\n",
              "  }\n",
              "\n",
              "  .colab-df-spinner {\n",
              "    border: 2px solid var(--fill-color);\n",
              "    border-color: transparent;\n",
              "    border-bottom-color: var(--fill-color);\n",
              "    animation:\n",
              "      spin 1s steps(1) infinite;\n",
              "  }\n",
              "\n",
              "  @keyframes spin {\n",
              "    0% {\n",
              "      border-color: transparent;\n",
              "      border-bottom-color: var(--fill-color);\n",
              "      border-left-color: var(--fill-color);\n",
              "    }\n",
              "    20% {\n",
              "      border-color: transparent;\n",
              "      border-left-color: var(--fill-color);\n",
              "      border-top-color: var(--fill-color);\n",
              "    }\n",
              "    30% {\n",
              "      border-color: transparent;\n",
              "      border-left-color: var(--fill-color);\n",
              "      border-top-color: var(--fill-color);\n",
              "      border-right-color: var(--fill-color);\n",
              "    }\n",
              "    40% {\n",
              "      border-color: transparent;\n",
              "      border-right-color: var(--fill-color);\n",
              "      border-top-color: var(--fill-color);\n",
              "    }\n",
              "    60% {\n",
              "      border-color: transparent;\n",
              "      border-right-color: var(--fill-color);\n",
              "    }\n",
              "    80% {\n",
              "      border-color: transparent;\n",
              "      border-right-color: var(--fill-color);\n",
              "      border-bottom-color: var(--fill-color);\n",
              "    }\n",
              "    90% {\n",
              "      border-color: transparent;\n",
              "      border-bottom-color: var(--fill-color);\n",
              "    }\n",
              "  }\n",
              "</style>\n",
              "\n",
              "  <script>\n",
              "    async function quickchart(key) {\n",
              "      const quickchartButtonEl =\n",
              "        document.querySelector('#' + key + ' button');\n",
              "      quickchartButtonEl.disabled = true;  // To prevent multiple clicks.\n",
              "      quickchartButtonEl.classList.add('colab-df-spinner');\n",
              "      try {\n",
              "        const charts = await google.colab.kernel.invokeFunction(\n",
              "            'suggestCharts', [key], {});\n",
              "      } catch (error) {\n",
              "        console.error('Error during call to suggestCharts:', error);\n",
              "      }\n",
              "      quickchartButtonEl.classList.remove('colab-df-spinner');\n",
              "      quickchartButtonEl.classList.add('colab-df-quickchart-complete');\n",
              "    }\n",
              "    (() => {\n",
              "      let quickchartButtonEl =\n",
              "        document.querySelector('#df-56e5aa0f-15b9-4165-9172-0801441ae750 button');\n",
              "      quickchartButtonEl.style.display =\n",
              "        google.colab.kernel.accessAllowed ? 'block' : 'none';\n",
              "    })();\n",
              "  </script>\n",
              "</div>\n",
              "\n",
              "    </div>\n",
              "  </div>\n"
            ],
            "application/vnd.google.colaboratory.intrinsic+json": {
              "type": "dataframe",
              "summary": "{\n  \"name\": \"df\",\n  \"rows\": 5,\n  \"fields\": [\n    {\n      \"column\": \"summary\",\n      \"properties\": {\n        \"dtype\": \"string\",\n        \"num_unique_values\": 5,\n        \"samples\": [\n          \"mean\",\n          \"max\",\n          \"stddev\"\n        ],\n        \"semantic_type\": \"\",\n        \"description\": \"\"\n      }\n    },\n    {\n      \"column\": \"Trip_Distance\",\n      \"properties\": {\n        \"dtype\": \"string\",\n        \"num_unique_values\": 5,\n        \"samples\": [\n          \"5.582044916752768\",\n          \"1.346190631E8\",\n          \"6031.371714021165\"\n        ],\n        \"semantic_type\": \"\",\n        \"description\": \"\"\n      }\n    }\n  ]\n}"
            }
          },
          "metadata": {},
          "execution_count": 104
        }
      ],
      "source": [
        "df.select(\"Trip_Distance\").describe().toPandas()"
      ]
    },
    {
      "cell_type": "code",
      "source": [
        "df = df.where(df.Trip_Distance > 0)"
      ],
      "metadata": {
        "id": "9BZ1XRcxGG03"
      },
      "execution_count": null,
      "outputs": []
    },
    {
      "cell_type": "code",
      "source": [
        "from pyspark.ml.feature import Bucketizer"
      ],
      "metadata": {
        "id": "LyqY1IEYJUTX"
      },
      "execution_count": null,
      "outputs": []
    },
    {
      "cell_type": "markdown",
      "source": [
        "In order to have an idea of the trip distance distribution the a few bins are created"
      ],
      "metadata": {
        "id": "2O4_cGyzHtaU"
      }
    },
    {
      "cell_type": "code",
      "source": [],
      "metadata": {
        "id": "6rAWsYAR4Ocp"
      },
      "execution_count": null,
      "outputs": []
    },
    {
      "cell_type": "code",
      "source": [
        "bin_labels = spark.createDataFrame([\n",
        "    (0, \"0-10\"),\n",
        "    (1, \"10-20\"),\n",
        "    (2, \"20-50\"),\n",
        "    (3, \"50-100\"),\n",
        "    (4, \"100-200\"),\n",
        "    (5, \"200-500\"),\n",
        "    (6, \"500+\"),\n",
        "], [\"bins\", \"range\"])\n",
        "\n",
        "splits=[0, 10, 20, 50, 100, 200, 500,float('Inf')]\n",
        "\n",
        "bucketizer = Bucketizer(splits=splits,\n",
        "                        inputCol='Trip_Distance',\n",
        "                        outputCol='bins')\n",
        "df_bins = bucketizer.setHandleInvalid('keep').transform(df)\n",
        "\n",
        "df_binned = df_bins.groupBy('bins').count()\n",
        "\n",
        "result = (df_binned\n",
        "    .join(bin_labels, \"bins\")\n",
        "    .select(\"range\", \"count\",\"bins\").orderBy(\"bins\")\n",
        ")\n",
        "\n",
        "result.show()"
      ],
      "metadata": {
        "id": "c4fJwgka3hdW"
      },
      "execution_count": null,
      "outputs": []
    },
    {
      "cell_type": "code",
      "source": [],
      "metadata": {
        "colab": {
          "base_uri": "https://localhost:8080/"
        },
        "id": "Lm0DuVdACjzu",
        "outputId": "c52ca9c4-ad0f-4017-b397-13bb5db69a93"
      },
      "execution_count": null,
      "outputs": [
        {
          "output_type": "stream",
          "name": "stdout",
          "text": [
            "+-------+----------+----+\n",
            "|  range|     count|bins|\n",
            "+-------+----------+----+\n",
            "|   0-10|1656700496| 0.0|\n",
            "|  10-20|  83415828| 1.0|\n",
            "|  20-50|   8961411| 2.0|\n",
            "| 50-100|     74439| 3.0|\n",
            "|100-200|      7058| 4.0|\n",
            "|200-500|      1800| 5.0|\n",
            "|   500+|      3117| 6.0|\n",
            "+-------+----------+----+\n",
            "\n"
          ]
        }
      ]
    },
    {
      "cell_type": "markdown",
      "source": [
        "Trips over 500 miles: The distances, fares, trip durations don't make sense."
      ],
      "metadata": {
        "id": "2g2J-ARTIHDa"
      }
    },
    {
      "cell_type": "code",
      "source": [
        "df.filter(df.Trip_Distance >500).show()"
      ],
      "metadata": {
        "colab": {
          "base_uri": "https://localhost:8080/"
        },
        "id": "NoMrvs2L1t6r",
        "outputId": "f6a8f332-5452-4a65-dc26-1813c7f8f21c"
      },
      "execution_count": null,
      "outputs": [
        {
          "output_type": "stream",
          "name": "stdout",
          "text": [
            "+---------------+-------------+------------+-----------+----------+--------------------+---------------------+------------+------------+\n",
            "|passenger_count|Trip_Distance|payment_type|fare_amount|tip_amount|tpep_pickup_datetime|tpep_dropoff_datetime|PULocationID|DOLocationID|\n",
            "+---------------+-------------+------------+-----------+----------+--------------------+---------------------+------------+------------+\n",
            "|              1|     335550.0|        NULL|      20.18|       0.0| 2010-02-15 12:06:00|  2010-02-15 12:32:00|          68|         166|\n",
            "|              1|       657.57|        NULL|        9.7|      2.28| 2010-02-11 11:27:00|  2010-02-11 11:43:00|         186|          79|\n",
            "|              1|     260050.0|           2|       12.5|       0.0| 2010-02-03 01:16:47|  2010-02-03 01:31:54|         107|           7|\n",
            "|              1|        535.7|        NULL|        0.0|       0.0| 2010-02-05 00:58:41|  2010-02-05 02:13:46|         246|          41|\n",
            "|              1|        500.9|           2|       11.7|       0.0| 2010-02-11 18:23:20|  2010-02-11 18:47:56|         158|         234|\n",
            "|              1|    3300833.1|           1|       15.7|       7.0| 2010-02-12 19:20:33|  2010-02-12 19:47:55|         161|         133|\n",
            "|              1|      73000.0|           1|        7.3|      1.24| 2010-02-19 03:42:46|  2010-02-19 03:53:05|         148|         100|\n",
            "|              1|        709.6|           1|       26.9|      4.11| 2010-02-16 07:32:12|  2010-02-16 07:56:10|         249|         138|\n",
            "|              1|        505.0|           1|       20.9|      5.38| 2010-02-21 11:53:28|  2010-02-21 12:14:58|          70|          24|\n",
            "|              1|    8000004.9|           2|       10.5|       0.0| 2010-02-15 02:21:08|  2010-02-15 02:32:41|         211|         229|\n",
            "|              1|    5000001.5|           2|       16.9|       0.0| 2010-02-18 14:50:09|  2010-02-18 15:15:06|         229|         211|\n",
            "|              1|    7000000.0|           2|       48.9|       0.0| 2010-02-22 10:30:44|  2010-02-22 11:21:49|         132|          14|\n",
            "|              1|        502.4|           2|       11.3|       0.0| 2010-02-22 18:04:15|  2010-02-22 18:17:30|         137|         249|\n",
            "|              1|        661.4|        NULL|        0.0|       0.0| 2010-02-25 02:32:20|  2010-02-25 03:45:28|         184|         265|\n",
            "|              1|        756.7|        NULL|        6.9|       0.0| 2010-02-03 10:07:28|  2010-02-03 10:07:49|          90|          90|\n",
            "|              2|       4241.8|        NULL|        2.5|       0.0| 2010-02-06 20:31:53|  2010-02-06 20:32:14|         226|         226|\n",
            "|              2|       2252.1|           2|       10.9|       0.0| 2010-02-06 22:54:47|  2010-02-06 23:07:16|          68|         140|\n",
            "|              3|        800.5|           2|        9.3|       0.0| 2010-02-05 23:03:07|  2010-02-05 23:14:49|         231|         234|\n",
            "|              1|        549.2|           2|        0.0|       0.0| 2010-02-14 03:57:25|  2010-02-14 05:11:15|         168|         208|\n",
            "|              1|    2501000.0|           2|        2.5|       0.0| 2010-02-09 20:17:24|  2010-02-09 20:28:56|          43|         143|\n",
            "+---------------+-------------+------------+-----------+----------+--------------------+---------------------+------------+------------+\n",
            "only showing top 20 rows\n",
            "\n"
          ]
        }
      ]
    },
    {
      "cell_type": "markdown",
      "source": [
        "filtering the trips of more than 100 miles using the fare per mile helps. ( the first mile costs 4.5 USD, the subsequent ones cost 2.5 USD)\n",
        "However, for some, the irrealistic trip duration in relation to distance traveled has to be dealt with."
      ],
      "metadata": {
        "id": "KyZ71YZ9IjBB"
      }
    },
    {
      "cell_type": "code",
      "source": [
        "df.where((df.Trip_Distance > 100) & (df.fare_amount>=(df.Trip_Distance*2.5))).show()"
      ],
      "metadata": {
        "colab": {
          "base_uri": "https://localhost:8080/"
        },
        "id": "W-dIL_IQG0Uv",
        "outputId": "b2a5ac43-c921-4eb3-be91-b04c78219add"
      },
      "execution_count": null,
      "outputs": [
        {
          "output_type": "stream",
          "name": "stdout",
          "text": [
            "+---------------+-------------+------------+-----------+----------+--------------------+---------------------+------------+------------+\n",
            "|passenger_count|Trip_Distance|payment_type|fare_amount|tip_amount|tpep_pickup_datetime|tpep_dropoff_datetime|PULocationID|DOLocationID|\n",
            "+---------------+-------------+------------+-----------+----------+--------------------+---------------------+------------+------------+\n",
            "|              1|        112.6|           2|      454.5|       0.0| 2010-02-11 08:04:30|  2010-02-11 10:08:40|          10|         265|\n",
            "|              1|       139.05|        NULL|      450.0|       0.0| 2010-03-13 22:49:00|  2010-03-14 01:26:00|         138|         265|\n",
            "|              1|       134.96|        NULL|      495.7|       0.0| 2010-03-20 05:14:00|  2010-03-20 07:34:00|         132|         265|\n",
            "|              1|        500.0|           2|    1400.07|       0.0| 2010-03-02 16:57:08|  2010-03-02 17:08:44|         230|         246|\n",
            "|              1|        663.8|        NULL|    6638.66|       0.0| 2010-03-10 23:22:33|  2010-03-10 23:22:36|         181|         181|\n",
            "|              1|        262.9|           4|    2411.11|       0.0| 2010-03-30 10:36:15|  2010-03-30 10:36:19|         138|         138|\n",
            "|              1|        500.0|           2|    1700.07|       0.0| 2010-03-11 11:33:05|  2010-03-11 11:40:57|         141|         137|\n",
            "|              1|       113.05|        NULL|      350.0|      40.0| 2010-03-31 19:18:00|  2010-03-31 21:17:00|         138|         265|\n",
            "|              1|       106.42|        NULL|      427.7|      20.0| 2010-03-26 02:32:00|  2010-03-26 04:25:00|          68|         265|\n",
            "|              1|       101.38|        NULL|      292.0|      50.0| 2010-03-27 18:12:00|  2010-03-27 20:48:00|          79|         265|\n",
            "|              1|       138.95|        NULL|      450.0|       0.0| 2010-03-13 22:48:00|  2010-03-14 01:22:00|         138|         265|\n",
            "|              1|       112.01|           1|      375.0|       0.0| 2013-08-10 01:47:00|  2013-08-10 04:15:00|         170|         265|\n",
            "|              1|        117.0|           3|      297.0|       0.0| 2013-08-15 11:55:40|  2013-08-15 14:26:43|         226|         265|\n",
            "|              2|        145.0|           2|      384.5|       0.0| 2013-08-17 08:21:56|  2013-08-17 11:18:04|         100|         265|\n",
            "|              2|        323.6|           3|      868.0|       0.0| 2013-08-23 05:59:35|  2013-08-23 13:09:32|         146|         265|\n",
            "|              2|        133.7|           2|      340.0|       0.0| 2013-08-31 21:08:36|  2013-08-31 23:27:22|         126|         265|\n",
            "|              1|        171.4|           1|      788.5|     120.0| 2014-06-29 00:59:31|  2014-06-29 04:22:23|         138|         265|\n",
            "|              1|       109.34|           1|      498.5|       0.0| 2014-08-01 09:53:47|  2014-08-01 13:49:27|         230|         265|\n",
            "|              4|        149.5|           2|      550.0|       0.0| 2014-08-04 16:28:40|  2014-08-04 20:45:45|         215|         265|\n",
            "|              2|        115.9|           2|      300.0|       0.0| 2014-08-05 11:46:45|  2014-08-05 14:40:29|         186|         265|\n",
            "+---------------+-------------+------------+-----------+----------+--------------------+---------------------+------------+------------+\n",
            "only showing top 20 rows\n",
            "\n"
          ]
        }
      ]
    },
    {
      "cell_type": "code",
      "source": [
        "df.where((df.Trip_Distance > 100) & (df.fare_amount>=(df.Trip_Distance*2.5))) \\\n",
        ".withColumn('mph', col(\"Trip_Distance\") / (\\\n",
        "        (unix_timestamp(col(\"tpep_dropoff_datetime\")) - unix_timestamp(col(\"tpep_pickup_datetime\"))) / 3600.0\\\n",
        "    ).cast(DoubleType())).show()"
      ],
      "metadata": {
        "colab": {
          "base_uri": "https://localhost:8080/"
        },
        "id": "i2JXfM7dU6oo",
        "outputId": "3cc1f319-14bc-4fab-b113-6ba21e8c84b7"
      },
      "execution_count": null,
      "outputs": [
        {
          "output_type": "stream",
          "name": "stdout",
          "text": [
            "+---------------+-------------+------------+-----------+----------+--------------------+---------------------+------------+------------+------------------+\n",
            "|passenger_count|Trip_Distance|payment_type|fare_amount|tip_amount|tpep_pickup_datetime|tpep_dropoff_datetime|PULocationID|DOLocationID|               mph|\n",
            "+---------------+-------------+------------+-----------+----------+--------------------+---------------------+------------+------------+------------------+\n",
            "|              1|        112.6|           2|      454.5|       0.0| 2010-02-11 08:04:30|  2010-02-11 10:08:40|          10|         265| 54.41073825503355|\n",
            "|              1|       139.05|        NULL|      450.0|       0.0| 2010-03-13 22:49:00|  2010-03-14 01:26:00|         138|         265|53.140127388535035|\n",
            "|              1|       134.96|        NULL|      495.7|       0.0| 2010-03-20 05:14:00|  2010-03-20 07:34:00|         132|         265|57.839999999999996|\n",
            "|              1|        500.0|           2|    1400.07|       0.0| 2010-03-02 16:57:08|  2010-03-02 17:08:44|         230|         246| 2586.206896551724|\n",
            "|              1|        663.8|        NULL|    6638.66|       0.0| 2010-03-10 23:22:33|  2010-03-10 23:22:36|         181|         181| 796559.9999999999|\n",
            "|              1|        262.9|           4|    2411.11|       0.0| 2010-03-30 10:36:15|  2010-03-30 10:36:19|         138|         138|236609.99999999997|\n",
            "|              1|        500.0|           2|    1700.07|       0.0| 2010-03-11 11:33:05|  2010-03-11 11:40:57|         141|         137| 3813.559322033898|\n",
            "|              1|       113.05|        NULL|      350.0|      40.0| 2010-03-31 19:18:00|  2010-03-31 21:17:00|         138|         265|              57.0|\n",
            "|              1|       106.42|        NULL|      427.7|      20.0| 2010-03-26 02:32:00|  2010-03-26 04:25:00|          68|         265| 56.50619469026549|\n",
            "|              1|       101.38|        NULL|      292.0|      50.0| 2010-03-27 18:12:00|  2010-03-27 20:48:00|          79|         265| 38.99230769230769|\n",
            "|              1|       138.95|        NULL|      450.0|       0.0| 2010-03-13 22:48:00|  2010-03-14 01:22:00|         138|         265|54.136363636363626|\n",
            "|              1|       112.01|           1|      375.0|       0.0| 2013-08-10 01:47:00|  2013-08-10 04:15:00|         170|         265| 45.40945945945946|\n",
            "|              1|        117.0|           3|      297.0|       0.0| 2013-08-15 11:55:40|  2013-08-15 14:26:43|         226|         265|  46.4746772591857|\n",
            "|              2|        145.0|           2|      384.5|       0.0| 2013-08-17 08:21:56|  2013-08-17 11:18:04|         100|         265| 49.39439818319455|\n",
            "|              2|        323.6|           3|      868.0|       0.0| 2013-08-23 05:59:35|  2013-08-23 13:09:32|         146|         265|45.158739388300965|\n",
            "|              2|        133.7|           2|      340.0|       0.0| 2013-08-31 21:08:36|  2013-08-31 23:27:22|         126|         265| 57.80927215950035|\n",
            "|              1|        171.4|           1|      788.5|     120.0| 2014-06-29 00:59:31|  2014-06-29 04:22:23|         138|         265|50.693394676306276|\n",
            "|              1|       109.34|           1|      498.5|       0.0| 2014-08-01 09:53:47|  2014-08-01 13:49:27|         230|         265| 27.83762376237624|\n",
            "|              4|        149.5|           2|      550.0|       0.0| 2014-08-04 16:28:40|  2014-08-04 20:45:45|         215|         265| 34.89141004862237|\n",
            "|              2|        115.9|           2|      300.0|       0.0| 2014-08-05 11:46:45|  2014-08-05 14:40:29|         186|         265| 40.02686108979279|\n",
            "+---------------+-------------+------------+-----------+----------+--------------------+---------------------+------------+------------+------------------+\n",
            "only showing top 20 rows\n",
            "\n"
          ]
        }
      ]
    },
    {
      "cell_type": "code",
      "source": [
        "d100 = df.where(\n",
        "    (df.Trip_Distance > 100) &\n",
        "    (df.fare_amount >= (df.Trip_Distance * 2.5)) &\n",
        "    # Speed = distance / time (in hours)\n",
        "    (df.Trip_Distance /\n",
        "     (unix_timestamp(df.tpep_dropoff_datetime) - unix_timestamp(df.tpep_pickup_datetime)) * 3600.0 <= 60.0)\n",
        ")"
      ],
      "metadata": {
        "id": "rvsRnLm6qJX8"
      },
      "execution_count": null,
      "outputs": []
    },
    {
      "cell_type": "code",
      "source": [
        "d100.show()"
      ],
      "metadata": {
        "colab": {
          "base_uri": "https://localhost:8080/"
        },
        "id": "iHs8AS90rE1f",
        "outputId": "6f29d3bc-b04b-4fcf-caee-f2853dbd34da"
      },
      "execution_count": null,
      "outputs": [
        {
          "output_type": "stream",
          "name": "stdout",
          "text": [
            "+---------------+-------------+------------+-----------+----------+--------------------+---------------------+------------+------------+\n",
            "|passenger_count|Trip_Distance|payment_type|fare_amount|tip_amount|tpep_pickup_datetime|tpep_dropoff_datetime|PULocationID|DOLocationID|\n",
            "+---------------+-------------+------------+-----------+----------+--------------------+---------------------+------------+------------+\n",
            "|              1|        112.6|           2|      454.5|       0.0| 2010-02-11 08:04:30|  2010-02-11 10:08:40|          10|         265|\n",
            "|              1|       139.05|        NULL|      450.0|       0.0| 2010-03-13 22:49:00|  2010-03-14 01:26:00|         138|         265|\n",
            "|              1|       134.96|        NULL|      495.7|       0.0| 2010-03-20 05:14:00|  2010-03-20 07:34:00|         132|         265|\n",
            "|              1|       113.05|        NULL|      350.0|      40.0| 2010-03-31 19:18:00|  2010-03-31 21:17:00|         138|         265|\n",
            "|              1|       106.42|        NULL|      427.7|      20.0| 2010-03-26 02:32:00|  2010-03-26 04:25:00|          68|         265|\n",
            "|              1|       101.38|        NULL|      292.0|      50.0| 2010-03-27 18:12:00|  2010-03-27 20:48:00|          79|         265|\n",
            "|              1|       138.95|        NULL|      450.0|       0.0| 2010-03-13 22:48:00|  2010-03-14 01:22:00|         138|         265|\n",
            "|              1|       112.01|           1|      375.0|       0.0| 2013-08-10 01:47:00|  2013-08-10 04:15:00|         170|         265|\n",
            "|              1|        117.0|           3|      297.0|       0.0| 2013-08-15 11:55:40|  2013-08-15 14:26:43|         226|         265|\n",
            "|              2|        145.0|           2|      384.5|       0.0| 2013-08-17 08:21:56|  2013-08-17 11:18:04|         100|         265|\n",
            "|              2|        323.6|           3|      868.0|       0.0| 2013-08-23 05:59:35|  2013-08-23 13:09:32|         146|         265|\n",
            "|              2|        133.7|           2|      340.0|       0.0| 2013-08-31 21:08:36|  2013-08-31 23:27:22|         126|         265|\n",
            "|              1|        171.4|           1|      788.5|     120.0| 2014-06-29 00:59:31|  2014-06-29 04:22:23|         138|         265|\n",
            "|              1|       109.34|           1|      498.5|       0.0| 2014-08-01 09:53:47|  2014-08-01 13:49:27|         230|         265|\n",
            "|              4|        149.5|           2|      550.0|       0.0| 2014-08-04 16:28:40|  2014-08-04 20:45:45|         215|         265|\n",
            "|              2|        115.9|           2|      300.0|       0.0| 2014-08-05 11:46:45|  2014-08-05 14:40:29|         186|         265|\n",
            "|              1|       120.31|           2|      499.0|       0.0| 2014-08-09 23:54:21|  2014-08-10 02:13:52|          79|         265|\n",
            "|              1|        121.3|           1|      500.0|       0.0| 2014-08-11 16:48:52|  2014-08-11 19:17:17|         132|         265|\n",
            "|              3|       109.79|           2|      475.0|       0.0| 2014-08-11 16:24:07|  2014-08-11 18:58:52|         132|         265|\n",
            "|              1|        134.9|           1|      364.5|       2.0| 2014-08-14 15:14:49|  2014-08-14 18:47:41|         132|         265|\n",
            "+---------------+-------------+------------+-----------+----------+--------------------+---------------------+------------+------------+\n",
            "only showing top 20 rows\n",
            "\n"
          ]
        }
      ]
    },
    {
      "cell_type": "markdown",
      "source": [
        "Here we're effectively dropping all the trips over 100 mi. where the speed and total fare are irrealistic.\n",
        "Instead of dropping, the trip distance could have been set to Null or to the median value of trip using the pickup and dropoff zone IDs\n",
        "\n",
        "Also, the trips of less than 100 mi. are not verified, hoping that won't have a large impact overall."
      ],
      "metadata": {
        "id": "5NJiuXZj7TUV"
      }
    },
    {
      "cell_type": "markdown",
      "source": [
        "Drop all the trips over 100 mi."
      ],
      "metadata": {
        "id": "4noWz6MY63Hw"
      }
    },
    {
      "cell_type": "code",
      "source": [
        "df = df.where(df.Trip_Distance <= 100)"
      ],
      "metadata": {
        "id": "v-4tZy9VwiNQ"
      },
      "execution_count": null,
      "outputs": []
    },
    {
      "cell_type": "markdown",
      "source": [
        "Add the filtered trips that are over 100 mi."
      ],
      "metadata": {
        "id": "QpilkSBH66-Z"
      }
    },
    {
      "cell_type": "code",
      "source": [
        "df =  df.unionByName(d100)"
      ],
      "metadata": {
        "id": "VOf95V7owvZ6"
      },
      "execution_count": null,
      "outputs": []
    },
    {
      "cell_type": "code",
      "source": [
        "df.count()"
      ],
      "metadata": {
        "colab": {
          "base_uri": "https://localhost:8080/"
        },
        "id": "Q7Y9HQoPw-Yz",
        "outputId": "fb94df72-dd3a-4335-c1dc-990293c47bc5"
      },
      "execution_count": null,
      "outputs": [
        {
          "output_type": "execute_result",
          "data": {
            "text/plain": [
              "1749154119"
            ]
          },
          "metadata": {},
          "execution_count": 142
        }
      ]
    },
    {
      "cell_type": "markdown",
      "source": [
        "#### **payment_type**"
      ],
      "metadata": {
        "id": "h_MozZGgI6TX"
      }
    },
    {
      "cell_type": "code",
      "source": [
        "hist_payment = df.groupBy(\"payment_type\").count()\n",
        "hist_payment.orderBy(\"payment_type\").show()"
      ],
      "metadata": {
        "colab": {
          "base_uri": "https://localhost:8080/"
        },
        "id": "MV414ei3z5tT",
        "outputId": "2ffd8f96-86ec-4a8e-879e-cc72e90f53c7"
      },
      "execution_count": null,
      "outputs": [
        {
          "output_type": "stream",
          "name": "stdout",
          "text": [
            "+------------+---------+\n",
            "|payment_type|    count|\n",
            "+------------+---------+\n",
            "|        NULL| 80855892|\n",
            "|           1|928837623|\n",
            "|           2|731845928|\n",
            "|           3|  4239079|\n",
            "|           4|  2625552|\n",
            "|           5|   750045|\n",
            "+------------+---------+\n",
            "\n"
          ]
        }
      ]
    },
    {
      "cell_type": "markdown",
      "source": [
        "#### **fare_amount**"
      ],
      "metadata": {
        "id": "L5OjVXUHJE7w"
      }
    },
    {
      "cell_type": "code",
      "source": [
        "df = df.where(df.fare_amount > 0)"
      ],
      "metadata": {
        "id": "5_M-ADgEIJP9"
      },
      "execution_count": null,
      "outputs": []
    },
    {
      "cell_type": "code",
      "execution_count": null,
      "metadata": {
        "id": "uxbs6aFAflY7",
        "colab": {
          "base_uri": "https://localhost:8080/",
          "height": 206
        },
        "outputId": "142eed03-c4d3-4e44-e8dc-d7179c9987dc"
      },
      "outputs": [
        {
          "output_type": "execute_result",
          "data": {
            "text/plain": [
              "  summary         Fare_amount\n",
              "0   count          1747460403\n",
              "1    mean  12.074943575751059\n",
              "2  stddev   74.28022857229472\n",
              "3     min                0.01\n",
              "4     max           998310.03"
            ],
            "text/html": [
              "\n",
              "  <div id=\"df-ea4a5674-4112-41dd-a945-e67d8d86e8cc\" class=\"colab-df-container\">\n",
              "    <div>\n",
              "<style scoped>\n",
              "    .dataframe tbody tr th:only-of-type {\n",
              "        vertical-align: middle;\n",
              "    }\n",
              "\n",
              "    .dataframe tbody tr th {\n",
              "        vertical-align: top;\n",
              "    }\n",
              "\n",
              "    .dataframe thead th {\n",
              "        text-align: right;\n",
              "    }\n",
              "</style>\n",
              "<table border=\"1\" class=\"dataframe\">\n",
              "  <thead>\n",
              "    <tr style=\"text-align: right;\">\n",
              "      <th></th>\n",
              "      <th>summary</th>\n",
              "      <th>Fare_amount</th>\n",
              "    </tr>\n",
              "  </thead>\n",
              "  <tbody>\n",
              "    <tr>\n",
              "      <th>0</th>\n",
              "      <td>count</td>\n",
              "      <td>1747460403</td>\n",
              "    </tr>\n",
              "    <tr>\n",
              "      <th>1</th>\n",
              "      <td>mean</td>\n",
              "      <td>12.074943575751059</td>\n",
              "    </tr>\n",
              "    <tr>\n",
              "      <th>2</th>\n",
              "      <td>stddev</td>\n",
              "      <td>74.28022857229472</td>\n",
              "    </tr>\n",
              "    <tr>\n",
              "      <th>3</th>\n",
              "      <td>min</td>\n",
              "      <td>0.01</td>\n",
              "    </tr>\n",
              "    <tr>\n",
              "      <th>4</th>\n",
              "      <td>max</td>\n",
              "      <td>998310.03</td>\n",
              "    </tr>\n",
              "  </tbody>\n",
              "</table>\n",
              "</div>\n",
              "    <div class=\"colab-df-buttons\">\n",
              "\n",
              "  <div class=\"colab-df-container\">\n",
              "    <button class=\"colab-df-convert\" onclick=\"convertToInteractive('df-ea4a5674-4112-41dd-a945-e67d8d86e8cc')\"\n",
              "            title=\"Convert this dataframe to an interactive table.\"\n",
              "            style=\"display:none;\">\n",
              "\n",
              "  <svg xmlns=\"http://www.w3.org/2000/svg\" height=\"24px\" viewBox=\"0 -960 960 960\">\n",
              "    <path d=\"M120-120v-720h720v720H120Zm60-500h600v-160H180v160Zm220 220h160v-160H400v160Zm0 220h160v-160H400v160ZM180-400h160v-160H180v160Zm440 0h160v-160H620v160ZM180-180h160v-160H180v160Zm440 0h160v-160H620v160Z\"/>\n",
              "  </svg>\n",
              "    </button>\n",
              "\n",
              "  <style>\n",
              "    .colab-df-container {\n",
              "      display:flex;\n",
              "      gap: 12px;\n",
              "    }\n",
              "\n",
              "    .colab-df-convert {\n",
              "      background-color: #E8F0FE;\n",
              "      border: none;\n",
              "      border-radius: 50%;\n",
              "      cursor: pointer;\n",
              "      display: none;\n",
              "      fill: #1967D2;\n",
              "      height: 32px;\n",
              "      padding: 0 0 0 0;\n",
              "      width: 32px;\n",
              "    }\n",
              "\n",
              "    .colab-df-convert:hover {\n",
              "      background-color: #E2EBFA;\n",
              "      box-shadow: 0px 1px 2px rgba(60, 64, 67, 0.3), 0px 1px 3px 1px rgba(60, 64, 67, 0.15);\n",
              "      fill: #174EA6;\n",
              "    }\n",
              "\n",
              "    .colab-df-buttons div {\n",
              "      margin-bottom: 4px;\n",
              "    }\n",
              "\n",
              "    [theme=dark] .colab-df-convert {\n",
              "      background-color: #3B4455;\n",
              "      fill: #D2E3FC;\n",
              "    }\n",
              "\n",
              "    [theme=dark] .colab-df-convert:hover {\n",
              "      background-color: #434B5C;\n",
              "      box-shadow: 0px 1px 3px 1px rgba(0, 0, 0, 0.15);\n",
              "      filter: drop-shadow(0px 1px 2px rgba(0, 0, 0, 0.3));\n",
              "      fill: #FFFFFF;\n",
              "    }\n",
              "  </style>\n",
              "\n",
              "    <script>\n",
              "      const buttonEl =\n",
              "        document.querySelector('#df-ea4a5674-4112-41dd-a945-e67d8d86e8cc button.colab-df-convert');\n",
              "      buttonEl.style.display =\n",
              "        google.colab.kernel.accessAllowed ? 'block' : 'none';\n",
              "\n",
              "      async function convertToInteractive(key) {\n",
              "        const element = document.querySelector('#df-ea4a5674-4112-41dd-a945-e67d8d86e8cc');\n",
              "        const dataTable =\n",
              "          await google.colab.kernel.invokeFunction('convertToInteractive',\n",
              "                                                    [key], {});\n",
              "        if (!dataTable) return;\n",
              "\n",
              "        const docLinkHtml = 'Like what you see? Visit the ' +\n",
              "          '<a target=\"_blank\" href=https://colab.research.google.com/notebooks/data_table.ipynb>data table notebook</a>'\n",
              "          + ' to learn more about interactive tables.';\n",
              "        element.innerHTML = '';\n",
              "        dataTable['output_type'] = 'display_data';\n",
              "        await google.colab.output.renderOutput(dataTable, element);\n",
              "        const docLink = document.createElement('div');\n",
              "        docLink.innerHTML = docLinkHtml;\n",
              "        element.appendChild(docLink);\n",
              "      }\n",
              "    </script>\n",
              "  </div>\n",
              "\n",
              "\n",
              "<div id=\"df-67132a06-fd93-4087-8bdf-d7dbde3b1b92\">\n",
              "  <button class=\"colab-df-quickchart\" onclick=\"quickchart('df-67132a06-fd93-4087-8bdf-d7dbde3b1b92')\"\n",
              "            title=\"Suggest charts\"\n",
              "            style=\"display:none;\">\n",
              "\n",
              "<svg xmlns=\"http://www.w3.org/2000/svg\" height=\"24px\"viewBox=\"0 0 24 24\"\n",
              "     width=\"24px\">\n",
              "    <g>\n",
              "        <path d=\"M19 3H5c-1.1 0-2 .9-2 2v14c0 1.1.9 2 2 2h14c1.1 0 2-.9 2-2V5c0-1.1-.9-2-2-2zM9 17H7v-7h2v7zm4 0h-2V7h2v10zm4 0h-2v-4h2v4z\"/>\n",
              "    </g>\n",
              "</svg>\n",
              "  </button>\n",
              "\n",
              "<style>\n",
              "  .colab-df-quickchart {\n",
              "      --bg-color: #E8F0FE;\n",
              "      --fill-color: #1967D2;\n",
              "      --hover-bg-color: #E2EBFA;\n",
              "      --hover-fill-color: #174EA6;\n",
              "      --disabled-fill-color: #AAA;\n",
              "      --disabled-bg-color: #DDD;\n",
              "  }\n",
              "\n",
              "  [theme=dark] .colab-df-quickchart {\n",
              "      --bg-color: #3B4455;\n",
              "      --fill-color: #D2E3FC;\n",
              "      --hover-bg-color: #434B5C;\n",
              "      --hover-fill-color: #FFFFFF;\n",
              "      --disabled-bg-color: #3B4455;\n",
              "      --disabled-fill-color: #666;\n",
              "  }\n",
              "\n",
              "  .colab-df-quickchart {\n",
              "    background-color: var(--bg-color);\n",
              "    border: none;\n",
              "    border-radius: 50%;\n",
              "    cursor: pointer;\n",
              "    display: none;\n",
              "    fill: var(--fill-color);\n",
              "    height: 32px;\n",
              "    padding: 0;\n",
              "    width: 32px;\n",
              "  }\n",
              "\n",
              "  .colab-df-quickchart:hover {\n",
              "    background-color: var(--hover-bg-color);\n",
              "    box-shadow: 0 1px 2px rgba(60, 64, 67, 0.3), 0 1px 3px 1px rgba(60, 64, 67, 0.15);\n",
              "    fill: var(--button-hover-fill-color);\n",
              "  }\n",
              "\n",
              "  .colab-df-quickchart-complete:disabled,\n",
              "  .colab-df-quickchart-complete:disabled:hover {\n",
              "    background-color: var(--disabled-bg-color);\n",
              "    fill: var(--disabled-fill-color);\n",
              "    box-shadow: none;\n",
              "  }\n",
              "\n",
              "  .colab-df-spinner {\n",
              "    border: 2px solid var(--fill-color);\n",
              "    border-color: transparent;\n",
              "    border-bottom-color: var(--fill-color);\n",
              "    animation:\n",
              "      spin 1s steps(1) infinite;\n",
              "  }\n",
              "\n",
              "  @keyframes spin {\n",
              "    0% {\n",
              "      border-color: transparent;\n",
              "      border-bottom-color: var(--fill-color);\n",
              "      border-left-color: var(--fill-color);\n",
              "    }\n",
              "    20% {\n",
              "      border-color: transparent;\n",
              "      border-left-color: var(--fill-color);\n",
              "      border-top-color: var(--fill-color);\n",
              "    }\n",
              "    30% {\n",
              "      border-color: transparent;\n",
              "      border-left-color: var(--fill-color);\n",
              "      border-top-color: var(--fill-color);\n",
              "      border-right-color: var(--fill-color);\n",
              "    }\n",
              "    40% {\n",
              "      border-color: transparent;\n",
              "      border-right-color: var(--fill-color);\n",
              "      border-top-color: var(--fill-color);\n",
              "    }\n",
              "    60% {\n",
              "      border-color: transparent;\n",
              "      border-right-color: var(--fill-color);\n",
              "    }\n",
              "    80% {\n",
              "      border-color: transparent;\n",
              "      border-right-color: var(--fill-color);\n",
              "      border-bottom-color: var(--fill-color);\n",
              "    }\n",
              "    90% {\n",
              "      border-color: transparent;\n",
              "      border-bottom-color: var(--fill-color);\n",
              "    }\n",
              "  }\n",
              "</style>\n",
              "\n",
              "  <script>\n",
              "    async function quickchart(key) {\n",
              "      const quickchartButtonEl =\n",
              "        document.querySelector('#' + key + ' button');\n",
              "      quickchartButtonEl.disabled = true;  // To prevent multiple clicks.\n",
              "      quickchartButtonEl.classList.add('colab-df-spinner');\n",
              "      try {\n",
              "        const charts = await google.colab.kernel.invokeFunction(\n",
              "            'suggestCharts', [key], {});\n",
              "      } catch (error) {\n",
              "        console.error('Error during call to suggestCharts:', error);\n",
              "      }\n",
              "      quickchartButtonEl.classList.remove('colab-df-spinner');\n",
              "      quickchartButtonEl.classList.add('colab-df-quickchart-complete');\n",
              "    }\n",
              "    (() => {\n",
              "      let quickchartButtonEl =\n",
              "        document.querySelector('#df-67132a06-fd93-4087-8bdf-d7dbde3b1b92 button');\n",
              "      quickchartButtonEl.style.display =\n",
              "        google.colab.kernel.accessAllowed ? 'block' : 'none';\n",
              "    })();\n",
              "  </script>\n",
              "</div>\n",
              "\n",
              "    </div>\n",
              "  </div>\n"
            ],
            "application/vnd.google.colaboratory.intrinsic+json": {
              "type": "dataframe",
              "summary": "{\n  \"name\": \"df\",\n  \"rows\": 5,\n  \"fields\": [\n    {\n      \"column\": \"summary\",\n      \"properties\": {\n        \"dtype\": \"string\",\n        \"num_unique_values\": 5,\n        \"samples\": [\n          \"mean\",\n          \"max\",\n          \"stddev\"\n        ],\n        \"semantic_type\": \"\",\n        \"description\": \"\"\n      }\n    },\n    {\n      \"column\": \"Fare_amount\",\n      \"properties\": {\n        \"dtype\": \"string\",\n        \"num_unique_values\": 5,\n        \"samples\": [\n          \"12.074943575751059\",\n          \"998310.03\",\n          \"74.28022857229472\"\n        ],\n        \"semantic_type\": \"\",\n        \"description\": \"\"\n      }\n    }\n  ]\n}"
            }
          },
          "metadata": {},
          "execution_count": 147
        }
      ],
      "source": [
        "df.select(\"Fare_amount\").describe().toPandas()"
      ]
    },
    {
      "cell_type": "code",
      "source": [
        "bin_labels_fare = spark.createDataFrame([\n",
        "    (0, \"0-1\"),\n",
        "    (1, \"1-2\"),\n",
        "    (2, \"2-5\"),\n",
        "    (3, \"5-10\"),\n",
        "    (4, \"10-20\"),\n",
        "    (5, \"20-50\"),\n",
        "    (6, \"50-100\"),\n",
        "    (7, \"100-200\"),\n",
        "    (8, \"200-500\"),\n",
        "    (9, \"500-1000\"),\n",
        "    (10, \"1000+\"),\n",
        "], [\"bins\", \"range\"])\n",
        "\n",
        "bucketizer_fare = Bucketizer(splits=[0, 1 , 2, 5, 10, 20, 50, 100, 200, 500, 1000, float('Inf')],\n",
        "                        inputCol='fare_amount',\n",
        "                        outputCol='bins')\n",
        "\n",
        "df_bins_fare = bucketizer_fare.setHandleInvalid('keep').transform(df)\n",
        "\n",
        "df_binned_fare = df_bins_fare.groupBy('bins').count()\n",
        "\n",
        "result_fare = (df_binned_fare\n",
        "    .join(bin_labels_fare, \"bins\")\n",
        "    .select(\"range\", \"count\",\"bins\").orderBy(\"bins\")\n",
        ")\n",
        "\n",
        "result.show()"
      ],
      "metadata": {
        "colab": {
          "base_uri": "https://localhost:8080/"
        },
        "id": "sowIXic9gtMh",
        "outputId": "6ea0d378-58e1-4ce5-ab1f-196c81ad84e1"
      },
      "execution_count": null,
      "outputs": [
        {
          "output_type": "stream",
          "name": "stdout",
          "text": [
            "+--------+----------+----+\n",
            "|   range|     count|bins|\n",
            "+--------+----------+----+\n",
            "|    0-20|1655162267| 0.0|\n",
            "|   20-50|  83294409| 1.0|\n",
            "|  50-100|   8929389| 2.0|\n",
            "| 100-200|     72393| 3.0|\n",
            "| 200-500|      1834| 4.0|\n",
            "|500-1000|       111| 5.0|\n",
            "+--------+----------+----+\n",
            "\n"
          ]
        }
      ]
    },
    {
      "cell_type": "markdown",
      "source": [
        "#### **tip_amount**"
      ],
      "metadata": {
        "id": "qyddy6i0Jgex"
      }
    },
    {
      "cell_type": "code",
      "source": [
        "bin_labels_tips = spark.createDataFrame([\n",
        "    (0, \"0-1\"),\n",
        "    (1, \"1-2\"),\n",
        "    (2, \"2-5\"),\n",
        "    (3, \"5-10\"),\n",
        "    (4, \"10-20\"),\n",
        "    (5, \"20-50\"),\n",
        "    (6, \"50-100\"),\n",
        "    (7, \"100-200\"),\n",
        "    (8, \"200-500\"),\n",
        "    (9, \"500-1000\"),\n",
        "    (10, \"1000+\"),\n",
        "], [\"bins\", \"range\"])\n",
        "\n",
        "bucketizer_tips = Bucketizer(splits=[0, 1,2,5,10,20, 50, 100, 200, 500, 1000, float('Inf')],\n",
        "                        inputCol='fare_amount',\n",
        "                        outputCol='bins')\n",
        "\n",
        "df_bins_tips = bucketizer_tips.setHandleInvalid('keep').transform(df)\n",
        "\n",
        "df_binned_tips = df_bins_tips.groupBy('bins').count()\n",
        "\n",
        "result_tips = (df_binned_tips\n",
        "    .join(bin_labels_tips, \"bins\")\n",
        "    .select(\"range\", \"count\",\"bins\").orderBy(\"bins\")\n",
        ")"
      ],
      "metadata": {
        "id": "_ukhXStwjN0G"
      },
      "execution_count": null,
      "outputs": []
    },
    {
      "cell_type": "code",
      "source": [
        "result_tips.show()"
      ],
      "metadata": {
        "colab": {
          "base_uri": "https://localhost:8080/"
        },
        "id": "Odx3HL1vkqKl",
        "outputId": "16fa450e-3dea-477f-9b99-cb3c7ff1d3d3"
      },
      "execution_count": null,
      "outputs": [
        {
          "output_type": "stream",
          "name": "stdout",
          "text": [
            "+--------+---------+----+\n",
            "|   range|    count|bins|\n",
            "+--------+---------+----+\n",
            "|     0-1|    44881| 0.0|\n",
            "|     1-2|     3233| 1.0|\n",
            "|     2-5|194102117| 2.0|\n",
            "|    5-10|796952193| 3.0|\n",
            "|   10-20|537496552| 4.0|\n",
            "|   20-50|183067289| 5.0|\n",
            "|  50-100| 34949907| 6.0|\n",
            "| 100-200|   758279| 7.0|\n",
            "| 200-500|    83810| 8.0|\n",
            "|500-1000|     1697| 9.0|\n",
            "|   1000+|      445|10.0|\n",
            "+--------+---------+----+\n",
            "\n"
          ]
        }
      ]
    },
    {
      "cell_type": "markdown",
      "source": [
        "Looking at tips over $1000. Clearly some errors when distance and the corresponding fare are far from the official rate. Likely that nobody got a nearly 400k tip."
      ],
      "metadata": {
        "id": "rkEKWbzjzXso"
      }
    },
    {
      "cell_type": "code",
      "source": [
        "df.where(df.tip_amount > 1000).show()"
      ],
      "metadata": {
        "colab": {
          "base_uri": "https://localhost:8080/"
        },
        "id": "JJKJmvy2qVwR",
        "outputId": "f37c05b0-6c7a-46c3-cc60-6cdd1cfd05d2"
      },
      "execution_count": null,
      "outputs": [
        {
          "output_type": "stream",
          "name": "stdout",
          "text": [
            "+---------------+-------------+------------+-----------+----------+--------------------+---------------------+------------+------------+\n",
            "|passenger_count|Trip_Distance|payment_type|fare_amount|tip_amount|tpep_pickup_datetime|tpep_dropoff_datetime|PULocationID|DOLocationID|\n",
            "+---------------+-------------+------------+-----------+----------+--------------------+---------------------+------------+------------+\n",
            "|              1|         5.32|           1|       22.0| 3950588.8| 2015-01-18 19:24:15|  2015-01-18 19:51:55|         249|          37|\n",
            "|              1|          4.6|           1|     8014.5|   1603.05| 2015-02-26 21:53:48|  2015-02-26 22:15:02|         264|         264|\n",
            "|              1|          1.2|           1|     8004.5|    1200.8| 2015-09-20 21:50:26|  2015-09-20 21:52:57|         264|         264|\n",
            "|              1|          5.5|           1|     8000.3|   1600.22| 2017-05-02 12:39:43|  2017-05-02 12:43:41|         263|         236|\n",
            "|              1|          5.6|           1|     9022.0|   1624.64| 2019-06-18 21:19:05|  2019-06-18 21:45:13|         229|         256|\n",
            "|              1|         0.55|           1|        6.5|    1100.0| 2020-01-22 16:41:24|  2020-01-22 16:49:28|         231|         209|\n",
            "|              1|         1.43|           1|        6.5|    1001.0| 2020-07-02 12:50:12|  2020-07-02 12:55:46|         233|         107|\n",
            "|              1|         4.51|           1|     6964.0|   1393.56| 2020-12-20 23:01:34|  2020-12-20 23:14:21|         249|          50|\n",
            "|              1|         2.59|           1|       12.0|   1393.56| 2022-06-04 17:08:55|  2022-06-04 17:24:08|         238|         262|\n",
            "|              1|         2.88|           1|       13.0|   1393.86| 2022-06-17 22:09:26|  2022-06-17 22:24:59|         236|         143|\n",
            "|              1|        29.92|           1|       47.0|   1400.16| 2022-06-23 09:39:15|  2022-06-23 10:34:51|         207|          22|\n",
            "|              1|        427.7|           1|     1128.5|   1140.44| 2021-01-20 11:22:05|  2021-01-20 19:47:56|           4|         265|\n",
            "+---------------+-------------+------------+-----------+----------+--------------------+---------------------+------------+------------+\n",
            "\n"
          ]
        }
      ]
    },
    {
      "cell_type": "markdown",
      "source": [
        "Zooming in between $500 and $550 in tip. Some trip distances and fare don't add up"
      ],
      "metadata": {
        "id": "Un6-Vg2E1VBl"
      }
    },
    {
      "cell_type": "code",
      "source": [
        "df.where((df.tip_amount > 500) & (df.tip_amount <550)).show()"
      ],
      "metadata": {
        "colab": {
          "base_uri": "https://localhost:8080/"
        },
        "id": "1yABcmn5uXq7",
        "outputId": "034397de-4e3e-4940-a29e-755cc5397e52"
      },
      "execution_count": null,
      "outputs": [
        {
          "output_type": "stream",
          "name": "stdout",
          "text": [
            "+---------------+-------------+------------+-----------+----------+--------------------+---------------------+------------+------------+\n",
            "|passenger_count|Trip_Distance|payment_type|fare_amount|tip_amount|tpep_pickup_datetime|tpep_dropoff_datetime|PULocationID|DOLocationID|\n",
            "+---------------+-------------+------------+-----------+----------+--------------------+---------------------+------------+------------+\n",
            "|              1|          6.3|           2|       17.3|     511.5| 2010-02-12 02:26:01|  2010-02-12 02:47:23|         144|         238|\n",
            "|              2|         18.3|           1|       48.5|    542.41| 2013-08-27 19:19:51|  2013-08-27 19:43:41|         132|         252|\n",
            "|              1|          4.9|           1|       16.5|    523.42| 2014-08-03 02:08:36|  2014-08-03 02:25:31|         100|           7|\n",
            "|              1|          7.8|           1|       24.5|    500.11| 2014-11-28 13:13:30|  2014-11-28 13:32:30|         138|         167|\n",
            "|              1|          3.0|           1|       10.5|     500.3| 2014-12-10 23:07:47|  2014-12-10 23:16:35|          68|         239|\n",
            "|              2|         2.52|           1|       10.0|     501.5| 2014-12-31 16:00:28|  2014-12-31 16:10:28|         142|          41|\n",
            "|              1|         94.7|           1|       26.0|    528.55| 2015-01-03 14:52:10|  2015-01-03 17:23:02|         132|         265|\n",
            "|              3|         16.8|           1|      102.5|     530.0| 2015-09-18 18:35:32|  2015-09-18 21:00:25|         130|         265|\n",
            "|              1|          1.7|           1|        8.5|    544.44| 2016-01-21 20:35:50|  2016-01-21 20:43:54|          50|         143|\n",
            "|              1|          2.9|           1|       14.5|    542.51| 2016-04-25 10:18:34|  2016-04-25 10:39:32|         113|         163|\n",
            "|              1|          1.8|           1|        8.5|    549.02| 2020-02-28 03:54:13|  2020-02-28 04:02:18|         129|         157|\n",
            "|              3|          0.7|           1|        7.9|    502.68| 2023-06-10 21:59:35|  2023-06-10 22:06:15|          48|         163|\n",
            "|              0|          2.0|           1|       17.8|    543.33| 2024-02-22 22:25:37|  2024-02-22 22:35:51|         142|         151|\n",
            "|              2|          8.1|           1|       47.1|    526.21| 2024-04-26 15:44:50|  2024-04-26 16:32:03|         140|         243|\n",
            "|              2|          2.5|           1|       20.5|    544.76| 2024-06-11 14:53:47|  2024-06-11 15:17:09|          43|         161|\n",
            "|              1|          7.1|           1|       32.4|    523.95| 2024-08-16 03:53:44|  2024-08-16 04:14:14|         246|          42|\n",
            "|              2|        107.6|           1|      517.5|    520.38| 2016-01-10 19:50:43|  2016-01-11 04:05:04|          86|         265|\n",
            "+---------------+-------------+------------+-----------+----------+--------------------+---------------------+------------+------------+\n",
            "\n"
          ]
        }
      ]
    },
    {
      "cell_type": "markdown",
      "source": [
        "Here we can clean by checking if the fare makes sense with the mileage and time\n",
        "The minimum ride is 3, then 2.18 per fith of a mile.\n",
        "The time is 0.5/minute if the taxi is not moving.\n",
        "\n",
        "Exemple 1\n",
        "calc fare based on mileage (3+ (16.8 - 0.2)*2.18) = 40.2\n",
        "calc fare based on time 2.5 hours -> 150 min -> 75\n",
        "\n",
        "102.5 < 40.2 + 75\n",
        "\n",
        "the total fare is less than 102.5 < 75+63\n",
        "What is the speed?\n",
        "\n",
        "75 - 63.12 = 11.88 -> almost 24 minutes at less than 12 mph\n",
        "\n",
        "We could deduce the minimum speeds and check if they make sense\n",
        "\n",
        "Exemple 2:\n",
        "\n",
        "(3 + (4.51 -0.2)*2.18 = 12.37\n",
        "13 minutes -> 26\n",
        "\n",
        "6964 > 26 + 12.37\n",
        "The fare is more than the price per minute + the mileage: it doesn't make sense, this trip data is wrong."
      ],
      "metadata": {
        "id": "9vwpdjgwyZX7"
      }
    },
    {
      "cell_type": "code",
      "source": [
        "df_errors = df.where(\n",
        "    (df.Trip_Distance>50) & \\\n",
        "    # If the fare is more than the rate/mile + rate/min, there is really something wrong)\n",
        "    (df.fare_amount >= (df.Trip_Distance-0.2 * 2.5)+2.5 + (unix_timestamp(df.tpep_dropoff_datetime) - unix_timestamp(df.tpep_pickup_datetime))/60*2.18) & \\\n",
        "    # Speed = distance / time (in hours)\n",
        "    (df.Trip_Distance /\n",
        "     (unix_timestamp(df.tpep_dropoff_datetime) - unix_timestamp(df.tpep_pickup_datetime)) * 3600.0 <= 60.0)\n",
        ")"
      ],
      "metadata": {
        "id": "AR0L7Ry2RiK2"
      },
      "execution_count": null,
      "outputs": []
    },
    {
      "cell_type": "markdown",
      "source": [
        "## Calculations"
      ],
      "metadata": {
        "id": "ekqdpQaIKV_l"
      }
    },
    {
      "cell_type": "code",
      "source": [
        "\n",
        "fig, axes = plt.subplots(nrows=1, ncols=1)\n",
        "fig.set_size_inches(20, 20)\n",
        "\n",
        "filtered = df.select(\"Trip_Distance\")\n",
        "# Use the hist function to plot histograms on the Axes\n",
        "hist(axes, filtered, bins = 20, color=['red'])\n",
        "axes.set_title('Distance')\n",
        "axes.legend()"
      ],
      "metadata": {
        "id": "t6-ZTTmoA5Vo"
      },
      "execution_count": null,
      "outputs": []
    },
    {
      "cell_type": "code",
      "source": [
        "import matplotlib.pyplot as plt\n",
        "\n",
        "# Assuming you have the histogram data in a pandas DataFrame\n",
        "hist_data = df.groupBy(\"payment_type\").count().toPandas()\n",
        "\n",
        "# Plotting the histogram\n",
        "#plt.bar(hist_data['payment_type'], hist_data['count'])\n",
        "#plt.xlabel('payment_type')\n",
        "#plt.ylabel('Count')\n",
        "#plt.title('Histogram of payment type')\n",
        "#plt.show()"
      ],
      "metadata": {
        "id": "h2A07gRj7LYY"
      },
      "execution_count": null,
      "outputs": []
    },
    {
      "cell_type": "code",
      "execution_count": null,
      "metadata": {
        "id": "gaen96XeRJkE"
      },
      "outputs": [],
      "source": [
        "df.agg({'Fare_amount': 'sum'}).show()"
      ]
    },
    {
      "cell_type": "code",
      "execution_count": null,
      "metadata": {
        "id": "oV-4aP1GQuzy"
      },
      "outputs": [],
      "source": [
        "df.agg({'Tip_amount': 'sum'}).show()"
      ]
    },
    {
      "cell_type": "markdown",
      "source": [],
      "metadata": {
        "id": "XFQ41DaB-_vP"
      }
    },
    {
      "cell_type": "code",
      "source": [],
      "metadata": {
        "id": "27oOXakP-9p8"
      },
      "execution_count": null,
      "outputs": []
    }
  ],
  "metadata": {
    "colab": {
      "provenance": [],
      "collapsed_sections": [
        "GMLGMRrbZMm6",
        "N3bqoTy3beV1",
        "XWYEyx3vVVz8",
        "vuOBx95qagek"
      ],
      "authorship_tag": "ABX9TyOBSjPBEsf9Ji9S71AEnzfm",
      "include_colab_link": true
    },
    "kernelspec": {
      "display_name": "Python 3",
      "name": "python3"
    },
    "language_info": {
      "name": "python"
    }
  },
  "nbformat": 4,
  "nbformat_minor": 0
}
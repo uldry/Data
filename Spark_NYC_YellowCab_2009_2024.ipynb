{
  "cells": [
    {
      "cell_type": "markdown",
      "metadata": {
        "id": "view-in-github",
        "colab_type": "text"
      },
      "source": [
        "<a href=\"https://colab.research.google.com/github/uldry/Data/blob/main/Spark_NYC_YellowCab_2009_2024.ipynb\" target=\"_parent\"><img src=\"https://colab.research.google.com/assets/colab-badge.svg\" alt=\"Open In Colab\"/></a>"
      ]
    },
    {
      "cell_type": "markdown",
      "source": [
        "# Spark_NYC_YellowCab-2009-2024"
      ],
      "metadata": {
        "id": "CftvVI_S55EF"
      }
    },
    {
      "cell_type": "markdown",
      "source": [
        "Data Download, Transformation and  Exploration/Cleaning of NYC Yellow Cab dataset from 2009 to 2024 using Google Colab. about ~1.8 billion rows. As the resuling dataset couldn't be saved anywhere due to a stalling issue and colab crashing, the work stopped there."
      ],
      "metadata": {
        "id": "dvSV2AXi4ns7"
      }
    },
    {
      "cell_type": "markdown",
      "metadata": {
        "id": "BTFW3LUj_pEl"
      },
      "source": [
        "Setting up pySpark and starting the session"
      ]
    },
    {
      "cell_type": "code",
      "execution_count": null,
      "metadata": {
        "colab": {
          "base_uri": "https://localhost:8080/"
        },
        "id": "r_Kz-fIRFV1l",
        "outputId": "262ebd71-cfeb-446a-f2be-2802090bbff2"
      },
      "outputs": [
        {
          "output_type": "stream",
          "name": "stdout",
          "text": [
            "Get:1 http://security.ubuntu.com/ubuntu jammy-security InRelease [129 kB]\n",
            "Get:2 https://cloud.r-project.org/bin/linux/ubuntu jammy-cran40/ InRelease [3,632 B]\n",
            "Hit:3 https://developer.download.nvidia.com/compute/cuda/repos/ubuntu2204/x86_64  InRelease\n",
            "Get:4 https://r2u.stat.illinois.edu/ubuntu jammy InRelease [6,555 B]\n",
            "Hit:5 http://archive.ubuntu.com/ubuntu jammy InRelease\n",
            "Get:6 http://archive.ubuntu.com/ubuntu jammy-updates InRelease [128 kB]\n",
            "Get:7 http://archive.ubuntu.com/ubuntu jammy-backports InRelease [127 kB]\n",
            "Hit:8 https://ppa.launchpadcontent.net/deadsnakes/ppa/ubuntu jammy InRelease\n",
            "Hit:9 https://ppa.launchpadcontent.net/graphics-drivers/ppa/ubuntu jammy InRelease\n",
            "Hit:10 https://ppa.launchpadcontent.net/ubuntugis/ppa/ubuntu jammy InRelease\n",
            "Get:11 http://security.ubuntu.com/ubuntu jammy-security/main amd64 Packages [2,901 kB]\n",
            "Get:12 http://security.ubuntu.com/ubuntu jammy-security/universe amd64 Packages [1,245 kB]\n",
            "Get:13 https://r2u.stat.illinois.edu/ubuntu jammy/main all Packages [8,926 kB]\n",
            "Get:14 https://r2u.stat.illinois.edu/ubuntu jammy/main amd64 Packages [2,720 kB]\n",
            "Get:15 http://archive.ubuntu.com/ubuntu jammy-updates/main amd64 Packages [3,211 kB]\n",
            "Get:16 http://archive.ubuntu.com/ubuntu jammy-updates/universe amd64 Packages [1,546 kB]\n",
            "Fetched 20.9 MB in 9s (2,270 kB/s)\n",
            "Reading package lists... Done\n",
            "W: Skipping acquire of configured file 'main/source/Sources' as repository 'https://r2u.stat.illinois.edu/ubuntu jammy InRelease' does not seem to provide it (sources.list entry misspelt?)\n"
          ]
        }
      ],
      "source": [
        "!apt-get update\n",
        "!apt-get install openjdk-8-jdk-headless -qq > /dev/null\n",
        "!wget -q http://archive.apache.org/dist/spark/spark-3.5.3/spark-3.5.3-bin-hadoop3-scala2.13.tgz\n",
        "!tar xf spark-3.5.3-bin-hadoop3-scala2.13.tgz\n",
        "!pip install -q findspark\n",
        "# remove?\n",
        "#!pip install pyspark_dist_explore"
      ]
    },
    {
      "cell_type": "code",
      "execution_count": null,
      "metadata": {
        "id": "1dOYJtb8jq7S"
      },
      "outputs": [],
      "source": [
        "import os\n",
        "os.environ[\"JAVA_HOME\"] = \"/usr/lib/jvm/java-8-openjdk-amd64\"\n",
        "os.environ[\"SPARK_HOME\"] = \"/content/spark-3.5.3-bin-hadoop3-scala2.13\"\n",
        "import findspark\n",
        "findspark.init()\n",
        "\n",
        "from pyspark.sql import SparkSession\n",
        "\n",
        "spark = SparkSession.builder\\\n",
        "        .master(\"local[*]\")\\\n",
        "        .appName(\"Test Setup\")\\\n",
        "        .getOrCreate()"
      ]
    },
    {
      "cell_type": "markdown",
      "metadata": {
        "id": "MasLNE3N_8ON"
      },
      "source": [
        "Imports"
      ]
    },
    {
      "cell_type": "code",
      "execution_count": null,
      "metadata": {
        "id": "X7zO9-7dF5Wu",
        "colab": {
          "base_uri": "https://localhost:8080/"
        },
        "outputId": "d21acea5-8706-471e-d9c2-8569cf71ce41"
      },
      "outputs": [
        {
          "output_type": "stream",
          "name": "stdout",
          "text": [
            "3.5.3\n"
          ]
        }
      ],
      "source": [
        "import pyspark\n",
        "print(pyspark.__version__)\n",
        "\n",
        "from pyspark.sql import SparkSession\n",
        "from pyspark.sql.functions import udf, lit, array, struct, col, lower, create_map\n",
        "from pyspark.sql.functions import to_timestamp_ntz, unix_timestamp\n",
        "from pyspark.sql import functions as F\n",
        "from pyspark.sql.types import FloatType, ShortType, IntegerType, StructType, StructField, ArrayType\n",
        "from pyspark.sql.types import StringType,LongType, IntegerType, DoubleType\n",
        "from pyspark.ml.feature import Bucketizer\n",
        "\n",
        "\n",
        "import numpy as np\n",
        "import pandas as pd\n",
        "import math\n",
        "import os\n",
        "import glob\n",
        "import matplotlib.pyplot as plt\n",
        "import seaborn as sns\n",
        "\n",
        "import shapefile\n",
        "import geopandas as gpd\n",
        "from shapely.geometry import Point\n",
        "\n",
        "from google.colab import drive\n",
        "from google.colab import userdata\n",
        "\n"
      ]
    },
    {
      "cell_type": "markdown",
      "metadata": {
        "id": "GMLGMRrbZMm6"
      },
      "source": [
        "### Downloading the data from the repository"
      ]
    },
    {
      "cell_type": "markdown",
      "metadata": {
        "id": "WHt9ef1i3aeE"
      },
      "source": [
        "Adjust to download the necessary data"
      ]
    },
    {
      "cell_type": "code",
      "execution_count": null,
      "metadata": {
        "id": "xsGXIJ9WikbN",
        "colab": {
          "base_uri": "https://localhost:8080/"
        },
        "collapsed": true,
        "outputId": "0c479720-9fef-45ea-8513-abb6bb7649f2"
      },
      "outputs": [
        {
          "output_type": "stream",
          "name": "stdout",
          "text": [
            "--2025-05-10 02:37:48--  https://d37ci6vzurychx.cloudfront.net/trip-data/yellow_tripdata_2009-01.parquet\n",
            "Resolving d37ci6vzurychx.cloudfront.net (d37ci6vzurychx.cloudfront.net)... 52.84.160.73, 52.84.160.116, 52.84.160.84, ...\n",
            "Connecting to d37ci6vzurychx.cloudfront.net (d37ci6vzurychx.cloudfront.net)|52.84.160.73|:443... connected.\n",
            "HTTP request sent, awaiting response... 200 OK\n",
            "Length: 469759995 (448M) [application/x-www-form-urlencoded]\n",
            "Saving to: ‘yellow_tripdata_2009-01.parquet’\n",
            "\n",
            "yellow_tripdata_200 100%[===================>] 448.00M  54.6MB/s    in 8.6s    \n",
            "\n",
            "2025-05-10 02:37:58 (51.8 MB/s) - ‘yellow_tripdata_2009-01.parquet’ saved [469759995/469759995]\n",
            "\n",
            "--2025-05-10 02:37:58--  https://d37ci6vzurychx.cloudfront.net/trip-data/yellow_tripdata_2009-02.parquet\n",
            "Reusing existing connection to d37ci6vzurychx.cloudfront.net:443.\n",
            "HTTP request sent, awaiting response... 200 OK\n",
            "Length: 443434087 (423M) [application/x-www-form-urlencoded]\n",
            "Saving to: ‘yellow_tripdata_2009-02.parquet’\n",
            "\n",
            "yellow_tripdata_200 100%[===================>] 422.89M  59.6MB/s    in 7.9s    \n",
            "\n",
            "2025-05-10 02:38:06 (53.8 MB/s) - ‘yellow_tripdata_2009-02.parquet’ saved [443434087/443434087]\n",
            "\n",
            "--2025-05-10 02:38:06--  https://d37ci6vzurychx.cloudfront.net/trip-data/yellow_tripdata_2009-03.parquet\n",
            "Reusing existing connection to d37ci6vzurychx.cloudfront.net:443.\n",
            "HTTP request sent, awaiting response... 200 OK\n",
            "Length: 482592227 (460M) [application/x-www-form-urlencoded]\n",
            "Saving to: ‘yellow_tripdata_2009-03.parquet’\n",
            "\n",
            "yellow_tripdata_200 100%[===================>] 460.24M  58.0MB/s    in 8.3s    \n",
            "\n",
            "2025-05-10 02:38:15 (55.7 MB/s) - ‘yellow_tripdata_2009-03.parquet’ saved [482592227/482592227]\n",
            "\n",
            "--2025-05-10 02:38:15--  https://d37ci6vzurychx.cloudfront.net/trip-data/yellow_tripdata_2009-04.parquet\n",
            "Reusing existing connection to d37ci6vzurychx.cloudfront.net:443.\n",
            "HTTP request sent, awaiting response... 200 OK\n",
            "Length: 478134464 (456M) [application/x-www-form-urlencoded]\n",
            "Saving to: ‘yellow_tripdata_2009-04.parquet’\n",
            "\n",
            "yellow_tripdata_200 100%[===================>] 455.98M  59.3MB/s    in 8.4s    \n",
            "\n",
            "2025-05-10 02:38:23 (54.4 MB/s) - ‘yellow_tripdata_2009-04.parquet’ saved [478134464/478134464]\n",
            "\n",
            "--2025-05-10 02:38:23--  https://d37ci6vzurychx.cloudfront.net/trip-data/yellow_tripdata_2009-05.parquet\n",
            "Reusing existing connection to d37ci6vzurychx.cloudfront.net:443.\n",
            "HTTP request sent, awaiting response... 200 OK\n",
            "Length: 495321625 (472M) [application/x-www-form-urlencoded]\n",
            "Saving to: ‘yellow_tripdata_2009-05.parquet’\n",
            "\n",
            "yellow_tripdata_200 100%[===================>] 472.38M  55.5MB/s    in 8.8s    \n",
            "\n",
            "2025-05-10 02:38:33 (53.8 MB/s) - ‘yellow_tripdata_2009-05.parquet’ saved [495321625/495321625]\n",
            "\n",
            "--2025-05-10 02:38:33--  https://d37ci6vzurychx.cloudfront.net/trip-data/yellow_tripdata_2009-06.parquet\n",
            "Reusing existing connection to d37ci6vzurychx.cloudfront.net:443.\n",
            "HTTP request sent, awaiting response... 200 OK\n",
            "Length: 473587848 (452M) [application/x-www-form-urlencoded]\n",
            "Saving to: ‘yellow_tripdata_2009-06.parquet’\n",
            "\n",
            "yellow_tripdata_200 100%[===================>] 451.65M  57.9MB/s    in 8.4s    \n",
            "\n",
            "2025-05-10 02:38:41 (53.6 MB/s) - ‘yellow_tripdata_2009-06.parquet’ saved [473587848/473587848]\n",
            "\n",
            "--2025-05-10 02:38:41--  https://d37ci6vzurychx.cloudfront.net/trip-data/yellow_tripdata_2009-07.parquet\n",
            "Reusing existing connection to d37ci6vzurychx.cloudfront.net:443.\n",
            "HTTP request sent, awaiting response... 200 OK\n",
            "Length: 454608768 (434M) [application/x-www-form-urlencoded]\n",
            "Saving to: ‘yellow_tripdata_2009-07.parquet’\n",
            "\n",
            "yellow_tripdata_200 100%[===================>] 433.55M  60.1MB/s    in 7.9s    \n",
            "\n",
            "2025-05-10 02:38:50 (54.7 MB/s) - ‘yellow_tripdata_2009-07.parquet’ saved [454608768/454608768]\n",
            "\n",
            "--2025-05-10 02:38:50--  https://d37ci6vzurychx.cloudfront.net/trip-data/yellow_tripdata_2009-08.parquet\n",
            "Reusing existing connection to d37ci6vzurychx.cloudfront.net:443.\n",
            "HTTP request sent, awaiting response... 200 OK\n",
            "Length: 458271722 (437M) [application/x-www-form-urlencoded]\n",
            "Saving to: ‘yellow_tripdata_2009-08.parquet’\n",
            "\n",
            "yellow_tripdata_200 100%[===================>] 437.04M  18.5MB/s    in 12s     \n",
            "\n",
            "2025-05-10 02:39:02 (36.0 MB/s) - ‘yellow_tripdata_2009-08.parquet’ saved [458271722/458271722]\n",
            "\n",
            "--2025-05-10 02:39:02--  https://d37ci6vzurychx.cloudfront.net/trip-data/yellow_tripdata_2009-09.parquet\n",
            "Reusing existing connection to d37ci6vzurychx.cloudfront.net:443.\n",
            "HTTP request sent, awaiting response... 200 OK\n",
            "Length: 468346719 (447M) [application/x-www-form-urlencoded]\n",
            "Saving to: ‘yellow_tripdata_2009-09.parquet’\n",
            "\n",
            "yellow_tripdata_200 100%[===================>] 446.65M  54.0MB/s    in 8.5s    \n",
            "\n",
            "2025-05-10 02:39:11 (52.7 MB/s) - ‘yellow_tripdata_2009-09.parquet’ saved [468346719/468346719]\n",
            "\n",
            "--2025-05-10 02:39:11--  https://d37ci6vzurychx.cloudfront.net/trip-data/yellow_tripdata_2009-10.parquet\n",
            "Reusing existing connection to d37ci6vzurychx.cloudfront.net:443.\n",
            "HTTP request sent, awaiting response... 200 OK\n",
            "Length: 527529176 (503M) [application/x-www-form-urlencoded]\n",
            "Saving to: ‘yellow_tripdata_2009-10.parquet’\n",
            "\n",
            "yellow_tripdata_200 100%[===================>] 503.09M  59.2MB/s    in 9.0s    \n",
            "\n",
            "2025-05-10 02:39:20 (55.8 MB/s) - ‘yellow_tripdata_2009-10.parquet’ saved [527529176/527529176]\n",
            "\n",
            "--2025-05-10 02:39:20--  https://d37ci6vzurychx.cloudfront.net/trip-data/yellow_tripdata_2009-11.parquet\n",
            "Reusing existing connection to d37ci6vzurychx.cloudfront.net:443.\n",
            "HTTP request sent, awaiting response... 200 OK\n",
            "Length: 478304085 (456M) [application/x-www-form-urlencoded]\n",
            "Saving to: ‘yellow_tripdata_2009-11.parquet’\n",
            "\n",
            "yellow_tripdata_200 100%[===================>] 456.15M  60.8MB/s    in 8.0s    \n",
            "\n",
            "2025-05-10 02:39:29 (57.1 MB/s) - ‘yellow_tripdata_2009-11.parquet’ saved [478304085/478304085]\n",
            "\n",
            "--2025-05-10 02:39:29--  https://d37ci6vzurychx.cloudfront.net/trip-data/yellow_tripdata_2009-12.parquet\n",
            "Reusing existing connection to d37ci6vzurychx.cloudfront.net:443.\n",
            "HTTP request sent, awaiting response... 200 OK\n",
            "Length: 487584891 (465M) [application/x-www-form-urlencoded]\n",
            "Saving to: ‘yellow_tripdata_2009-12.parquet’\n",
            "\n",
            "yellow_tripdata_200 100%[===================>] 465.00M  31.7MB/s    in 11s     \n",
            "\n",
            "2025-05-10 02:39:41 (40.6 MB/s) - ‘yellow_tripdata_2009-12.parquet’ saved [487584891/487584891]\n",
            "\n",
            "--2025-05-10 02:39:41--  https://d37ci6vzurychx.cloudfront.net/trip-data/yellow_tripdata_2010-01.parquet\n",
            "Reusing existing connection to d37ci6vzurychx.cloudfront.net:443.\n",
            "HTTP request sent, awaiting response... 200 OK\n",
            "Length: 515402953 (492M) [application/x-www-form-urlencoded]\n",
            "Saving to: ‘yellow_tripdata_2010-01.parquet’\n",
            "\n",
            "yellow_tripdata_201 100%[===================>] 491.53M  56.1MB/s    in 9.1s    \n",
            "\n",
            "2025-05-10 02:39:50 (54.3 MB/s) - ‘yellow_tripdata_2010-01.parquet’ saved [515402953/515402953]\n",
            "\n",
            "--2025-05-10 02:39:50--  https://d37ci6vzurychx.cloudfront.net/trip-data/yellow_tripdata_2010-02.parquet\n",
            "Reusing existing connection to d37ci6vzurychx.cloudfront.net:443.\n",
            "HTTP request sent, awaiting response... 200 OK\n",
            "Length: 358719659 (342M) [application/x-www-form-urlencoded]\n",
            "Saving to: ‘yellow_tripdata_2010-02.parquet’\n",
            "\n",
            "yellow_tripdata_201 100%[===================>] 342.10M  9.18MB/s    in 24s     \n",
            "\n",
            "2025-05-10 02:40:14 (14.3 MB/s) - ‘yellow_tripdata_2010-02.parquet’ saved [358719659/358719659]\n",
            "\n",
            "--2025-05-10 02:40:14--  https://d37ci6vzurychx.cloudfront.net/trip-data/yellow_tripdata_2010-03.parquet\n",
            "Reusing existing connection to d37ci6vzurychx.cloudfront.net:443.\n",
            "HTTP request sent, awaiting response... 200 OK\n",
            "Length: 408716092 (390M) [application/x-www-form-urlencoded]\n",
            "Saving to: ‘yellow_tripdata_2010-03.parquet’\n",
            "\n",
            "yellow_tripdata_201 100%[===================>] 389.78M  58.2MB/s    in 7.1s    \n",
            "\n",
            "2025-05-10 02:40:22 (54.9 MB/s) - ‘yellow_tripdata_2010-03.parquet’ saved [408716092/408716092]\n",
            "\n",
            "--2025-05-10 02:40:22--  https://d37ci6vzurychx.cloudfront.net/trip-data/yellow_tripdata_2010-04.parquet\n",
            "Reusing existing connection to d37ci6vzurychx.cloudfront.net:443.\n",
            "HTTP request sent, awaiting response... 200 OK\n",
            "Length: 528303971 (504M) [application/x-www-form-urlencoded]\n",
            "Saving to: ‘yellow_tripdata_2010-04.parquet’\n",
            "\n",
            "yellow_tripdata_201 100%[===================>] 503.83M  59.4MB/s    in 9.0s    \n",
            "\n",
            "2025-05-10 02:40:31 (56.2 MB/s) - ‘yellow_tripdata_2010-04.parquet’ saved [528303971/528303971]\n",
            "\n",
            "--2025-05-10 02:40:31--  https://d37ci6vzurychx.cloudfront.net/trip-data/yellow_tripdata_2010-05.parquet\n",
            "Reusing existing connection to d37ci6vzurychx.cloudfront.net:443.\n",
            "HTTP request sent, awaiting response... 200 OK\n",
            "Length: 541788582 (517M) [application/x-www-form-urlencoded]\n",
            "Saving to: ‘yellow_tripdata_2010-05.parquet’\n",
            "\n",
            "yellow_tripdata_201 100%[===================>] 516.69M  22.2MB/s    in 14s     \n",
            "\n",
            "2025-05-10 02:40:46 (35.8 MB/s) - ‘yellow_tripdata_2010-05.parquet’ saved [541788582/541788582]\n",
            "\n",
            "--2025-05-10 02:40:46--  https://d37ci6vzurychx.cloudfront.net/trip-data/yellow_tripdata_2010-06.parquet\n",
            "Reusing existing connection to d37ci6vzurychx.cloudfront.net:443.\n",
            "HTTP request sent, awaiting response... 200 OK\n",
            "Length: 517519630 (494M) [application/x-www-form-urlencoded]\n",
            "Saving to: ‘yellow_tripdata_2010-06.parquet’\n",
            "\n",
            "yellow_tripdata_201 100%[===================>] 493.54M  62.7MB/s    in 8.7s    \n",
            "\n",
            "2025-05-10 02:40:55 (56.7 MB/s) - ‘yellow_tripdata_2010-06.parquet’ saved [517519630/517519630]\n",
            "\n",
            "--2025-05-10 02:40:55--  https://d37ci6vzurychx.cloudfront.net/trip-data/yellow_tripdata_2010-07.parquet\n",
            "Reusing existing connection to d37ci6vzurychx.cloudfront.net:443.\n",
            "HTTP request sent, awaiting response... 200 OK\n",
            "Length: 510991218 (487M) [application/x-www-form-urlencoded]\n",
            "Saving to: ‘yellow_tripdata_2010-07.parquet’\n",
            "\n",
            "yellow_tripdata_201 100%[===================>] 487.32M  44.5MB/s    in 10s     \n",
            "\n",
            "2025-05-10 02:41:06 (48.5 MB/s) - ‘yellow_tripdata_2010-07.parquet’ saved [510991218/510991218]\n",
            "\n",
            "--2025-05-10 02:41:06--  https://d37ci6vzurychx.cloudfront.net/trip-data/yellow_tripdata_2010-08.parquet\n",
            "Reusing existing connection to d37ci6vzurychx.cloudfront.net:443.\n",
            "HTTP request sent, awaiting response... 200 OK\n",
            "Length: 397142288 (379M) [application/x-www-form-urlencoded]\n",
            "Saving to: ‘yellow_tripdata_2010-08.parquet’\n",
            "\n",
            "yellow_tripdata_201 100%[===================>] 378.74M  58.7MB/s    in 6.6s    \n",
            "\n",
            "2025-05-10 02:41:13 (57.3 MB/s) - ‘yellow_tripdata_2010-08.parquet’ saved [397142288/397142288]\n",
            "\n",
            "--2025-05-10 02:41:13--  https://d37ci6vzurychx.cloudfront.net/trip-data/yellow_tripdata_2010-09.parquet\n",
            "Reusing existing connection to d37ci6vzurychx.cloudfront.net:443.\n",
            "HTTP request sent, awaiting response... 200 OK\n",
            "Length: 508197930 (485M) [application/x-www-form-urlencoded]\n",
            "Saving to: ‘yellow_tripdata_2010-09.parquet’\n",
            "\n",
            "yellow_tripdata_201 100%[===================>] 484.66M  55.5MB/s    in 8.9s    \n",
            "\n",
            "2025-05-10 02:41:22 (54.7 MB/s) - ‘yellow_tripdata_2010-09.parquet’ saved [508197930/508197930]\n",
            "\n",
            "--2025-05-10 02:41:22--  https://d37ci6vzurychx.cloudfront.net/trip-data/yellow_tripdata_2010-10.parquet\n",
            "Reusing existing connection to d37ci6vzurychx.cloudfront.net:443.\n",
            "HTTP request sent, awaiting response... 200 OK\n",
            "Length: 474631312 (453M) [application/x-www-form-urlencoded]\n",
            "Saving to: ‘yellow_tripdata_2010-10.parquet’\n",
            "\n",
            "yellow_tripdata_201 100%[===================>] 452.64M  51.7MB/s    in 8.7s    \n",
            "\n",
            "2025-05-10 02:41:31 (52.3 MB/s) - ‘yellow_tripdata_2010-10.parquet’ saved [474631312/474631312]\n",
            "\n",
            "--2025-05-10 02:41:31--  https://d37ci6vzurychx.cloudfront.net/trip-data/yellow_tripdata_2010-11.parquet\n",
            "Reusing existing connection to d37ci6vzurychx.cloudfront.net:443.\n",
            "HTTP request sent, awaiting response... 200 OK\n",
            "Length: 448400565 (428M) [application/x-www-form-urlencoded]\n",
            "Saving to: ‘yellow_tripdata_2010-11.parquet’\n",
            "\n",
            "yellow_tripdata_201 100%[===================>] 427.63M  49.6MB/s    in 8.2s    \n",
            "\n",
            "2025-05-10 02:41:40 (52.1 MB/s) - ‘yellow_tripdata_2010-11.parquet’ saved [448400565/448400565]\n",
            "\n",
            "--2025-05-10 02:41:40--  https://d37ci6vzurychx.cloudfront.net/trip-data/yellow_tripdata_2010-12.parquet\n",
            "Reusing existing connection to d37ci6vzurychx.cloudfront.net:443.\n",
            "HTTP request sent, awaiting response... 200 OK\n",
            "Length: 444704733 (424M) [application/x-www-form-urlencoded]\n",
            "Saving to: ‘yellow_tripdata_2010-12.parquet’\n",
            "\n",
            "yellow_tripdata_201 100%[===================>] 424.10M  53.8MB/s    in 7.7s    \n",
            "\n",
            "2025-05-10 02:41:48 (55.4 MB/s) - ‘yellow_tripdata_2010-12.parquet’ saved [444704733/444704733]\n",
            "\n",
            "--2025-05-10 02:41:48--  https://d37ci6vzurychx.cloudfront.net/trip-data/yellow_tripdata_2011-01.parquet\n",
            "Reusing existing connection to d37ci6vzurychx.cloudfront.net:443.\n",
            "HTTP request sent, awaiting response... 200 OK\n",
            "Length: 167179830 (159M) [application/x-www-form-urlencoded]\n",
            "Saving to: ‘yellow_tripdata_2011-01.parquet’\n",
            "\n",
            "yellow_tripdata_201 100%[===================>] 159.43M  52.9MB/s    in 3.0s    \n",
            "\n",
            "2025-05-10 02:41:51 (52.9 MB/s) - ‘yellow_tripdata_2011-01.parquet’ saved [167179830/167179830]\n",
            "\n",
            "--2025-05-10 02:41:51--  https://d37ci6vzurychx.cloudfront.net/trip-data/yellow_tripdata_2011-02.parquet\n",
            "Reusing existing connection to d37ci6vzurychx.cloudfront.net:443.\n",
            "HTTP request sent, awaiting response... 200 OK\n",
            "Length: 175980833 (168M) [application/x-www-form-urlencoded]\n",
            "Saving to: ‘yellow_tripdata_2011-02.parquet’\n",
            "\n",
            "yellow_tripdata_201 100%[===================>] 167.83M  52.0MB/s    in 3.2s    \n",
            "\n",
            "2025-05-10 02:41:55 (52.0 MB/s) - ‘yellow_tripdata_2011-02.parquet’ saved [175980833/175980833]\n",
            "\n",
            "--2025-05-10 02:41:55--  https://d37ci6vzurychx.cloudfront.net/trip-data/yellow_tripdata_2011-03.parquet\n",
            "Reusing existing connection to d37ci6vzurychx.cloudfront.net:443.\n",
            "HTTP request sent, awaiting response... 200 OK\n",
            "Length: 199932870 (191M) [application/x-www-form-urlencoded]\n",
            "Saving to: ‘yellow_tripdata_2011-03.parquet’\n",
            "\n",
            "yellow_tripdata_201 100%[===================>] 190.67M  53.9MB/s    in 3.5s    \n",
            "\n",
            "2025-05-10 02:41:59 (53.9 MB/s) - ‘yellow_tripdata_2011-03.parquet’ saved [199932870/199932870]\n",
            "\n",
            "--2025-05-10 02:41:59--  https://d37ci6vzurychx.cloudfront.net/trip-data/yellow_tripdata_2011-04.parquet\n",
            "Reusing existing connection to d37ci6vzurychx.cloudfront.net:443.\n",
            "HTTP request sent, awaiting response... 200 OK\n",
            "Length: 184195235 (176M) [application/x-www-form-urlencoded]\n",
            "Saving to: ‘yellow_tripdata_2011-04.parquet’\n",
            "\n",
            "yellow_tripdata_201 100%[===================>] 175.66M  53.3MB/s    in 3.5s    \n",
            "\n",
            "2025-05-10 02:42:02 (50.6 MB/s) - ‘yellow_tripdata_2011-04.parquet’ saved [184195235/184195235]\n",
            "\n",
            "--2025-05-10 02:42:02--  https://d37ci6vzurychx.cloudfront.net/trip-data/yellow_tripdata_2011-05.parquet\n",
            "Reusing existing connection to d37ci6vzurychx.cloudfront.net:443.\n",
            "HTTP request sent, awaiting response... 200 OK\n",
            "Length: 193432650 (184M) [application/x-www-form-urlencoded]\n",
            "Saving to: ‘yellow_tripdata_2011-05.parquet’\n",
            "\n",
            "yellow_tripdata_201 100%[===================>] 184.47M  55.2MB/s    in 3.3s    \n",
            "\n",
            "2025-05-10 02:42:06 (55.2 MB/s) - ‘yellow_tripdata_2011-05.parquet’ saved [193432650/193432650]\n",
            "\n",
            "--2025-05-10 02:42:06--  https://d37ci6vzurychx.cloudfront.net/trip-data/yellow_tripdata_2011-06.parquet\n",
            "Reusing existing connection to d37ci6vzurychx.cloudfront.net:443.\n",
            "HTTP request sent, awaiting response... 200 OK\n",
            "Length: 189119923 (180M) [application/x-www-form-urlencoded]\n",
            "Saving to: ‘yellow_tripdata_2011-06.parquet’\n",
            "\n",
            "yellow_tripdata_201 100%[===================>] 180.36M  49.5MB/s    in 4.0s    \n",
            "\n",
            "2025-05-10 02:42:10 (45.6 MB/s) - ‘yellow_tripdata_2011-06.parquet’ saved [189119923/189119923]\n",
            "\n",
            "--2025-05-10 02:42:10--  https://d37ci6vzurychx.cloudfront.net/trip-data/yellow_tripdata_2011-07.parquet\n",
            "Reusing existing connection to d37ci6vzurychx.cloudfront.net:443.\n",
            "HTTP request sent, awaiting response... 200 OK\n",
            "Length: 184027650 (176M) [application/x-www-form-urlencoded]\n",
            "Saving to: ‘yellow_tripdata_2011-07.parquet’\n",
            "\n",
            "yellow_tripdata_201 100%[===================>] 175.50M  54.5MB/s    in 3.2s    \n",
            "\n",
            "2025-05-10 02:42:14 (54.5 MB/s) - ‘yellow_tripdata_2011-07.parquet’ saved [184027650/184027650]\n",
            "\n",
            "--2025-05-10 02:42:14--  https://d37ci6vzurychx.cloudfront.net/trip-data/yellow_tripdata_2011-08.parquet\n",
            "Reusing existing connection to d37ci6vzurychx.cloudfront.net:443.\n",
            "HTTP request sent, awaiting response... 200 OK\n",
            "Length: 166214848 (159M) [application/x-www-form-urlencoded]\n",
            "Saving to: ‘yellow_tripdata_2011-08.parquet’\n",
            "\n",
            "yellow_tripdata_201 100%[===================>] 158.51M  51.0MB/s    in 3.1s    \n",
            "\n",
            "2025-05-10 02:42:17 (51.0 MB/s) - ‘yellow_tripdata_2011-08.parquet’ saved [166214848/166214848]\n",
            "\n",
            "--2025-05-10 02:42:17--  https://d37ci6vzurychx.cloudfront.net/trip-data/yellow_tripdata_2011-09.parquet\n",
            "Reusing existing connection to d37ci6vzurychx.cloudfront.net:443.\n",
            "HTTP request sent, awaiting response... 200 OK\n",
            "Length: 183493192 (175M) [application/x-www-form-urlencoded]\n",
            "Saving to: ‘yellow_tripdata_2011-09.parquet’\n",
            "\n",
            "yellow_tripdata_201 100%[===================>] 174.99M  56.5MB/s    in 3.1s    \n",
            "\n",
            "2025-05-10 02:42:21 (56.5 MB/s) - ‘yellow_tripdata_2011-09.parquet’ saved [183493192/183493192]\n",
            "\n",
            "--2025-05-10 02:42:21--  https://d37ci6vzurychx.cloudfront.net/trip-data/yellow_tripdata_2011-10.parquet\n",
            "Reusing existing connection to d37ci6vzurychx.cloudfront.net:443.\n",
            "HTTP request sent, awaiting response... 200 OK\n",
            "Length: 196273077 (187M) [application/x-www-form-urlencoded]\n",
            "Saving to: ‘yellow_tripdata_2011-10.parquet’\n",
            "\n",
            "yellow_tripdata_201 100%[===================>] 187.18M  52.9MB/s    in 3.8s    \n",
            "\n",
            "2025-05-10 02:42:25 (48.6 MB/s) - ‘yellow_tripdata_2011-10.parquet’ saved [196273077/196273077]\n",
            "\n",
            "--2025-05-10 02:42:25--  https://d37ci6vzurychx.cloudfront.net/trip-data/yellow_tripdata_2011-11.parquet\n",
            "Reusing existing connection to d37ci6vzurychx.cloudfront.net:443.\n",
            "HTTP request sent, awaiting response... 200 OK\n",
            "Length: 181862379 (173M) [application/x-www-form-urlencoded]\n",
            "Saving to: ‘yellow_tripdata_2011-11.parquet’\n",
            "\n",
            "yellow_tripdata_201 100%[===================>] 173.44M  50.0MB/s    in 3.5s    \n",
            "\n",
            "2025-05-10 02:42:29 (50.0 MB/s) - ‘yellow_tripdata_2011-11.parquet’ saved [181862379/181862379]\n",
            "\n",
            "--2025-05-10 02:42:29--  https://d37ci6vzurychx.cloudfront.net/trip-data/yellow_tripdata_2011-12.parquet\n",
            "Reusing existing connection to d37ci6vzurychx.cloudfront.net:443.\n",
            "HTTP request sent, awaiting response... 200 OK\n",
            "Length: 186508736 (178M) [application/x-www-form-urlencoded]\n",
            "Saving to: ‘yellow_tripdata_2011-12.parquet’\n",
            "\n",
            "yellow_tripdata_201 100%[===================>] 177.87M  56.4MB/s    in 3.2s    \n",
            "\n",
            "2025-05-10 02:42:32 (56.4 MB/s) - ‘yellow_tripdata_2011-12.parquet’ saved [186508736/186508736]\n",
            "\n",
            "--2025-05-10 02:42:32--  https://d37ci6vzurychx.cloudfront.net/trip-data/yellow_tripdata_2012-01.parquet\n",
            "Reusing existing connection to d37ci6vzurychx.cloudfront.net:443.\n",
            "HTTP request sent, awaiting response... 200 OK\n",
            "Length: 166778702 (159M) [application/x-www-form-urlencoded]\n",
            "Saving to: ‘yellow_tripdata_2012-01.parquet’\n",
            "\n",
            "yellow_tripdata_201 100%[===================>] 159.05M  45.6MB/s    in 3.5s    \n",
            "\n",
            "2025-05-10 02:42:36 (45.6 MB/s) - ‘yellow_tripdata_2012-01.parquet’ saved [166778702/166778702]\n",
            "\n",
            "--2025-05-10 02:42:36--  https://d37ci6vzurychx.cloudfront.net/trip-data/yellow_tripdata_2012-02.parquet\n",
            "Reusing existing connection to d37ci6vzurychx.cloudfront.net:443.\n",
            "HTTP request sent, awaiting response... 200 OK\n",
            "Length: 170999814 (163M) [application/x-www-form-urlencoded]\n",
            "Saving to: ‘yellow_tripdata_2012-02.parquet’\n",
            "\n",
            "yellow_tripdata_201 100%[===================>] 163.08M  53.9MB/s    in 3.0s    \n",
            "\n",
            "2025-05-10 02:42:40 (53.9 MB/s) - ‘yellow_tripdata_2012-02.parquet’ saved [170999814/170999814]\n",
            "\n",
            "--2025-05-10 02:42:40--  https://d37ci6vzurychx.cloudfront.net/trip-data/yellow_tripdata_2012-03.parquet\n",
            "Reusing existing connection to d37ci6vzurychx.cloudfront.net:443.\n",
            "HTTP request sent, awaiting response... 200 OK\n",
            "Length: 204978557 (195M) [application/x-www-form-urlencoded]\n",
            "Saving to: ‘yellow_tripdata_2012-03.parquet’\n",
            "\n",
            "yellow_tripdata_201 100%[===================>] 195.48M  54.2MB/s    in 4.0s    \n",
            "\n",
            "2025-05-10 02:42:44 (49.2 MB/s) - ‘yellow_tripdata_2012-03.parquet’ saved [204978557/204978557]\n",
            "\n",
            "--2025-05-10 02:42:44--  https://d37ci6vzurychx.cloudfront.net/trip-data/yellow_tripdata_2012-04.parquet\n",
            "Reusing existing connection to d37ci6vzurychx.cloudfront.net:443.\n",
            "HTTP request sent, awaiting response... 200 OK\n",
            "Length: 174197742 (166M) [application/x-www-form-urlencoded]\n",
            "Saving to: ‘yellow_tripdata_2012-04.parquet’\n",
            "\n",
            "yellow_tripdata_201 100%[===================>] 166.13M  56.4MB/s    in 2.9s    \n",
            "\n",
            "2025-05-10 02:42:48 (56.4 MB/s) - ‘yellow_tripdata_2012-04.parquet’ saved [174197742/174197742]\n",
            "\n",
            "--2025-05-10 02:42:48--  https://d37ci6vzurychx.cloudfront.net/trip-data/yellow_tripdata_2012-05.parquet\n",
            "Reusing existing connection to d37ci6vzurychx.cloudfront.net:443.\n",
            "HTTP request sent, awaiting response... 200 OK\n",
            "Length: 181030635 (173M) [application/x-www-form-urlencoded]\n",
            "Saving to: ‘yellow_tripdata_2012-05.parquet’\n",
            "\n",
            "yellow_tripdata_201 100%[===================>] 172.64M  52.5MB/s    in 3.3s    \n",
            "\n",
            "2025-05-10 02:42:51 (52.5 MB/s) - ‘yellow_tripdata_2012-05.parquet’ saved [181030635/181030635]\n",
            "\n",
            "--2025-05-10 02:42:51--  https://d37ci6vzurychx.cloudfront.net/trip-data/yellow_tripdata_2012-06.parquet\n",
            "Reusing existing connection to d37ci6vzurychx.cloudfront.net:443.\n",
            "HTTP request sent, awaiting response... 200 OK\n",
            "Length: 193509508 (185M) [application/x-www-form-urlencoded]\n",
            "Saving to: ‘yellow_tripdata_2012-06.parquet’\n",
            "\n",
            "yellow_tripdata_201 100%[===================>] 184.54M  38.9MB/s    in 4.9s    \n",
            "\n",
            "2025-05-10 02:42:57 (37.9 MB/s) - ‘yellow_tripdata_2012-06.parquet’ saved [193509508/193509508]\n",
            "\n",
            "--2025-05-10 02:42:57--  https://d37ci6vzurychx.cloudfront.net/trip-data/yellow_tripdata_2012-07.parquet\n",
            "Reusing existing connection to d37ci6vzurychx.cloudfront.net:443.\n",
            "HTTP request sent, awaiting response... 200 OK\n",
            "Length: 183935553 (175M) [application/x-www-form-urlencoded]\n",
            "Saving to: ‘yellow_tripdata_2012-07.parquet’\n",
            "\n",
            "yellow_tripdata_201 100%[===================>] 175.41M  51.8MB/s    in 3.4s    \n",
            "\n",
            "2025-05-10 02:43:00 (51.8 MB/s) - ‘yellow_tripdata_2012-07.parquet’ saved [183935553/183935553]\n",
            "\n",
            "--2025-05-10 02:43:00--  https://d37ci6vzurychx.cloudfront.net/trip-data/yellow_tripdata_2012-08.parquet\n",
            "Reusing existing connection to d37ci6vzurychx.cloudfront.net:443.\n",
            "HTTP request sent, awaiting response... 200 OK\n",
            "Length: 184507061 (176M) [application/x-www-form-urlencoded]\n",
            "Saving to: ‘yellow_tripdata_2012-08.parquet’\n",
            "\n",
            "yellow_tripdata_201 100%[===================>] 175.96M  53.1MB/s    in 3.6s    \n",
            "\n",
            "2025-05-10 02:43:04 (48.4 MB/s) - ‘yellow_tripdata_2012-08.parquet’ saved [184507061/184507061]\n",
            "\n",
            "--2025-05-10 02:43:04--  https://d37ci6vzurychx.cloudfront.net/trip-data/yellow_tripdata_2012-09.parquet\n",
            "Reusing existing connection to d37ci6vzurychx.cloudfront.net:443.\n",
            "HTTP request sent, awaiting response... 200 OK\n",
            "Length: 187245283 (179M) [application/x-www-form-urlencoded]\n",
            "Saving to: ‘yellow_tripdata_2012-09.parquet’\n",
            "\n",
            "yellow_tripdata_201 100%[===================>] 178.57M  52.5MB/s    in 3.4s    \n",
            "\n",
            "2025-05-10 02:43:08 (52.5 MB/s) - ‘yellow_tripdata_2012-09.parquet’ saved [187245283/187245283]\n",
            "\n",
            "--2025-05-10 02:43:08--  https://d37ci6vzurychx.cloudfront.net/trip-data/yellow_tripdata_2012-10.parquet\n",
            "Reusing existing connection to d37ci6vzurychx.cloudfront.net:443.\n",
            "HTTP request sent, awaiting response... 200 OK\n",
            "Length: 181506517 (173M) [application/x-www-form-urlencoded]\n",
            "Saving to: ‘yellow_tripdata_2012-10.parquet’\n",
            "\n",
            "yellow_tripdata_201 100%[===================>] 173.10M  28.1MB/s    in 5.8s    \n",
            "\n",
            "2025-05-10 02:43:14 (30.0 MB/s) - ‘yellow_tripdata_2012-10.parquet’ saved [181506517/181506517]\n",
            "\n",
            "--2025-05-10 02:43:14--  https://d37ci6vzurychx.cloudfront.net/trip-data/yellow_tripdata_2012-11.parquet\n",
            "Reusing existing connection to d37ci6vzurychx.cloudfront.net:443.\n",
            "HTTP request sent, awaiting response... 200 OK\n",
            "Length: 172489795 (164M) [application/x-www-form-urlencoded]\n",
            "Saving to: ‘yellow_tripdata_2012-11.parquet’\n",
            "\n",
            "yellow_tripdata_201 100%[===================>] 164.50M  49.8MB/s    in 3.3s    \n",
            "\n",
            "2025-05-10 02:43:18 (49.8 MB/s) - ‘yellow_tripdata_2012-11.parquet’ saved [172489795/172489795]\n",
            "\n",
            "--2025-05-10 02:43:18--  https://d37ci6vzurychx.cloudfront.net/trip-data/yellow_tripdata_2012-12.parquet\n",
            "Reusing existing connection to d37ci6vzurychx.cloudfront.net:443.\n",
            "HTTP request sent, awaiting response... 200 OK\n",
            "Length: 182600871 (174M) [application/x-www-form-urlencoded]\n",
            "Saving to: ‘yellow_tripdata_2012-12.parquet’\n",
            "\n",
            "yellow_tripdata_201 100%[===================>] 174.14M  54.0MB/s    in 3.2s    \n",
            "\n",
            "2025-05-10 02:43:21 (54.0 MB/s) - ‘yellow_tripdata_2012-12.parquet’ saved [182600871/182600871]\n",
            "\n",
            "--2025-05-10 02:43:21--  https://d37ci6vzurychx.cloudfront.net/trip-data/yellow_tripdata_2013-01.parquet\n",
            "Reusing existing connection to d37ci6vzurychx.cloudfront.net:443.\n",
            "HTTP request sent, awaiting response... 200 OK\n",
            "Length: 184736650 (176M) [application/x-www-form-urlencoded]\n",
            "Saving to: ‘yellow_tripdata_2013-01.parquet’\n",
            "\n",
            "yellow_tripdata_201 100%[===================>] 176.18M  45.1MB/s    in 4.2s    \n",
            "\n",
            "2025-05-10 02:43:26 (42.4 MB/s) - ‘yellow_tripdata_2013-01.parquet’ saved [184736650/184736650]\n",
            "\n",
            "--2025-05-10 02:43:26--  https://d37ci6vzurychx.cloudfront.net/trip-data/yellow_tripdata_2013-02.parquet\n",
            "Reusing existing connection to d37ci6vzurychx.cloudfront.net:443.\n",
            "HTTP request sent, awaiting response... 200 OK\n",
            "Length: 172505462 (165M) [application/x-www-form-urlencoded]\n",
            "Saving to: ‘yellow_tripdata_2013-02.parquet’\n",
            "\n",
            "yellow_tripdata_201 100%[===================>] 164.51M  46.6MB/s    in 3.5s    \n",
            "\n",
            "2025-05-10 02:43:30 (46.6 MB/s) - ‘yellow_tripdata_2013-02.parquet’ saved [172505462/172505462]\n",
            "\n",
            "--2025-05-10 02:43:30--  https://d37ci6vzurychx.cloudfront.net/trip-data/yellow_tripdata_2013-03.parquet\n",
            "Reusing existing connection to d37ci6vzurychx.cloudfront.net:443.\n",
            "HTTP request sent, awaiting response... 200 OK\n",
            "Length: 195313202 (186M) [application/x-www-form-urlencoded]\n",
            "Saving to: ‘yellow_tripdata_2013-03.parquet’\n",
            "\n",
            "yellow_tripdata_201 100%[===================>] 186.26M  52.2MB/s    in 3.6s    \n",
            "\n",
            "2025-05-10 02:43:34 (52.2 MB/s) - ‘yellow_tripdata_2013-03.parquet’ saved [195313202/195313202]\n",
            "\n",
            "--2025-05-10 02:43:34--  https://d37ci6vzurychx.cloudfront.net/trip-data/yellow_tripdata_2013-04.parquet\n",
            "Reusing existing connection to d37ci6vzurychx.cloudfront.net:443.\n",
            "HTTP request sent, awaiting response... 200 OK\n",
            "Length: 180221055 (172M) [application/x-www-form-urlencoded]\n",
            "Saving to: ‘yellow_tripdata_2013-04.parquet’\n",
            "\n",
            "yellow_tripdata_201 100%[===================>] 171.87M  53.2MB/s    in 3.2s    \n",
            "\n",
            "2025-05-10 02:43:37 (53.2 MB/s) - ‘yellow_tripdata_2013-04.parquet’ saved [180221055/180221055]\n",
            "\n",
            "--2025-05-10 02:43:37--  https://d37ci6vzurychx.cloudfront.net/trip-data/yellow_tripdata_2013-05.parquet\n",
            "Reusing existing connection to d37ci6vzurychx.cloudfront.net:443.\n",
            "HTTP request sent, awaiting response... 200 OK\n",
            "Length: 190682031 (182M) [application/x-www-form-urlencoded]\n",
            "Saving to: ‘yellow_tripdata_2013-05.parquet’\n",
            "\n",
            "yellow_tripdata_201 100%[===================>] 181.85M  52.5MB/s    in 3.5s    \n",
            "\n",
            "2025-05-10 02:43:41 (52.5 MB/s) - ‘yellow_tripdata_2013-05.parquet’ saved [190682031/190682031]\n",
            "\n",
            "--2025-05-10 02:43:41--  https://d37ci6vzurychx.cloudfront.net/trip-data/yellow_tripdata_2013-06.parquet\n",
            "Reusing existing connection to d37ci6vzurychx.cloudfront.net:443.\n",
            "HTTP request sent, awaiting response... 200 OK\n",
            "Length: 179544093 (171M) [application/x-www-form-urlencoded]\n",
            "Saving to: ‘yellow_tripdata_2013-06.parquet’\n",
            "\n",
            "yellow_tripdata_201 100%[===================>] 171.23M  49.8MB/s    in 3.4s    \n",
            "\n",
            "2025-05-10 02:43:45 (49.8 MB/s) - ‘yellow_tripdata_2013-06.parquet’ saved [179544093/179544093]\n",
            "\n",
            "--2025-05-10 02:43:45--  https://d37ci6vzurychx.cloudfront.net/trip-data/yellow_tripdata_2013-07.parquet\n",
            "Reusing existing connection to d37ci6vzurychx.cloudfront.net:443.\n",
            "HTTP request sent, awaiting response... 200 OK\n",
            "Length: 173531868 (165M) [application/x-www-form-urlencoded]\n",
            "Saving to: ‘yellow_tripdata_2013-07.parquet’\n",
            "\n",
            "yellow_tripdata_201 100%[===================>] 165.49M  47.4MB/s    in 3.5s    \n",
            "\n",
            "2025-05-10 02:43:49 (47.4 MB/s) - ‘yellow_tripdata_2013-07.parquet’ saved [173531868/173531868]\n",
            "\n",
            "--2025-05-10 02:43:49--  https://d37ci6vzurychx.cloudfront.net/trip-data/yellow_tripdata_2013-08.parquet\n",
            "Reusing existing connection to d37ci6vzurychx.cloudfront.net:443.\n",
            "HTTP request sent, awaiting response... 200 OK\n",
            "Length: 148172545 (141M) [application/x-www-form-urlencoded]\n",
            "Saving to: ‘yellow_tripdata_2013-08.parquet’\n",
            "\n",
            "yellow_tripdata_201 100%[===================>] 141.31M  48.1MB/s    in 2.9s    \n",
            "\n",
            "2025-05-10 02:43:52 (48.1 MB/s) - ‘yellow_tripdata_2013-08.parquet’ saved [148172545/148172545]\n",
            "\n",
            "--2025-05-10 02:43:52--  https://d37ci6vzurychx.cloudfront.net/trip-data/yellow_tripdata_2013-09.parquet\n",
            "Reusing existing connection to d37ci6vzurychx.cloudfront.net:443.\n",
            "HTTP request sent, awaiting response... 200 OK\n",
            "Length: 176839524 (169M) [application/x-www-form-urlencoded]\n",
            "Saving to: ‘yellow_tripdata_2013-09.parquet’\n",
            "\n",
            "yellow_tripdata_201 100%[===================>] 168.65M  52.2MB/s    in 3.2s    \n",
            "\n",
            "2025-05-10 02:43:56 (52.2 MB/s) - ‘yellow_tripdata_2013-09.parquet’ saved [176839524/176839524]\n",
            "\n",
            "--2025-05-10 02:43:56--  https://d37ci6vzurychx.cloudfront.net/trip-data/yellow_tripdata_2013-10.parquet\n",
            "Reusing existing connection to d37ci6vzurychx.cloudfront.net:443.\n",
            "HTTP request sent, awaiting response... 200 OK\n",
            "Length: 188241576 (180M) [application/x-www-form-urlencoded]\n",
            "Saving to: ‘yellow_tripdata_2013-10.parquet’\n",
            "\n",
            "yellow_tripdata_201 100%[===================>] 179.52M  52.9MB/s    in 3.4s    \n",
            "\n",
            "2025-05-10 02:44:00 (52.9 MB/s) - ‘yellow_tripdata_2013-10.parquet’ saved [188241576/188241576]\n",
            "\n",
            "--2025-05-10 02:44:00--  https://d37ci6vzurychx.cloudfront.net/trip-data/yellow_tripdata_2013-11.parquet\n",
            "Reusing existing connection to d37ci6vzurychx.cloudfront.net:443.\n",
            "HTTP request sent, awaiting response... 200 OK\n",
            "Length: 179235590 (171M) [application/x-www-form-urlencoded]\n",
            "Saving to: ‘yellow_tripdata_2013-11.parquet’\n",
            "\n",
            "yellow_tripdata_201 100%[===================>] 170.93M  49.7MB/s    in 3.8s    \n",
            "\n",
            "2025-05-10 02:44:04 (45.6 MB/s) - ‘yellow_tripdata_2013-11.parquet’ saved [179235590/179235590]\n",
            "\n",
            "--2025-05-10 02:44:04--  https://d37ci6vzurychx.cloudfront.net/trip-data/yellow_tripdata_2013-12.parquet\n",
            "Reusing existing connection to d37ci6vzurychx.cloudfront.net:443.\n",
            "HTTP request sent, awaiting response... 200 OK\n",
            "Length: 174890659 (167M) [application/x-www-form-urlencoded]\n",
            "Saving to: ‘yellow_tripdata_2013-12.parquet’\n",
            "\n",
            "yellow_tripdata_201 100%[===================>] 166.79M  48.5MB/s    in 3.4s    \n",
            "\n",
            "2025-05-10 02:44:08 (48.5 MB/s) - ‘yellow_tripdata_2013-12.parquet’ saved [174890659/174890659]\n",
            "\n",
            "--2025-05-10 02:44:08--  https://d37ci6vzurychx.cloudfront.net/trip-data/yellow_tripdata_2014-01.parquet\n",
            "Reusing existing connection to d37ci6vzurychx.cloudfront.net:443.\n",
            "HTTP request sent, awaiting response... 200 OK\n",
            "Length: 171982098 (164M) [application/x-www-form-urlencoded]\n",
            "Saving to: ‘yellow_tripdata_2014-01.parquet’\n",
            "\n",
            "yellow_tripdata_201 100%[===================>] 164.01M  47.8MB/s    in 3.6s    \n",
            "\n",
            "2025-05-10 02:44:12 (45.4 MB/s) - ‘yellow_tripdata_2014-01.parquet’ saved [171982098/171982098]\n",
            "\n",
            "--2025-05-10 02:44:12--  https://d37ci6vzurychx.cloudfront.net/trip-data/yellow_tripdata_2014-02.parquet\n",
            "Reusing existing connection to d37ci6vzurychx.cloudfront.net:443.\n",
            "HTTP request sent, awaiting response... 200 OK\n",
            "Length: 162202347 (155M) [application/x-www-form-urlencoded]\n",
            "Saving to: ‘yellow_tripdata_2014-02.parquet’\n",
            "\n",
            "yellow_tripdata_201 100%[===================>] 154.69M  53.1MB/s    in 2.9s    \n",
            "\n",
            "2025-05-10 02:44:15 (53.1 MB/s) - ‘yellow_tripdata_2014-02.parquet’ saved [162202347/162202347]\n",
            "\n",
            "--2025-05-10 02:44:15--  https://d37ci6vzurychx.cloudfront.net/trip-data/yellow_tripdata_2014-03.parquet\n",
            "Reusing existing connection to d37ci6vzurychx.cloudfront.net:443.\n",
            "HTTP request sent, awaiting response... 200 OK\n",
            "Length: 192434692 (184M) [application/x-www-form-urlencoded]\n",
            "Saving to: ‘yellow_tripdata_2014-03.parquet’\n",
            "\n",
            "yellow_tripdata_201 100%[===================>] 183.52M  50.3MB/s    in 3.6s    \n",
            "\n",
            "2025-05-10 02:44:19 (50.3 MB/s) - ‘yellow_tripdata_2014-03.parquet’ saved [192434692/192434692]\n",
            "\n",
            "--2025-05-10 02:44:19--  https://d37ci6vzurychx.cloudfront.net/trip-data/yellow_tripdata_2014-04.parquet\n",
            "Reusing existing connection to d37ci6vzurychx.cloudfront.net:443.\n",
            "HTTP request sent, awaiting response... 200 OK\n",
            "Length: 183195017 (175M) [application/x-www-form-urlencoded]\n",
            "Saving to: ‘yellow_tripdata_2014-04.parquet’\n",
            "\n",
            "yellow_tripdata_201 100%[===================>] 174.71M  49.1MB/s    in 3.6s    \n",
            "\n",
            "2025-05-10 02:44:23 (49.1 MB/s) - ‘yellow_tripdata_2014-04.parquet’ saved [183195017/183195017]\n",
            "\n",
            "--2025-05-10 02:44:23--  https://d37ci6vzurychx.cloudfront.net/trip-data/yellow_tripdata_2014-05.parquet\n",
            "Reusing existing connection to d37ci6vzurychx.cloudfront.net:443.\n",
            "HTTP request sent, awaiting response... 200 OK\n",
            "Length: 186694423 (178M) [application/x-www-form-urlencoded]\n",
            "Saving to: ‘yellow_tripdata_2014-05.parquet’\n",
            "\n",
            "yellow_tripdata_201 100%[===================>] 178.04M  55.6MB/s    in 3.2s    \n",
            "\n",
            "2025-05-10 02:44:27 (55.6 MB/s) - ‘yellow_tripdata_2014-05.parquet’ saved [186694423/186694423]\n",
            "\n",
            "--2025-05-10 02:44:27--  https://d37ci6vzurychx.cloudfront.net/trip-data/yellow_tripdata_2014-06.parquet\n",
            "Reusing existing connection to d37ci6vzurychx.cloudfront.net:443.\n",
            "HTTP request sent, awaiting response... 200 OK\n",
            "Length: 173833877 (166M) [application/x-www-form-urlencoded]\n",
            "Saving to: ‘yellow_tripdata_2014-06.parquet’\n",
            "\n",
            "yellow_tripdata_201 100%[===================>] 165.78M  52.4MB/s    in 3.2s    \n",
            "\n",
            "2025-05-10 02:44:30 (52.4 MB/s) - ‘yellow_tripdata_2014-06.parquet’ saved [173833877/173833877]\n",
            "\n",
            "--2025-05-10 02:44:30--  https://d37ci6vzurychx.cloudfront.net/trip-data/yellow_tripdata_2014-07.parquet\n",
            "Reusing existing connection to d37ci6vzurychx.cloudfront.net:443.\n",
            "HTTP request sent, awaiting response... 200 OK\n",
            "Length: 165108601 (157M) [application/x-www-form-urlencoded]\n",
            "Saving to: ‘yellow_tripdata_2014-07.parquet’\n",
            "\n",
            "yellow_tripdata_201 100%[===================>] 157.46M  51.7MB/s    in 3.0s    \n",
            "\n",
            "2025-05-10 02:44:34 (51.7 MB/s) - ‘yellow_tripdata_2014-07.parquet’ saved [165108601/165108601]\n",
            "\n",
            "--2025-05-10 02:44:34--  https://d37ci6vzurychx.cloudfront.net/trip-data/yellow_tripdata_2014-08.parquet\n",
            "Reusing existing connection to d37ci6vzurychx.cloudfront.net:443.\n",
            "HTTP request sent, awaiting response... 200 OK\n",
            "Length: 173192581 (165M) [application/x-www-form-urlencoded]\n",
            "Saving to: ‘yellow_tripdata_2014-08.parquet’\n",
            "\n",
            "yellow_tripdata_201 100%[===================>] 165.17M  53.6MB/s    in 3.1s    \n",
            "\n",
            "2025-05-10 02:44:37 (53.6 MB/s) - ‘yellow_tripdata_2014-08.parquet’ saved [173192581/173192581]\n",
            "\n",
            "--2025-05-10 02:44:37--  https://d37ci6vzurychx.cloudfront.net/trip-data/yellow_tripdata_2014-09.parquet\n",
            "Reusing existing connection to d37ci6vzurychx.cloudfront.net:443.\n",
            "HTTP request sent, awaiting response... 200 OK\n",
            "Length: 183853413 (175M) [application/x-www-form-urlencoded]\n",
            "Saving to: ‘yellow_tripdata_2014-09.parquet’\n",
            "\n",
            "yellow_tripdata_201 100%[===================>] 175.34M  54.3MB/s    in 3.2s    \n",
            "\n",
            "2025-05-10 02:44:41 (54.3 MB/s) - ‘yellow_tripdata_2014-09.parquet’ saved [183853413/183853413]\n",
            "\n",
            "--2025-05-10 02:44:41--  https://d37ci6vzurychx.cloudfront.net/trip-data/yellow_tripdata_2014-10.parquet\n",
            "Reusing existing connection to d37ci6vzurychx.cloudfront.net:443.\n",
            "HTTP request sent, awaiting response... 200 OK\n",
            "Length: 195654699 (187M) [application/x-www-form-urlencoded]\n",
            "Saving to: ‘yellow_tripdata_2014-10.parquet’\n",
            "\n",
            "yellow_tripdata_201 100%[===================>] 186.59M  53.9MB/s    in 3.5s    \n",
            "\n",
            "2025-05-10 02:44:44 (53.9 MB/s) - ‘yellow_tripdata_2014-10.parquet’ saved [195654699/195654699]\n",
            "\n",
            "--2025-05-10 02:44:44--  https://d37ci6vzurychx.cloudfront.net/trip-data/yellow_tripdata_2014-11.parquet\n",
            "Reusing existing connection to d37ci6vzurychx.cloudfront.net:443.\n",
            "HTTP request sent, awaiting response... 200 OK\n",
            "Length: 181091341 (173M) [application/x-www-form-urlencoded]\n",
            "Saving to: ‘yellow_tripdata_2014-11.parquet’\n",
            "\n",
            "yellow_tripdata_201 100%[===================>] 172.70M  56.6MB/s    in 3.1s    \n",
            "\n",
            "2025-05-10 02:44:48 (56.6 MB/s) - ‘yellow_tripdata_2014-11.parquet’ saved [181091341/181091341]\n",
            "\n",
            "--2025-05-10 02:44:48--  https://d37ci6vzurychx.cloudfront.net/trip-data/yellow_tripdata_2014-12.parquet\n",
            "Reusing existing connection to d37ci6vzurychx.cloudfront.net:443.\n",
            "HTTP request sent, awaiting response... 200 OK\n",
            "Length: 179003886 (171M) [application/x-www-form-urlencoded]\n",
            "Saving to: ‘yellow_tripdata_2014-12.parquet’\n",
            "\n",
            "yellow_tripdata_201 100%[===================>] 170.71M  50.0MB/s    in 3.4s    \n",
            "\n",
            "2025-05-10 02:44:52 (50.0 MB/s) - ‘yellow_tripdata_2014-12.parquet’ saved [179003886/179003886]\n",
            "\n",
            "--2025-05-10 02:44:52--  https://d37ci6vzurychx.cloudfront.net/trip-data/yellow_tripdata_2015-01.parquet\n",
            "Reusing existing connection to d37ci6vzurychx.cloudfront.net:443.\n",
            "HTTP request sent, awaiting response... 200 OK\n",
            "Length: 175325767 (167M) [application/x-www-form-urlencoded]\n",
            "Saving to: ‘yellow_tripdata_2015-01.parquet’\n",
            "\n",
            "yellow_tripdata_201 100%[===================>] 167.20M  51.3MB/s    in 3.3s    \n",
            "\n",
            "2025-05-10 02:44:55 (51.3 MB/s) - ‘yellow_tripdata_2015-01.parquet’ saved [175325767/175325767]\n",
            "\n",
            "--2025-05-10 02:44:55--  https://d37ci6vzurychx.cloudfront.net/trip-data/yellow_tripdata_2015-02.parquet\n",
            "Reusing existing connection to d37ci6vzurychx.cloudfront.net:443.\n",
            "HTTP request sent, awaiting response... 200 OK\n",
            "Length: 171639741 (164M) [application/x-www-form-urlencoded]\n",
            "Saving to: ‘yellow_tripdata_2015-02.parquet’\n",
            "\n",
            "yellow_tripdata_201 100%[===================>] 163.69M  46.3MB/s    in 3.5s    \n",
            "\n",
            "2025-05-10 02:44:59 (46.3 MB/s) - ‘yellow_tripdata_2015-02.parquet’ saved [171639741/171639741]\n",
            "\n",
            "--2025-05-10 02:44:59--  https://d37ci6vzurychx.cloudfront.net/trip-data/yellow_tripdata_2015-03.parquet\n",
            "Reusing existing connection to d37ci6vzurychx.cloudfront.net:443.\n",
            "HTTP request sent, awaiting response... 200 OK\n",
            "Length: 185355459 (177M) [application/x-www-form-urlencoded]\n",
            "Saving to: ‘yellow_tripdata_2015-03.parquet’\n",
            "\n",
            "yellow_tripdata_201 100%[===================>] 176.77M  27.4MB/s    in 5.4s    \n",
            "\n",
            "2025-05-10 02:45:05 (32.5 MB/s) - ‘yellow_tripdata_2015-03.parquet’ saved [185355459/185355459]\n",
            "\n",
            "--2025-05-10 02:45:05--  https://d37ci6vzurychx.cloudfront.net/trip-data/yellow_tripdata_2015-04.parquet\n",
            "Reusing existing connection to d37ci6vzurychx.cloudfront.net:443.\n",
            "HTTP request sent, awaiting response... 200 OK\n",
            "Length: 180491380 (172M) [application/x-www-form-urlencoded]\n",
            "Saving to: ‘yellow_tripdata_2015-04.parquet’\n",
            "\n",
            "yellow_tripdata_201 100%[===================>] 172.13M  53.1MB/s    in 3.2s    \n",
            "\n",
            "2025-05-10 02:45:08 (53.1 MB/s) - ‘yellow_tripdata_2015-04.parquet’ saved [180491380/180491380]\n",
            "\n",
            "--2025-05-10 02:45:08--  https://d37ci6vzurychx.cloudfront.net/trip-data/yellow_tripdata_2015-05.parquet\n",
            "Reusing existing connection to d37ci6vzurychx.cloudfront.net:443.\n",
            "HTTP request sent, awaiting response... 200 OK\n",
            "Length: 182487456 (174M) [application/x-www-form-urlencoded]\n",
            "Saving to: ‘yellow_tripdata_2015-05.parquet’\n",
            "\n",
            "yellow_tripdata_201 100%[===================>] 174.03M  52.7MB/s    in 3.3s    \n",
            "\n",
            "2025-05-10 02:45:12 (52.7 MB/s) - ‘yellow_tripdata_2015-05.parquet’ saved [182487456/182487456]\n",
            "\n",
            "--2025-05-10 02:45:12--  https://d37ci6vzurychx.cloudfront.net/trip-data/yellow_tripdata_2015-06.parquet\n",
            "Reusing existing connection to d37ci6vzurychx.cloudfront.net:443.\n",
            "HTTP request sent, awaiting response... 200 OK\n",
            "Length: 171760764 (164M) [application/x-www-form-urlencoded]\n",
            "Saving to: ‘yellow_tripdata_2015-06.parquet’\n",
            "\n",
            "yellow_tripdata_201 100%[===================>] 163.80M  54.9MB/s    in 3.0s    \n",
            "\n",
            "2025-05-10 02:45:15 (54.9 MB/s) - ‘yellow_tripdata_2015-06.parquet’ saved [171760764/171760764]\n",
            "\n",
            "--2025-05-10 02:45:15--  https://d37ci6vzurychx.cloudfront.net/trip-data/yellow_tripdata_2015-07.parquet\n",
            "Reusing existing connection to d37ci6vzurychx.cloudfront.net:443.\n",
            "HTTP request sent, awaiting response... 200 OK\n",
            "Length: 160689531 (153M) [application/x-www-form-urlencoded]\n",
            "Saving to: ‘yellow_tripdata_2015-07.parquet’\n",
            "\n",
            "yellow_tripdata_201 100%[===================>] 153.25M  54.2MB/s    in 2.8s    \n",
            "\n",
            "2025-05-10 02:45:19 (54.2 MB/s) - ‘yellow_tripdata_2015-07.parquet’ saved [160689531/160689531]\n",
            "\n",
            "--2025-05-10 02:45:19--  https://d37ci6vzurychx.cloudfront.net/trip-data/yellow_tripdata_2015-08.parquet\n",
            "Reusing existing connection to d37ci6vzurychx.cloudfront.net:443.\n",
            "HTTP request sent, awaiting response... 200 OK\n",
            "Length: 154240802 (147M) [application/x-www-form-urlencoded]\n",
            "Saving to: ‘yellow_tripdata_2015-08.parquet’\n",
            "\n",
            "yellow_tripdata_201 100%[===================>] 147.09M  50.9MB/s    in 2.9s    \n",
            "\n",
            "2025-05-10 02:45:22 (50.9 MB/s) - ‘yellow_tripdata_2015-08.parquet’ saved [154240802/154240802]\n",
            "\n",
            "--2025-05-10 02:45:22--  https://d37ci6vzurychx.cloudfront.net/trip-data/yellow_tripdata_2015-09.parquet\n",
            "Reusing existing connection to d37ci6vzurychx.cloudfront.net:443.\n",
            "HTTP request sent, awaiting response... 200 OK\n",
            "Length: 156401569 (149M) [application/x-www-form-urlencoded]\n",
            "Saving to: ‘yellow_tripdata_2015-09.parquet’\n",
            "\n",
            "yellow_tripdata_201 100%[===================>] 149.16M   201MB/s    in 0.7s    \n",
            "\n",
            "2025-05-10 02:45:23 (201 MB/s) - ‘yellow_tripdata_2015-09.parquet’ saved [156401569/156401569]\n",
            "\n",
            "--2025-05-10 02:45:23--  https://d37ci6vzurychx.cloudfront.net/trip-data/yellow_tripdata_2015-10.parquet\n",
            "Reusing existing connection to d37ci6vzurychx.cloudfront.net:443.\n",
            "HTTP request sent, awaiting response... 200 OK\n",
            "Length: 171091467 (163M) [application/x-www-form-urlencoded]\n",
            "Saving to: ‘yellow_tripdata_2015-10.parquet’\n",
            "\n",
            "yellow_tripdata_201 100%[===================>] 163.17M  51.9MB/s    in 3.1s    \n",
            "\n",
            "2025-05-10 02:45:26 (51.9 MB/s) - ‘yellow_tripdata_2015-10.parquet’ saved [171091467/171091467]\n",
            "\n",
            "--2025-05-10 02:45:26--  https://d37ci6vzurychx.cloudfront.net/trip-data/yellow_tripdata_2015-11.parquet\n",
            "Reusing existing connection to d37ci6vzurychx.cloudfront.net:443.\n",
            "HTTP request sent, awaiting response... 200 OK\n",
            "Length: 157669006 (150M) [application/x-www-form-urlencoded]\n",
            "Saving to: ‘yellow_tripdata_2015-11.parquet’\n",
            "\n",
            "yellow_tripdata_201 100%[===================>] 150.36M  33.9MB/s    in 4.4s    \n",
            "\n",
            "2025-05-10 02:45:31 (34.2 MB/s) - ‘yellow_tripdata_2015-11.parquet’ saved [157669006/157669006]\n",
            "\n",
            "--2025-05-10 02:45:31--  https://d37ci6vzurychx.cloudfront.net/trip-data/yellow_tripdata_2015-12.parquet\n",
            "Reusing existing connection to d37ci6vzurychx.cloudfront.net:443.\n",
            "HTTP request sent, awaiting response... 200 OK\n",
            "Length: 159905170 (152M) [application/x-www-form-urlencoded]\n",
            "Saving to: ‘yellow_tripdata_2015-12.parquet’\n",
            "\n",
            "yellow_tripdata_201 100%[===================>] 152.50M  51.8MB/s    in 2.9s    \n",
            "\n",
            "2025-05-10 02:45:35 (51.8 MB/s) - ‘yellow_tripdata_2015-12.parquet’ saved [159905170/159905170]\n",
            "\n",
            "--2025-05-10 02:45:35--  https://d37ci6vzurychx.cloudfront.net/trip-data/yellow_tripdata_2016-01.parquet\n",
            "Reusing existing connection to d37ci6vzurychx.cloudfront.net:443.\n",
            "HTTP request sent, awaiting response... 200 OK\n",
            "Length: 151251087 (144M) [application/x-www-form-urlencoded]\n",
            "Saving to: ‘yellow_tripdata_2016-01.parquet’\n",
            "\n",
            "yellow_tripdata_201 100%[===================>] 144.24M  78.9MB/s    in 1.8s    \n",
            "\n",
            "2025-05-10 02:45:36 (78.9 MB/s) - ‘yellow_tripdata_2016-01.parquet’ saved [151251087/151251087]\n",
            "\n",
            "--2025-05-10 02:45:36--  https://d37ci6vzurychx.cloudfront.net/trip-data/yellow_tripdata_2016-02.parquet\n",
            "Reusing existing connection to d37ci6vzurychx.cloudfront.net:443.\n",
            "HTTP request sent, awaiting response... 200 OK\n",
            "Length: 158113739 (151M) [application/x-www-form-urlencoded]\n",
            "Saving to: ‘yellow_tripdata_2016-02.parquet’\n",
            "\n",
            "yellow_tripdata_201 100%[===================>] 150.79M   126MB/s    in 1.2s    \n",
            "\n",
            "2025-05-10 02:45:38 (126 MB/s) - ‘yellow_tripdata_2016-02.parquet’ saved [158113739/158113739]\n",
            "\n",
            "--2025-05-10 02:45:38--  https://d37ci6vzurychx.cloudfront.net/trip-data/yellow_tripdata_2016-03.parquet\n",
            "Reusing existing connection to d37ci6vzurychx.cloudfront.net:443.\n",
            "HTTP request sent, awaiting response... 200 OK\n",
            "Length: 170019864 (162M) [application/x-www-form-urlencoded]\n",
            "Saving to: ‘yellow_tripdata_2016-03.parquet’\n",
            "\n",
            "yellow_tripdata_201 100%[===================>] 162.14M   175MB/s    in 0.9s    \n",
            "\n",
            "2025-05-10 02:45:39 (175 MB/s) - ‘yellow_tripdata_2016-03.parquet’ saved [170019864/170019864]\n",
            "\n",
            "--2025-05-10 02:45:39--  https://d37ci6vzurychx.cloudfront.net/trip-data/yellow_tripdata_2016-04.parquet\n",
            "Reusing existing connection to d37ci6vzurychx.cloudfront.net:443.\n",
            "HTTP request sent, awaiting response... 200 OK\n",
            "Length: 165552992 (158M) [application/x-www-form-urlencoded]\n",
            "Saving to: ‘yellow_tripdata_2016-04.parquet’\n",
            "\n",
            "yellow_tripdata_201 100%[===================>] 157.88M  49.7MB/s    in 3.2s    \n",
            "\n",
            "2025-05-10 02:45:42 (49.7 MB/s) - ‘yellow_tripdata_2016-04.parquet’ saved [165552992/165552992]\n",
            "\n",
            "--2025-05-10 02:45:42--  https://d37ci6vzurychx.cloudfront.net/trip-data/yellow_tripdata_2016-05.parquet\n",
            "Reusing existing connection to d37ci6vzurychx.cloudfront.net:443.\n",
            "HTTP request sent, awaiting response... 200 OK\n",
            "Length: 165807271 (158M) [application/x-www-form-urlencoded]\n",
            "Saving to: ‘yellow_tripdata_2016-05.parquet’\n",
            "\n",
            "yellow_tripdata_201 100%[===================>] 158.13M   133MB/s    in 1.2s    \n",
            "\n",
            "2025-05-10 02:45:43 (133 MB/s) - ‘yellow_tripdata_2016-05.parquet’ saved [165807271/165807271]\n",
            "\n",
            "--2025-05-10 02:45:43--  https://d37ci6vzurychx.cloudfront.net/trip-data/yellow_tripdata_2016-06.parquet\n",
            "Reusing existing connection to d37ci6vzurychx.cloudfront.net:443.\n",
            "HTTP request sent, awaiting response... 200 OK\n",
            "Length: 156288749 (149M) [application/x-www-form-urlencoded]\n",
            "Saving to: ‘yellow_tripdata_2016-06.parquet’\n",
            "\n",
            "yellow_tripdata_201 100%[===================>] 149.05M   193MB/s    in 0.8s    \n",
            "\n",
            "2025-05-10 02:45:44 (193 MB/s) - ‘yellow_tripdata_2016-06.parquet’ saved [156288749/156288749]\n",
            "\n",
            "--2025-05-10 02:45:44--  https://d37ci6vzurychx.cloudfront.net/trip-data/yellow_tripdata_2016-07.parquet\n",
            "Reusing existing connection to d37ci6vzurychx.cloudfront.net:443.\n",
            "HTTP request sent, awaiting response... 200 OK\n",
            "Length: 144621113 (138M) [application/x-www-form-urlencoded]\n",
            "Saving to: ‘yellow_tripdata_2016-07.parquet’\n",
            "\n",
            "yellow_tripdata_201 100%[===================>] 137.92M  54.7MB/s    in 2.5s    \n",
            "\n",
            "2025-05-10 02:45:47 (54.7 MB/s) - ‘yellow_tripdata_2016-07.parquet’ saved [144621113/144621113]\n",
            "\n",
            "--2025-05-10 02:45:47--  https://d37ci6vzurychx.cloudfront.net/trip-data/yellow_tripdata_2016-08.parquet\n",
            "Reusing existing connection to d37ci6vzurychx.cloudfront.net:443.\n",
            "HTTP request sent, awaiting response... 200 OK\n",
            "Length: 139875738 (133M) [application/x-www-form-urlencoded]\n",
            "Saving to: ‘yellow_tripdata_2016-08.parquet’\n",
            "\n",
            "yellow_tripdata_201 100%[===================>] 133.40M  47.6MB/s    in 2.8s    \n",
            "\n",
            "2025-05-10 02:45:50 (47.6 MB/s) - ‘yellow_tripdata_2016-08.parquet’ saved [139875738/139875738]\n",
            "\n",
            "--2025-05-10 02:45:50--  https://d37ci6vzurychx.cloudfront.net/trip-data/yellow_tripdata_2016-09.parquet\n",
            "Reusing existing connection to d37ci6vzurychx.cloudfront.net:443.\n",
            "HTTP request sent, awaiting response... 200 OK\n",
            "Length: 141848574 (135M) [application/x-www-form-urlencoded]\n",
            "Saving to: ‘yellow_tripdata_2016-09.parquet’\n",
            "\n",
            "yellow_tripdata_201 100%[===================>] 135.28M  43.6MB/s    in 3.1s    \n",
            "\n",
            "2025-05-10 02:45:54 (43.6 MB/s) - ‘yellow_tripdata_2016-09.parquet’ saved [141848574/141848574]\n",
            "\n",
            "--2025-05-10 02:45:54--  https://d37ci6vzurychx.cloudfront.net/trip-data/yellow_tripdata_2016-10.parquet\n",
            "Reusing existing connection to d37ci6vzurychx.cloudfront.net:443.\n",
            "HTTP request sent, awaiting response... 200 OK\n",
            "Length: 152579388 (146M) [application/x-www-form-urlencoded]\n",
            "Saving to: ‘yellow_tripdata_2016-10.parquet’\n",
            "\n",
            "yellow_tripdata_201 100%[===================>] 145.51M  49.4MB/s    in 2.9s    \n",
            "\n",
            "2025-05-10 02:45:57 (49.4 MB/s) - ‘yellow_tripdata_2016-10.parquet’ saved [152579388/152579388]\n",
            "\n",
            "--2025-05-10 02:45:57--  https://d37ci6vzurychx.cloudfront.net/trip-data/yellow_tripdata_2016-11.parquet\n",
            "Reusing existing connection to d37ci6vzurychx.cloudfront.net:443.\n",
            "HTTP request sent, awaiting response... 200 OK\n",
            "Length: 141148933 (135M) [application/x-www-form-urlencoded]\n",
            "Saving to: ‘yellow_tripdata_2016-11.parquet’\n",
            "\n",
            "yellow_tripdata_201 100%[===================>] 134.61M  50.0MB/s    in 2.7s    \n",
            "\n",
            "2025-05-10 02:46:00 (50.0 MB/s) - ‘yellow_tripdata_2016-11.parquet’ saved [141148933/141148933]\n",
            "\n",
            "--2025-05-10 02:46:00--  https://d37ci6vzurychx.cloudfront.net/trip-data/yellow_tripdata_2016-12.parquet\n",
            "Reusing existing connection to d37ci6vzurychx.cloudfront.net:443.\n",
            "HTTP request sent, awaiting response... 200 OK\n",
            "Length: 145957196 (139M) [application/x-www-form-urlencoded]\n",
            "Saving to: ‘yellow_tripdata_2016-12.parquet’\n",
            "\n",
            "yellow_tripdata_201 100%[===================>] 139.20M  50.7MB/s    in 2.7s    \n",
            "\n",
            "2025-05-10 02:46:03 (50.7 MB/s) - ‘yellow_tripdata_2016-12.parquet’ saved [145957196/145957196]\n",
            "\n",
            "--2025-05-10 02:46:03--  https://d37ci6vzurychx.cloudfront.net/trip-data/yellow_tripdata_2017-01.parquet\n",
            "Reusing existing connection to d37ci6vzurychx.cloudfront.net:443.\n",
            "HTTP request sent, awaiting response... 200 OK\n",
            "Length: 134830009 (129M) [application/x-www-form-urlencoded]\n",
            "Saving to: ‘yellow_tripdata_2017-01.parquet’\n",
            "\n",
            "yellow_tripdata_201 100%[===================>] 128.58M  46.3MB/s    in 2.8s    \n",
            "\n",
            "2025-05-10 02:46:06 (46.3 MB/s) - ‘yellow_tripdata_2017-01.parquet’ saved [134830009/134830009]\n",
            "\n",
            "--2025-05-10 02:46:06--  https://d37ci6vzurychx.cloudfront.net/trip-data/yellow_tripdata_2017-02.parquet\n",
            "Reusing existing connection to d37ci6vzurychx.cloudfront.net:443.\n",
            "HTTP request sent, awaiting response... 200 OK\n",
            "Length: 127643793 (122M) [application/x-www-form-urlencoded]\n",
            "Saving to: ‘yellow_tripdata_2017-02.parquet’\n",
            "\n",
            "yellow_tripdata_201 100%[===================>] 121.73M  50.1MB/s    in 2.4s    \n",
            "\n",
            "2025-05-10 02:46:09 (50.1 MB/s) - ‘yellow_tripdata_2017-02.parquet’ saved [127643793/127643793]\n",
            "\n",
            "--2025-05-10 02:46:09--  https://d37ci6vzurychx.cloudfront.net/trip-data/yellow_tripdata_2017-03.parquet\n",
            "Reusing existing connection to d37ci6vzurychx.cloudfront.net:443.\n",
            "HTTP request sent, awaiting response... 200 OK\n",
            "Length: 144578214 (138M) [application/x-www-form-urlencoded]\n",
            "Saving to: ‘yellow_tripdata_2017-03.parquet’\n",
            "\n",
            "yellow_tripdata_201 100%[===================>] 137.88M  49.3MB/s    in 2.8s    \n",
            "\n",
            "2025-05-10 02:46:12 (49.3 MB/s) - ‘yellow_tripdata_2017-03.parquet’ saved [144578214/144578214]\n",
            "\n",
            "--2025-05-10 02:46:12--  https://d37ci6vzurychx.cloudfront.net/trip-data/yellow_tripdata_2017-04.parquet\n",
            "Reusing existing connection to d37ci6vzurychx.cloudfront.net:443.\n",
            "HTTP request sent, awaiting response... 200 OK\n",
            "Length: 141349194 (135M) [application/x-www-form-urlencoded]\n",
            "Saving to: ‘yellow_tripdata_2017-04.parquet’\n",
            "\n",
            "yellow_tripdata_201 100%[===================>] 134.80M  52.2MB/s    in 2.6s    \n",
            "\n",
            "2025-05-10 02:46:15 (52.2 MB/s) - ‘yellow_tripdata_2017-04.parquet’ saved [141349194/141349194]\n",
            "\n",
            "--2025-05-10 02:46:15--  https://d37ci6vzurychx.cloudfront.net/trip-data/yellow_tripdata_2017-05.parquet\n",
            "Reusing existing connection to d37ci6vzurychx.cloudfront.net:443.\n",
            "HTTP request sent, awaiting response... 200 OK\n",
            "Length: 142379076 (136M) [application/x-www-form-urlencoded]\n",
            "Saving to: ‘yellow_tripdata_2017-05.parquet’\n",
            "\n",
            "yellow_tripdata_201 100%[===================>] 135.78M  50.5MB/s    in 2.7s    \n",
            "\n",
            "2025-05-10 02:46:18 (50.5 MB/s) - ‘yellow_tripdata_2017-05.parquet’ saved [142379076/142379076]\n",
            "\n",
            "--2025-05-10 02:46:18--  https://d37ci6vzurychx.cloudfront.net/trip-data/yellow_tripdata_2017-06.parquet\n",
            "Reusing existing connection to d37ci6vzurychx.cloudfront.net:443.\n",
            "HTTP request sent, awaiting response... 200 OK\n",
            "Length: 135482101 (129M) [application/x-www-form-urlencoded]\n",
            "Saving to: ‘yellow_tripdata_2017-06.parquet’\n",
            "\n",
            "yellow_tripdata_201 100%[===================>] 129.21M  53.1MB/s    in 2.4s    \n",
            "\n",
            "2025-05-10 02:46:21 (53.1 MB/s) - ‘yellow_tripdata_2017-06.parquet’ saved [135482101/135482101]\n",
            "\n",
            "--2025-05-10 02:46:21--  https://d37ci6vzurychx.cloudfront.net/trip-data/yellow_tripdata_2017-07.parquet\n",
            "Reusing existing connection to d37ci6vzurychx.cloudfront.net:443.\n",
            "HTTP request sent, awaiting response... 200 OK\n",
            "Length: 120841535 (115M) [application/x-www-form-urlencoded]\n",
            "Saving to: ‘yellow_tripdata_2017-07.parquet’\n",
            "\n",
            "yellow_tripdata_201 100%[===================>] 115.24M  49.6MB/s    in 2.3s    \n",
            "\n",
            "2025-05-10 02:46:24 (49.6 MB/s) - ‘yellow_tripdata_2017-07.parquet’ saved [120841535/120841535]\n",
            "\n",
            "--2025-05-10 02:46:24--  https://d37ci6vzurychx.cloudfront.net/trip-data/yellow_tripdata_2017-08.parquet\n",
            "Reusing existing connection to d37ci6vzurychx.cloudfront.net:443.\n",
            "HTTP request sent, awaiting response... 200 OK\n",
            "Length: 118622365 (113M) [application/x-www-form-urlencoded]\n",
            "Saving to: ‘yellow_tripdata_2017-08.parquet’\n",
            "\n",
            "yellow_tripdata_201 100%[===================>] 113.13M   166MB/s    in 0.7s    \n",
            "\n",
            "2025-05-10 02:46:25 (166 MB/s) - ‘yellow_tripdata_2017-08.parquet’ saved [118622365/118622365]\n",
            "\n",
            "--2025-05-10 02:46:25--  https://d37ci6vzurychx.cloudfront.net/trip-data/yellow_tripdata_2017-09.parquet\n",
            "Reusing existing connection to d37ci6vzurychx.cloudfront.net:443.\n",
            "HTTP request sent, awaiting response... 200 OK\n",
            "Length: 126899296 (121M) [application/x-www-form-urlencoded]\n",
            "Saving to: ‘yellow_tripdata_2017-09.parquet’\n",
            "\n",
            "yellow_tripdata_201 100%[===================>] 121.02M  48.4MB/s    in 2.5s    \n",
            "\n",
            "2025-05-10 02:46:28 (48.4 MB/s) - ‘yellow_tripdata_2017-09.parquet’ saved [126899296/126899296]\n",
            "\n",
            "--2025-05-10 02:46:28--  https://d37ci6vzurychx.cloudfront.net/trip-data/yellow_tripdata_2017-10.parquet\n",
            "Reusing existing connection to d37ci6vzurychx.cloudfront.net:443.\n",
            "HTTP request sent, awaiting response... 200 OK\n",
            "Length: 136742510 (130M) [application/x-www-form-urlencoded]\n",
            "Saving to: ‘yellow_tripdata_2017-10.parquet’\n",
            "\n",
            "yellow_tripdata_201 100%[===================>] 130.41M  49.8MB/s    in 2.6s    \n",
            "\n",
            "2025-05-10 02:46:31 (49.8 MB/s) - ‘yellow_tripdata_2017-10.parquet’ saved [136742510/136742510]\n",
            "\n",
            "--2025-05-10 02:46:31--  https://d37ci6vzurychx.cloudfront.net/trip-data/yellow_tripdata_2017-11.parquet\n",
            "Reusing existing connection to d37ci6vzurychx.cloudfront.net:443.\n",
            "HTTP request sent, awaiting response... 200 OK\n",
            "Length: 131062706 (125M) [application/x-www-form-urlencoded]\n",
            "Saving to: ‘yellow_tripdata_2017-11.parquet’\n",
            "\n",
            "yellow_tripdata_201 100%[===================>] 124.99M  47.2MB/s    in 2.6s    \n",
            "\n",
            "2025-05-10 02:46:34 (47.2 MB/s) - ‘yellow_tripdata_2017-11.parquet’ saved [131062706/131062706]\n",
            "\n",
            "--2025-05-10 02:46:34--  https://d37ci6vzurychx.cloudfront.net/trip-data/yellow_tripdata_2017-12.parquet\n",
            "Reusing existing connection to d37ci6vzurychx.cloudfront.net:443.\n",
            "HTTP request sent, awaiting response... 200 OK\n",
            "Length: 134255377 (128M) [application/x-www-form-urlencoded]\n",
            "Saving to: ‘yellow_tripdata_2017-12.parquet’\n",
            "\n",
            "yellow_tripdata_201 100%[===================>] 128.04M  52.3MB/s    in 2.5s    \n",
            "\n",
            "2025-05-10 02:46:36 (52.3 MB/s) - ‘yellow_tripdata_2017-12.parquet’ saved [134255377/134255377]\n",
            "\n",
            "--2025-05-10 02:46:36--  https://d37ci6vzurychx.cloudfront.net/trip-data/yellow_tripdata_2018-01.parquet\n",
            "Reusing existing connection to d37ci6vzurychx.cloudfront.net:443.\n",
            "HTTP request sent, awaiting response... 200 OK\n",
            "Length: 123668517 (118M) [application/x-www-form-urlencoded]\n",
            "Saving to: ‘yellow_tripdata_2018-01.parquet’\n",
            "\n",
            "yellow_tripdata_201 100%[===================>] 117.94M  47.2MB/s    in 2.5s    \n",
            "\n",
            "2025-05-10 02:46:39 (47.2 MB/s) - ‘yellow_tripdata_2018-01.parquet’ saved [123668517/123668517]\n",
            "\n",
            "--2025-05-10 02:46:39--  https://d37ci6vzurychx.cloudfront.net/trip-data/yellow_tripdata_2018-02.parquet\n",
            "Reusing existing connection to d37ci6vzurychx.cloudfront.net:443.\n",
            "HTTP request sent, awaiting response... 200 OK\n",
            "Length: 119455285 (114M) [application/x-www-form-urlencoded]\n",
            "Saving to: ‘yellow_tripdata_2018-02.parquet’\n",
            "\n",
            "yellow_tripdata_201 100%[===================>] 113.92M  50.3MB/s    in 2.3s    \n",
            "\n",
            "2025-05-10 02:46:42 (50.3 MB/s) - ‘yellow_tripdata_2018-02.parquet’ saved [119455285/119455285]\n",
            "\n",
            "--2025-05-10 02:46:42--  https://d37ci6vzurychx.cloudfront.net/trip-data/yellow_tripdata_2018-03.parquet\n",
            "Reusing existing connection to d37ci6vzurychx.cloudfront.net:443.\n",
            "HTTP request sent, awaiting response... 200 OK\n",
            "Length: 133552006 (127M) [application/x-www-form-urlencoded]\n",
            "Saving to: ‘yellow_tripdata_2018-03.parquet’\n",
            "\n",
            "yellow_tripdata_201 100%[===================>] 127.36M  51.1MB/s    in 2.5s    \n",
            "\n",
            "2025-05-10 02:46:45 (51.1 MB/s) - ‘yellow_tripdata_2018-03.parquet’ saved [133552006/133552006]\n",
            "\n",
            "--2025-05-10 02:46:45--  https://d37ci6vzurychx.cloudfront.net/trip-data/yellow_tripdata_2018-04.parquet\n",
            "Reusing existing connection to d37ci6vzurychx.cloudfront.net:443.\n",
            "HTTP request sent, awaiting response... 200 OK\n",
            "Length: 131609714 (126M) [application/x-www-form-urlencoded]\n",
            "Saving to: ‘yellow_tripdata_2018-04.parquet’\n",
            "\n",
            "yellow_tripdata_201 100%[===================>] 125.51M  52.7MB/s    in 2.4s    \n",
            "\n",
            "2025-05-10 02:46:48 (52.7 MB/s) - ‘yellow_tripdata_2018-04.parquet’ saved [131609714/131609714]\n",
            "\n",
            "--2025-05-10 02:46:48--  https://d37ci6vzurychx.cloudfront.net/trip-data/yellow_tripdata_2018-05.parquet\n",
            "Reusing existing connection to d37ci6vzurychx.cloudfront.net:443.\n",
            "HTTP request sent, awaiting response... 200 OK\n",
            "Length: 130850283 (125M) [application/x-www-form-urlencoded]\n",
            "Saving to: ‘yellow_tripdata_2018-05.parquet’\n",
            "\n",
            "yellow_tripdata_201 100%[===================>] 124.79M  52.4MB/s    in 2.4s    \n",
            "\n",
            "2025-05-10 02:46:50 (52.4 MB/s) - ‘yellow_tripdata_2018-05.parquet’ saved [130850283/130850283]\n",
            "\n",
            "--2025-05-10 02:46:50--  https://d37ci6vzurychx.cloudfront.net/trip-data/yellow_tripdata_2018-06.parquet\n",
            "Reusing existing connection to d37ci6vzurychx.cloudfront.net:443.\n",
            "HTTP request sent, awaiting response... 200 OK\n",
            "Length: 124189362 (118M) [application/x-www-form-urlencoded]\n",
            "Saving to: ‘yellow_tripdata_2018-06.parquet’\n",
            "\n",
            "yellow_tripdata_201 100%[===================>] 118.44M  46.2MB/s    in 2.6s    \n",
            "\n",
            "2025-05-10 02:46:53 (46.2 MB/s) - ‘yellow_tripdata_2018-06.parquet’ saved [124189362/124189362]\n",
            "\n",
            "--2025-05-10 02:46:53--  https://d37ci6vzurychx.cloudfront.net/trip-data/yellow_tripdata_2018-07.parquet\n",
            "Reusing existing connection to d37ci6vzurychx.cloudfront.net:443.\n",
            "HTTP request sent, awaiting response... 200 OK\n",
            "Length: 112244445 (107M) [application/x-www-form-urlencoded]\n",
            "Saving to: ‘yellow_tripdata_2018-07.parquet’\n",
            "\n",
            "yellow_tripdata_201 100%[===================>] 107.04M  50.5MB/s    in 2.1s    \n",
            "\n",
            "2025-05-10 02:46:56 (50.5 MB/s) - ‘yellow_tripdata_2018-07.parquet’ saved [112244445/112244445]\n",
            "\n",
            "--2025-05-10 02:46:56--  https://d37ci6vzurychx.cloudfront.net/trip-data/yellow_tripdata_2018-08.parquet\n",
            "Reusing existing connection to d37ci6vzurychx.cloudfront.net:443.\n",
            "HTTP request sent, awaiting response... 200 OK\n",
            "Length: 111426538 (106M) [application/x-www-form-urlencoded]\n",
            "Saving to: ‘yellow_tripdata_2018-08.parquet’\n",
            "\n",
            "yellow_tripdata_201 100%[===================>] 106.26M  51.4MB/s    in 2.1s    \n",
            "\n",
            "2025-05-10 02:46:58 (51.4 MB/s) - ‘yellow_tripdata_2018-08.parquet’ saved [111426538/111426538]\n",
            "\n",
            "--2025-05-10 02:46:58--  https://d37ci6vzurychx.cloudfront.net/trip-data/yellow_tripdata_2018-09.parquet\n",
            "Reusing existing connection to d37ci6vzurychx.cloudfront.net:443.\n",
            "HTTP request sent, awaiting response... 200 OK\n",
            "Length: 115505387 (110M) [application/x-www-form-urlencoded]\n",
            "Saving to: ‘yellow_tripdata_2018-09.parquet’\n",
            "\n",
            "yellow_tripdata_201 100%[===================>] 110.15M  50.6MB/s    in 2.2s    \n",
            "\n",
            "2025-05-10 02:47:01 (50.6 MB/s) - ‘yellow_tripdata_2018-09.parquet’ saved [115505387/115505387]\n",
            "\n",
            "--2025-05-10 02:47:01--  https://d37ci6vzurychx.cloudfront.net/trip-data/yellow_tripdata_2018-10.parquet\n",
            "Reusing existing connection to d37ci6vzurychx.cloudfront.net:443.\n",
            "HTTP request sent, awaiting response... 200 OK\n",
            "Length: 126899602 (121M) [application/x-www-form-urlencoded]\n",
            "Saving to: ‘yellow_tripdata_2018-10.parquet’\n",
            "\n",
            "yellow_tripdata_201 100%[===================>] 121.02M  49.8MB/s    in 2.4s    \n",
            "\n",
            "2025-05-10 02:47:04 (49.8 MB/s) - ‘yellow_tripdata_2018-10.parquet’ saved [126899602/126899602]\n",
            "\n",
            "--2025-05-10 02:47:04--  https://d37ci6vzurychx.cloudfront.net/trip-data/yellow_tripdata_2018-11.parquet\n",
            "Reusing existing connection to d37ci6vzurychx.cloudfront.net:443.\n",
            "HTTP request sent, awaiting response... 200 OK\n",
            "Length: 117170616 (112M) [application/x-www-form-urlencoded]\n",
            "Saving to: ‘yellow_tripdata_2018-11.parquet’\n",
            "\n",
            "yellow_tripdata_201 100%[===================>] 111.74M  51.9MB/s    in 2.2s    \n",
            "\n",
            "2025-05-10 02:47:06 (51.9 MB/s) - ‘yellow_tripdata_2018-11.parquet’ saved [117170616/117170616]\n",
            "\n",
            "--2025-05-10 02:47:06--  https://d37ci6vzurychx.cloudfront.net/trip-data/yellow_tripdata_2018-12.parquet\n",
            "Reusing existing connection to d37ci6vzurychx.cloudfront.net:443.\n",
            "HTTP request sent, awaiting response... 200 OK\n",
            "Length: 117845011 (112M) [application/x-www-form-urlencoded]\n",
            "Saving to: ‘yellow_tripdata_2018-12.parquet’\n",
            "\n",
            "yellow_tripdata_201 100%[===================>] 112.39M  48.3MB/s    in 2.3s    \n",
            "\n",
            "2025-05-10 02:47:09 (48.3 MB/s) - ‘yellow_tripdata_2018-12.parquet’ saved [117845011/117845011]\n",
            "\n",
            "FINISHED --2025-05-10 02:47:09--\n",
            "Total wall clock time: 9m 20s\n",
            "Downloaded: 120 files, 25G in 8m 37s (49.8 MB/s)\n"
          ]
        }
      ],
      "source": [
        "!wget -nc https://d37ci6vzurychx.cloudfront.net/trip-data/yellow_tripdata_20{09..18}-{01..12}.parquet"
      ]
    },
    {
      "cell_type": "markdown",
      "source": [
        "**Wait some time here to not exceed the download limit**"
      ],
      "metadata": {
        "id": "0t_m5aNtvmw1"
      }
    },
    {
      "cell_type": "code",
      "source": [
        "import time\n",
        "time.sleep(240)"
      ],
      "metadata": {
        "id": "VXJOHfdbEUot"
      },
      "execution_count": null,
      "outputs": []
    },
    {
      "cell_type": "code",
      "source": [
        "!wget -nc https://d37ci6vzurychx.cloudfront.net/trip-data/yellow_tripdata_20{19..24}-{01..12}.parquet"
      ],
      "metadata": {
        "colab": {
          "base_uri": "https://localhost:8080/"
        },
        "collapsed": true,
        "id": "QMGI0nkGu56-",
        "outputId": "67331c49-776f-4a04-a9c1-7cb234af4538"
      },
      "execution_count": null,
      "outputs": [
        {
          "output_type": "stream",
          "name": "stdout",
          "text": [
            "--2025-05-10 02:51:09--  https://d37ci6vzurychx.cloudfront.net/trip-data/yellow_tripdata_2019-01.parquet\n",
            "Resolving d37ci6vzurychx.cloudfront.net (d37ci6vzurychx.cloudfront.net)... 52.84.160.213, 52.84.160.73, 52.84.160.84, ...\n",
            "Connecting to d37ci6vzurychx.cloudfront.net (d37ci6vzurychx.cloudfront.net)|52.84.160.213|:443... connected.\n",
            "HTTP request sent, awaiting response... 200 OK\n",
            "Length: 110439634 (105M) [application/x-www-form-urlencoded]\n",
            "Saving to: ‘yellow_tripdata_2019-01.parquet’\n",
            "\n",
            "yellow_tripdata_201 100%[===================>] 105.32M  45.5MB/s    in 2.3s    \n",
            "\n",
            "2025-05-10 02:51:12 (45.5 MB/s) - ‘yellow_tripdata_2019-01.parquet’ saved [110439634/110439634]\n",
            "\n",
            "--2025-05-10 02:51:12--  https://d37ci6vzurychx.cloudfront.net/trip-data/yellow_tripdata_2019-02.parquet\n",
            "Reusing existing connection to d37ci6vzurychx.cloudfront.net:443.\n",
            "HTTP request sent, awaiting response... 200 OK\n",
            "Length: 103356025 (99M) [application/x-www-form-urlencoded]\n",
            "Saving to: ‘yellow_tripdata_2019-02.parquet’\n",
            "\n",
            "yellow_tripdata_201 100%[===================>]  98.57M  47.2MB/s    in 2.1s    \n",
            "\n",
            "2025-05-10 02:51:14 (47.2 MB/s) - ‘yellow_tripdata_2019-02.parquet’ saved [103356025/103356025]\n",
            "\n",
            "--2025-05-10 02:51:14--  https://d37ci6vzurychx.cloudfront.net/trip-data/yellow_tripdata_2019-03.parquet\n",
            "Reusing existing connection to d37ci6vzurychx.cloudfront.net:443.\n",
            "HTTP request sent, awaiting response... 200 OK\n",
            "Length: 116017372 (111M) [application/x-www-form-urlencoded]\n",
            "Saving to: ‘yellow_tripdata_2019-03.parquet’\n",
            "\n",
            "yellow_tripdata_201 100%[===================>] 110.64M  47.2MB/s    in 2.3s    \n",
            "\n",
            "2025-05-10 02:51:17 (47.2 MB/s) - ‘yellow_tripdata_2019-03.parquet’ saved [116017372/116017372]\n",
            "\n",
            "--2025-05-10 02:51:17--  https://d37ci6vzurychx.cloudfront.net/trip-data/yellow_tripdata_2019-04.parquet\n",
            "Reusing existing connection to d37ci6vzurychx.cloudfront.net:443.\n",
            "HTTP request sent, awaiting response... 200 OK\n",
            "Length: 110139137 (105M) [application/x-www-form-urlencoded]\n",
            "Saving to: ‘yellow_tripdata_2019-04.parquet’\n",
            "\n",
            "yellow_tripdata_201 100%[===================>] 105.04M  51.1MB/s    in 2.1s    \n",
            "\n",
            "2025-05-10 02:51:19 (51.1 MB/s) - ‘yellow_tripdata_2019-04.parquet’ saved [110139137/110139137]\n",
            "\n",
            "--2025-05-10 02:51:19--  https://d37ci6vzurychx.cloudfront.net/trip-data/yellow_tripdata_2019-05.parquet\n",
            "Reusing existing connection to d37ci6vzurychx.cloudfront.net:443.\n",
            "HTTP request sent, awaiting response... 200 OK\n",
            "Length: 111478943 (106M) [application/x-www-form-urlencoded]\n",
            "Saving to: ‘yellow_tripdata_2019-05.parquet’\n",
            "\n",
            "yellow_tripdata_201 100%[===================>] 106.31M  45.5MB/s    in 2.3s    \n",
            "\n",
            "2025-05-10 02:51:22 (45.5 MB/s) - ‘yellow_tripdata_2019-05.parquet’ saved [111478943/111478943]\n",
            "\n",
            "--2025-05-10 02:51:22--  https://d37ci6vzurychx.cloudfront.net/trip-data/yellow_tripdata_2019-06.parquet\n",
            "Reusing existing connection to d37ci6vzurychx.cloudfront.net:443.\n",
            "HTTP request sent, awaiting response... 200 OK\n",
            "Length: 102903344 (98M) [application/x-www-form-urlencoded]\n",
            "Saving to: ‘yellow_tripdata_2019-06.parquet’\n",
            "\n",
            "yellow_tripdata_201 100%[===================>]  98.14M  45.9MB/s    in 2.1s    \n",
            "\n",
            "2025-05-10 02:51:24 (45.9 MB/s) - ‘yellow_tripdata_2019-06.parquet’ saved [102903344/102903344]\n",
            "\n",
            "--2025-05-10 02:51:24--  https://d37ci6vzurychx.cloudfront.net/trip-data/yellow_tripdata_2019-07.parquet\n",
            "Reusing existing connection to d37ci6vzurychx.cloudfront.net:443.\n",
            "HTTP request sent, awaiting response... 200 OK\n",
            "Length: 93877343 (90M) [application/x-www-form-urlencoded]\n",
            "Saving to: ‘yellow_tripdata_2019-07.parquet’\n",
            "\n",
            "yellow_tripdata_201 100%[===================>]  89.53M  51.1MB/s    in 1.8s    \n",
            "\n",
            "2025-05-10 02:51:27 (51.1 MB/s) - ‘yellow_tripdata_2019-07.parquet’ saved [93877343/93877343]\n",
            "\n",
            "--2025-05-10 02:51:27--  https://d37ci6vzurychx.cloudfront.net/trip-data/yellow_tripdata_2019-08.parquet\n",
            "Reusing existing connection to d37ci6vzurychx.cloudfront.net:443.\n",
            "HTTP request sent, awaiting response... 200 OK\n",
            "Length: 89999675 (86M) [application/x-www-form-urlencoded]\n",
            "Saving to: ‘yellow_tripdata_2019-08.parquet’\n",
            "\n",
            "yellow_tripdata_201 100%[===================>]  85.83M  50.4MB/s    in 1.7s    \n",
            "\n",
            "2025-05-10 02:51:29 (50.4 MB/s) - ‘yellow_tripdata_2019-08.parquet’ saved [89999675/89999675]\n",
            "\n",
            "--2025-05-10 02:51:29--  https://d37ci6vzurychx.cloudfront.net/trip-data/yellow_tripdata_2019-09.parquet\n",
            "Reusing existing connection to d37ci6vzurychx.cloudfront.net:443.\n",
            "HTTP request sent, awaiting response... 200 OK\n",
            "Length: 97110325 (93M) [application/x-www-form-urlencoded]\n",
            "Saving to: ‘yellow_tripdata_2019-09.parquet’\n",
            "\n",
            "yellow_tripdata_201 100%[===================>]  92.61M  11.0MB/s    in 16s     \n",
            "\n",
            "2025-05-10 02:51:46 (5.61 MB/s) - ‘yellow_tripdata_2019-09.parquet’ saved [97110325/97110325]\n",
            "\n",
            "--2025-05-10 02:51:46--  https://d37ci6vzurychx.cloudfront.net/trip-data/yellow_tripdata_2019-10.parquet\n",
            "Reusing existing connection to d37ci6vzurychx.cloudfront.net:443.\n",
            "HTTP request sent, awaiting response... 200 OK\n",
            "Length: 106293373 (101M) [application/x-www-form-urlencoded]\n",
            "Saving to: ‘yellow_tripdata_2019-10.parquet’\n",
            "\n",
            "yellow_tripdata_201 100%[===================>] 101.37M  47.7MB/s    in 2.1s    \n",
            "\n",
            "2025-05-10 02:51:48 (47.7 MB/s) - ‘yellow_tripdata_2019-10.parquet’ saved [106293373/106293373]\n",
            "\n",
            "--2025-05-10 02:51:48--  https://d37ci6vzurychx.cloudfront.net/trip-data/yellow_tripdata_2019-11.parquet\n",
            "Reusing existing connection to d37ci6vzurychx.cloudfront.net:443.\n",
            "HTTP request sent, awaiting response... 200 OK\n",
            "Length: 100872983 (96M) [application/x-www-form-urlencoded]\n",
            "Saving to: ‘yellow_tripdata_2019-11.parquet’\n",
            "\n",
            "yellow_tripdata_201 100%[===================>]  96.20M  46.4MB/s    in 2.1s    \n",
            "\n",
            "2025-05-10 02:51:50 (46.4 MB/s) - ‘yellow_tripdata_2019-11.parquet’ saved [100872983/100872983]\n",
            "\n",
            "--2025-05-10 02:51:50--  https://d37ci6vzurychx.cloudfront.net/trip-data/yellow_tripdata_2019-12.parquet\n",
            "Reusing existing connection to d37ci6vzurychx.cloudfront.net:443.\n",
            "HTTP request sent, awaiting response... 200 OK\n",
            "Length: 101044777 (96M) [application/x-www-form-urlencoded]\n",
            "Saving to: ‘yellow_tripdata_2019-12.parquet’\n",
            "\n",
            "yellow_tripdata_201 100%[===================>]  96.36M  48.5MB/s    in 2.0s    \n",
            "\n",
            "2025-05-10 02:51:53 (48.5 MB/s) - ‘yellow_tripdata_2019-12.parquet’ saved [101044777/101044777]\n",
            "\n",
            "--2025-05-10 02:51:53--  https://d37ci6vzurychx.cloudfront.net/trip-data/yellow_tripdata_2020-01.parquet\n",
            "Reusing existing connection to d37ci6vzurychx.cloudfront.net:443.\n",
            "HTTP request sent, awaiting response... 200 OK\n",
            "Length: 93562858 (89M) [application/x-www-form-urlencoded]\n",
            "Saving to: ‘yellow_tripdata_2020-01.parquet’\n",
            "\n",
            "yellow_tripdata_202 100%[===================>]  89.23M  47.7MB/s    in 1.9s    \n",
            "\n",
            "2025-05-10 02:51:55 (47.7 MB/s) - ‘yellow_tripdata_2020-01.parquet’ saved [93562858/93562858]\n",
            "\n",
            "--2025-05-10 02:51:55--  https://d37ci6vzurychx.cloudfront.net/trip-data/yellow_tripdata_2020-02.parquet\n",
            "Reusing existing connection to d37ci6vzurychx.cloudfront.net:443.\n",
            "HTTP request sent, awaiting response... 200 OK\n",
            "Length: 92134881 (88M) [application/x-www-form-urlencoded]\n",
            "Saving to: ‘yellow_tripdata_2020-02.parquet’\n",
            "\n",
            "yellow_tripdata_202 100%[===================>]  87.87M  80.2MB/s    in 1.1s    \n",
            "\n",
            "2025-05-10 02:51:57 (80.2 MB/s) - ‘yellow_tripdata_2020-02.parquet’ saved [92134881/92134881]\n",
            "\n",
            "--2025-05-10 02:51:57--  https://d37ci6vzurychx.cloudfront.net/trip-data/yellow_tripdata_2020-03.parquet\n",
            "Reusing existing connection to d37ci6vzurychx.cloudfront.net:443.\n",
            "HTTP request sent, awaiting response... 200 OK\n",
            "Length: 44442590 (42M) [application/x-www-form-urlencoded]\n",
            "Saving to: ‘yellow_tripdata_2020-03.parquet’\n",
            "\n",
            "yellow_tripdata_202 100%[===================>]  42.38M   107MB/s    in 0.4s    \n",
            "\n",
            "2025-05-10 02:51:57 (107 MB/s) - ‘yellow_tripdata_2020-03.parquet’ saved [44442590/44442590]\n",
            "\n",
            "--2025-05-10 02:51:57--  https://d37ci6vzurychx.cloudfront.net/trip-data/yellow_tripdata_2020-04.parquet\n",
            "Reusing existing connection to d37ci6vzurychx.cloudfront.net:443.\n",
            "HTTP request sent, awaiting response... 200 OK\n",
            "Length: 4442620 (4.2M) [binary/octet-stream]\n",
            "Saving to: ‘yellow_tripdata_2020-04.parquet’\n",
            "\n",
            "yellow_tripdata_202 100%[===================>]   4.24M  8.67MB/s    in 0.5s    \n",
            "\n",
            "2025-05-10 02:51:58 (8.67 MB/s) - ‘yellow_tripdata_2020-04.parquet’ saved [4442620/4442620]\n",
            "\n",
            "--2025-05-10 02:51:58--  https://d37ci6vzurychx.cloudfront.net/trip-data/yellow_tripdata_2020-05.parquet\n",
            "Reusing existing connection to d37ci6vzurychx.cloudfront.net:443.\n",
            "HTTP request sent, awaiting response... 200 OK\n",
            "Length: 6229864 (5.9M) [binary/octet-stream]\n",
            "Saving to: ‘yellow_tripdata_2020-05.parquet’\n",
            "\n",
            "yellow_tripdata_202 100%[===================>]   5.94M  11.4MB/s    in 0.5s    \n",
            "\n",
            "2025-05-10 02:51:59 (11.4 MB/s) - ‘yellow_tripdata_2020-05.parquet’ saved [6229864/6229864]\n",
            "\n",
            "--2025-05-10 02:51:59--  https://d37ci6vzurychx.cloudfront.net/trip-data/yellow_tripdata_2020-06.parquet\n",
            "Reusing existing connection to d37ci6vzurychx.cloudfront.net:443.\n",
            "HTTP request sent, awaiting response... 200 OK\n",
            "Length: 9505358 (9.1M) [binary/octet-stream]\n",
            "Saving to: ‘yellow_tripdata_2020-06.parquet’\n",
            "\n",
            "yellow_tripdata_202 100%[===================>]   9.06M  18.2MB/s    in 0.5s    \n",
            "\n",
            "2025-05-10 02:52:00 (18.2 MB/s) - ‘yellow_tripdata_2020-06.parquet’ saved [9505358/9505358]\n",
            "\n",
            "--2025-05-10 02:52:00--  https://d37ci6vzurychx.cloudfront.net/trip-data/yellow_tripdata_2020-07.parquet\n",
            "Reusing existing connection to d37ci6vzurychx.cloudfront.net:443.\n",
            "HTTP request sent, awaiting response... 200 OK\n",
            "Length: 13387778 (13M) [binary/octet-stream]\n",
            "Saving to: ‘yellow_tripdata_2020-07.parquet’\n",
            "\n",
            "yellow_tripdata_202 100%[===================>]  12.77M  18.6MB/s    in 0.7s    \n",
            "\n",
            "2025-05-10 02:52:01 (18.6 MB/s) - ‘yellow_tripdata_2020-07.parquet’ saved [13387778/13387778]\n",
            "\n",
            "--2025-05-10 02:52:01--  https://d37ci6vzurychx.cloudfront.net/trip-data/yellow_tripdata_2020-08.parquet\n",
            "Reusing existing connection to d37ci6vzurychx.cloudfront.net:443.\n",
            "HTTP request sent, awaiting response... 200 OK\n",
            "Length: 16601463 (16M) [binary/octet-stream]\n",
            "Saving to: ‘yellow_tripdata_2020-08.parquet’\n",
            "\n",
            "yellow_tripdata_202 100%[===================>]  15.83M  46.2MB/s    in 0.3s    \n",
            "\n",
            "2025-05-10 02:52:01 (46.2 MB/s) - ‘yellow_tripdata_2020-08.parquet’ saved [16601463/16601463]\n",
            "\n",
            "--2025-05-10 02:52:01--  https://d37ci6vzurychx.cloudfront.net/trip-data/yellow_tripdata_2020-09.parquet\n",
            "Reusing existing connection to d37ci6vzurychx.cloudfront.net:443.\n",
            "HTTP request sent, awaiting response... 200 OK\n",
            "Length: 21381938 (20M) [application/x-www-form-urlencoded]\n",
            "Saving to: ‘yellow_tripdata_2020-09.parquet’\n",
            "\n",
            "yellow_tripdata_202 100%[===================>]  20.39M  95.4MB/s    in 0.2s    \n",
            "\n",
            "2025-05-10 02:52:02 (95.4 MB/s) - ‘yellow_tripdata_2020-09.parquet’ saved [21381938/21381938]\n",
            "\n",
            "--2025-05-10 02:52:02--  https://d37ci6vzurychx.cloudfront.net/trip-data/yellow_tripdata_2020-10.parquet\n",
            "Reusing existing connection to d37ci6vzurychx.cloudfront.net:443.\n",
            "HTTP request sent, awaiting response... 200 OK\n",
            "Length: 26306876 (25M) [application/x-www-form-urlencoded]\n",
            "Saving to: ‘yellow_tripdata_2020-10.parquet’\n",
            "\n",
            "yellow_tripdata_202 100%[===================>]  25.09M  83.2MB/s    in 0.3s    \n",
            "\n",
            "2025-05-10 02:52:02 (83.2 MB/s) - ‘yellow_tripdata_2020-10.parquet’ saved [26306876/26306876]\n",
            "\n",
            "--2025-05-10 02:52:02--  https://d37ci6vzurychx.cloudfront.net/trip-data/yellow_tripdata_2020-11.parquet\n",
            "Reusing existing connection to d37ci6vzurychx.cloudfront.net:443.\n",
            "HTTP request sent, awaiting response... 200 OK\n",
            "Length: 23583368 (22M) [application/x-www-form-urlencoded]\n",
            "Saving to: ‘yellow_tripdata_2020-11.parquet’\n",
            "\n",
            "yellow_tripdata_202 100%[===================>]  22.49M  89.5MB/s    in 0.3s    \n",
            "\n",
            "2025-05-10 02:52:03 (89.5 MB/s) - ‘yellow_tripdata_2020-11.parquet’ saved [23583368/23583368]\n",
            "\n",
            "--2025-05-10 02:52:03--  https://d37ci6vzurychx.cloudfront.net/trip-data/yellow_tripdata_2020-12.parquet\n",
            "Reusing existing connection to d37ci6vzurychx.cloudfront.net:443.\n",
            "HTTP request sent, awaiting response... 200 OK\n",
            "Length: 23020036 (22M) [application/x-www-form-urlencoded]\n",
            "Saving to: ‘yellow_tripdata_2020-12.parquet’\n",
            "\n",
            "yellow_tripdata_202 100%[===================>]  21.95M  94.2MB/s    in 0.2s    \n",
            "\n",
            "2025-05-10 02:52:03 (94.2 MB/s) - ‘yellow_tripdata_2020-12.parquet’ saved [23020036/23020036]\n",
            "\n",
            "--2025-05-10 02:52:03--  https://d37ci6vzurychx.cloudfront.net/trip-data/yellow_tripdata_2021-01.parquet\n",
            "Reusing existing connection to d37ci6vzurychx.cloudfront.net:443.\n",
            "HTTP request sent, awaiting response... 200 OK\n",
            "Length: 21686067 (21M) [application/x-www-form-urlencoded]\n",
            "Saving to: ‘yellow_tripdata_2021-01.parquet’\n",
            "\n",
            "yellow_tripdata_202 100%[===================>]  20.68M  29.8MB/s    in 0.7s    \n",
            "\n",
            "2025-05-10 02:52:04 (29.8 MB/s) - ‘yellow_tripdata_2021-01.parquet’ saved [21686067/21686067]\n",
            "\n",
            "--2025-05-10 02:52:04--  https://d37ci6vzurychx.cloudfront.net/trip-data/yellow_tripdata_2021-02.parquet\n",
            "Reusing existing connection to d37ci6vzurychx.cloudfront.net:443.\n",
            "HTTP request sent, awaiting response... 200 OK\n",
            "Length: 21777258 (21M) [application/x-www-form-urlencoded]\n",
            "Saving to: ‘yellow_tripdata_2021-02.parquet’\n",
            "\n",
            "yellow_tripdata_202 100%[===================>]  20.77M   109MB/s    in 0.2s    \n",
            "\n",
            "2025-05-10 02:52:05 (109 MB/s) - ‘yellow_tripdata_2021-02.parquet’ saved [21777258/21777258]\n",
            "\n",
            "--2025-05-10 02:52:05--  https://d37ci6vzurychx.cloudfront.net/trip-data/yellow_tripdata_2021-03.parquet\n",
            "Reusing existing connection to d37ci6vzurychx.cloudfront.net:443.\n",
            "HTTP request sent, awaiting response... 200 OK\n",
            "Length: 30007852 (29M) [application/x-www-form-urlencoded]\n",
            "Saving to: ‘yellow_tripdata_2021-03.parquet’\n",
            "\n",
            "yellow_tripdata_202 100%[===================>]  28.62M  90.8MB/s    in 0.3s    \n",
            "\n",
            "2025-05-10 02:52:05 (90.8 MB/s) - ‘yellow_tripdata_2021-03.parquet’ saved [30007852/30007852]\n",
            "\n",
            "--2025-05-10 02:52:05--  https://d37ci6vzurychx.cloudfront.net/trip-data/yellow_tripdata_2021-04.parquet\n",
            "Reusing existing connection to d37ci6vzurychx.cloudfront.net:443.\n",
            "HTTP request sent, awaiting response... 200 OK\n",
            "Length: 34018560 (32M) [application/x-www-form-urlencoded]\n",
            "Saving to: ‘yellow_tripdata_2021-04.parquet’\n",
            "\n",
            "yellow_tripdata_202 100%[===================>]  32.44M   127MB/s    in 0.3s    \n",
            "\n",
            "2025-05-10 02:52:06 (127 MB/s) - ‘yellow_tripdata_2021-04.parquet’ saved [34018560/34018560]\n",
            "\n",
            "--2025-05-10 02:52:06--  https://d37ci6vzurychx.cloudfront.net/trip-data/yellow_tripdata_2021-05.parquet\n",
            "Reusing existing connection to d37ci6vzurychx.cloudfront.net:443.\n",
            "HTTP request sent, awaiting response... 200 OK\n",
            "Length: 38743682 (37M) [application/x-www-form-urlencoded]\n",
            "Saving to: ‘yellow_tripdata_2021-05.parquet’\n",
            "\n",
            "yellow_tripdata_202 100%[===================>]  36.95M  85.8MB/s    in 0.4s    \n",
            "\n",
            "2025-05-10 02:52:06 (85.8 MB/s) - ‘yellow_tripdata_2021-05.parquet’ saved [38743682/38743682]\n",
            "\n",
            "--2025-05-10 02:52:06--  https://d37ci6vzurychx.cloudfront.net/trip-data/yellow_tripdata_2021-06.parquet\n",
            "Reusing existing connection to d37ci6vzurychx.cloudfront.net:443.\n",
            "HTTP request sent, awaiting response... 200 OK\n",
            "Length: 44071592 (42M) [application/x-www-form-urlencoded]\n",
            "Saving to: ‘yellow_tripdata_2021-06.parquet’\n",
            "\n",
            "yellow_tripdata_202 100%[===================>]  42.03M   108MB/s    in 0.4s    \n",
            "\n",
            "2025-05-10 02:52:06 (108 MB/s) - ‘yellow_tripdata_2021-06.parquet’ saved [44071592/44071592]\n",
            "\n",
            "--2025-05-10 02:52:06--  https://d37ci6vzurychx.cloudfront.net/trip-data/yellow_tripdata_2021-07.parquet\n",
            "Reusing existing connection to d37ci6vzurychx.cloudfront.net:443.\n",
            "HTTP request sent, awaiting response... 200 OK\n",
            "Length: 43697690 (42M) [application/x-www-form-urlencoded]\n",
            "Saving to: ‘yellow_tripdata_2021-07.parquet’\n",
            "\n",
            "yellow_tripdata_202 100%[===================>]  41.67M  39.0MB/s    in 1.1s    \n",
            "\n",
            "2025-05-10 02:52:08 (39.0 MB/s) - ‘yellow_tripdata_2021-07.parquet’ saved [43697690/43697690]\n",
            "\n",
            "--2025-05-10 02:52:08--  https://d37ci6vzurychx.cloudfront.net/trip-data/yellow_tripdata_2021-08.parquet\n",
            "Reusing existing connection to d37ci6vzurychx.cloudfront.net:443.\n",
            "HTTP request sent, awaiting response... 200 OK\n",
            "Length: 43425907 (41M) [application/x-www-form-urlencoded]\n",
            "Saving to: ‘yellow_tripdata_2021-08.parquet’\n",
            "\n",
            "yellow_tripdata_202 100%[===================>]  41.41M  40.4MB/s    in 1.0s    \n",
            "\n",
            "2025-05-10 02:52:09 (40.4 MB/s) - ‘yellow_tripdata_2021-08.parquet’ saved [43425907/43425907]\n",
            "\n",
            "--2025-05-10 02:52:09--  https://d37ci6vzurychx.cloudfront.net/trip-data/yellow_tripdata_2021-09.parquet\n",
            "Reusing existing connection to d37ci6vzurychx.cloudfront.net:443.\n",
            "HTTP request sent, awaiting response... 200 OK\n",
            "Length: 46125883 (44M) [application/x-www-form-urlencoded]\n",
            "Saving to: ‘yellow_tripdata_2021-09.parquet’\n",
            "\n",
            "yellow_tripdata_202 100%[===================>]  43.99M  43.9MB/s    in 1.0s    \n",
            "\n",
            "2025-05-10 02:52:11 (43.9 MB/s) - ‘yellow_tripdata_2021-09.parquet’ saved [46125883/46125883]\n",
            "\n",
            "--2025-05-10 02:52:11--  https://d37ci6vzurychx.cloudfront.net/trip-data/yellow_tripdata_2021-10.parquet\n",
            "Reusing existing connection to d37ci6vzurychx.cloudfront.net:443.\n",
            "HTTP request sent, awaiting response... 200 OK\n",
            "Length: 53286464 (51M) [application/x-www-form-urlencoded]\n",
            "Saving to: ‘yellow_tripdata_2021-10.parquet’\n",
            "\n",
            "yellow_tripdata_202 100%[===================>]  50.82M  39.4MB/s    in 1.3s    \n",
            "\n",
            "2025-05-10 02:52:12 (39.4 MB/s) - ‘yellow_tripdata_2021-10.parquet’ saved [53286464/53286464]\n",
            "\n",
            "--2025-05-10 02:52:12--  https://d37ci6vzurychx.cloudfront.net/trip-data/yellow_tripdata_2021-11.parquet\n",
            "Reusing existing connection to d37ci6vzurychx.cloudfront.net:443.\n",
            "HTTP request sent, awaiting response... 200 OK\n",
            "Length: 53100722 (51M) [application/x-www-form-urlencoded]\n",
            "Saving to: ‘yellow_tripdata_2021-11.parquet’\n",
            "\n",
            "yellow_tripdata_202 100%[===================>]  50.64M  38.7MB/s    in 1.3s    \n",
            "\n",
            "2025-05-10 02:52:14 (38.7 MB/s) - ‘yellow_tripdata_2021-11.parquet’ saved [53100722/53100722]\n",
            "\n",
            "--2025-05-10 02:52:14--  https://d37ci6vzurychx.cloudfront.net/trip-data/yellow_tripdata_2021-12.parquet\n",
            "Reusing existing connection to d37ci6vzurychx.cloudfront.net:443.\n",
            "HTTP request sent, awaiting response... 200 OK\n",
            "Length: 49639052 (47M) [application/x-www-form-urlencoded]\n",
            "Saving to: ‘yellow_tripdata_2021-12.parquet’\n",
            "\n",
            "yellow_tripdata_202 100%[===================>]  47.34M  38.1MB/s    in 1.2s    \n",
            "\n",
            "2025-05-10 02:52:15 (38.1 MB/s) - ‘yellow_tripdata_2021-12.parquet’ saved [49639052/49639052]\n",
            "\n",
            "--2025-05-10 02:52:15--  https://d37ci6vzurychx.cloudfront.net/trip-data/yellow_tripdata_2022-01.parquet\n",
            "Reusing existing connection to d37ci6vzurychx.cloudfront.net:443.\n",
            "HTTP request sent, awaiting response... 200 OK\n",
            "Length: 38139949 (36M) [application/x-www-form-urlencoded]\n",
            "Saving to: ‘yellow_tripdata_2022-01.parquet’\n",
            "\n",
            "yellow_tripdata_202 100%[===================>]  36.37M  81.6MB/s    in 0.4s    \n",
            "\n",
            "2025-05-10 02:52:16 (81.6 MB/s) - ‘yellow_tripdata_2022-01.parquet’ saved [38139949/38139949]\n",
            "\n",
            "--2025-05-10 02:52:16--  https://d37ci6vzurychx.cloudfront.net/trip-data/yellow_tripdata_2022-02.parquet\n",
            "Reusing existing connection to d37ci6vzurychx.cloudfront.net:443.\n",
            "HTTP request sent, awaiting response... 200 OK\n",
            "Length: 45616512 (44M) [application/x-www-form-urlencoded]\n",
            "Saving to: ‘yellow_tripdata_2022-02.parquet’\n",
            "\n",
            "yellow_tripdata_202 100%[===================>]  43.50M  81.0MB/s    in 0.5s    \n",
            "\n",
            "2025-05-10 02:52:17 (81.0 MB/s) - ‘yellow_tripdata_2022-02.parquet’ saved [45616512/45616512]\n",
            "\n",
            "--2025-05-10 02:52:17--  https://d37ci6vzurychx.cloudfront.net/trip-data/yellow_tripdata_2022-03.parquet\n",
            "Reusing existing connection to d37ci6vzurychx.cloudfront.net:443.\n",
            "HTTP request sent, awaiting response... 200 OK\n",
            "Length: 55682369 (53M) [application/x-www-form-urlencoded]\n",
            "Saving to: ‘yellow_tripdata_2022-03.parquet’\n",
            "\n",
            "yellow_tripdata_202 100%[===================>]  53.10M  42.3MB/s    in 1.3s    \n",
            "\n",
            "2025-05-10 02:52:18 (42.3 MB/s) - ‘yellow_tripdata_2022-03.parquet’ saved [55682369/55682369]\n",
            "\n",
            "--2025-05-10 02:52:18--  https://d37ci6vzurychx.cloudfront.net/trip-data/yellow_tripdata_2022-04.parquet\n",
            "Reusing existing connection to d37ci6vzurychx.cloudfront.net:443.\n",
            "HTTP request sent, awaiting response... 200 OK\n",
            "Length: 55222692 (53M) [application/x-www-form-urlencoded]\n",
            "Saving to: ‘yellow_tripdata_2022-04.parquet’\n",
            "\n",
            "yellow_tripdata_202 100%[===================>]  52.66M  40.3MB/s    in 1.3s    \n",
            "\n",
            "2025-05-10 02:52:20 (40.3 MB/s) - ‘yellow_tripdata_2022-04.parquet’ saved [55222692/55222692]\n",
            "\n",
            "--2025-05-10 02:52:20--  https://d37ci6vzurychx.cloudfront.net/trip-data/yellow_tripdata_2022-05.parquet\n",
            "Reusing existing connection to d37ci6vzurychx.cloudfront.net:443.\n",
            "HTTP request sent, awaiting response... 200 OK\n",
            "Length: 55558821 (53M) [application/x-www-form-urlencoded]\n",
            "Saving to: ‘yellow_tripdata_2022-05.parquet’\n",
            "\n",
            "yellow_tripdata_202 100%[===================>]  52.98M   178MB/s    in 0.3s    \n",
            "\n",
            "2025-05-10 02:52:20 (178 MB/s) - ‘yellow_tripdata_2022-05.parquet’ saved [55558821/55558821]\n",
            "\n",
            "--2025-05-10 02:52:20--  https://d37ci6vzurychx.cloudfront.net/trip-data/yellow_tripdata_2022-06.parquet\n",
            "Reusing existing connection to d37ci6vzurychx.cloudfront.net:443.\n",
            "HTTP request sent, awaiting response... 200 OK\n",
            "Length: 55365184 (53M) [application/x-www-form-urlencoded]\n",
            "Saving to: ‘yellow_tripdata_2022-06.parquet’\n",
            "\n",
            "yellow_tripdata_202 100%[===================>]  52.80M   145MB/s    in 0.4s    \n",
            "\n",
            "2025-05-10 02:52:21 (145 MB/s) - ‘yellow_tripdata_2022-06.parquet’ saved [55365184/55365184]\n",
            "\n",
            "--2025-05-10 02:52:21--  https://d37ci6vzurychx.cloudfront.net/trip-data/yellow_tripdata_2022-07.parquet\n",
            "Reusing existing connection to d37ci6vzurychx.cloudfront.net:443.\n",
            "HTTP request sent, awaiting response... 200 OK\n",
            "Length: 49367712 (47M) [application/x-www-form-urlencoded]\n",
            "Saving to: ‘yellow_tripdata_2022-07.parquet’\n",
            "\n",
            "yellow_tripdata_202 100%[===================>]  47.08M  44.7MB/s    in 1.1s    \n",
            "\n",
            "2025-05-10 02:52:22 (44.7 MB/s) - ‘yellow_tripdata_2022-07.parquet’ saved [49367712/49367712]\n",
            "\n",
            "--2025-05-10 02:52:22--  https://d37ci6vzurychx.cloudfront.net/trip-data/yellow_tripdata_2022-08.parquet\n",
            "Reusing existing connection to d37ci6vzurychx.cloudfront.net:443.\n",
            "HTTP request sent, awaiting response... 200 OK\n",
            "Length: 49717159 (47M) [application/x-www-form-urlencoded]\n",
            "Saving to: ‘yellow_tripdata_2022-08.parquet’\n",
            "\n",
            "yellow_tripdata_202 100%[===================>]  47.41M  40.8MB/s    in 1.2s    \n",
            "\n",
            "2025-05-10 02:52:24 (40.8 MB/s) - ‘yellow_tripdata_2022-08.parquet’ saved [49717159/49717159]\n",
            "\n",
            "--2025-05-10 02:52:24--  https://d37ci6vzurychx.cloudfront.net/trip-data/yellow_tripdata_2022-09.parquet\n",
            "Reusing existing connection to d37ci6vzurychx.cloudfront.net:443.\n",
            "HTTP request sent, awaiting response... 200 OK\n",
            "Length: 49619957 (47M) [application/x-www-form-urlencoded]\n",
            "Saving to: ‘yellow_tripdata_2022-09.parquet’\n",
            "\n",
            "yellow_tripdata_202 100%[===================>]  47.32M  84.5MB/s    in 0.6s    \n",
            "\n",
            "2025-05-10 02:52:25 (84.5 MB/s) - ‘yellow_tripdata_2022-09.parquet’ saved [49619957/49619957]\n",
            "\n",
            "--2025-05-10 02:52:25--  https://d37ci6vzurychx.cloudfront.net/trip-data/yellow_tripdata_2022-10.parquet\n",
            "Reusing existing connection to d37ci6vzurychx.cloudfront.net:443.\n",
            "HTTP request sent, awaiting response... 200 OK\n",
            "Length: 57061938 (54M) [application/x-www-form-urlencoded]\n",
            "Saving to: ‘yellow_tripdata_2022-10.parquet’\n",
            "\n",
            "yellow_tripdata_202 100%[===================>]  54.42M   155MB/s    in 0.4s    \n",
            "\n",
            "2025-05-10 02:52:25 (155 MB/s) - ‘yellow_tripdata_2022-10.parquet’ saved [57061938/57061938]\n",
            "\n",
            "--2025-05-10 02:52:25--  https://d37ci6vzurychx.cloudfront.net/trip-data/yellow_tripdata_2022-11.parquet\n",
            "Reusing existing connection to d37ci6vzurychx.cloudfront.net:443.\n",
            "HTTP request sent, awaiting response... 200 OK\n",
            "Length: 50106631 (48M) [application/x-www-form-urlencoded]\n",
            "Saving to: ‘yellow_tripdata_2022-11.parquet’\n",
            "\n",
            "yellow_tripdata_202 100%[===================>]  47.79M  42.3MB/s    in 1.1s    \n",
            "\n",
            "2025-05-10 02:52:27 (42.3 MB/s) - ‘yellow_tripdata_2022-11.parquet’ saved [50106631/50106631]\n",
            "\n",
            "--2025-05-10 02:52:27--  https://d37ci6vzurychx.cloudfront.net/trip-data/yellow_tripdata_2022-12.parquet\n",
            "Reusing existing connection to d37ci6vzurychx.cloudfront.net:443.\n",
            "HTTP request sent, awaiting response... 200 OK\n",
            "Length: 53640739 (51M) [application/x-www-form-urlencoded]\n",
            "Saving to: ‘yellow_tripdata_2022-12.parquet’\n",
            "\n",
            "yellow_tripdata_202 100%[===================>]  51.16M  81.2MB/s    in 0.6s    \n",
            "\n",
            "2025-05-10 02:52:28 (81.2 MB/s) - ‘yellow_tripdata_2022-12.parquet’ saved [53640739/53640739]\n",
            "\n",
            "--2025-05-10 02:52:28--  https://d37ci6vzurychx.cloudfront.net/trip-data/yellow_tripdata_2023-01.parquet\n",
            "Reusing existing connection to d37ci6vzurychx.cloudfront.net:443.\n",
            "HTTP request sent, awaiting response... 200 OK\n",
            "Length: 47673370 (45M) [application/x-www-form-urlencoded]\n",
            "Saving to: ‘yellow_tripdata_2023-01.parquet’\n",
            "\n",
            "yellow_tripdata_202 100%[===================>]  45.46M  40.5MB/s    in 1.1s    \n",
            "\n",
            "2025-05-10 02:52:29 (40.5 MB/s) - ‘yellow_tripdata_2023-01.parquet’ saved [47673370/47673370]\n",
            "\n",
            "--2025-05-10 02:52:29--  https://d37ci6vzurychx.cloudfront.net/trip-data/yellow_tripdata_2023-02.parquet\n",
            "Reusing existing connection to d37ci6vzurychx.cloudfront.net:443.\n",
            "HTTP request sent, awaiting response... 200 OK\n",
            "Length: 47748012 (46M) [application/x-www-form-urlencoded]\n",
            "Saving to: ‘yellow_tripdata_2023-02.parquet’\n",
            "\n",
            "yellow_tripdata_202 100%[===================>]  45.54M  74.5MB/s    in 0.6s    \n",
            "\n",
            "2025-05-10 02:52:30 (74.5 MB/s) - ‘yellow_tripdata_2023-02.parquet’ saved [47748012/47748012]\n",
            "\n",
            "--2025-05-10 02:52:30--  https://d37ci6vzurychx.cloudfront.net/trip-data/yellow_tripdata_2023-03.parquet\n",
            "Reusing existing connection to d37ci6vzurychx.cloudfront.net:443.\n",
            "HTTP request sent, awaiting response... 200 OK\n",
            "Length: 56127762 (54M) [binary/octet-stream]\n",
            "Saving to: ‘yellow_tripdata_2023-03.parquet’\n",
            "\n",
            "yellow_tripdata_202 100%[===================>]  53.53M  74.1MB/s    in 0.7s    \n",
            "\n",
            "2025-05-10 02:52:31 (74.1 MB/s) - ‘yellow_tripdata_2023-03.parquet’ saved [56127762/56127762]\n",
            "\n",
            "--2025-05-10 02:52:31--  https://d37ci6vzurychx.cloudfront.net/trip-data/yellow_tripdata_2023-04.parquet\n",
            "Reusing existing connection to d37ci6vzurychx.cloudfront.net:443.\n",
            "HTTP request sent, awaiting response... 200 OK\n",
            "Length: 54222699 (52M) [binary/octet-stream]\n",
            "Saving to: ‘yellow_tripdata_2023-04.parquet’\n",
            "\n",
            "yellow_tripdata_202 100%[===================>]  51.71M   146MB/s    in 0.4s    \n",
            "\n",
            "2025-05-10 02:52:31 (146 MB/s) - ‘yellow_tripdata_2023-04.parquet’ saved [54222699/54222699]\n",
            "\n",
            "--2025-05-10 02:52:31--  https://d37ci6vzurychx.cloudfront.net/trip-data/yellow_tripdata_2023-05.parquet\n",
            "Reusing existing connection to d37ci6vzurychx.cloudfront.net:443.\n",
            "HTTP request sent, awaiting response... 200 OK\n",
            "Length: 58654627 (56M) [binary/octet-stream]\n",
            "Saving to: ‘yellow_tripdata_2023-05.parquet’\n",
            "\n",
            "yellow_tripdata_202 100%[===================>]  55.94M  34.2MB/s    in 1.6s    \n",
            "\n",
            "2025-05-10 02:52:33 (34.2 MB/s) - ‘yellow_tripdata_2023-05.parquet’ saved [58654627/58654627]\n",
            "\n",
            "--2025-05-10 02:52:33--  https://d37ci6vzurychx.cloudfront.net/trip-data/yellow_tripdata_2023-06.parquet\n",
            "Reusing existing connection to d37ci6vzurychx.cloudfront.net:443.\n",
            "HTTP request sent, awaiting response... 200 OK\n",
            "Length: 54999465 (52M) [binary/octet-stream]\n",
            "Saving to: ‘yellow_tripdata_2023-06.parquet’\n",
            "\n",
            "yellow_tripdata_202 100%[===================>]  52.45M   179MB/s    in 0.3s    \n",
            "\n",
            "2025-05-10 02:52:34 (179 MB/s) - ‘yellow_tripdata_2023-06.parquet’ saved [54999465/54999465]\n",
            "\n",
            "--2025-05-10 02:52:34--  https://d37ci6vzurychx.cloudfront.net/trip-data/yellow_tripdata_2023-07.parquet\n",
            "Reusing existing connection to d37ci6vzurychx.cloudfront.net:443.\n",
            "HTTP request sent, awaiting response... 200 OK\n",
            "Length: 48361828 (46M) [binary/octet-stream]\n",
            "Saving to: ‘yellow_tripdata_2023-07.parquet’\n",
            "\n",
            "yellow_tripdata_202 100%[===================>]  46.12M  51.5MB/s    in 0.9s    \n",
            "\n",
            "2025-05-10 02:52:35 (51.5 MB/s) - ‘yellow_tripdata_2023-07.parquet’ saved [48361828/48361828]\n",
            "\n",
            "--2025-05-10 02:52:35--  https://d37ci6vzurychx.cloudfront.net/trip-data/yellow_tripdata_2023-08.parquet\n",
            "Reusing existing connection to d37ci6vzurychx.cloudfront.net:443.\n",
            "HTTP request sent, awaiting response... 200 OK\n",
            "Length: 48152353 (46M) [binary/octet-stream]\n",
            "Saving to: ‘yellow_tripdata_2023-08.parquet’\n",
            "\n",
            "yellow_tripdata_202 100%[===================>]  45.92M   163MB/s    in 0.3s    \n",
            "\n",
            "2025-05-10 02:52:36 (163 MB/s) - ‘yellow_tripdata_2023-08.parquet’ saved [48152353/48152353]\n",
            "\n",
            "--2025-05-10 02:52:36--  https://d37ci6vzurychx.cloudfront.net/trip-data/yellow_tripdata_2023-09.parquet\n",
            "Reusing existing connection to d37ci6vzurychx.cloudfront.net:443.\n",
            "HTTP request sent, awaiting response... 200 OK\n",
            "Length: 47895515 (46M) [binary/octet-stream]\n",
            "Saving to: ‘yellow_tripdata_2023-09.parquet’\n",
            "\n",
            "yellow_tripdata_202 100%[===================>]  45.68M  78.8MB/s    in 0.6s    \n",
            "\n",
            "2025-05-10 02:52:36 (78.8 MB/s) - ‘yellow_tripdata_2023-09.parquet’ saved [47895515/47895515]\n",
            "\n",
            "--2025-05-10 02:52:36--  https://d37ci6vzurychx.cloudfront.net/trip-data/yellow_tripdata_2023-10.parquet\n",
            "Reusing existing connection to d37ci6vzurychx.cloudfront.net:443.\n",
            "HTTP request sent, awaiting response... 200 OK\n",
            "Length: 59009059 (56M) [binary/octet-stream]\n",
            "Saving to: ‘yellow_tripdata_2023-10.parquet’\n",
            "\n",
            "yellow_tripdata_202 100%[===================>]  56.28M  46.4MB/s    in 1.2s    \n",
            "\n",
            "2025-05-10 02:52:38 (46.4 MB/s) - ‘yellow_tripdata_2023-10.parquet’ saved [59009059/59009059]\n",
            "\n",
            "--2025-05-10 02:52:38--  https://d37ci6vzurychx.cloudfront.net/trip-data/yellow_tripdata_2023-11.parquet\n",
            "Reusing existing connection to d37ci6vzurychx.cloudfront.net:443.\n",
            "HTTP request sent, awaiting response... 200 OK\n",
            "Length: 56094653 (53M) [binary/octet-stream]\n",
            "Saving to: ‘yellow_tripdata_2023-11.parquet’\n",
            "\n",
            "yellow_tripdata_202 100%[===================>]  53.50M  39.2MB/s    in 1.4s    \n",
            "\n",
            "2025-05-10 02:52:40 (39.2 MB/s) - ‘yellow_tripdata_2023-11.parquet’ saved [56094653/56094653]\n",
            "\n",
            "--2025-05-10 02:52:40--  https://d37ci6vzurychx.cloudfront.net/trip-data/yellow_tripdata_2023-12.parquet\n",
            "Reusing existing connection to d37ci6vzurychx.cloudfront.net:443.\n",
            "HTTP request sent, awaiting response... 200 OK\n",
            "Length: 56804275 (54M) [binary/octet-stream]\n",
            "Saving to: ‘yellow_tripdata_2023-12.parquet’\n",
            "\n",
            "yellow_tripdata_202 100%[===================>]  54.17M   126MB/s    in 0.4s    \n",
            "\n",
            "2025-05-10 02:52:40 (126 MB/s) - ‘yellow_tripdata_2023-12.parquet’ saved [56804275/56804275]\n",
            "\n",
            "--2025-05-10 02:52:40--  https://d37ci6vzurychx.cloudfront.net/trip-data/yellow_tripdata_2024-01.parquet\n",
            "Reusing existing connection to d37ci6vzurychx.cloudfront.net:443.\n",
            "HTTP request sent, awaiting response... 200 OK\n",
            "Length: 49961641 (48M) [binary/octet-stream]\n",
            "Saving to: ‘yellow_tripdata_2024-01.parquet’\n",
            "\n",
            "yellow_tripdata_202 100%[===================>]  47.65M  82.4MB/s    in 0.6s    \n",
            "\n",
            "2025-05-10 02:52:41 (82.4 MB/s) - ‘yellow_tripdata_2024-01.parquet’ saved [49961641/49961641]\n",
            "\n",
            "--2025-05-10 02:52:41--  https://d37ci6vzurychx.cloudfront.net/trip-data/yellow_tripdata_2024-02.parquet\n",
            "Reusing existing connection to d37ci6vzurychx.cloudfront.net:443.\n",
            "HTTP request sent, awaiting response... 200 OK\n",
            "Length: 50349284 (48M) [binary/octet-stream]\n",
            "Saving to: ‘yellow_tripdata_2024-02.parquet’\n",
            "\n",
            "yellow_tripdata_202 100%[===================>]  48.02M  78.5MB/s    in 0.6s    \n",
            "\n",
            "2025-05-10 02:52:42 (78.5 MB/s) - ‘yellow_tripdata_2024-02.parquet’ saved [50349284/50349284]\n",
            "\n",
            "--2025-05-10 02:52:42--  https://d37ci6vzurychx.cloudfront.net/trip-data/yellow_tripdata_2024-03.parquet\n",
            "Reusing existing connection to d37ci6vzurychx.cloudfront.net:443.\n",
            "HTTP request sent, awaiting response... 200 OK\n",
            "Length: 60078280 (57M) [binary/octet-stream]\n",
            "Saving to: ‘yellow_tripdata_2024-03.parquet’\n",
            "\n",
            "yellow_tripdata_202 100%[===================>]  57.29M  44.0MB/s    in 1.3s    \n",
            "\n",
            "2025-05-10 02:52:43 (44.0 MB/s) - ‘yellow_tripdata_2024-03.parquet’ saved [60078280/60078280]\n",
            "\n",
            "--2025-05-10 02:52:43--  https://d37ci6vzurychx.cloudfront.net/trip-data/yellow_tripdata_2024-04.parquet\n",
            "Reusing existing connection to d37ci6vzurychx.cloudfront.net:443.\n",
            "HTTP request sent, awaiting response... 200 OK\n",
            "Length: 59133625 (56M) [binary/octet-stream]\n",
            "Saving to: ‘yellow_tripdata_2024-04.parquet’\n",
            "\n",
            "yellow_tripdata_202 100%[===================>]  56.39M  84.0MB/s    in 0.7s    \n",
            "\n",
            "2025-05-10 02:52:44 (84.0 MB/s) - ‘yellow_tripdata_2024-04.parquet’ saved [59133625/59133625]\n",
            "\n",
            "--2025-05-10 02:52:44--  https://d37ci6vzurychx.cloudfront.net/trip-data/yellow_tripdata_2024-05.parquet\n",
            "Reusing existing connection to d37ci6vzurychx.cloudfront.net:443.\n",
            "HTTP request sent, awaiting response... 200 OK\n",
            "Length: 62553128 (60M) [binary/octet-stream]\n",
            "Saving to: ‘yellow_tripdata_2024-05.parquet’\n",
            "\n",
            "yellow_tripdata_202 100%[===================>]  59.66M  45.2MB/s    in 1.3s    \n",
            "\n",
            "2025-05-10 02:52:46 (45.2 MB/s) - ‘yellow_tripdata_2024-05.parquet’ saved [62553128/62553128]\n",
            "\n",
            "--2025-05-10 02:52:46--  https://d37ci6vzurychx.cloudfront.net/trip-data/yellow_tripdata_2024-06.parquet\n",
            "Reusing existing connection to d37ci6vzurychx.cloudfront.net:443.\n",
            "HTTP request sent, awaiting response... 200 OK\n",
            "Length: 59859922 (57M) [binary/octet-stream]\n",
            "Saving to: ‘yellow_tripdata_2024-06.parquet’\n",
            "\n",
            "yellow_tripdata_202 100%[===================>]  57.09M   173MB/s    in 0.3s    \n",
            "\n",
            "2025-05-10 02:52:46 (173 MB/s) - ‘yellow_tripdata_2024-06.parquet’ saved [59859922/59859922]\n",
            "\n",
            "--2025-05-10 02:52:46--  https://d37ci6vzurychx.cloudfront.net/trip-data/yellow_tripdata_2024-07.parquet\n",
            "Reusing existing connection to d37ci6vzurychx.cloudfront.net:443.\n",
            "HTTP request sent, awaiting response... 200 OK\n",
            "Length: 52299432 (50M) [binary/octet-stream]\n",
            "Saving to: ‘yellow_tripdata_2024-07.parquet’\n",
            "\n",
            "yellow_tripdata_202 100%[===================>]  49.88M  41.0MB/s    in 1.2s    \n",
            "\n",
            "2025-05-10 02:52:48 (41.0 MB/s) - ‘yellow_tripdata_2024-07.parquet’ saved [52299432/52299432]\n",
            "\n",
            "--2025-05-10 02:52:48--  https://d37ci6vzurychx.cloudfront.net/trip-data/yellow_tripdata_2024-08.parquet\n",
            "Reusing existing connection to d37ci6vzurychx.cloudfront.net:443.\n",
            "HTTP request sent, awaiting response... 200 OK\n",
            "Length: 51067350 (49M) [binary/octet-stream]\n",
            "Saving to: ‘yellow_tripdata_2024-08.parquet’\n",
            "\n",
            "yellow_tripdata_202 100%[===================>]  48.70M  42.2MB/s    in 1.2s    \n",
            "\n",
            "2025-05-10 02:52:49 (42.2 MB/s) - ‘yellow_tripdata_2024-08.parquet’ saved [51067350/51067350]\n",
            "\n",
            "--2025-05-10 02:52:49--  https://d37ci6vzurychx.cloudfront.net/trip-data/yellow_tripdata_2024-09.parquet\n",
            "Reusing existing connection to d37ci6vzurychx.cloudfront.net:443.\n",
            "HTTP request sent, awaiting response... 200 OK\n",
            "Length: 61170186 (58M) [binary/octet-stream]\n",
            "Saving to: ‘yellow_tripdata_2024-09.parquet’\n",
            "\n",
            "yellow_tripdata_202 100%[===================>]  58.34M  39.8MB/s    in 1.5s    \n",
            "\n",
            "2025-05-10 02:52:51 (39.8 MB/s) - ‘yellow_tripdata_2024-09.parquet’ saved [61170186/61170186]\n",
            "\n",
            "--2025-05-10 02:52:51--  https://d37ci6vzurychx.cloudfront.net/trip-data/yellow_tripdata_2024-10.parquet\n",
            "Reusing existing connection to d37ci6vzurychx.cloudfront.net:443.\n",
            "HTTP request sent, awaiting response... 200 OK\n",
            "Length: 64346071 (61M) [binary/octet-stream]\n",
            "Saving to: ‘yellow_tripdata_2024-10.parquet’\n",
            "\n",
            "yellow_tripdata_202 100%[===================>]  61.36M  76.9MB/s    in 0.8s    \n",
            "\n",
            "2025-05-10 02:52:52 (76.9 MB/s) - ‘yellow_tripdata_2024-10.parquet’ saved [64346071/64346071]\n",
            "\n",
            "--2025-05-10 02:52:52--  https://d37ci6vzurychx.cloudfront.net/trip-data/yellow_tripdata_2024-11.parquet\n",
            "Reusing existing connection to d37ci6vzurychx.cloudfront.net:443.\n",
            "HTTP request sent, awaiting response... 200 OK\n",
            "Length: 60658709 (58M) [binary/octet-stream]\n",
            "Saving to: ‘yellow_tripdata_2024-11.parquet’\n",
            "\n",
            "yellow_tripdata_202 100%[===================>]  57.85M  39.2MB/s    in 1.5s    \n",
            "\n",
            "2025-05-10 02:52:54 (39.2 MB/s) - ‘yellow_tripdata_2024-11.parquet’ saved [60658709/60658709]\n",
            "\n",
            "--2025-05-10 02:52:54--  https://d37ci6vzurychx.cloudfront.net/trip-data/yellow_tripdata_2024-12.parquet\n",
            "Reusing existing connection to d37ci6vzurychx.cloudfront.net:443.\n",
            "HTTP request sent, awaiting response... 200 OK\n",
            "Length: 61524085 (59M) [binary/octet-stream]\n",
            "Saving to: ‘yellow_tripdata_2024-12.parquet’\n",
            "\n",
            "yellow_tripdata_202 100%[===================>]  58.67M  78.5MB/s    in 0.7s    \n",
            "\n",
            "2025-05-10 02:52:55 (78.5 MB/s) - ‘yellow_tripdata_2024-12.parquet’ saved [61524085/61524085]\n",
            "\n",
            "FINISHED --2025-05-10 02:52:55--\n",
            "Total wall clock time: 1m 46s\n",
            "Downloaded: 72 files, 3.8G in 1m 26s (44.9 MB/s)\n"
          ]
        }
      ]
    },
    {
      "cell_type": "markdown",
      "metadata": {
        "id": "no367dBdlvSR"
      },
      "source": [
        "Downloading location data"
      ]
    },
    {
      "cell_type": "code",
      "execution_count": null,
      "metadata": {
        "id": "KZcSd8qEluPd",
        "colab": {
          "base_uri": "https://localhost:8080/"
        },
        "outputId": "45c9ef6f-5c10-43d8-c6d7-83ac9cbe0074"
      },
      "outputs": [
        {
          "output_type": "stream",
          "name": "stdout",
          "text": [
            "--2025-05-10 02:52:55--  https://d37ci6vzurychx.cloudfront.net/misc/taxi_zones.zip\n",
            "Resolving d37ci6vzurychx.cloudfront.net (d37ci6vzurychx.cloudfront.net)... 52.84.160.84, 52.84.160.213, 52.84.160.116, ...\n",
            "Connecting to d37ci6vzurychx.cloudfront.net (d37ci6vzurychx.cloudfront.net)|52.84.160.84|:443... connected.\n",
            "HTTP request sent, awaiting response... 200 OK\n",
            "Length: 1025147 (1001K) [application/zip]\n",
            "Saving to: ‘taxi_zones.zip’\n",
            "\n",
            "taxi_zones.zip      100%[===================>]   1001K  3.24MB/s    in 0.3s    \n",
            "\n",
            "2025-05-10 02:52:56 (3.24 MB/s) - ‘taxi_zones.zip’ saved [1025147/1025147]\n",
            "\n",
            "--2025-05-10 02:52:56--  https://d37ci6vzurychx.cloudfront.net/misc/taxi_zone_lookup.csv\n",
            "Resolving d37ci6vzurychx.cloudfront.net (d37ci6vzurychx.cloudfront.net)... 52.84.160.84, 52.84.160.213, 52.84.160.116, ...\n",
            "Connecting to d37ci6vzurychx.cloudfront.net (d37ci6vzurychx.cloudfront.net)|52.84.160.84|:443... connected.\n",
            "HTTP request sent, awaiting response... 200 OK\n",
            "Length: 12331 (12K) [text/csv]\n",
            "Saving to: ‘taxi_zone_lookup.csv’\n",
            "\n",
            "taxi_zone_lookup.cs 100%[===================>]  12.04K  --.-KB/s    in 0s      \n",
            "\n",
            "2025-05-10 02:52:56 (242 MB/s) - ‘taxi_zone_lookup.csv’ saved [12331/12331]\n",
            "\n",
            "Archive:  taxi_zones.zip\n",
            "  inflating: taxi_zones.prj          \n",
            "  inflating: taxi_zones.dbf          \n",
            "  inflating: taxi_zones.shp          \n",
            "  inflating: taxi_zones.shp.xml      \n",
            "  inflating: taxi_zones.shx          \n",
            "  inflating: taxi_zones.sbn          \n",
            "  inflating: taxi_zones.sbx          \n"
          ]
        }
      ],
      "source": [
        "!wget -nc 'https://d37ci6vzurychx.cloudfront.net/misc/taxi_zones.zip'\n",
        "!wget -nc 'https://d37ci6vzurychx.cloudfront.net/misc/taxi_zone_lookup.csv'\n",
        "!unzip -n taxi_zones.zip"
      ]
    },
    {
      "cell_type": "markdown",
      "metadata": {
        "id": "TZBhoiTjMx_7"
      },
      "source": [
        "### Loading the data\n",
        "There are 3 different schema versions, 2009, 2010 and 2011 onwards.\n",
        "\n",
        "The oldest schemas will be transformed into the lastest version, some columns may be dropped"
      ]
    },
    {
      "cell_type": "markdown",
      "metadata": {
        "id": "N3bqoTy3beV1"
      },
      "source": [
        "#### Recent schema, 2011 onwards"
      ]
    },
    {
      "cell_type": "code",
      "execution_count": null,
      "metadata": {
        "id": "Jhvh7TTlIi1g"
      },
      "outputs": [],
      "source": [
        "parquet_files=[]\n",
        "for i in range(11,25):\n",
        "  parquet_files.extend(glob.glob( f'*20{str(i)}*.parquet'))\n",
        "parquet_files.sort()  # Ensure sequential order\n",
        "\n",
        "#parquet_files =['yellow_tripdata_2011-01.parquet']"
      ]
    },
    {
      "cell_type": "code",
      "execution_count": null,
      "metadata": {
        "id": "dlvi9JbxBD5h"
      },
      "outputs": [],
      "source": [
        "df3 = None\n",
        "for file_path in parquet_files:\n",
        "    if df3 is None:\n",
        "        df3 = spark.read.parquet(file_path)\n",
        "    else:\n",
        "        #df = spark.read.parquet(file_path)\n",
        "        df3 = df3.union(spark.read.parquet(file_path))"
      ]
    },
    {
      "cell_type": "code",
      "execution_count": null,
      "metadata": {
        "colab": {
          "base_uri": "https://localhost:8080/"
        },
        "id": "KHkErTl-ZYgM",
        "outputId": "bc2c9552-470e-4484-d274-bc2b2a14188e"
      },
      "outputs": [
        {
          "output_type": "execute_result",
          "data": {
            "text/plain": [
              "[('VendorID', 'bigint'),\n",
              " ('tpep_pickup_datetime', 'timestamp_ntz'),\n",
              " ('tpep_dropoff_datetime', 'timestamp_ntz'),\n",
              " ('passenger_count', 'double'),\n",
              " ('trip_distance', 'double'),\n",
              " ('RatecodeID', 'double'),\n",
              " ('store_and_fwd_flag', 'string'),\n",
              " ('PULocationID', 'bigint'),\n",
              " ('DOLocationID', 'bigint'),\n",
              " ('payment_type', 'bigint'),\n",
              " ('fare_amount', 'double'),\n",
              " ('extra', 'double'),\n",
              " ('mta_tax', 'double'),\n",
              " ('tip_amount', 'double'),\n",
              " ('tolls_amount', 'double'),\n",
              " ('improvement_surcharge', 'double'),\n",
              " ('total_amount', 'double'),\n",
              " ('congestion_surcharge', 'double'),\n",
              " ('airport_fee', 'double')]"
            ]
          },
          "metadata": {},
          "execution_count": 10
        }
      ],
      "source": [
        "df3.dtypes"
      ]
    },
    {
      "cell_type": "markdown",
      "metadata": {
        "id": "d-OEQb6BAMTW"
      },
      "source": [
        "Dropping column that are not interesting"
      ]
    },
    {
      "cell_type": "code",
      "execution_count": null,
      "metadata": {
        "id": "fCR48iuemQEQ"
      },
      "outputs": [],
      "source": [
        "df3 = df3.drop('airport_fee').drop('store_and_fwd_flag').drop('airport_fee').drop('RatecodeID').drop('improvement_surcharge').drop('congestion_surcharge')\\\n",
        "      .drop('extra').drop('mta_tax').drop('tolls_amount').drop('total_amount').drop('VendorID')"
      ]
    },
    {
      "cell_type": "markdown",
      "metadata": {
        "id": "m0GcF7uPAWg7"
      },
      "source": [
        "Casting to Short Int whereever possible to save memory"
      ]
    },
    {
      "cell_type": "code",
      "execution_count": null,
      "metadata": {
        "id": "ELCXAbS8xFt4"
      },
      "outputs": [],
      "source": [
        "df3 = df3.withColumn('PULocationID', col('PULocationID').cast(ShortType()))\\\n",
        ".withColumn('DOLocationID', col('DOLocationID').cast(ShortType()))\\\n",
        ".withColumn('payment_type', col('payment_type').cast(ShortType()))\\\n",
        ".withColumn('passenger_count', col('passenger_count').cast(ShortType()))"
      ]
    },
    {
      "cell_type": "code",
      "execution_count": null,
      "metadata": {
        "id": "MttVXIw6VUyC",
        "colab": {
          "base_uri": "https://localhost:8080/"
        },
        "outputId": "8c64bc70-2bb0-47ba-f7a0-568b8f830ab6"
      },
      "outputs": [
        {
          "output_type": "execute_result",
          "data": {
            "text/plain": [
              "1438340823"
            ]
          },
          "metadata": {},
          "execution_count": 13
        }
      ],
      "source": [
        "df3.count()"
      ]
    },
    {
      "cell_type": "markdown",
      "metadata": {
        "id": "XWYEyx3vVVz8"
      },
      "source": [
        "#### 2009 Schema"
      ]
    },
    {
      "cell_type": "code",
      "execution_count": null,
      "metadata": {
        "id": "4_mHlzQ6Yppi"
      },
      "outputs": [],
      "source": [
        "parquet_files=[]\n",
        "\n",
        "parquet_files.extend(glob.glob( f'*2009*.parquet'))\n",
        "parquet_files.sort()  # Ensure sequential order\n",
        "\n",
        "df1 = None\n",
        "for file_path in parquet_files:\n",
        "    if df1 is None:\n",
        "        df1 = spark.read.parquet(file_path)\n",
        "    else:\n",
        "       df1 = df1.union(spark.read.parquet(file_path))"
      ]
    },
    {
      "cell_type": "code",
      "execution_count": null,
      "metadata": {
        "id": "53ZoZpWkRdFP",
        "colab": {
          "base_uri": "https://localhost:8080/"
        },
        "outputId": "1b9dd683-4e3b-4fba-8ba7-a74a0ab51a19"
      },
      "outputs": [
        {
          "output_type": "execute_result",
          "data": {
            "text/plain": [
              "[('vendor_name', 'string'),\n",
              " ('Trip_Pickup_DateTime', 'string'),\n",
              " ('Trip_Dropoff_DateTime', 'string'),\n",
              " ('Passenger_Count', 'bigint'),\n",
              " ('Trip_Distance', 'double'),\n",
              " ('Start_Lon', 'double'),\n",
              " ('Start_Lat', 'double'),\n",
              " ('Rate_Code', 'double'),\n",
              " ('store_and_forward', 'double'),\n",
              " ('End_Lon', 'double'),\n",
              " ('End_Lat', 'double'),\n",
              " ('Payment_Type', 'string'),\n",
              " ('Fare_Amt', 'double'),\n",
              " ('surcharge', 'double'),\n",
              " ('mta_tax', 'double'),\n",
              " ('Tip_Amt', 'double'),\n",
              " ('Tolls_Amt', 'double'),\n",
              " ('Total_Amt', 'double')]"
            ]
          },
          "metadata": {},
          "execution_count": 15
        }
      ],
      "source": [
        "df1.dtypes"
      ]
    },
    {
      "cell_type": "code",
      "execution_count": null,
      "metadata": {
        "id": "naq_6lvgV8cp",
        "colab": {
          "base_uri": "https://localhost:8080/"
        },
        "outputId": "927e245b-a1e5-4ed6-dac6-80eda98860a8"
      },
      "outputs": [
        {
          "output_type": "execute_result",
          "data": {
            "text/plain": [
              "170896055"
            ]
          },
          "metadata": {},
          "execution_count": 16
        }
      ],
      "source": [
        "df1.count()"
      ]
    },
    {
      "cell_type": "code",
      "execution_count": null,
      "metadata": {
        "id": "63yXy5h7UtqM",
        "colab": {
          "base_uri": "https://localhost:8080/"
        },
        "outputId": "98e2ce39-7b63-41b8-ad92-2a3032af8618"
      },
      "outputs": [
        {
          "output_type": "stream",
          "name": "stdout",
          "text": [
            "+-----------+--------------------+---------------------+---------------+-------------+----------+---------+---------+-----------------+----------+---------+------------+--------+---------+-------+-------+---------+---------+\n",
            "|vendor_name|Trip_Pickup_DateTime|Trip_Dropoff_DateTime|Passenger_Count|Trip_Distance| Start_Lon|Start_Lat|Rate_Code|store_and_forward|   End_Lon|  End_Lat|Payment_Type|Fare_Amt|surcharge|mta_tax|Tip_Amt|Tolls_Amt|Total_Amt|\n",
            "+-----------+--------------------+---------------------+---------------+-------------+----------+---------+---------+-----------------+----------+---------+------------+--------+---------+-------+-------+---------+---------+\n",
            "|        VTS| 2009-01-04 02:52:00|  2009-01-04 03:02:00|              1|         2.63|-73.991957|40.721567|     NULL|             NULL|-73.993803|40.695922|        CASH|     8.9|      0.5|   NULL|    0.0|      0.0|      9.4|\n",
            "+-----------+--------------------+---------------------+---------------+-------------+----------+---------+---------+-----------------+----------+---------+------------+--------+---------+-------+-------+---------+---------+\n",
            "only showing top 1 row\n",
            "\n"
          ]
        }
      ],
      "source": [
        "df1.show(1)"
      ]
    },
    {
      "cell_type": "markdown",
      "metadata": {
        "id": "W3vfUcW3TWif"
      },
      "source": [
        "Vendor Name in the older data set is now irrelevant, but the type must match the new schema"
      ]
    },
    {
      "cell_type": "code",
      "execution_count": null,
      "metadata": {
        "id": "BlLjUtkPoUN3"
      },
      "outputs": [],
      "source": [
        "df1 = df1.drop('store_and_forward').drop('rate_code').drop('surcharge').drop('mta_tax').drop('tolls_Amt').drop('Total_Amt').drop('Vendor_Name')"
      ]
    },
    {
      "cell_type": "markdown",
      "metadata": {
        "id": "V_orpCu4driY"
      },
      "source": [
        "A few columns are renamed"
      ]
    },
    {
      "cell_type": "code",
      "execution_count": null,
      "metadata": {
        "id": "OU9bPr0odDIl"
      },
      "outputs": [],
      "source": [
        "df1 = df1.withColumnRenamed('Fare_Amt', 'fare_amount').withColumnRenamed('Tip_Amt', 'tip_amount')"
      ]
    },
    {
      "cell_type": "code",
      "execution_count": null,
      "metadata": {
        "colab": {
          "base_uri": "https://localhost:8080/"
        },
        "id": "yFvo3LBiB2Ur",
        "outputId": "b85e18fe-9de5-4d7f-cb9f-807d76f3bb35"
      },
      "outputs": [
        {
          "output_type": "stream",
          "name": "stdout",
          "text": [
            "+--------------------+---------------------+---------------+-------------+----------+---------+----------+---------+------------+-----------+----------+\n",
            "|Trip_Pickup_DateTime|Trip_Dropoff_DateTime|Passenger_Count|Trip_Distance| Start_Lon|Start_Lat|   End_Lon|  End_Lat|Payment_Type|fare_amount|tip_amount|\n",
            "+--------------------+---------------------+---------------+-------------+----------+---------+----------+---------+------------+-----------+----------+\n",
            "| 2009-01-04 02:52:00|  2009-01-04 03:02:00|              1|         2.63|-73.991957|40.721567|-73.993803|40.695922|        CASH|        8.9|       0.0|\n",
            "+--------------------+---------------------+---------------+-------------+----------+---------+----------+---------+------------+-----------+----------+\n",
            "only showing top 1 row\n",
            "\n"
          ]
        }
      ],
      "source": [
        "df1.show(1)"
      ]
    },
    {
      "cell_type": "markdown",
      "metadata": {
        "id": "u98pIdzXg2aE"
      },
      "source": [
        "`Payment_Type` has to be converted according to the data dictionary\n",
        "\n",
        "\n"
      ]
    },
    {
      "cell_type": "code",
      "execution_count": null,
      "metadata": {
        "id": "qro9Evjck5tA"
      },
      "outputs": [],
      "source": [
        "df1 = df1.withColumn('Payment_Type', lower(col('Payment_Type')))"
      ]
    },
    {
      "cell_type": "code",
      "execution_count": null,
      "metadata": {
        "id": "T5R7Xbuodfhb"
      },
      "outputs": [],
      "source": [
        "#df1.select('Payment_Type').distinct().collect()"
      ]
    },
    {
      "cell_type": "code",
      "execution_count": null,
      "metadata": {
        "id": "0NrutgjxgXmL"
      },
      "outputs": [],
      "source": [
        "df1 = df1.withColumn(\n",
        "    \"payment_Type\",\n",
        "      F.when(col(\"Payment_Type\") == \"credit\", 1)\n",
        "     .when(col(\"Payment_Type\") == \"cash\", 2)\n",
        "     .when(col(\"Payment_Type\") == \"no charge\", 3)\n",
        "     .when(col(\"Payment_Type\") == \"dispute\", 4)\n",
        "     .when(col(\"Payment_Type\") == \"unknown\", 5)\n",
        "     .when(col(\"Payment_Type\") == \"voided trip\", 6)\n",
        "     .otherwise(None)  # Handle any unexpected values\n",
        ")"
      ]
    },
    {
      "cell_type": "code",
      "execution_count": null,
      "metadata": {
        "id": "WUjDSwge4EuN"
      },
      "outputs": [],
      "source": [
        "df1 = df1.withColumn('payment_type', col('payment_type').cast(ShortType()))\\\n",
        ".withColumn('passenger_count', col('passenger_count').cast(ShortType()))"
      ]
    },
    {
      "cell_type": "markdown",
      "metadata": {
        "id": "5E5driPAdRMR"
      },
      "source": [
        "The datetime are converted to the `timestamp_ntz` type"
      ]
    },
    {
      "cell_type": "code",
      "execution_count": null,
      "metadata": {
        "id": "j4LWzh4kTkSc"
      },
      "outputs": [],
      "source": [
        "df1 = df1.withColumn('tpep_pickup_datetime', to_timestamp_ntz(df1['Trip_Pickup_DateTime'])).drop('Trip_Pickup_DateTime')\n",
        "df1 = df1.withColumn('tpep_dropoff_datetime', to_timestamp_ntz(df1['Trip_Dropoff_DateTime'])).drop('Trip_Dropoff_DateTime')"
      ]
    },
    {
      "cell_type": "code",
      "execution_count": null,
      "metadata": {
        "id": "hhDLqYDFet4p",
        "colab": {
          "base_uri": "https://localhost:8080/"
        },
        "outputId": "a95ce9ef-6722-4305-ba68-e607c6aa812d"
      },
      "outputs": [
        {
          "output_type": "stream",
          "name": "stdout",
          "text": [
            "+---------------+-------------+----------+---------+----------+---------+------------+-----------+----------+--------------------+---------------------+\n",
            "|passenger_count|Trip_Distance| Start_Lon|Start_Lat|   End_Lon|  End_Lat|payment_type|fare_amount|tip_amount|tpep_pickup_datetime|tpep_dropoff_datetime|\n",
            "+---------------+-------------+----------+---------+----------+---------+------------+-----------+----------+--------------------+---------------------+\n",
            "|              1|         2.63|-73.991957|40.721567|-73.993803|40.695922|           2|        8.9|       0.0| 2009-01-04 02:52:00|  2009-01-04 03:02:00|\n",
            "+---------------+-------------+----------+---------+----------+---------+------------+-----------+----------+--------------------+---------------------+\n",
            "only showing top 1 row\n",
            "\n"
          ]
        }
      ],
      "source": [
        "df1.show(1)"
      ]
    },
    {
      "cell_type": "markdown",
      "metadata": {
        "id": "-K_NVrLmhHvV"
      },
      "source": [
        "Converting Lat/Long into the locationID\n"
      ]
    },
    {
      "cell_type": "markdown",
      "metadata": {
        "id": "XPL8Okz4N2iv"
      },
      "source": [
        "The problem here is to get a borough and location ID from a lat long.\n",
        "The X-Y format is also not WGS84..."
      ]
    },
    {
      "cell_type": "code",
      "execution_count": null,
      "metadata": {
        "id": "17qiWANTNaav"
      },
      "outputs": [],
      "source": [
        "from math import isnan\n",
        "# Create a point from lat/long\n",
        "def get_locID(lat, long):\n",
        "  #lat = 40.695922; long= -73.993803\n",
        "  point = gpd.GeoDataFrame(geometry=[Point(long, lat)],crs=\"EPSG:4326\")\n",
        "  point = point.to_crs(epsg=2263)\n",
        "  # Load borough shapefile\n",
        "  boroughs = gpd.read_file('taxi_zones.shp')\n",
        "\n",
        "  # Perform spatial join\n",
        "  result = gpd.sjoin(point, boroughs, how=\"left\", predicate='intersects')\n",
        "  locid = result.loc[0, 'LocationID']\n",
        "  if math.isnan(locid):\n",
        "    return(265)\n",
        "  else:\n",
        "    return(int(locid))\n",
        "\n",
        "  return()"
      ]
    },
    {
      "cell_type": "code",
      "execution_count": null,
      "metadata": {
        "id": "jJpMVVF_bEXs"
      },
      "outputs": [],
      "source": [
        " # print(get_locID(40.695922, -73.993803))\n",
        "\n",
        "# Registering the UDF with Spark\n",
        "get_locID_udf = udf(lambda lat, long: get_locID(lat, long), ShortType())"
      ]
    },
    {
      "cell_type": "code",
      "execution_count": null,
      "metadata": {
        "id": "txn59dKaXahw"
      },
      "outputs": [],
      "source": [
        "df1 = df1.withColumn(\"PULocationID\", get_locID_udf(df1.Start_Lat, df1.Start_Lon))\\\n",
        "  .withColumn(\"DOLocationID\", get_locID_udf(df1.End_Lat, df1.End_Lon))\\\n",
        "  .drop('Start_Lon', 'Start_Lat', 'End_Lon', 'End_Lat')"
      ]
    },
    {
      "cell_type": "code",
      "execution_count": null,
      "metadata": {
        "id": "i9u4mVszXwOq",
        "colab": {
          "base_uri": "https://localhost:8080/"
        },
        "outputId": "857054d4-cf86-44e0-eec2-e3dcb68b2f2d"
      },
      "outputs": [
        {
          "output_type": "stream",
          "name": "stdout",
          "text": [
            "+---------------+-------------+------------+-----------+----------+--------------------+---------------------+------------+------------+\n",
            "|passenger_count|Trip_Distance|payment_type|fare_amount|tip_amount|tpep_pickup_datetime|tpep_dropoff_datetime|PULocationID|DOLocationID|\n",
            "+---------------+-------------+------------+-----------+----------+--------------------+---------------------+------------+------------+\n",
            "|              1|         2.63|           2|        8.9|       0.0| 2009-01-04 02:52:00|  2009-01-04 03:02:00|         148|          33|\n",
            "|              3|         4.55|           1|       12.1|       2.0| 2009-01-04 03:31:00|  2009-01-04 03:38:00|         107|         141|\n",
            "+---------------+-------------+------------+-----------+----------+--------------------+---------------------+------------+------------+\n",
            "only showing top 2 rows\n",
            "\n"
          ]
        }
      ],
      "source": [
        "df1.show(2)"
      ]
    },
    {
      "cell_type": "code",
      "execution_count": null,
      "metadata": {
        "id": "2w4FgSPOabIs"
      },
      "outputs": [],
      "source": [
        "#df1.select('payment_type').distinct().collect()"
      ]
    },
    {
      "cell_type": "code",
      "execution_count": null,
      "metadata": {
        "id": "EfhO7cUMgpQx",
        "colab": {
          "base_uri": "https://localhost:8080/"
        },
        "outputId": "cd223d24-e252-49fc-8368-2eb4420df730"
      },
      "outputs": [
        {
          "output_type": "execute_result",
          "data": {
            "text/plain": [
              "[('passenger_count', 'smallint'),\n",
              " ('Trip_Distance', 'double'),\n",
              " ('payment_type', 'smallint'),\n",
              " ('fare_amount', 'double'),\n",
              " ('tip_amount', 'double'),\n",
              " ('tpep_pickup_datetime', 'timestamp_ntz'),\n",
              " ('tpep_dropoff_datetime', 'timestamp_ntz'),\n",
              " ('PULocationID', 'smallint'),\n",
              " ('DOLocationID', 'smallint')]"
            ]
          },
          "metadata": {},
          "execution_count": 32
        }
      ],
      "source": [
        "df1.dtypes"
      ]
    },
    {
      "cell_type": "code",
      "source": [
        "df1.count()"
      ],
      "metadata": {
        "id": "vDt9chtfXwwh",
        "colab": {
          "base_uri": "https://localhost:8080/"
        },
        "outputId": "744b7342-df73-4dab-a490-bb864ec34943"
      },
      "execution_count": null,
      "outputs": [
        {
          "output_type": "execute_result",
          "data": {
            "text/plain": [
              "170896055"
            ]
          },
          "metadata": {},
          "execution_count": 33
        }
      ]
    },
    {
      "cell_type": "markdown",
      "metadata": {
        "id": "vuOBx95qagek"
      },
      "source": [
        "#### 2010 Schema"
      ]
    },
    {
      "cell_type": "code",
      "execution_count": null,
      "metadata": {
        "id": "KyrVwmtGcBJY"
      },
      "outputs": [],
      "source": [
        "parquet_files=[]\n",
        "\n",
        "parquet_files.extend(glob.glob( f'*2010*.parquet'))\n",
        "parquet_files.sort()  # Ensure sequential order\n",
        "\n",
        "df2 = None\n",
        "for file_path in parquet_files:\n",
        "    if df2 is None:\n",
        "        df2 = spark.read.parquet(file_path)\n",
        "    else:\n",
        "      dt  = spark.read.parquet(file_path)\n",
        "      # removing some extra columns that are present in some files\n",
        "      columns_to_drop = [col for col in dt.columns if col.startswith(\"__\")]\n",
        "      dt = dt.drop(*columns_to_drop)\n",
        "\n",
        "      df2 = df2.union(dt)"
      ]
    },
    {
      "cell_type": "code",
      "execution_count": null,
      "metadata": {
        "id": "KGzqrCirQYak",
        "colab": {
          "base_uri": "https://localhost:8080/"
        },
        "outputId": "85616b06-b43f-4b7c-befe-7e3cd726904b"
      },
      "outputs": [
        {
          "output_type": "execute_result",
          "data": {
            "text/plain": [
              "[('vendor_id', 'string'),\n",
              " ('pickup_datetime', 'string'),\n",
              " ('dropoff_datetime', 'string'),\n",
              " ('passenger_count', 'bigint'),\n",
              " ('trip_distance', 'double'),\n",
              " ('pickup_longitude', 'double'),\n",
              " ('pickup_latitude', 'double'),\n",
              " ('rate_code', 'string'),\n",
              " ('store_and_fwd_flag', 'string'),\n",
              " ('dropoff_longitude', 'double'),\n",
              " ('dropoff_latitude', 'double'),\n",
              " ('payment_type', 'string'),\n",
              " ('fare_amount', 'double'),\n",
              " ('surcharge', 'double'),\n",
              " ('mta_tax', 'double'),\n",
              " ('tip_amount', 'double'),\n",
              " ('tolls_amount', 'double'),\n",
              " ('total_amount', 'double')]"
            ]
          },
          "metadata": {},
          "execution_count": 35
        }
      ],
      "source": [
        "df2.dtypes"
      ]
    },
    {
      "cell_type": "code",
      "execution_count": null,
      "metadata": {
        "id": "mHYJ_9WaiFtg",
        "colab": {
          "base_uri": "https://localhost:8080/"
        },
        "outputId": "2dc0e8bb-e337-446e-b6fc-7a01a19fb657"
      },
      "outputs": [
        {
          "output_type": "stream",
          "name": "stdout",
          "text": [
            "+---------+-------------------+-------------------+---------------+------------------+------------------+---------------+---------+------------------+------------------+----------------+------------+-----------+---------+-------+----------+------------+-----------------+\n",
            "|vendor_id|    pickup_datetime|   dropoff_datetime|passenger_count|     trip_distance|  pickup_longitude|pickup_latitude|rate_code|store_and_fwd_flag| dropoff_longitude|dropoff_latitude|payment_type|fare_amount|surcharge|mta_tax|tip_amount|tolls_amount|     total_amount|\n",
            "+---------+-------------------+-------------------+---------------+------------------+------------------+---------------+---------+------------------+------------------+----------------+------------+-----------+---------+-------+----------+------------+-----------------+\n",
            "|      VTS|2010-01-26 07:41:00|2010-01-26 07:45:00|              1|              0.75|        -73.956778|       40.76775|        1|              NULL|        -73.965957|       40.765232|         CAS|        4.5|      0.0|    0.5|       0.0|         0.0|              5.0|\n",
            "|      DDS|2010-01-30 23:31:00|2010-01-30 23:46:12|              1|               5.9|-73.99611799999998|      40.763932|        1|              NULL|-73.98151199999998|       40.741193|         CAS|       15.3|      0.5|    0.5|       0.0|         0.0|             16.3|\n",
            "|      DDS|2010-01-18 20:22:20|2010-01-18 20:38:12|              1|               4.0|        -73.979673|       40.78379|        1|              NULL|-73.91785199999998|        40.87856|         CAS|       11.7|      0.5|    0.5|       0.0|         0.0|             12.7|\n",
            "|      VTS|2010-01-09 01:18:00|2010-01-09 01:35:00|              2|               4.7|        -73.977922|      40.763997|        1|              NULL|-73.92390799999998|       40.759725|         CAS|       13.3|      0.5|    0.5|       0.0|         0.0|             14.3|\n",
            "|      CMT|2010-01-18 19:10:14|2010-01-18 19:17:07|              1|0.5999999999999999|        -73.990924|      40.734682|        1|                 0|-73.99551099999998|       40.739088|         Cre|        5.3|      0.0|    0.5|      0.87|         0.0|             6.67|\n",
            "|      DDS|2010-01-23 18:40:25|2010-01-23 18:54:51|              1|               3.3|               0.0|            0.0|        1|              NULL|               0.0|             0.0|         CRE|       10.5|      0.0|    0.5|       1.0|         0.0|             12.0|\n",
            "|      VTS|2010-01-17 09:18:00|2010-01-17 09:25:00|              1|              1.33|        -73.993747|      40.754917|        1|              NULL|-73.98471499999998|       40.755927|         CAS|        6.1|      0.0|    0.5|       0.0|         0.0|              6.6|\n",
            "|      VTS|2010-01-09 13:49:00|2010-01-09 13:56:00|              1|              1.83|         -73.97103|      40.751307|        1|              NULL|         -73.99056|       40.734923|         CAS|        6.9|      0.0|    0.5|       0.0|         0.0|              7.4|\n",
            "|      VTS|2010-01-09 00:25:00|2010-01-09 00:39:00|              1|              3.28|        -73.990037|      40.725633|        1|              NULL|        -73.993842|       40.761697|         CAS|       11.3|      0.5|    0.5|       0.0|         0.0|             12.3|\n",
            "|      VTS|2010-01-27 18:15:00|2010-01-27 18:29:00|              1|              1.42|        -73.979623|       40.74378|        1|              NULL|-73.98941499999998|       40.756788|         Cre|        8.5|      1.0|    0.5|       2.0|         0.0|             12.0|\n",
            "|      VTS|2010-01-08 16:05:00|2010-01-08 16:13:00|              1|0.8399999999999999|        -74.000917|       40.75728|        1|              NULL|        -73.989767|       40.757407|         Cre|        5.7|      1.0|    0.5|       3.0|         0.0|             10.2|\n",
            "|      VTS|2010-01-09 02:07:00|2010-01-09 02:21:00|              1|              2.76|        -73.991175|      40.728072|        1|              NULL|        -73.979307|        40.74422|         CAS|       10.1|      0.5|    0.5|       0.0|         0.0|             11.1|\n",
            "|      VTS|2010-01-16 19:04:00|2010-01-16 19:22:00|              1|              1.52|        -73.980985|      40.737848|        1|              NULL|-74.00325499999998|       40.738717|         CAS|       10.5|      0.0|    0.5|       0.0|         0.0|             11.0|\n",
            "|      VTS|2010-01-08 17:15:00|2010-01-08 17:40:00|              1|              7.12|-73.84416799999998|      40.721353|        1|              NULL|        -73.931442|       40.670685|         CAS|       19.7|      1.0|    0.5|       0.0|         0.0|             21.2|\n",
            "|      DDS|2010-01-14 19:23:15|2010-01-14 19:44:25|              1|               1.4|        -73.955577|      40.772523|        1|              NULL|-73.99111999999998|       40.755463|         CAS|        9.7|      1.5|    0.0|       0.0|         0.0|             11.2|\n",
            "|      DDS|2010-01-06 22:34:49|2010-01-06 22:41:30|              1|               1.1|        -74.010253|       40.72055|        1|              NULL|-74.00396499999998|       40.715782|         CAS|        5.7|      0.5|   -1.0|       0.0|         0.0|              6.7|\n",
            "|      DDS|2010-01-20 15:52:26|2010-01-20 16:07:19|              1|               2.0|-73.96953499999998|      40.800547|        1|              NULL|        -73.942722|       40.841573|         CRE|        8.9|      0.0|    0.5|       1.1|         0.0|             10.5|\n",
            "|      DDS|2010-01-22 11:54:52|2010-01-22 11:59:38|              1|               1.1|        -73.996835|      40.716547|        1|              NULL|-73.94853999999998|        40.79509|         CAS|        4.9|      0.0|    0.5|       0.0|         0.0|              5.4|\n",
            "|      VTS|2010-01-26 16:59:00|2010-01-26 17:08:00|              2|              1.34|-73.98881299999998|      40.736657|        1|              NULL|        -73.980332|       40.723988|         CAS|        6.1|      1.0|    0.5|       0.0|         0.0|7.599999999999999|\n",
            "|      VTS|2010-01-26 12:05:00|2010-01-26 12:16:00|              5|              1.64|-73.99038799999998|       40.74583|        1|              NULL|        -74.007802|       40.745153|         Cre|        7.7|      0.0|    0.5|       3.0|         0.0|             11.2|\n",
            "+---------+-------------------+-------------------+---------------+------------------+------------------+---------------+---------+------------------+------------------+----------------+------------+-----------+---------+-------+----------+------------+-----------------+\n",
            "only showing top 20 rows\n",
            "\n"
          ]
        }
      ],
      "source": [
        "df2.show()"
      ]
    },
    {
      "cell_type": "code",
      "execution_count": null,
      "metadata": {
        "id": "fim3eG6Kp020"
      },
      "outputs": [],
      "source": [
        "df2 = df2.drop('store_and_fwd_flag').drop('rate_code').drop('surcharge').drop('mta_tax').drop('tolls_amount').drop('total_amount').drop('vendor_id')"
      ]
    },
    {
      "cell_type": "code",
      "execution_count": null,
      "metadata": {
        "id": "G-XKeuvQkT5E"
      },
      "outputs": [],
      "source": [
        "df2 = df2.withColumn('Payment_Type', lower(col('Payment_Type')))"
      ]
    },
    {
      "cell_type": "code",
      "execution_count": null,
      "metadata": {
        "id": "jTxTBa-4judh",
        "colab": {
          "base_uri": "https://localhost:8080/"
        },
        "outputId": "17ddcce0-b15b-43e7-cc26-f420db777735"
      },
      "outputs": [
        {
          "output_type": "execute_result",
          "data": {
            "text/plain": [
              "[Row(payment_type='cas'),\n",
              " Row(payment_type='cre'),\n",
              " Row(payment_type='dis'),\n",
              " Row(payment_type='no '),\n",
              " Row(payment_type='crd'),\n",
              " Row(payment_type='csh'),\n",
              " Row(payment_type='na '),\n",
              " Row(payment_type='noc')]"
            ]
          },
          "metadata": {},
          "execution_count": 39
        }
      ],
      "source": [
        "df2.select('payment_type').distinct().collect()"
      ]
    },
    {
      "cell_type": "code",
      "execution_count": null,
      "metadata": {
        "id": "Fbclkz0JkZvm"
      },
      "outputs": [],
      "source": [
        "df2 = df2.withColumn(\n",
        "    \"Payment_Type\",\n",
        "      F.when(col(\"Payment_Type\") == \"cre\", 1)\n",
        "     .when(col(\"Payment_Type\") == \"cas\", 2)\n",
        "     .when(col(\"Payment_Type\") == \"no\", 3)\n",
        "     .when(col(\"Payment_Type\") == \"dis\", 4)\n",
        "     .when(col(\"Payment_Type\") == \"unknown\", 5)\n",
        "     .when(col(\"Payment_Type\") == \"voided trip\", 6)\n",
        "     .otherwise(None)  # Handle any unexpected values\n",
        ")"
      ]
    },
    {
      "cell_type": "code",
      "execution_count": null,
      "metadata": {
        "id": "qqzBq9H20sKR"
      },
      "outputs": [],
      "source": [
        "df2 = df2.withColumn('payment_type', col('payment_type').cast(ShortType()))\\\n",
        ".withColumn('passenger_count', col('passenger_count').cast(ShortType()))"
      ]
    },
    {
      "cell_type": "code",
      "execution_count": null,
      "metadata": {
        "id": "uVFqtRxGd4ud"
      },
      "outputs": [],
      "source": [
        "df2 = df2.withColumn('tpep_pickup_datetime', to_timestamp_ntz(df2['pickup_datetime'])).drop('pickup_datetime')\\\n",
        "    .withColumn('tpep_dropoff_datetime', to_timestamp_ntz(df2['dropoff_DateTime'])).drop('dropoff_DateTime')"
      ]
    },
    {
      "cell_type": "code",
      "execution_count": null,
      "metadata": {
        "id": "Vi8GaBdBgdru"
      },
      "outputs": [],
      "source": [
        "df2 = df2.withColumn(\"PULocationID\", get_locID_udf(df2.pickup_latitude, df2.pickup_longitude))\\\n",
        "  .withColumn(\"DOLocationID\", get_locID_udf(df2.dropoff_latitude, df2.dropoff_longitude))\\\n",
        "  .drop('pickup_longitude', 'pickup_latitude', 'dropoff_longitude', 'dropoff_latitude')"
      ]
    },
    {
      "cell_type": "code",
      "execution_count": null,
      "metadata": {
        "id": "9En-ar4ykaNY",
        "colab": {
          "base_uri": "https://localhost:8080/"
        },
        "outputId": "6e399136-ee9f-4cba-9a11-951c70e8f36f"
      },
      "outputs": [
        {
          "output_type": "stream",
          "name": "stdout",
          "text": [
            "+---------------+-------------+------------+-----------+----------+--------------------+---------------------+------------+------------+\n",
            "|passenger_count|trip_distance|payment_type|fare_amount|tip_amount|tpep_pickup_datetime|tpep_dropoff_datetime|PULocationID|DOLocationID|\n",
            "+---------------+-------------+------------+-----------+----------+--------------------+---------------------+------------+------------+\n",
            "|              1|         0.75|           2|        4.5|       0.0| 2010-01-26 07:41:00|  2010-01-26 07:45:00|         141|         237|\n",
            "+---------------+-------------+------------+-----------+----------+--------------------+---------------------+------------+------------+\n",
            "only showing top 1 row\n",
            "\n"
          ]
        }
      ],
      "source": [
        "df2.show(1)"
      ]
    },
    {
      "cell_type": "markdown",
      "metadata": {
        "id": "5bKkZYdnt_5c"
      },
      "source": [
        "### Union of dataframes"
      ]
    },
    {
      "cell_type": "code",
      "source": [
        "a = df1.count()\n",
        "b = df2.count()\n",
        "c = df3.count()"
      ],
      "metadata": {
        "id": "PkY8GxMsxx8-"
      },
      "execution_count": null,
      "outputs": []
    },
    {
      "cell_type": "code",
      "source": [
        "print(a,b,c)\n",
        "print(a+b+c)"
      ],
      "metadata": {
        "colab": {
          "base_uri": "https://localhost:8080/"
        },
        "id": "xX9cdxVwx8Sk",
        "outputId": "ae4088b6-1e54-4963-b806-5ff24c0ec02b"
      },
      "execution_count": null,
      "outputs": [
        {
          "output_type": "stream",
          "name": "stdout",
          "text": [
            "170896055 169001162 1438340823\n",
            "1778238040\n"
          ]
        }
      ]
    },
    {
      "cell_type": "code",
      "execution_count": null,
      "metadata": {
        "id": "3Qs41OS-iQH-"
      },
      "outputs": [],
      "source": [
        "df=[]\n",
        "df = df1.unionByName(df2)\n",
        "df = df.unionByName(df3)"
      ]
    },
    {
      "cell_type": "code",
      "execution_count": null,
      "metadata": {
        "id": "9WVX_YVQgugu"
      },
      "outputs": [],
      "source": [
        "#del df1, df2, df3"
      ]
    },
    {
      "cell_type": "code",
      "execution_count": null,
      "metadata": {
        "id": "lKFSdlnkfZ0k",
        "colab": {
          "base_uri": "https://localhost:8080/"
        },
        "outputId": "a8365109-31ed-4cc7-a2e1-4c2731175ce9"
      },
      "outputs": [
        {
          "output_type": "execute_result",
          "data": {
            "text/plain": [
              "1778238040"
            ]
          },
          "metadata": {},
          "execution_count": 49
        }
      ],
      "source": [
        "df.count()"
      ]
    },
    {
      "cell_type": "code",
      "source": [
        "df = df.withColumn(\"year\", F.year(\"tpep_pickup_datetime\"))\n",
        "df = df.withColumn(\"month\", F.month(\"tpep_pickup_datetime\"))\n",
        "df = df.withColumn(\"day\", F.dayofweek(\"tpep_pickup_datetime\"))\n",
        "df = df.withColumn(\"hour\", F.hour(\"tpep_pickup_datetime\"))"
      ],
      "metadata": {
        "id": "BmdXlYI8KDXL"
      },
      "execution_count": null,
      "outputs": []
    },
    {
      "cell_type": "markdown",
      "metadata": {
        "id": "akwXOqHrZFw5"
      },
      "source": [
        "# Data Exploration"
      ]
    },
    {
      "cell_type": "markdown",
      "source": [
        "Let's explore and clean"
      ],
      "metadata": {
        "id": "TMrEtCTj3JLP"
      }
    },
    {
      "cell_type": "code",
      "execution_count": null,
      "metadata": {
        "id": "uXfj3mZLudAb",
        "colab": {
          "base_uri": "https://localhost:8080/"
        },
        "outputId": "55d2e19a-d988-4c4f-f25d-2fa7cc326539"
      },
      "outputs": [
        {
          "output_type": "execute_result",
          "data": {
            "text/plain": [
              "[('passenger_count', 'smallint'),\n",
              " ('Trip_Distance', 'double'),\n",
              " ('payment_type', 'smallint'),\n",
              " ('fare_amount', 'double'),\n",
              " ('tip_amount', 'double'),\n",
              " ('tpep_pickup_datetime', 'timestamp_ntz'),\n",
              " ('tpep_dropoff_datetime', 'timestamp_ntz'),\n",
              " ('PULocationID', 'smallint'),\n",
              " ('DOLocationID', 'smallint'),\n",
              " ('year', 'int'),\n",
              " ('month', 'int'),\n",
              " ('day', 'int'),\n",
              " ('hour', 'int')]"
            ]
          },
          "metadata": {},
          "execution_count": 53
        }
      ],
      "source": [
        "df.dtypes"
      ]
    },
    {
      "cell_type": "markdown",
      "source": [
        "END TEST DO NOT COMMIT"
      ],
      "metadata": {
        "id": "Jdq5JTLJPJxW"
      }
    },
    {
      "cell_type": "markdown",
      "source": [
        "#### **Passenger count**"
      ],
      "metadata": {
        "id": "6FXI1mccIOPe"
      }
    },
    {
      "cell_type": "code",
      "execution_count": null,
      "metadata": {
        "id": "5yzu1Ze39Zs4",
        "colab": {
          "base_uri": "https://localhost:8080/",
          "height": 206
        },
        "outputId": "acdf1044-8e85-47ad-ae83-51e0ec20af49"
      },
      "outputs": [
        {
          "output_type": "execute_result",
          "data": {
            "text/plain": [
              "  summary     passenger_count\n",
              "0   count          1768677660\n",
              "1    mean  1.6389394006367446\n",
              "2  stddev  1.2836443554988517\n",
              "3     min                   0\n",
              "4     max                 255"
            ],
            "text/html": [
              "\n",
              "  <div id=\"df-f1f1b7f6-0a75-4fee-9019-42b0e68d0a36\" class=\"colab-df-container\">\n",
              "    <div>\n",
              "<style scoped>\n",
              "    .dataframe tbody tr th:only-of-type {\n",
              "        vertical-align: middle;\n",
              "    }\n",
              "\n",
              "    .dataframe tbody tr th {\n",
              "        vertical-align: top;\n",
              "    }\n",
              "\n",
              "    .dataframe thead th {\n",
              "        text-align: right;\n",
              "    }\n",
              "</style>\n",
              "<table border=\"1\" class=\"dataframe\">\n",
              "  <thead>\n",
              "    <tr style=\"text-align: right;\">\n",
              "      <th></th>\n",
              "      <th>summary</th>\n",
              "      <th>passenger_count</th>\n",
              "    </tr>\n",
              "  </thead>\n",
              "  <tbody>\n",
              "    <tr>\n",
              "      <th>0</th>\n",
              "      <td>count</td>\n",
              "      <td>1768677660</td>\n",
              "    </tr>\n",
              "    <tr>\n",
              "      <th>1</th>\n",
              "      <td>mean</td>\n",
              "      <td>1.6389394006367446</td>\n",
              "    </tr>\n",
              "    <tr>\n",
              "      <th>2</th>\n",
              "      <td>stddev</td>\n",
              "      <td>1.2836443554988517</td>\n",
              "    </tr>\n",
              "    <tr>\n",
              "      <th>3</th>\n",
              "      <td>min</td>\n",
              "      <td>0</td>\n",
              "    </tr>\n",
              "    <tr>\n",
              "      <th>4</th>\n",
              "      <td>max</td>\n",
              "      <td>255</td>\n",
              "    </tr>\n",
              "  </tbody>\n",
              "</table>\n",
              "</div>\n",
              "    <div class=\"colab-df-buttons\">\n",
              "\n",
              "  <div class=\"colab-df-container\">\n",
              "    <button class=\"colab-df-convert\" onclick=\"convertToInteractive('df-f1f1b7f6-0a75-4fee-9019-42b0e68d0a36')\"\n",
              "            title=\"Convert this dataframe to an interactive table.\"\n",
              "            style=\"display:none;\">\n",
              "\n",
              "  <svg xmlns=\"http://www.w3.org/2000/svg\" height=\"24px\" viewBox=\"0 -960 960 960\">\n",
              "    <path d=\"M120-120v-720h720v720H120Zm60-500h600v-160H180v160Zm220 220h160v-160H400v160Zm0 220h160v-160H400v160ZM180-400h160v-160H180v160Zm440 0h160v-160H620v160ZM180-180h160v-160H180v160Zm440 0h160v-160H620v160Z\"/>\n",
              "  </svg>\n",
              "    </button>\n",
              "\n",
              "  <style>\n",
              "    .colab-df-container {\n",
              "      display:flex;\n",
              "      gap: 12px;\n",
              "    }\n",
              "\n",
              "    .colab-df-convert {\n",
              "      background-color: #E8F0FE;\n",
              "      border: none;\n",
              "      border-radius: 50%;\n",
              "      cursor: pointer;\n",
              "      display: none;\n",
              "      fill: #1967D2;\n",
              "      height: 32px;\n",
              "      padding: 0 0 0 0;\n",
              "      width: 32px;\n",
              "    }\n",
              "\n",
              "    .colab-df-convert:hover {\n",
              "      background-color: #E2EBFA;\n",
              "      box-shadow: 0px 1px 2px rgba(60, 64, 67, 0.3), 0px 1px 3px 1px rgba(60, 64, 67, 0.15);\n",
              "      fill: #174EA6;\n",
              "    }\n",
              "\n",
              "    .colab-df-buttons div {\n",
              "      margin-bottom: 4px;\n",
              "    }\n",
              "\n",
              "    [theme=dark] .colab-df-convert {\n",
              "      background-color: #3B4455;\n",
              "      fill: #D2E3FC;\n",
              "    }\n",
              "\n",
              "    [theme=dark] .colab-df-convert:hover {\n",
              "      background-color: #434B5C;\n",
              "      box-shadow: 0px 1px 3px 1px rgba(0, 0, 0, 0.15);\n",
              "      filter: drop-shadow(0px 1px 2px rgba(0, 0, 0, 0.3));\n",
              "      fill: #FFFFFF;\n",
              "    }\n",
              "  </style>\n",
              "\n",
              "    <script>\n",
              "      const buttonEl =\n",
              "        document.querySelector('#df-f1f1b7f6-0a75-4fee-9019-42b0e68d0a36 button.colab-df-convert');\n",
              "      buttonEl.style.display =\n",
              "        google.colab.kernel.accessAllowed ? 'block' : 'none';\n",
              "\n",
              "      async function convertToInteractive(key) {\n",
              "        const element = document.querySelector('#df-f1f1b7f6-0a75-4fee-9019-42b0e68d0a36');\n",
              "        const dataTable =\n",
              "          await google.colab.kernel.invokeFunction('convertToInteractive',\n",
              "                                                    [key], {});\n",
              "        if (!dataTable) return;\n",
              "\n",
              "        const docLinkHtml = 'Like what you see? Visit the ' +\n",
              "          '<a target=\"_blank\" href=https://colab.research.google.com/notebooks/data_table.ipynb>data table notebook</a>'\n",
              "          + ' to learn more about interactive tables.';\n",
              "        element.innerHTML = '';\n",
              "        dataTable['output_type'] = 'display_data';\n",
              "        await google.colab.output.renderOutput(dataTable, element);\n",
              "        const docLink = document.createElement('div');\n",
              "        docLink.innerHTML = docLinkHtml;\n",
              "        element.appendChild(docLink);\n",
              "      }\n",
              "    </script>\n",
              "  </div>\n",
              "\n",
              "\n",
              "    <div id=\"df-c25984ab-cb62-420e-b409-a19f2ed7d990\">\n",
              "      <button class=\"colab-df-quickchart\" onclick=\"quickchart('df-c25984ab-cb62-420e-b409-a19f2ed7d990')\"\n",
              "                title=\"Suggest charts\"\n",
              "                style=\"display:none;\">\n",
              "\n",
              "<svg xmlns=\"http://www.w3.org/2000/svg\" height=\"24px\"viewBox=\"0 0 24 24\"\n",
              "     width=\"24px\">\n",
              "    <g>\n",
              "        <path d=\"M19 3H5c-1.1 0-2 .9-2 2v14c0 1.1.9 2 2 2h14c1.1 0 2-.9 2-2V5c0-1.1-.9-2-2-2zM9 17H7v-7h2v7zm4 0h-2V7h2v10zm4 0h-2v-4h2v4z\"/>\n",
              "    </g>\n",
              "</svg>\n",
              "      </button>\n",
              "\n",
              "<style>\n",
              "  .colab-df-quickchart {\n",
              "      --bg-color: #E8F0FE;\n",
              "      --fill-color: #1967D2;\n",
              "      --hover-bg-color: #E2EBFA;\n",
              "      --hover-fill-color: #174EA6;\n",
              "      --disabled-fill-color: #AAA;\n",
              "      --disabled-bg-color: #DDD;\n",
              "  }\n",
              "\n",
              "  [theme=dark] .colab-df-quickchart {\n",
              "      --bg-color: #3B4455;\n",
              "      --fill-color: #D2E3FC;\n",
              "      --hover-bg-color: #434B5C;\n",
              "      --hover-fill-color: #FFFFFF;\n",
              "      --disabled-bg-color: #3B4455;\n",
              "      --disabled-fill-color: #666;\n",
              "  }\n",
              "\n",
              "  .colab-df-quickchart {\n",
              "    background-color: var(--bg-color);\n",
              "    border: none;\n",
              "    border-radius: 50%;\n",
              "    cursor: pointer;\n",
              "    display: none;\n",
              "    fill: var(--fill-color);\n",
              "    height: 32px;\n",
              "    padding: 0;\n",
              "    width: 32px;\n",
              "  }\n",
              "\n",
              "  .colab-df-quickchart:hover {\n",
              "    background-color: var(--hover-bg-color);\n",
              "    box-shadow: 0 1px 2px rgba(60, 64, 67, 0.3), 0 1px 3px 1px rgba(60, 64, 67, 0.15);\n",
              "    fill: var(--button-hover-fill-color);\n",
              "  }\n",
              "\n",
              "  .colab-df-quickchart-complete:disabled,\n",
              "  .colab-df-quickchart-complete:disabled:hover {\n",
              "    background-color: var(--disabled-bg-color);\n",
              "    fill: var(--disabled-fill-color);\n",
              "    box-shadow: none;\n",
              "  }\n",
              "\n",
              "  .colab-df-spinner {\n",
              "    border: 2px solid var(--fill-color);\n",
              "    border-color: transparent;\n",
              "    border-bottom-color: var(--fill-color);\n",
              "    animation:\n",
              "      spin 1s steps(1) infinite;\n",
              "  }\n",
              "\n",
              "  @keyframes spin {\n",
              "    0% {\n",
              "      border-color: transparent;\n",
              "      border-bottom-color: var(--fill-color);\n",
              "      border-left-color: var(--fill-color);\n",
              "    }\n",
              "    20% {\n",
              "      border-color: transparent;\n",
              "      border-left-color: var(--fill-color);\n",
              "      border-top-color: var(--fill-color);\n",
              "    }\n",
              "    30% {\n",
              "      border-color: transparent;\n",
              "      border-left-color: var(--fill-color);\n",
              "      border-top-color: var(--fill-color);\n",
              "      border-right-color: var(--fill-color);\n",
              "    }\n",
              "    40% {\n",
              "      border-color: transparent;\n",
              "      border-right-color: var(--fill-color);\n",
              "      border-top-color: var(--fill-color);\n",
              "    }\n",
              "    60% {\n",
              "      border-color: transparent;\n",
              "      border-right-color: var(--fill-color);\n",
              "    }\n",
              "    80% {\n",
              "      border-color: transparent;\n",
              "      border-right-color: var(--fill-color);\n",
              "      border-bottom-color: var(--fill-color);\n",
              "    }\n",
              "    90% {\n",
              "      border-color: transparent;\n",
              "      border-bottom-color: var(--fill-color);\n",
              "    }\n",
              "  }\n",
              "</style>\n",
              "\n",
              "      <script>\n",
              "        async function quickchart(key) {\n",
              "          const quickchartButtonEl =\n",
              "            document.querySelector('#' + key + ' button');\n",
              "          quickchartButtonEl.disabled = true;  // To prevent multiple clicks.\n",
              "          quickchartButtonEl.classList.add('colab-df-spinner');\n",
              "          try {\n",
              "            const charts = await google.colab.kernel.invokeFunction(\n",
              "                'suggestCharts', [key], {});\n",
              "          } catch (error) {\n",
              "            console.error('Error during call to suggestCharts:', error);\n",
              "          }\n",
              "          quickchartButtonEl.classList.remove('colab-df-spinner');\n",
              "          quickchartButtonEl.classList.add('colab-df-quickchart-complete');\n",
              "        }\n",
              "        (() => {\n",
              "          let quickchartButtonEl =\n",
              "            document.querySelector('#df-c25984ab-cb62-420e-b409-a19f2ed7d990 button');\n",
              "          quickchartButtonEl.style.display =\n",
              "            google.colab.kernel.accessAllowed ? 'block' : 'none';\n",
              "        })();\n",
              "      </script>\n",
              "    </div>\n",
              "\n",
              "    </div>\n",
              "  </div>\n"
            ],
            "application/vnd.google.colaboratory.intrinsic+json": {
              "type": "dataframe",
              "summary": "{\n  \"name\": \"df\",\n  \"rows\": 5,\n  \"fields\": [\n    {\n      \"column\": \"summary\",\n      \"properties\": {\n        \"dtype\": \"string\",\n        \"num_unique_values\": 5,\n        \"samples\": [\n          \"mean\",\n          \"max\",\n          \"stddev\"\n        ],\n        \"semantic_type\": \"\",\n        \"description\": \"\"\n      }\n    },\n    {\n      \"column\": \"passenger_count\",\n      \"properties\": {\n        \"dtype\": \"string\",\n        \"num_unique_values\": 5,\n        \"samples\": [\n          \"1.6389394006367446\",\n          \"255\",\n          \"1.2836443554988517\"\n        ],\n        \"semantic_type\": \"\",\n        \"description\": \"\"\n      }\n    }\n  ]\n}"
            }
          },
          "metadata": {},
          "execution_count": 54
        }
      ],
      "source": [
        "df.select('passenger_count').describe().toPandas()"
      ]
    },
    {
      "cell_type": "code",
      "source": [
        "dg = df.groupBy(\"passenger_count\").count().orderBy(\"passenger_count\").show()"
      ],
      "metadata": {
        "id": "BaFd40HU7BNB",
        "colab": {
          "base_uri": "https://localhost:8080/"
        },
        "outputId": "e513ea8a-0346-476e-fe8d-cfd196a64550"
      },
      "execution_count": null,
      "outputs": [
        {
          "output_type": "stream",
          "name": "stdout",
          "text": [
            "+---------------+----------+\n",
            "|passenger_count|     count|\n",
            "+---------------+----------+\n",
            "|           NULL|   9560380|\n",
            "|              0|   9459926|\n",
            "|              1|1241699257|\n",
            "|              2| 260836157|\n",
            "|              3|  75682534|\n",
            "|              4|  36784267|\n",
            "|              5| 104421493|\n",
            "|              6|  39785986|\n",
            "|              7|      2505|\n",
            "|              8|      2268|\n",
            "|              9|      1642|\n",
            "|             10|        17|\n",
            "|             13|         1|\n",
            "|             15|         2|\n",
            "|             17|         1|\n",
            "|             19|         1|\n",
            "|             25|         1|\n",
            "|             33|         2|\n",
            "|             34|         1|\n",
            "|             36|         1|\n",
            "+---------------+----------+\n",
            "only showing top 20 rows\n",
            "\n"
          ]
        }
      ]
    },
    {
      "cell_type": "markdown",
      "source": [
        "Looking at the distribution, it was decided to drop all trips with more than 8 passenger"
      ],
      "metadata": {
        "id": "wx7XGFs2HThh"
      }
    },
    {
      "cell_type": "code",
      "source": [
        "df = df.where(df.passenger_count < 9)"
      ],
      "metadata": {
        "id": "qjyaot4H9F_F"
      },
      "execution_count": null,
      "outputs": []
    },
    {
      "cell_type": "markdown",
      "source": [
        "#### **Trip distance**"
      ],
      "metadata": {
        "id": "ZD_D60HYH8et"
      }
    },
    {
      "cell_type": "code",
      "execution_count": null,
      "metadata": {
        "id": "Lj0dwmvtdlRm",
        "colab": {
          "base_uri": "https://localhost:8080/",
          "height": 206
        },
        "outputId": "b57ab6ee-a6f7-4c88-cac9-9eff5aa01588"
      },
      "outputs": [
        {
          "output_type": "execute_result",
          "data": {
            "text/plain": [
              "  summary      Trip_Distance\n",
              "0   count         1768674393\n",
              "1    mean  5.573524265386052\n",
              "2  stddev  6020.082877814291\n",
              "3     min      -4.08401244E7\n",
              "4     max      1.346190631E8"
            ],
            "text/html": [
              "\n",
              "  <div id=\"df-f94aac18-8a32-43ca-9acd-4c24f117fddc\" class=\"colab-df-container\">\n",
              "    <div>\n",
              "<style scoped>\n",
              "    .dataframe tbody tr th:only-of-type {\n",
              "        vertical-align: middle;\n",
              "    }\n",
              "\n",
              "    .dataframe tbody tr th {\n",
              "        vertical-align: top;\n",
              "    }\n",
              "\n",
              "    .dataframe thead th {\n",
              "        text-align: right;\n",
              "    }\n",
              "</style>\n",
              "<table border=\"1\" class=\"dataframe\">\n",
              "  <thead>\n",
              "    <tr style=\"text-align: right;\">\n",
              "      <th></th>\n",
              "      <th>summary</th>\n",
              "      <th>Trip_Distance</th>\n",
              "    </tr>\n",
              "  </thead>\n",
              "  <tbody>\n",
              "    <tr>\n",
              "      <th>0</th>\n",
              "      <td>count</td>\n",
              "      <td>1768674393</td>\n",
              "    </tr>\n",
              "    <tr>\n",
              "      <th>1</th>\n",
              "      <td>mean</td>\n",
              "      <td>5.573524265386052</td>\n",
              "    </tr>\n",
              "    <tr>\n",
              "      <th>2</th>\n",
              "      <td>stddev</td>\n",
              "      <td>6020.082877814291</td>\n",
              "    </tr>\n",
              "    <tr>\n",
              "      <th>3</th>\n",
              "      <td>min</td>\n",
              "      <td>-4.08401244E7</td>\n",
              "    </tr>\n",
              "    <tr>\n",
              "      <th>4</th>\n",
              "      <td>max</td>\n",
              "      <td>1.346190631E8</td>\n",
              "    </tr>\n",
              "  </tbody>\n",
              "</table>\n",
              "</div>\n",
              "    <div class=\"colab-df-buttons\">\n",
              "\n",
              "  <div class=\"colab-df-container\">\n",
              "    <button class=\"colab-df-convert\" onclick=\"convertToInteractive('df-f94aac18-8a32-43ca-9acd-4c24f117fddc')\"\n",
              "            title=\"Convert this dataframe to an interactive table.\"\n",
              "            style=\"display:none;\">\n",
              "\n",
              "  <svg xmlns=\"http://www.w3.org/2000/svg\" height=\"24px\" viewBox=\"0 -960 960 960\">\n",
              "    <path d=\"M120-120v-720h720v720H120Zm60-500h600v-160H180v160Zm220 220h160v-160H400v160Zm0 220h160v-160H400v160ZM180-400h160v-160H180v160Zm440 0h160v-160H620v160ZM180-180h160v-160H180v160Zm440 0h160v-160H620v160Z\"/>\n",
              "  </svg>\n",
              "    </button>\n",
              "\n",
              "  <style>\n",
              "    .colab-df-container {\n",
              "      display:flex;\n",
              "      gap: 12px;\n",
              "    }\n",
              "\n",
              "    .colab-df-convert {\n",
              "      background-color: #E8F0FE;\n",
              "      border: none;\n",
              "      border-radius: 50%;\n",
              "      cursor: pointer;\n",
              "      display: none;\n",
              "      fill: #1967D2;\n",
              "      height: 32px;\n",
              "      padding: 0 0 0 0;\n",
              "      width: 32px;\n",
              "    }\n",
              "\n",
              "    .colab-df-convert:hover {\n",
              "      background-color: #E2EBFA;\n",
              "      box-shadow: 0px 1px 2px rgba(60, 64, 67, 0.3), 0px 1px 3px 1px rgba(60, 64, 67, 0.15);\n",
              "      fill: #174EA6;\n",
              "    }\n",
              "\n",
              "    .colab-df-buttons div {\n",
              "      margin-bottom: 4px;\n",
              "    }\n",
              "\n",
              "    [theme=dark] .colab-df-convert {\n",
              "      background-color: #3B4455;\n",
              "      fill: #D2E3FC;\n",
              "    }\n",
              "\n",
              "    [theme=dark] .colab-df-convert:hover {\n",
              "      background-color: #434B5C;\n",
              "      box-shadow: 0px 1px 3px 1px rgba(0, 0, 0, 0.15);\n",
              "      filter: drop-shadow(0px 1px 2px rgba(0, 0, 0, 0.3));\n",
              "      fill: #FFFFFF;\n",
              "    }\n",
              "  </style>\n",
              "\n",
              "    <script>\n",
              "      const buttonEl =\n",
              "        document.querySelector('#df-f94aac18-8a32-43ca-9acd-4c24f117fddc button.colab-df-convert');\n",
              "      buttonEl.style.display =\n",
              "        google.colab.kernel.accessAllowed ? 'block' : 'none';\n",
              "\n",
              "      async function convertToInteractive(key) {\n",
              "        const element = document.querySelector('#df-f94aac18-8a32-43ca-9acd-4c24f117fddc');\n",
              "        const dataTable =\n",
              "          await google.colab.kernel.invokeFunction('convertToInteractive',\n",
              "                                                    [key], {});\n",
              "        if (!dataTable) return;\n",
              "\n",
              "        const docLinkHtml = 'Like what you see? Visit the ' +\n",
              "          '<a target=\"_blank\" href=https://colab.research.google.com/notebooks/data_table.ipynb>data table notebook</a>'\n",
              "          + ' to learn more about interactive tables.';\n",
              "        element.innerHTML = '';\n",
              "        dataTable['output_type'] = 'display_data';\n",
              "        await google.colab.output.renderOutput(dataTable, element);\n",
              "        const docLink = document.createElement('div');\n",
              "        docLink.innerHTML = docLinkHtml;\n",
              "        element.appendChild(docLink);\n",
              "      }\n",
              "    </script>\n",
              "  </div>\n",
              "\n",
              "\n",
              "    <div id=\"df-ed2fdf48-07ab-403a-9ab3-a2be0ba72e5c\">\n",
              "      <button class=\"colab-df-quickchart\" onclick=\"quickchart('df-ed2fdf48-07ab-403a-9ab3-a2be0ba72e5c')\"\n",
              "                title=\"Suggest charts\"\n",
              "                style=\"display:none;\">\n",
              "\n",
              "<svg xmlns=\"http://www.w3.org/2000/svg\" height=\"24px\"viewBox=\"0 0 24 24\"\n",
              "     width=\"24px\">\n",
              "    <g>\n",
              "        <path d=\"M19 3H5c-1.1 0-2 .9-2 2v14c0 1.1.9 2 2 2h14c1.1 0 2-.9 2-2V5c0-1.1-.9-2-2-2zM9 17H7v-7h2v7zm4 0h-2V7h2v10zm4 0h-2v-4h2v4z\"/>\n",
              "    </g>\n",
              "</svg>\n",
              "      </button>\n",
              "\n",
              "<style>\n",
              "  .colab-df-quickchart {\n",
              "      --bg-color: #E8F0FE;\n",
              "      --fill-color: #1967D2;\n",
              "      --hover-bg-color: #E2EBFA;\n",
              "      --hover-fill-color: #174EA6;\n",
              "      --disabled-fill-color: #AAA;\n",
              "      --disabled-bg-color: #DDD;\n",
              "  }\n",
              "\n",
              "  [theme=dark] .colab-df-quickchart {\n",
              "      --bg-color: #3B4455;\n",
              "      --fill-color: #D2E3FC;\n",
              "      --hover-bg-color: #434B5C;\n",
              "      --hover-fill-color: #FFFFFF;\n",
              "      --disabled-bg-color: #3B4455;\n",
              "      --disabled-fill-color: #666;\n",
              "  }\n",
              "\n",
              "  .colab-df-quickchart {\n",
              "    background-color: var(--bg-color);\n",
              "    border: none;\n",
              "    border-radius: 50%;\n",
              "    cursor: pointer;\n",
              "    display: none;\n",
              "    fill: var(--fill-color);\n",
              "    height: 32px;\n",
              "    padding: 0;\n",
              "    width: 32px;\n",
              "  }\n",
              "\n",
              "  .colab-df-quickchart:hover {\n",
              "    background-color: var(--hover-bg-color);\n",
              "    box-shadow: 0 1px 2px rgba(60, 64, 67, 0.3), 0 1px 3px 1px rgba(60, 64, 67, 0.15);\n",
              "    fill: var(--button-hover-fill-color);\n",
              "  }\n",
              "\n",
              "  .colab-df-quickchart-complete:disabled,\n",
              "  .colab-df-quickchart-complete:disabled:hover {\n",
              "    background-color: var(--disabled-bg-color);\n",
              "    fill: var(--disabled-fill-color);\n",
              "    box-shadow: none;\n",
              "  }\n",
              "\n",
              "  .colab-df-spinner {\n",
              "    border: 2px solid var(--fill-color);\n",
              "    border-color: transparent;\n",
              "    border-bottom-color: var(--fill-color);\n",
              "    animation:\n",
              "      spin 1s steps(1) infinite;\n",
              "  }\n",
              "\n",
              "  @keyframes spin {\n",
              "    0% {\n",
              "      border-color: transparent;\n",
              "      border-bottom-color: var(--fill-color);\n",
              "      border-left-color: var(--fill-color);\n",
              "    }\n",
              "    20% {\n",
              "      border-color: transparent;\n",
              "      border-left-color: var(--fill-color);\n",
              "      border-top-color: var(--fill-color);\n",
              "    }\n",
              "    30% {\n",
              "      border-color: transparent;\n",
              "      border-left-color: var(--fill-color);\n",
              "      border-top-color: var(--fill-color);\n",
              "      border-right-color: var(--fill-color);\n",
              "    }\n",
              "    40% {\n",
              "      border-color: transparent;\n",
              "      border-right-color: var(--fill-color);\n",
              "      border-top-color: var(--fill-color);\n",
              "    }\n",
              "    60% {\n",
              "      border-color: transparent;\n",
              "      border-right-color: var(--fill-color);\n",
              "    }\n",
              "    80% {\n",
              "      border-color: transparent;\n",
              "      border-right-color: var(--fill-color);\n",
              "      border-bottom-color: var(--fill-color);\n",
              "    }\n",
              "    90% {\n",
              "      border-color: transparent;\n",
              "      border-bottom-color: var(--fill-color);\n",
              "    }\n",
              "  }\n",
              "</style>\n",
              "\n",
              "      <script>\n",
              "        async function quickchart(key) {\n",
              "          const quickchartButtonEl =\n",
              "            document.querySelector('#' + key + ' button');\n",
              "          quickchartButtonEl.disabled = true;  // To prevent multiple clicks.\n",
              "          quickchartButtonEl.classList.add('colab-df-spinner');\n",
              "          try {\n",
              "            const charts = await google.colab.kernel.invokeFunction(\n",
              "                'suggestCharts', [key], {});\n",
              "          } catch (error) {\n",
              "            console.error('Error during call to suggestCharts:', error);\n",
              "          }\n",
              "          quickchartButtonEl.classList.remove('colab-df-spinner');\n",
              "          quickchartButtonEl.classList.add('colab-df-quickchart-complete');\n",
              "        }\n",
              "        (() => {\n",
              "          let quickchartButtonEl =\n",
              "            document.querySelector('#df-ed2fdf48-07ab-403a-9ab3-a2be0ba72e5c button');\n",
              "          quickchartButtonEl.style.display =\n",
              "            google.colab.kernel.accessAllowed ? 'block' : 'none';\n",
              "        })();\n",
              "      </script>\n",
              "    </div>\n",
              "\n",
              "    </div>\n",
              "  </div>\n"
            ],
            "application/vnd.google.colaboratory.intrinsic+json": {
              "type": "dataframe",
              "summary": "{\n  \"name\": \"df\",\n  \"rows\": 5,\n  \"fields\": [\n    {\n      \"column\": \"summary\",\n      \"properties\": {\n        \"dtype\": \"string\",\n        \"num_unique_values\": 5,\n        \"samples\": [\n          \"mean\",\n          \"max\",\n          \"stddev\"\n        ],\n        \"semantic_type\": \"\",\n        \"description\": \"\"\n      }\n    },\n    {\n      \"column\": \"Trip_Distance\",\n      \"properties\": {\n        \"dtype\": \"string\",\n        \"num_unique_values\": 5,\n        \"samples\": [\n          \"5.573524265386052\",\n          \"1.346190631E8\",\n          \"6020.082877814291\"\n        ],\n        \"semantic_type\": \"\",\n        \"description\": \"\"\n      }\n    }\n  ]\n}"
            }
          },
          "metadata": {},
          "execution_count": 58
        }
      ],
      "source": [
        "df.select(\"Trip_Distance\").describe().toPandas()"
      ]
    },
    {
      "cell_type": "markdown",
      "source": [
        "Let's remove negative trip distances"
      ],
      "metadata": {
        "id": "lpwW6lc7MUpB"
      }
    },
    {
      "cell_type": "code",
      "source": [
        "df = df.where(df.Trip_Distance > 0)"
      ],
      "metadata": {
        "id": "9BZ1XRcxGG03"
      },
      "execution_count": null,
      "outputs": []
    },
    {
      "cell_type": "markdown",
      "source": [
        "In order to have an idea of the trip distance distribution a few bins are created"
      ],
      "metadata": {
        "id": "2O4_cGyzHtaU"
      }
    },
    {
      "cell_type": "code",
      "source": [
        "bin_labels = spark.createDataFrame([\n",
        "    (0, \"0-10\"),\n",
        "    (1, \"10-20\"),\n",
        "    (2, \"20-50\"),\n",
        "    (3, \"50-100\"),\n",
        "    (4, \"100-200\"),\n",
        "    (5, \"200-500\"),\n",
        "    (6, \"500+\"),\n",
        "], [\"bins\", \"range\"])\n",
        "\n",
        "splits=[0, 10, 20, 50, 100, 200, 500,float('Inf')]\n",
        "\n",
        "bucketizer = Bucketizer(splits=splits,\n",
        "                        inputCol='Trip_Distance',\n",
        "                        outputCol='bins')\n",
        "df_bins = bucketizer.setHandleInvalid('keep').transform(df)\n",
        "\n",
        "df_binned = df_bins.groupBy('bins').count()\n",
        "\n",
        "result = (df_binned\n",
        "    .join(bin_labels, \"bins\")\n",
        "    .select(\"range\", \"count\",\"bins\").orderBy(\"bins\")\n",
        ")\n",
        "\n",
        "#result.show()"
      ],
      "metadata": {
        "id": "c4fJwgka3hdW"
      },
      "execution_count": null,
      "outputs": []
    },
    {
      "cell_type": "code",
      "source": [
        "result.select([\"range\",'count']).show()"
      ],
      "metadata": {
        "colab": {
          "base_uri": "https://localhost:8080/"
        },
        "id": "Lm0DuVdACjzu",
        "outputId": "6017e2a9-ef0f-4d6c-b225-69e10ecbaeb6"
      },
      "execution_count": null,
      "outputs": [
        {
          "output_type": "stream",
          "name": "stdout",
          "text": [
            "+-------+----------+\n",
            "|  range|     count|\n",
            "+-------+----------+\n",
            "|   0-10|1662688216|\n",
            "|  10-20|  83885136|\n",
            "|  20-50|   9029173|\n",
            "| 50-100|     75209|\n",
            "|100-200|      7121|\n",
            "|200-500|      1818|\n",
            "|   500+|      3134|\n",
            "+-------+----------+\n",
            "\n"
          ]
        }
      ]
    },
    {
      "cell_type": "markdown",
      "source": [
        "Looking at trips over 500 miles, the distances, fares, trip durations don't make sense."
      ],
      "metadata": {
        "id": "2g2J-ARTIHDa"
      }
    },
    {
      "cell_type": "code",
      "source": [
        "df.filter(df.Trip_Distance >500).show()"
      ],
      "metadata": {
        "colab": {
          "base_uri": "https://localhost:8080/"
        },
        "id": "NoMrvs2L1t6r",
        "outputId": "f6a8f332-5452-4a65-dc26-1813c7f8f21c"
      },
      "execution_count": null,
      "outputs": [
        {
          "output_type": "stream",
          "name": "stdout",
          "text": [
            "+---------------+-------------+------------+-----------+----------+--------------------+---------------------+------------+------------+\n",
            "|passenger_count|Trip_Distance|payment_type|fare_amount|tip_amount|tpep_pickup_datetime|tpep_dropoff_datetime|PULocationID|DOLocationID|\n",
            "+---------------+-------------+------------+-----------+----------+--------------------+---------------------+------------+------------+\n",
            "|              1|     335550.0|        NULL|      20.18|       0.0| 2010-02-15 12:06:00|  2010-02-15 12:32:00|          68|         166|\n",
            "|              1|       657.57|        NULL|        9.7|      2.28| 2010-02-11 11:27:00|  2010-02-11 11:43:00|         186|          79|\n",
            "|              1|     260050.0|           2|       12.5|       0.0| 2010-02-03 01:16:47|  2010-02-03 01:31:54|         107|           7|\n",
            "|              1|        535.7|        NULL|        0.0|       0.0| 2010-02-05 00:58:41|  2010-02-05 02:13:46|         246|          41|\n",
            "|              1|        500.9|           2|       11.7|       0.0| 2010-02-11 18:23:20|  2010-02-11 18:47:56|         158|         234|\n",
            "|              1|    3300833.1|           1|       15.7|       7.0| 2010-02-12 19:20:33|  2010-02-12 19:47:55|         161|         133|\n",
            "|              1|      73000.0|           1|        7.3|      1.24| 2010-02-19 03:42:46|  2010-02-19 03:53:05|         148|         100|\n",
            "|              1|        709.6|           1|       26.9|      4.11| 2010-02-16 07:32:12|  2010-02-16 07:56:10|         249|         138|\n",
            "|              1|        505.0|           1|       20.9|      5.38| 2010-02-21 11:53:28|  2010-02-21 12:14:58|          70|          24|\n",
            "|              1|    8000004.9|           2|       10.5|       0.0| 2010-02-15 02:21:08|  2010-02-15 02:32:41|         211|         229|\n",
            "|              1|    5000001.5|           2|       16.9|       0.0| 2010-02-18 14:50:09|  2010-02-18 15:15:06|         229|         211|\n",
            "|              1|    7000000.0|           2|       48.9|       0.0| 2010-02-22 10:30:44|  2010-02-22 11:21:49|         132|          14|\n",
            "|              1|        502.4|           2|       11.3|       0.0| 2010-02-22 18:04:15|  2010-02-22 18:17:30|         137|         249|\n",
            "|              1|        661.4|        NULL|        0.0|       0.0| 2010-02-25 02:32:20|  2010-02-25 03:45:28|         184|         265|\n",
            "|              1|        756.7|        NULL|        6.9|       0.0| 2010-02-03 10:07:28|  2010-02-03 10:07:49|          90|          90|\n",
            "|              2|       4241.8|        NULL|        2.5|       0.0| 2010-02-06 20:31:53|  2010-02-06 20:32:14|         226|         226|\n",
            "|              2|       2252.1|           2|       10.9|       0.0| 2010-02-06 22:54:47|  2010-02-06 23:07:16|          68|         140|\n",
            "|              3|        800.5|           2|        9.3|       0.0| 2010-02-05 23:03:07|  2010-02-05 23:14:49|         231|         234|\n",
            "|              1|        549.2|           2|        0.0|       0.0| 2010-02-14 03:57:25|  2010-02-14 05:11:15|         168|         208|\n",
            "|              1|    2501000.0|           2|        2.5|       0.0| 2010-02-09 20:17:24|  2010-02-09 20:28:56|          43|         143|\n",
            "+---------------+-------------+------------+-----------+----------+--------------------+---------------------+------------+------------+\n",
            "only showing top 20 rows\n",
            "\n"
          ]
        }
      ]
    },
    {
      "cell_type": "markdown",
      "source": [
        "filtering the trips of more than 100 miles using the fare per mile helps. ( the first mile costs 4.5 USD, the subsequent ones cost 2.5 USD)\n",
        "However, for some, the irrealistic trip duration in relation to distance traveled has to be dealt with."
      ],
      "metadata": {
        "id": "KyZ71YZ9IjBB"
      }
    },
    {
      "cell_type": "code",
      "source": [
        "df.where((df.Trip_Distance > 100) & (df.fare_amount>=(df.Trip_Distance*2.5))).show()"
      ],
      "metadata": {
        "colab": {
          "base_uri": "https://localhost:8080/"
        },
        "id": "W-dIL_IQG0Uv",
        "outputId": "b2a5ac43-c921-4eb3-be91-b04c78219add"
      },
      "execution_count": null,
      "outputs": [
        {
          "output_type": "stream",
          "name": "stdout",
          "text": [
            "+---------------+-------------+------------+-----------+----------+--------------------+---------------------+------------+------------+\n",
            "|passenger_count|Trip_Distance|payment_type|fare_amount|tip_amount|tpep_pickup_datetime|tpep_dropoff_datetime|PULocationID|DOLocationID|\n",
            "+---------------+-------------+------------+-----------+----------+--------------------+---------------------+------------+------------+\n",
            "|              1|        112.6|           2|      454.5|       0.0| 2010-02-11 08:04:30|  2010-02-11 10:08:40|          10|         265|\n",
            "|              1|       139.05|        NULL|      450.0|       0.0| 2010-03-13 22:49:00|  2010-03-14 01:26:00|         138|         265|\n",
            "|              1|       134.96|        NULL|      495.7|       0.0| 2010-03-20 05:14:00|  2010-03-20 07:34:00|         132|         265|\n",
            "|              1|        500.0|           2|    1400.07|       0.0| 2010-03-02 16:57:08|  2010-03-02 17:08:44|         230|         246|\n",
            "|              1|        663.8|        NULL|    6638.66|       0.0| 2010-03-10 23:22:33|  2010-03-10 23:22:36|         181|         181|\n",
            "|              1|        262.9|           4|    2411.11|       0.0| 2010-03-30 10:36:15|  2010-03-30 10:36:19|         138|         138|\n",
            "|              1|        500.0|           2|    1700.07|       0.0| 2010-03-11 11:33:05|  2010-03-11 11:40:57|         141|         137|\n",
            "|              1|       113.05|        NULL|      350.0|      40.0| 2010-03-31 19:18:00|  2010-03-31 21:17:00|         138|         265|\n",
            "|              1|       106.42|        NULL|      427.7|      20.0| 2010-03-26 02:32:00|  2010-03-26 04:25:00|          68|         265|\n",
            "|              1|       101.38|        NULL|      292.0|      50.0| 2010-03-27 18:12:00|  2010-03-27 20:48:00|          79|         265|\n",
            "|              1|       138.95|        NULL|      450.0|       0.0| 2010-03-13 22:48:00|  2010-03-14 01:22:00|         138|         265|\n",
            "|              1|       112.01|           1|      375.0|       0.0| 2013-08-10 01:47:00|  2013-08-10 04:15:00|         170|         265|\n",
            "|              1|        117.0|           3|      297.0|       0.0| 2013-08-15 11:55:40|  2013-08-15 14:26:43|         226|         265|\n",
            "|              2|        145.0|           2|      384.5|       0.0| 2013-08-17 08:21:56|  2013-08-17 11:18:04|         100|         265|\n",
            "|              2|        323.6|           3|      868.0|       0.0| 2013-08-23 05:59:35|  2013-08-23 13:09:32|         146|         265|\n",
            "|              2|        133.7|           2|      340.0|       0.0| 2013-08-31 21:08:36|  2013-08-31 23:27:22|         126|         265|\n",
            "|              1|        171.4|           1|      788.5|     120.0| 2014-06-29 00:59:31|  2014-06-29 04:22:23|         138|         265|\n",
            "|              1|       109.34|           1|      498.5|       0.0| 2014-08-01 09:53:47|  2014-08-01 13:49:27|         230|         265|\n",
            "|              4|        149.5|           2|      550.0|       0.0| 2014-08-04 16:28:40|  2014-08-04 20:45:45|         215|         265|\n",
            "|              2|        115.9|           2|      300.0|       0.0| 2014-08-05 11:46:45|  2014-08-05 14:40:29|         186|         265|\n",
            "+---------------+-------------+------------+-----------+----------+--------------------+---------------------+------------+------------+\n",
            "only showing top 20 rows\n",
            "\n"
          ]
        }
      ]
    },
    {
      "cell_type": "markdown",
      "source": [
        "By calculating the average speed for each trip, we see some serious inconsistencies in the data"
      ],
      "metadata": {
        "id": "Ly5usAPVPrdQ"
      }
    },
    {
      "cell_type": "code",
      "source": [
        "df.where((df.Trip_Distance > 100) & (df.fare_amount>=(df.Trip_Distance*2.5))) \\\n",
        ".withColumn('mph', col(\"Trip_Distance\") / (\\\n",
        "        (unix_timestamp(col(\"tpep_dropoff_datetime\")) - unix_timestamp(col(\"tpep_pickup_datetime\"))) / 3600.0\\\n",
        "    ).cast(DoubleType())).show()"
      ],
      "metadata": {
        "colab": {
          "base_uri": "https://localhost:8080/"
        },
        "id": "i2JXfM7dU6oo",
        "outputId": "3cc1f319-14bc-4fab-b113-6ba21e8c84b7"
      },
      "execution_count": null,
      "outputs": [
        {
          "output_type": "stream",
          "name": "stdout",
          "text": [
            "+---------------+-------------+------------+-----------+----------+--------------------+---------------------+------------+------------+------------------+\n",
            "|passenger_count|Trip_Distance|payment_type|fare_amount|tip_amount|tpep_pickup_datetime|tpep_dropoff_datetime|PULocationID|DOLocationID|               mph|\n",
            "+---------------+-------------+------------+-----------+----------+--------------------+---------------------+------------+------------+------------------+\n",
            "|              1|        112.6|           2|      454.5|       0.0| 2010-02-11 08:04:30|  2010-02-11 10:08:40|          10|         265| 54.41073825503355|\n",
            "|              1|       139.05|        NULL|      450.0|       0.0| 2010-03-13 22:49:00|  2010-03-14 01:26:00|         138|         265|53.140127388535035|\n",
            "|              1|       134.96|        NULL|      495.7|       0.0| 2010-03-20 05:14:00|  2010-03-20 07:34:00|         132|         265|57.839999999999996|\n",
            "|              1|        500.0|           2|    1400.07|       0.0| 2010-03-02 16:57:08|  2010-03-02 17:08:44|         230|         246| 2586.206896551724|\n",
            "|              1|        663.8|        NULL|    6638.66|       0.0| 2010-03-10 23:22:33|  2010-03-10 23:22:36|         181|         181| 796559.9999999999|\n",
            "|              1|        262.9|           4|    2411.11|       0.0| 2010-03-30 10:36:15|  2010-03-30 10:36:19|         138|         138|236609.99999999997|\n",
            "|              1|        500.0|           2|    1700.07|       0.0| 2010-03-11 11:33:05|  2010-03-11 11:40:57|         141|         137| 3813.559322033898|\n",
            "|              1|       113.05|        NULL|      350.0|      40.0| 2010-03-31 19:18:00|  2010-03-31 21:17:00|         138|         265|              57.0|\n",
            "|              1|       106.42|        NULL|      427.7|      20.0| 2010-03-26 02:32:00|  2010-03-26 04:25:00|          68|         265| 56.50619469026549|\n",
            "|              1|       101.38|        NULL|      292.0|      50.0| 2010-03-27 18:12:00|  2010-03-27 20:48:00|          79|         265| 38.99230769230769|\n",
            "|              1|       138.95|        NULL|      450.0|       0.0| 2010-03-13 22:48:00|  2010-03-14 01:22:00|         138|         265|54.136363636363626|\n",
            "|              1|       112.01|           1|      375.0|       0.0| 2013-08-10 01:47:00|  2013-08-10 04:15:00|         170|         265| 45.40945945945946|\n",
            "|              1|        117.0|           3|      297.0|       0.0| 2013-08-15 11:55:40|  2013-08-15 14:26:43|         226|         265|  46.4746772591857|\n",
            "|              2|        145.0|           2|      384.5|       0.0| 2013-08-17 08:21:56|  2013-08-17 11:18:04|         100|         265| 49.39439818319455|\n",
            "|              2|        323.6|           3|      868.0|       0.0| 2013-08-23 05:59:35|  2013-08-23 13:09:32|         146|         265|45.158739388300965|\n",
            "|              2|        133.7|           2|      340.0|       0.0| 2013-08-31 21:08:36|  2013-08-31 23:27:22|         126|         265| 57.80927215950035|\n",
            "|              1|        171.4|           1|      788.5|     120.0| 2014-06-29 00:59:31|  2014-06-29 04:22:23|         138|         265|50.693394676306276|\n",
            "|              1|       109.34|           1|      498.5|       0.0| 2014-08-01 09:53:47|  2014-08-01 13:49:27|         230|         265| 27.83762376237624|\n",
            "|              4|        149.5|           2|      550.0|       0.0| 2014-08-04 16:28:40|  2014-08-04 20:45:45|         215|         265| 34.89141004862237|\n",
            "|              2|        115.9|           2|      300.0|       0.0| 2014-08-05 11:46:45|  2014-08-05 14:40:29|         186|         265| 40.02686108979279|\n",
            "+---------------+-------------+------------+-----------+----------+--------------------+---------------------+------------+------------+------------------+\n",
            "only showing top 20 rows\n",
            "\n"
          ]
        }
      ]
    },
    {
      "cell_type": "markdown",
      "source": [
        "Here we look at the trips over 100 miles, which fare makes sense and with a speed less than 60mph.\n",
        "We notice that the dropoff locations ID indicates a trip on the highway."
      ],
      "metadata": {
        "id": "-PCwl8HkQRV5"
      }
    },
    {
      "cell_type": "code",
      "source": [
        "d100 = df.where(\n",
        "    (df.Trip_Distance > 100) &\n",
        "    (df.fare_amount >= (df.Trip_Distance * 2.5)) &\n",
        "    # Speed = distance / time (in hours)\n",
        "    (df.Trip_Distance /\n",
        "     (unix_timestamp(df.tpep_dropoff_datetime) - unix_timestamp(df.tpep_pickup_datetime)) * 3600.0 <= 60.0)\n",
        ")"
      ],
      "metadata": {
        "id": "rvsRnLm6qJX8"
      },
      "execution_count": null,
      "outputs": []
    },
    {
      "cell_type": "code",
      "source": [
        "d100.show()"
      ],
      "metadata": {
        "colab": {
          "base_uri": "https://localhost:8080/"
        },
        "id": "iHs8AS90rE1f",
        "outputId": "6f29d3bc-b04b-4fcf-caee-f2853dbd34da"
      },
      "execution_count": null,
      "outputs": [
        {
          "output_type": "stream",
          "name": "stdout",
          "text": [
            "+---------------+-------------+------------+-----------+----------+--------------------+---------------------+------------+------------+\n",
            "|passenger_count|Trip_Distance|payment_type|fare_amount|tip_amount|tpep_pickup_datetime|tpep_dropoff_datetime|PULocationID|DOLocationID|\n",
            "+---------------+-------------+------------+-----------+----------+--------------------+---------------------+------------+------------+\n",
            "|              1|        112.6|           2|      454.5|       0.0| 2010-02-11 08:04:30|  2010-02-11 10:08:40|          10|         265|\n",
            "|              1|       139.05|        NULL|      450.0|       0.0| 2010-03-13 22:49:00|  2010-03-14 01:26:00|         138|         265|\n",
            "|              1|       134.96|        NULL|      495.7|       0.0| 2010-03-20 05:14:00|  2010-03-20 07:34:00|         132|         265|\n",
            "|              1|       113.05|        NULL|      350.0|      40.0| 2010-03-31 19:18:00|  2010-03-31 21:17:00|         138|         265|\n",
            "|              1|       106.42|        NULL|      427.7|      20.0| 2010-03-26 02:32:00|  2010-03-26 04:25:00|          68|         265|\n",
            "|              1|       101.38|        NULL|      292.0|      50.0| 2010-03-27 18:12:00|  2010-03-27 20:48:00|          79|         265|\n",
            "|              1|       138.95|        NULL|      450.0|       0.0| 2010-03-13 22:48:00|  2010-03-14 01:22:00|         138|         265|\n",
            "|              1|       112.01|           1|      375.0|       0.0| 2013-08-10 01:47:00|  2013-08-10 04:15:00|         170|         265|\n",
            "|              1|        117.0|           3|      297.0|       0.0| 2013-08-15 11:55:40|  2013-08-15 14:26:43|         226|         265|\n",
            "|              2|        145.0|           2|      384.5|       0.0| 2013-08-17 08:21:56|  2013-08-17 11:18:04|         100|         265|\n",
            "|              2|        323.6|           3|      868.0|       0.0| 2013-08-23 05:59:35|  2013-08-23 13:09:32|         146|         265|\n",
            "|              2|        133.7|           2|      340.0|       0.0| 2013-08-31 21:08:36|  2013-08-31 23:27:22|         126|         265|\n",
            "|              1|        171.4|           1|      788.5|     120.0| 2014-06-29 00:59:31|  2014-06-29 04:22:23|         138|         265|\n",
            "|              1|       109.34|           1|      498.5|       0.0| 2014-08-01 09:53:47|  2014-08-01 13:49:27|         230|         265|\n",
            "|              4|        149.5|           2|      550.0|       0.0| 2014-08-04 16:28:40|  2014-08-04 20:45:45|         215|         265|\n",
            "|              2|        115.9|           2|      300.0|       0.0| 2014-08-05 11:46:45|  2014-08-05 14:40:29|         186|         265|\n",
            "|              1|       120.31|           2|      499.0|       0.0| 2014-08-09 23:54:21|  2014-08-10 02:13:52|          79|         265|\n",
            "|              1|        121.3|           1|      500.0|       0.0| 2014-08-11 16:48:52|  2014-08-11 19:17:17|         132|         265|\n",
            "|              3|       109.79|           2|      475.0|       0.0| 2014-08-11 16:24:07|  2014-08-11 18:58:52|         132|         265|\n",
            "|              1|        134.9|           1|      364.5|       2.0| 2014-08-14 15:14:49|  2014-08-14 18:47:41|         132|         265|\n",
            "+---------------+-------------+------------+-----------+----------+--------------------+---------------------+------------+------------+\n",
            "only showing top 20 rows\n",
            "\n"
          ]
        }
      ]
    },
    {
      "cell_type": "markdown",
      "source": [
        "Here we're effectively dropping all the trips over 100 mi. where the speed and total fare are irrealistic.\n",
        "Instead of dropping, the trip distance could have been set to Null or to the median value of trip using the pickup and dropoff zone IDs\n",
        "\n",
        "Also, the trips of less than 100 mi. are not verified, hoping that won't have a large impact overall."
      ],
      "metadata": {
        "id": "5NJiuXZj7TUV"
      }
    },
    {
      "cell_type": "markdown",
      "source": [
        "Drop all the trips over 100 mi."
      ],
      "metadata": {
        "id": "4noWz6MY63Hw"
      }
    },
    {
      "cell_type": "code",
      "source": [
        "df = df.where(df.Trip_Distance <= 100)"
      ],
      "metadata": {
        "id": "v-4tZy9VwiNQ"
      },
      "execution_count": null,
      "outputs": []
    },
    {
      "cell_type": "markdown",
      "source": [
        "Add the filtered trips that are over 100 mi."
      ],
      "metadata": {
        "id": "QpilkSBH66-Z"
      }
    },
    {
      "cell_type": "code",
      "source": [
        "df =  df.unionByName(d100)"
      ],
      "metadata": {
        "id": "VOf95V7owvZ6"
      },
      "execution_count": null,
      "outputs": []
    },
    {
      "cell_type": "code",
      "source": [
        "df.count()"
      ],
      "metadata": {
        "colab": {
          "base_uri": "https://localhost:8080/"
        },
        "id": "Q7Y9HQoPw-Yz",
        "outputId": "4def020e-a136-497c-a672-2b691937b7e4"
      },
      "execution_count": null,
      "outputs": [
        {
          "output_type": "execute_result",
          "data": {
            "text/plain": [
              "1755679713"
            ]
          },
          "metadata": {},
          "execution_count": 65
        }
      ]
    },
    {
      "cell_type": "markdown",
      "source": [
        "#### **payment_type**\n",
        "\n",
        "0 = Flex Fare trip\n",
        "1 = Credit card\n",
        "2 = Cash\n",
        "3 = No charge\n",
        "4 = Dispute\n",
        "5 = Unknown\n",
        "6 = Voided trip"
      ],
      "metadata": {
        "id": "h_MozZGgI6TX"
      }
    },
    {
      "cell_type": "code",
      "source": [
        "hist_payment = df.groupBy(\"payment_type\").count()\n",
        "hist_payment.orderBy(\"payment_type\").show()"
      ],
      "metadata": {
        "colab": {
          "base_uri": "https://localhost:8080/"
        },
        "id": "MV414ei3z5tT",
        "outputId": "f6c3a551-b75c-4261-ace7-9bdaa657dfa1"
      },
      "execution_count": null,
      "outputs": [
        {
          "output_type": "stream",
          "name": "stdout",
          "text": [
            "+------------+---------+\n",
            "|payment_type|    count|\n",
            "+------------+---------+\n",
            "|        NULL| 80855892|\n",
            "|           1|934244446|\n",
            "|           2|732765427|\n",
            "|           3|  4284274|\n",
            "|           4|  2779629|\n",
            "|           5|   750045|\n",
            "+------------+---------+\n",
            "\n"
          ]
        }
      ]
    },
    {
      "cell_type": "markdown",
      "source": [
        "#### **fare_amount**"
      ],
      "metadata": {
        "id": "L5OjVXUHJE7w"
      }
    },
    {
      "cell_type": "code",
      "source": [
        "df = df.where(df.fare_amount > 0)"
      ],
      "metadata": {
        "id": "5_M-ADgEIJP9"
      },
      "execution_count": null,
      "outputs": []
    },
    {
      "cell_type": "code",
      "execution_count": null,
      "metadata": {
        "id": "uxbs6aFAflY7",
        "colab": {
          "base_uri": "https://localhost:8080/",
          "height": 206
        },
        "outputId": "f6a99887-19ca-41e9-b523-a21e9bd956bc"
      },
      "outputs": [
        {
          "output_type": "execute_result",
          "data": {
            "text/plain": [
              "  summary         Fare_amount\n",
              "0   count          1753864709\n",
              "1    mean  12.103765337879446\n",
              "2  stddev   74.58582333032092\n",
              "3     min                0.01\n",
              "4     max           998310.03"
            ],
            "text/html": [
              "\n",
              "  <div id=\"df-748b621d-0c53-414a-aaa1-232ae57c5b5f\" class=\"colab-df-container\">\n",
              "    <div>\n",
              "<style scoped>\n",
              "    .dataframe tbody tr th:only-of-type {\n",
              "        vertical-align: middle;\n",
              "    }\n",
              "\n",
              "    .dataframe tbody tr th {\n",
              "        vertical-align: top;\n",
              "    }\n",
              "\n",
              "    .dataframe thead th {\n",
              "        text-align: right;\n",
              "    }\n",
              "</style>\n",
              "<table border=\"1\" class=\"dataframe\">\n",
              "  <thead>\n",
              "    <tr style=\"text-align: right;\">\n",
              "      <th></th>\n",
              "      <th>summary</th>\n",
              "      <th>Fare_amount</th>\n",
              "    </tr>\n",
              "  </thead>\n",
              "  <tbody>\n",
              "    <tr>\n",
              "      <th>0</th>\n",
              "      <td>count</td>\n",
              "      <td>1753864709</td>\n",
              "    </tr>\n",
              "    <tr>\n",
              "      <th>1</th>\n",
              "      <td>mean</td>\n",
              "      <td>12.103765337879446</td>\n",
              "    </tr>\n",
              "    <tr>\n",
              "      <th>2</th>\n",
              "      <td>stddev</td>\n",
              "      <td>74.58582333032092</td>\n",
              "    </tr>\n",
              "    <tr>\n",
              "      <th>3</th>\n",
              "      <td>min</td>\n",
              "      <td>0.01</td>\n",
              "    </tr>\n",
              "    <tr>\n",
              "      <th>4</th>\n",
              "      <td>max</td>\n",
              "      <td>998310.03</td>\n",
              "    </tr>\n",
              "  </tbody>\n",
              "</table>\n",
              "</div>\n",
              "    <div class=\"colab-df-buttons\">\n",
              "\n",
              "  <div class=\"colab-df-container\">\n",
              "    <button class=\"colab-df-convert\" onclick=\"convertToInteractive('df-748b621d-0c53-414a-aaa1-232ae57c5b5f')\"\n",
              "            title=\"Convert this dataframe to an interactive table.\"\n",
              "            style=\"display:none;\">\n",
              "\n",
              "  <svg xmlns=\"http://www.w3.org/2000/svg\" height=\"24px\" viewBox=\"0 -960 960 960\">\n",
              "    <path d=\"M120-120v-720h720v720H120Zm60-500h600v-160H180v160Zm220 220h160v-160H400v160Zm0 220h160v-160H400v160ZM180-400h160v-160H180v160Zm440 0h160v-160H620v160ZM180-180h160v-160H180v160Zm440 0h160v-160H620v160Z\"/>\n",
              "  </svg>\n",
              "    </button>\n",
              "\n",
              "  <style>\n",
              "    .colab-df-container {\n",
              "      display:flex;\n",
              "      gap: 12px;\n",
              "    }\n",
              "\n",
              "    .colab-df-convert {\n",
              "      background-color: #E8F0FE;\n",
              "      border: none;\n",
              "      border-radius: 50%;\n",
              "      cursor: pointer;\n",
              "      display: none;\n",
              "      fill: #1967D2;\n",
              "      height: 32px;\n",
              "      padding: 0 0 0 0;\n",
              "      width: 32px;\n",
              "    }\n",
              "\n",
              "    .colab-df-convert:hover {\n",
              "      background-color: #E2EBFA;\n",
              "      box-shadow: 0px 1px 2px rgba(60, 64, 67, 0.3), 0px 1px 3px 1px rgba(60, 64, 67, 0.15);\n",
              "      fill: #174EA6;\n",
              "    }\n",
              "\n",
              "    .colab-df-buttons div {\n",
              "      margin-bottom: 4px;\n",
              "    }\n",
              "\n",
              "    [theme=dark] .colab-df-convert {\n",
              "      background-color: #3B4455;\n",
              "      fill: #D2E3FC;\n",
              "    }\n",
              "\n",
              "    [theme=dark] .colab-df-convert:hover {\n",
              "      background-color: #434B5C;\n",
              "      box-shadow: 0px 1px 3px 1px rgba(0, 0, 0, 0.15);\n",
              "      filter: drop-shadow(0px 1px 2px rgba(0, 0, 0, 0.3));\n",
              "      fill: #FFFFFF;\n",
              "    }\n",
              "  </style>\n",
              "\n",
              "    <script>\n",
              "      const buttonEl =\n",
              "        document.querySelector('#df-748b621d-0c53-414a-aaa1-232ae57c5b5f button.colab-df-convert');\n",
              "      buttonEl.style.display =\n",
              "        google.colab.kernel.accessAllowed ? 'block' : 'none';\n",
              "\n",
              "      async function convertToInteractive(key) {\n",
              "        const element = document.querySelector('#df-748b621d-0c53-414a-aaa1-232ae57c5b5f');\n",
              "        const dataTable =\n",
              "          await google.colab.kernel.invokeFunction('convertToInteractive',\n",
              "                                                    [key], {});\n",
              "        if (!dataTable) return;\n",
              "\n",
              "        const docLinkHtml = 'Like what you see? Visit the ' +\n",
              "          '<a target=\"_blank\" href=https://colab.research.google.com/notebooks/data_table.ipynb>data table notebook</a>'\n",
              "          + ' to learn more about interactive tables.';\n",
              "        element.innerHTML = '';\n",
              "        dataTable['output_type'] = 'display_data';\n",
              "        await google.colab.output.renderOutput(dataTable, element);\n",
              "        const docLink = document.createElement('div');\n",
              "        docLink.innerHTML = docLinkHtml;\n",
              "        element.appendChild(docLink);\n",
              "      }\n",
              "    </script>\n",
              "  </div>\n",
              "\n",
              "\n",
              "    <div id=\"df-70cc9c29-fa9f-45d7-b655-4cad30748780\">\n",
              "      <button class=\"colab-df-quickchart\" onclick=\"quickchart('df-70cc9c29-fa9f-45d7-b655-4cad30748780')\"\n",
              "                title=\"Suggest charts\"\n",
              "                style=\"display:none;\">\n",
              "\n",
              "<svg xmlns=\"http://www.w3.org/2000/svg\" height=\"24px\"viewBox=\"0 0 24 24\"\n",
              "     width=\"24px\">\n",
              "    <g>\n",
              "        <path d=\"M19 3H5c-1.1 0-2 .9-2 2v14c0 1.1.9 2 2 2h14c1.1 0 2-.9 2-2V5c0-1.1-.9-2-2-2zM9 17H7v-7h2v7zm4 0h-2V7h2v10zm4 0h-2v-4h2v4z\"/>\n",
              "    </g>\n",
              "</svg>\n",
              "      </button>\n",
              "\n",
              "<style>\n",
              "  .colab-df-quickchart {\n",
              "      --bg-color: #E8F0FE;\n",
              "      --fill-color: #1967D2;\n",
              "      --hover-bg-color: #E2EBFA;\n",
              "      --hover-fill-color: #174EA6;\n",
              "      --disabled-fill-color: #AAA;\n",
              "      --disabled-bg-color: #DDD;\n",
              "  }\n",
              "\n",
              "  [theme=dark] .colab-df-quickchart {\n",
              "      --bg-color: #3B4455;\n",
              "      --fill-color: #D2E3FC;\n",
              "      --hover-bg-color: #434B5C;\n",
              "      --hover-fill-color: #FFFFFF;\n",
              "      --disabled-bg-color: #3B4455;\n",
              "      --disabled-fill-color: #666;\n",
              "  }\n",
              "\n",
              "  .colab-df-quickchart {\n",
              "    background-color: var(--bg-color);\n",
              "    border: none;\n",
              "    border-radius: 50%;\n",
              "    cursor: pointer;\n",
              "    display: none;\n",
              "    fill: var(--fill-color);\n",
              "    height: 32px;\n",
              "    padding: 0;\n",
              "    width: 32px;\n",
              "  }\n",
              "\n",
              "  .colab-df-quickchart:hover {\n",
              "    background-color: var(--hover-bg-color);\n",
              "    box-shadow: 0 1px 2px rgba(60, 64, 67, 0.3), 0 1px 3px 1px rgba(60, 64, 67, 0.15);\n",
              "    fill: var(--button-hover-fill-color);\n",
              "  }\n",
              "\n",
              "  .colab-df-quickchart-complete:disabled,\n",
              "  .colab-df-quickchart-complete:disabled:hover {\n",
              "    background-color: var(--disabled-bg-color);\n",
              "    fill: var(--disabled-fill-color);\n",
              "    box-shadow: none;\n",
              "  }\n",
              "\n",
              "  .colab-df-spinner {\n",
              "    border: 2px solid var(--fill-color);\n",
              "    border-color: transparent;\n",
              "    border-bottom-color: var(--fill-color);\n",
              "    animation:\n",
              "      spin 1s steps(1) infinite;\n",
              "  }\n",
              "\n",
              "  @keyframes spin {\n",
              "    0% {\n",
              "      border-color: transparent;\n",
              "      border-bottom-color: var(--fill-color);\n",
              "      border-left-color: var(--fill-color);\n",
              "    }\n",
              "    20% {\n",
              "      border-color: transparent;\n",
              "      border-left-color: var(--fill-color);\n",
              "      border-top-color: var(--fill-color);\n",
              "    }\n",
              "    30% {\n",
              "      border-color: transparent;\n",
              "      border-left-color: var(--fill-color);\n",
              "      border-top-color: var(--fill-color);\n",
              "      border-right-color: var(--fill-color);\n",
              "    }\n",
              "    40% {\n",
              "      border-color: transparent;\n",
              "      border-right-color: var(--fill-color);\n",
              "      border-top-color: var(--fill-color);\n",
              "    }\n",
              "    60% {\n",
              "      border-color: transparent;\n",
              "      border-right-color: var(--fill-color);\n",
              "    }\n",
              "    80% {\n",
              "      border-color: transparent;\n",
              "      border-right-color: var(--fill-color);\n",
              "      border-bottom-color: var(--fill-color);\n",
              "    }\n",
              "    90% {\n",
              "      border-color: transparent;\n",
              "      border-bottom-color: var(--fill-color);\n",
              "    }\n",
              "  }\n",
              "</style>\n",
              "\n",
              "      <script>\n",
              "        async function quickchart(key) {\n",
              "          const quickchartButtonEl =\n",
              "            document.querySelector('#' + key + ' button');\n",
              "          quickchartButtonEl.disabled = true;  // To prevent multiple clicks.\n",
              "          quickchartButtonEl.classList.add('colab-df-spinner');\n",
              "          try {\n",
              "            const charts = await google.colab.kernel.invokeFunction(\n",
              "                'suggestCharts', [key], {});\n",
              "          } catch (error) {\n",
              "            console.error('Error during call to suggestCharts:', error);\n",
              "          }\n",
              "          quickchartButtonEl.classList.remove('colab-df-spinner');\n",
              "          quickchartButtonEl.classList.add('colab-df-quickchart-complete');\n",
              "        }\n",
              "        (() => {\n",
              "          let quickchartButtonEl =\n",
              "            document.querySelector('#df-70cc9c29-fa9f-45d7-b655-4cad30748780 button');\n",
              "          quickchartButtonEl.style.display =\n",
              "            google.colab.kernel.accessAllowed ? 'block' : 'none';\n",
              "        })();\n",
              "      </script>\n",
              "    </div>\n",
              "\n",
              "    </div>\n",
              "  </div>\n"
            ],
            "application/vnd.google.colaboratory.intrinsic+json": {
              "type": "dataframe",
              "summary": "{\n  \"name\": \"df\",\n  \"rows\": 5,\n  \"fields\": [\n    {\n      \"column\": \"summary\",\n      \"properties\": {\n        \"dtype\": \"string\",\n        \"num_unique_values\": 5,\n        \"samples\": [\n          \"mean\",\n          \"max\",\n          \"stddev\"\n        ],\n        \"semantic_type\": \"\",\n        \"description\": \"\"\n      }\n    },\n    {\n      \"column\": \"Fare_amount\",\n      \"properties\": {\n        \"dtype\": \"string\",\n        \"num_unique_values\": 5,\n        \"samples\": [\n          \"12.103765337879446\",\n          \"998310.03\",\n          \"74.58582333032092\"\n        ],\n        \"semantic_type\": \"\",\n        \"description\": \"\"\n      }\n    }\n  ]\n}"
            }
          },
          "metadata": {},
          "execution_count": 69
        }
      ],
      "source": [
        "df.select(\"Fare_amount\").describe().toPandas()"
      ]
    },
    {
      "cell_type": "code",
      "source": [
        "bin_labels_fare = spark.createDataFrame([\n",
        "    (0, \"0-1\"),\n",
        "    (1, \"1-2\"),\n",
        "    (2, \"2-5\"),\n",
        "    (3, \"5-10\"),\n",
        "    (4, \"10-20\"),\n",
        "    (5, \"20-50\"),\n",
        "    (6, \"50-100\"),\n",
        "    (7, \"100-200\"),\n",
        "    (8, \"200-500\"),\n",
        "    (9, \"500-1000\"),\n",
        "    (10, \"1000+\"),\n",
        "], [\"bins\", \"range\"])\n",
        "\n",
        "bucketizer_fare = Bucketizer(splits=[0, 1 , 2, 5, 10, 20, 50, 100, 200, 500, 1000, float('Inf')],\n",
        "                        inputCol='fare_amount',\n",
        "                        outputCol='bins')\n",
        "\n",
        "df_bins_fare = bucketizer_fare.setHandleInvalid('keep').transform(df)\n",
        "\n",
        "df_binned_fare = df_bins_fare.groupBy('bins').count()\n",
        "\n",
        "result_fare = (df_binned_fare\n",
        "    .join(bin_labels_fare, \"bins\")\n",
        "    .select(\"range\", \"count\",\"bins\").orderBy(\"bins\")\n",
        ")\n",
        "\n",
        "result.select([\"range\",'count']).show()"
      ],
      "metadata": {
        "colab": {
          "base_uri": "https://localhost:8080/"
        },
        "id": "sowIXic9gtMh",
        "outputId": "f8b6a34f-a301-470d-ad49-7aef80edcc5a"
      },
      "execution_count": null,
      "outputs": [
        {
          "output_type": "stream",
          "name": "stdout",
          "text": [
            "+-------+----------+\n",
            "|  range|     count|\n",
            "+-------+----------+\n",
            "|   0-10|1662688216|\n",
            "|  10-20|  83885136|\n",
            "|  20-50|   9029173|\n",
            "| 50-100|     75209|\n",
            "|100-200|      7121|\n",
            "|200-500|      1818|\n",
            "|   500+|      3134|\n",
            "+-------+----------+\n",
            "\n"
          ]
        }
      ]
    },
    {
      "cell_type": "markdown",
      "source": [
        "#### **tip_amount**"
      ],
      "metadata": {
        "id": "qyddy6i0Jgex"
      }
    },
    {
      "cell_type": "code",
      "source": [
        "df.select(\"Tip_amount\").describe().toPandas()"
      ],
      "metadata": {
        "colab": {
          "base_uri": "https://localhost:8080/",
          "height": 206
        },
        "id": "oA7E7lfXrVbe",
        "outputId": "ad00c8c0-6bdf-4b8a-b8e7-ffec4c9fed28"
      },
      "execution_count": null,
      "outputs": [
        {
          "output_type": "execute_result",
          "data": {
            "text/plain": [
              "  summary          Tip_amount\n",
              "0   count          1753864709\n",
              "1    mean  1.4844757070263706\n",
              "2  stddev  102.51474488779952\n",
              "3     min          -1677720.1\n",
              "4     max           3950588.8"
            ],
            "text/html": [
              "\n",
              "  <div id=\"df-1c965711-3654-4a07-90a4-e802d18cd80f\" class=\"colab-df-container\">\n",
              "    <div>\n",
              "<style scoped>\n",
              "    .dataframe tbody tr th:only-of-type {\n",
              "        vertical-align: middle;\n",
              "    }\n",
              "\n",
              "    .dataframe tbody tr th {\n",
              "        vertical-align: top;\n",
              "    }\n",
              "\n",
              "    .dataframe thead th {\n",
              "        text-align: right;\n",
              "    }\n",
              "</style>\n",
              "<table border=\"1\" class=\"dataframe\">\n",
              "  <thead>\n",
              "    <tr style=\"text-align: right;\">\n",
              "      <th></th>\n",
              "      <th>summary</th>\n",
              "      <th>Tip_amount</th>\n",
              "    </tr>\n",
              "  </thead>\n",
              "  <tbody>\n",
              "    <tr>\n",
              "      <th>0</th>\n",
              "      <td>count</td>\n",
              "      <td>1753864709</td>\n",
              "    </tr>\n",
              "    <tr>\n",
              "      <th>1</th>\n",
              "      <td>mean</td>\n",
              "      <td>1.4844757070263706</td>\n",
              "    </tr>\n",
              "    <tr>\n",
              "      <th>2</th>\n",
              "      <td>stddev</td>\n",
              "      <td>102.51474488779952</td>\n",
              "    </tr>\n",
              "    <tr>\n",
              "      <th>3</th>\n",
              "      <td>min</td>\n",
              "      <td>-1677720.1</td>\n",
              "    </tr>\n",
              "    <tr>\n",
              "      <th>4</th>\n",
              "      <td>max</td>\n",
              "      <td>3950588.8</td>\n",
              "    </tr>\n",
              "  </tbody>\n",
              "</table>\n",
              "</div>\n",
              "    <div class=\"colab-df-buttons\">\n",
              "\n",
              "  <div class=\"colab-df-container\">\n",
              "    <button class=\"colab-df-convert\" onclick=\"convertToInteractive('df-1c965711-3654-4a07-90a4-e802d18cd80f')\"\n",
              "            title=\"Convert this dataframe to an interactive table.\"\n",
              "            style=\"display:none;\">\n",
              "\n",
              "  <svg xmlns=\"http://www.w3.org/2000/svg\" height=\"24px\" viewBox=\"0 -960 960 960\">\n",
              "    <path d=\"M120-120v-720h720v720H120Zm60-500h600v-160H180v160Zm220 220h160v-160H400v160Zm0 220h160v-160H400v160ZM180-400h160v-160H180v160Zm440 0h160v-160H620v160ZM180-180h160v-160H180v160Zm440 0h160v-160H620v160Z\"/>\n",
              "  </svg>\n",
              "    </button>\n",
              "\n",
              "  <style>\n",
              "    .colab-df-container {\n",
              "      display:flex;\n",
              "      gap: 12px;\n",
              "    }\n",
              "\n",
              "    .colab-df-convert {\n",
              "      background-color: #E8F0FE;\n",
              "      border: none;\n",
              "      border-radius: 50%;\n",
              "      cursor: pointer;\n",
              "      display: none;\n",
              "      fill: #1967D2;\n",
              "      height: 32px;\n",
              "      padding: 0 0 0 0;\n",
              "      width: 32px;\n",
              "    }\n",
              "\n",
              "    .colab-df-convert:hover {\n",
              "      background-color: #E2EBFA;\n",
              "      box-shadow: 0px 1px 2px rgba(60, 64, 67, 0.3), 0px 1px 3px 1px rgba(60, 64, 67, 0.15);\n",
              "      fill: #174EA6;\n",
              "    }\n",
              "\n",
              "    .colab-df-buttons div {\n",
              "      margin-bottom: 4px;\n",
              "    }\n",
              "\n",
              "    [theme=dark] .colab-df-convert {\n",
              "      background-color: #3B4455;\n",
              "      fill: #D2E3FC;\n",
              "    }\n",
              "\n",
              "    [theme=dark] .colab-df-convert:hover {\n",
              "      background-color: #434B5C;\n",
              "      box-shadow: 0px 1px 3px 1px rgba(0, 0, 0, 0.15);\n",
              "      filter: drop-shadow(0px 1px 2px rgba(0, 0, 0, 0.3));\n",
              "      fill: #FFFFFF;\n",
              "    }\n",
              "  </style>\n",
              "\n",
              "    <script>\n",
              "      const buttonEl =\n",
              "        document.querySelector('#df-1c965711-3654-4a07-90a4-e802d18cd80f button.colab-df-convert');\n",
              "      buttonEl.style.display =\n",
              "        google.colab.kernel.accessAllowed ? 'block' : 'none';\n",
              "\n",
              "      async function convertToInteractive(key) {\n",
              "        const element = document.querySelector('#df-1c965711-3654-4a07-90a4-e802d18cd80f');\n",
              "        const dataTable =\n",
              "          await google.colab.kernel.invokeFunction('convertToInteractive',\n",
              "                                                    [key], {});\n",
              "        if (!dataTable) return;\n",
              "\n",
              "        const docLinkHtml = 'Like what you see? Visit the ' +\n",
              "          '<a target=\"_blank\" href=https://colab.research.google.com/notebooks/data_table.ipynb>data table notebook</a>'\n",
              "          + ' to learn more about interactive tables.';\n",
              "        element.innerHTML = '';\n",
              "        dataTable['output_type'] = 'display_data';\n",
              "        await google.colab.output.renderOutput(dataTable, element);\n",
              "        const docLink = document.createElement('div');\n",
              "        docLink.innerHTML = docLinkHtml;\n",
              "        element.appendChild(docLink);\n",
              "      }\n",
              "    </script>\n",
              "  </div>\n",
              "\n",
              "\n",
              "    <div id=\"df-671744d2-f854-4e8e-82b6-71e510e61f9b\">\n",
              "      <button class=\"colab-df-quickchart\" onclick=\"quickchart('df-671744d2-f854-4e8e-82b6-71e510e61f9b')\"\n",
              "                title=\"Suggest charts\"\n",
              "                style=\"display:none;\">\n",
              "\n",
              "<svg xmlns=\"http://www.w3.org/2000/svg\" height=\"24px\"viewBox=\"0 0 24 24\"\n",
              "     width=\"24px\">\n",
              "    <g>\n",
              "        <path d=\"M19 3H5c-1.1 0-2 .9-2 2v14c0 1.1.9 2 2 2h14c1.1 0 2-.9 2-2V5c0-1.1-.9-2-2-2zM9 17H7v-7h2v7zm4 0h-2V7h2v10zm4 0h-2v-4h2v4z\"/>\n",
              "    </g>\n",
              "</svg>\n",
              "      </button>\n",
              "\n",
              "<style>\n",
              "  .colab-df-quickchart {\n",
              "      --bg-color: #E8F0FE;\n",
              "      --fill-color: #1967D2;\n",
              "      --hover-bg-color: #E2EBFA;\n",
              "      --hover-fill-color: #174EA6;\n",
              "      --disabled-fill-color: #AAA;\n",
              "      --disabled-bg-color: #DDD;\n",
              "  }\n",
              "\n",
              "  [theme=dark] .colab-df-quickchart {\n",
              "      --bg-color: #3B4455;\n",
              "      --fill-color: #D2E3FC;\n",
              "      --hover-bg-color: #434B5C;\n",
              "      --hover-fill-color: #FFFFFF;\n",
              "      --disabled-bg-color: #3B4455;\n",
              "      --disabled-fill-color: #666;\n",
              "  }\n",
              "\n",
              "  .colab-df-quickchart {\n",
              "    background-color: var(--bg-color);\n",
              "    border: none;\n",
              "    border-radius: 50%;\n",
              "    cursor: pointer;\n",
              "    display: none;\n",
              "    fill: var(--fill-color);\n",
              "    height: 32px;\n",
              "    padding: 0;\n",
              "    width: 32px;\n",
              "  }\n",
              "\n",
              "  .colab-df-quickchart:hover {\n",
              "    background-color: var(--hover-bg-color);\n",
              "    box-shadow: 0 1px 2px rgba(60, 64, 67, 0.3), 0 1px 3px 1px rgba(60, 64, 67, 0.15);\n",
              "    fill: var(--button-hover-fill-color);\n",
              "  }\n",
              "\n",
              "  .colab-df-quickchart-complete:disabled,\n",
              "  .colab-df-quickchart-complete:disabled:hover {\n",
              "    background-color: var(--disabled-bg-color);\n",
              "    fill: var(--disabled-fill-color);\n",
              "    box-shadow: none;\n",
              "  }\n",
              "\n",
              "  .colab-df-spinner {\n",
              "    border: 2px solid var(--fill-color);\n",
              "    border-color: transparent;\n",
              "    border-bottom-color: var(--fill-color);\n",
              "    animation:\n",
              "      spin 1s steps(1) infinite;\n",
              "  }\n",
              "\n",
              "  @keyframes spin {\n",
              "    0% {\n",
              "      border-color: transparent;\n",
              "      border-bottom-color: var(--fill-color);\n",
              "      border-left-color: var(--fill-color);\n",
              "    }\n",
              "    20% {\n",
              "      border-color: transparent;\n",
              "      border-left-color: var(--fill-color);\n",
              "      border-top-color: var(--fill-color);\n",
              "    }\n",
              "    30% {\n",
              "      border-color: transparent;\n",
              "      border-left-color: var(--fill-color);\n",
              "      border-top-color: var(--fill-color);\n",
              "      border-right-color: var(--fill-color);\n",
              "    }\n",
              "    40% {\n",
              "      border-color: transparent;\n",
              "      border-right-color: var(--fill-color);\n",
              "      border-top-color: var(--fill-color);\n",
              "    }\n",
              "    60% {\n",
              "      border-color: transparent;\n",
              "      border-right-color: var(--fill-color);\n",
              "    }\n",
              "    80% {\n",
              "      border-color: transparent;\n",
              "      border-right-color: var(--fill-color);\n",
              "      border-bottom-color: var(--fill-color);\n",
              "    }\n",
              "    90% {\n",
              "      border-color: transparent;\n",
              "      border-bottom-color: var(--fill-color);\n",
              "    }\n",
              "  }\n",
              "</style>\n",
              "\n",
              "      <script>\n",
              "        async function quickchart(key) {\n",
              "          const quickchartButtonEl =\n",
              "            document.querySelector('#' + key + ' button');\n",
              "          quickchartButtonEl.disabled = true;  // To prevent multiple clicks.\n",
              "          quickchartButtonEl.classList.add('colab-df-spinner');\n",
              "          try {\n",
              "            const charts = await google.colab.kernel.invokeFunction(\n",
              "                'suggestCharts', [key], {});\n",
              "          } catch (error) {\n",
              "            console.error('Error during call to suggestCharts:', error);\n",
              "          }\n",
              "          quickchartButtonEl.classList.remove('colab-df-spinner');\n",
              "          quickchartButtonEl.classList.add('colab-df-quickchart-complete');\n",
              "        }\n",
              "        (() => {\n",
              "          let quickchartButtonEl =\n",
              "            document.querySelector('#df-671744d2-f854-4e8e-82b6-71e510e61f9b button');\n",
              "          quickchartButtonEl.style.display =\n",
              "            google.colab.kernel.accessAllowed ? 'block' : 'none';\n",
              "        })();\n",
              "      </script>\n",
              "    </div>\n",
              "\n",
              "    </div>\n",
              "  </div>\n"
            ],
            "application/vnd.google.colaboratory.intrinsic+json": {
              "type": "dataframe",
              "summary": "{\n  \"name\": \"df\",\n  \"rows\": 5,\n  \"fields\": [\n    {\n      \"column\": \"summary\",\n      \"properties\": {\n        \"dtype\": \"string\",\n        \"num_unique_values\": 5,\n        \"samples\": [\n          \"mean\",\n          \"max\",\n          \"stddev\"\n        ],\n        \"semantic_type\": \"\",\n        \"description\": \"\"\n      }\n    },\n    {\n      \"column\": \"Tip_amount\",\n      \"properties\": {\n        \"dtype\": \"string\",\n        \"num_unique_values\": 5,\n        \"samples\": [\n          \"1.4844757070263706\",\n          \"3950588.8\",\n          \"102.51474488779952\"\n        ],\n        \"semantic_type\": \"\",\n        \"description\": \"\"\n      }\n    }\n  ]\n}"
            }
          },
          "metadata": {},
          "execution_count": 79
        }
      ]
    },
    {
      "cell_type": "code",
      "source": [
        "df = df.where(df.tip_amount >= 0)"
      ],
      "metadata": {
        "id": "msbL-dyvrdUU"
      },
      "execution_count": null,
      "outputs": []
    },
    {
      "cell_type": "code",
      "source": [
        "bin_labels_tips = spark.createDataFrame([\n",
        "    (0, \"0-1\"),\n",
        "    (1, \"1-2\"),\n",
        "    (2, \"2-5\"),\n",
        "    (3, \"5-10\"),\n",
        "    (4, \"10-20\"),\n",
        "    (5, \"20-50\"),\n",
        "    (6, \"50-100\"),\n",
        "    (7, \"100-200\"),\n",
        "    (8, \"200-500\"),\n",
        "    (9, \"500-1000\"),\n",
        "    (10, \"1000+\"),\n",
        "], [\"bins\", \"range\"])\n",
        "\n",
        "bucketizer_tips = Bucketizer(splits=[0, 1,2,5,10,20, 50, 100, 200, 500, 1000, float('Inf')],\n",
        "                        inputCol='tip_amount',\n",
        "                        outputCol='bins')\n",
        "\n",
        "df_bins_tips = bucketizer_tips.setHandleInvalid('keep').transform(df)\n",
        "\n",
        "df_binned_tips = df_bins_tips.groupBy('bins').count()\n",
        "\n",
        "result_tips = (df_binned_tips\n",
        "    .join(bin_labels_tips, \"bins\")\n",
        "    .select(\"range\", \"count\",\"bins\").orderBy(\"bins\")\n",
        ")"
      ],
      "metadata": {
        "id": "_ukhXStwjN0G"
      },
      "execution_count": null,
      "outputs": []
    },
    {
      "cell_type": "code",
      "source": [
        "result_tips.select([\"range\",'count']).show()"
      ],
      "metadata": {
        "colab": {
          "base_uri": "https://localhost:8080/"
        },
        "id": "Odx3HL1vkqKl",
        "outputId": "50fcc520-75c3-4eee-9fa1-74882a1adea7"
      },
      "execution_count": null,
      "outputs": [
        {
          "output_type": "stream",
          "name": "stdout",
          "text": [
            "+--------+---------+\n",
            "|   range|    count|\n",
            "+--------+---------+\n",
            "|     0-1|852457807|\n",
            "|     1-2|371485450|\n",
            "|     2-5|423551014|\n",
            "|    5-10| 78255985|\n",
            "|   10-20| 26521821|\n",
            "|   20-50|  1489396|\n",
            "|  50-100|    89340|\n",
            "| 100-200|    11415|\n",
            "| 200-500|     2316|\n",
            "|500-1000|      145|\n",
            "|   1000+|       12|\n",
            "+--------+---------+\n",
            "\n"
          ]
        }
      ]
    },
    {
      "cell_type": "markdown",
      "source": [
        "Looking at tips over $1000. Clearly some errors when distance and the corresponding fare are far from the official rate. Likely that nobody got a nearly 400k tip."
      ],
      "metadata": {
        "id": "rkEKWbzjzXso"
      }
    },
    {
      "cell_type": "code",
      "source": [
        "df.where(df.tip_amount > 1000).show()"
      ],
      "metadata": {
        "colab": {
          "base_uri": "https://localhost:8080/"
        },
        "id": "JJKJmvy2qVwR",
        "outputId": "b11fd88f-aa65-4f40-8385-ebf4e52f0ef8"
      },
      "execution_count": null,
      "outputs": [
        {
          "output_type": "stream",
          "name": "stdout",
          "text": [
            "+---------------+-------------+------------+-----------+----------+--------------------+---------------------+------------+------------+----+-----+---+----+\n",
            "|passenger_count|Trip_Distance|payment_type|fare_amount|tip_amount|tpep_pickup_datetime|tpep_dropoff_datetime|PULocationID|DOLocationID|year|month|day|hour|\n",
            "+---------------+-------------+------------+-----------+----------+--------------------+---------------------+------------+------------+----+-----+---+----+\n",
            "|              1|         5.32|           1|       22.0| 3950588.8| 2015-01-18 19:24:15|  2015-01-18 19:51:55|         249|          37|2015|    1|  1|  19|\n",
            "|              1|          4.6|           1|     8014.5|   1603.05| 2015-02-26 21:53:48|  2015-02-26 22:15:02|         264|         264|2015|    2|  5|  21|\n",
            "|              1|          1.2|           1|     8004.5|    1200.8| 2015-09-20 21:50:26|  2015-09-20 21:52:57|         264|         264|2015|    9|  1|  21|\n",
            "|              1|          5.5|           1|     8000.3|   1600.22| 2017-05-02 12:39:43|  2017-05-02 12:43:41|         263|         236|2017|    5|  3|  12|\n",
            "|              1|          5.6|           1|     9022.0|   1624.64| 2019-06-18 21:19:05|  2019-06-18 21:45:13|         229|         256|2019|    6|  3|  21|\n",
            "|              1|         0.55|           1|        6.5|    1100.0| 2020-01-22 16:41:24|  2020-01-22 16:49:28|         231|         209|2020|    1|  4|  16|\n",
            "|              1|         1.43|           1|        6.5|    1001.0| 2020-07-02 12:50:12|  2020-07-02 12:55:46|         233|         107|2020|    7|  5|  12|\n",
            "|              1|         4.51|           1|     6964.0|   1393.56| 2020-12-20 23:01:34|  2020-12-20 23:14:21|         249|          50|2020|   12|  1|  23|\n",
            "|              1|         2.59|           1|       12.0|   1393.56| 2022-06-04 17:08:55|  2022-06-04 17:24:08|         238|         262|2022|    6|  7|  17|\n",
            "|              1|         2.88|           1|       13.0|   1393.86| 2022-06-17 22:09:26|  2022-06-17 22:24:59|         236|         143|2022|    6|  6|  22|\n",
            "|              1|        29.92|           1|       47.0|   1400.16| 2022-06-23 09:39:15|  2022-06-23 10:34:51|         207|          22|2022|    6|  5|   9|\n",
            "|              1|        427.7|           1|     1128.5|   1140.44| 2021-01-20 11:22:05|  2021-01-20 19:47:56|           4|         265|2021|    1|  4|  11|\n",
            "+---------------+-------------+------------+-----------+----------+--------------------+---------------------+------------+------------+----+-----+---+----+\n",
            "\n"
          ]
        }
      ]
    },
    {
      "cell_type": "markdown",
      "source": [
        "Zooming in between 500 and 550  $ in tip. Some trip distances and fare don't add up"
      ],
      "metadata": {
        "id": "Un6-Vg2E1VBl"
      }
    },
    {
      "cell_type": "code",
      "source": [
        "df.where((df.tip_amount > 500) & (df.tip_amount <550)).show()"
      ],
      "metadata": {
        "colab": {
          "base_uri": "https://localhost:8080/"
        },
        "id": "1yABcmn5uXq7",
        "outputId": "9e68c1c4-8915-46c2-fcba-c5e2a507951b"
      },
      "execution_count": null,
      "outputs": [
        {
          "output_type": "stream",
          "name": "stdout",
          "text": [
            "+---------------+-------------+------------+-----------+----------+--------------------+---------------------+------------+------------+----+-----+---+----+\n",
            "|passenger_count|Trip_Distance|payment_type|fare_amount|tip_amount|tpep_pickup_datetime|tpep_dropoff_datetime|PULocationID|DOLocationID|year|month|day|hour|\n",
            "+---------------+-------------+------------+-----------+----------+--------------------+---------------------+------------+------------+----+-----+---+----+\n",
            "|              1|          6.3|           2|       17.3|     511.5| 2010-02-12 02:26:01|  2010-02-12 02:47:23|         144|         238|2010|    2|  6|   2|\n",
            "|              2|         18.3|           1|       48.5|    542.41| 2013-08-27 19:19:51|  2013-08-27 19:43:41|         132|         252|2013|    8|  3|  19|\n",
            "|              1|          4.9|           1|       16.5|    523.42| 2014-08-03 02:08:36|  2014-08-03 02:25:31|         100|           7|2014|    8|  1|   2|\n",
            "|              1|          7.8|           1|       24.5|    500.11| 2014-11-28 13:13:30|  2014-11-28 13:32:30|         138|         167|2014|   11|  6|  13|\n",
            "|              1|          3.0|           1|       10.5|     500.3| 2014-12-10 23:07:47|  2014-12-10 23:16:35|          68|         239|2014|   12|  4|  23|\n",
            "|              2|         2.52|           1|       10.0|     501.5| 2014-12-31 16:00:28|  2014-12-31 16:10:28|         142|          41|2014|   12|  4|  16|\n",
            "|              1|         94.7|           1|       26.0|    528.55| 2015-01-03 14:52:10|  2015-01-03 17:23:02|         132|         265|2015|    1|  7|  14|\n",
            "|              3|         16.8|           1|      102.5|     530.0| 2015-09-18 18:35:32|  2015-09-18 21:00:25|         130|         265|2015|    9|  6|  18|\n",
            "|              1|          1.7|           1|        8.5|    544.44| 2016-01-21 20:35:50|  2016-01-21 20:43:54|          50|         143|2016|    1|  5|  20|\n",
            "|              1|          2.9|           1|       14.5|    542.51| 2016-04-25 10:18:34|  2016-04-25 10:39:32|         113|         163|2016|    4|  2|  10|\n",
            "|              1|          1.8|           1|        8.5|    549.02| 2020-02-28 03:54:13|  2020-02-28 04:02:18|         129|         157|2020|    2|  6|   3|\n",
            "|              3|          0.7|           1|        7.9|    502.68| 2023-06-10 21:59:35|  2023-06-10 22:06:15|          48|         163|2023|    6|  7|  21|\n",
            "|              0|          2.0|           1|       17.8|    543.33| 2024-02-22 22:25:37|  2024-02-22 22:35:51|         142|         151|2024|    2|  5|  22|\n",
            "|              2|          8.1|           1|       47.1|    526.21| 2024-04-26 15:44:50|  2024-04-26 16:32:03|         140|         243|2024|    4|  6|  15|\n",
            "|              2|          2.5|           1|       20.5|    544.76| 2024-06-11 14:53:47|  2024-06-11 15:17:09|          43|         161|2024|    6|  3|  14|\n",
            "|              1|          7.1|           1|       32.4|    523.95| 2024-08-16 03:53:44|  2024-08-16 04:14:14|         246|          42|2024|    8|  6|   3|\n",
            "|              2|        107.6|           1|      517.5|    520.38| 2016-01-10 19:50:43|  2016-01-11 04:05:04|          86|         265|2016|    1|  1|  19|\n",
            "+---------------+-------------+------------+-----------+----------+--------------------+---------------------+------------+------------+----+-----+---+----+\n",
            "\n"
          ]
        }
      ]
    },
    {
      "cell_type": "markdown",
      "source": [
        "Here we can clean by checking if the fare makes sense with the mileage and time\n",
        "The minimum ride is 3 dollars, then 2.18 dollars per fith of a mile.\n",
        "The time is 0.5/minute if the taxi is not moving.\n",
        "\n",
        "Exemple 1\n",
        "calc fare based on mileage (3+ (16.8 - 0.2)*2.18) = 40.2\n",
        "calc fare based on time 2.5 hours -> 150 min -> 75\n",
        "\n",
        "102.5 < 40.2 + 75\n",
        "\n",
        "the total fare is less than 102.5 < 75+63\n",
        "What is the speed?\n",
        "\n",
        "75 - 63.12 = 11.88 -> almost 24 minutes at less than 12 mph\n",
        "\n",
        "We could deduce the minimum speeds and check if they make sense\n",
        "\n",
        "Exemple 2:\n",
        "\n",
        "(3 + (4.51 -0.2)*2.18 = 12.37\n",
        "13 minutes -> 26\n",
        "\n",
        "6964 > 26 + 12.37\n",
        "The fare is more than the price per minute + the mileage: it doesn't make sense, this trip data is wrong.\n",
        "\n",
        "*** This times out on colab ***"
      ],
      "metadata": {
        "id": "9vwpdjgwyZX7"
      }
    },
    {
      "cell_type": "code",
      "source": [
        "df_errors = df.where(\n",
        "    (df.Trip_Distance>50) & \\\n",
        "    # If the fare is more than the rate/mile + rate/min, there is really something wrong)\n",
        "    (df.fare_amount >= (df.Trip_Distance-0.2 * 2.5)+2.5 + (unix_timestamp(df.tpep_dropoff_datetime) - unix_timestamp(df.tpep_pickup_datetime))/60*2.18) & \\\n",
        "    # Speed = distance / time (in hours)\n",
        "    (df.Trip_Distance /\n",
        "     (unix_timestamp(df.tpep_dropoff_datetime) - unix_timestamp(df.tpep_pickup_datetime)) * 3600.0 <= 60.0)\n",
        ")"
      ],
      "metadata": {
        "id": "AR0L7Ry2RiK2"
      },
      "execution_count": null,
      "outputs": []
    },
    {
      "cell_type": "code",
      "source": [],
      "metadata": {
        "id": "U9pNHduEIn1Z"
      },
      "execution_count": null,
      "outputs": []
    },
    {
      "cell_type": "code",
      "source": [],
      "metadata": {
        "id": "118Aep3zIoQj"
      },
      "execution_count": null,
      "outputs": []
    },
    {
      "cell_type": "code",
      "source": [
        "df_errors.show()"
      ],
      "metadata": {
        "id": "ZnGdmUIH2BDl"
      },
      "execution_count": null,
      "outputs": []
    },
    {
      "cell_type": "markdown",
      "source": [
        "## Calculations"
      ],
      "metadata": {
        "id": "ekqdpQaIKV_l"
      }
    },
    {
      "cell_type": "code",
      "source": [
        "\n",
        "fig, axes = plt.subplots(nrows=1, ncols=1)\n",
        "fig.set_size_inches(20, 20)\n",
        "\n",
        "filtered = df.select(\"Trip_Distance\")\n",
        "# Use the hist function to plot histograms on the Axes\n",
        "hist(axes, filtered, bins = 20, color=['red'])\n",
        "axes.set_title('Distance')\n",
        "axes.legend()"
      ],
      "metadata": {
        "id": "t6-ZTTmoA5Vo"
      },
      "execution_count": null,
      "outputs": []
    },
    {
      "cell_type": "code",
      "source": [
        "import matplotlib.pyplot as plt\n",
        "\n",
        "# Assuming you have the histogram data in a pandas DataFrame\n",
        "hist_data = df.groupBy(\"payment_type\").count().toPandas()\n",
        "\n",
        "# Plotting the histogram\n",
        "#plt.bar(hist_data['payment_type'], hist_data['count'])\n",
        "#plt.xlabel('payment_type')\n",
        "#plt.ylabel('Count')\n",
        "#plt.title('Histogram of payment type')\n",
        "#plt.show()"
      ],
      "metadata": {
        "id": "h2A07gRj7LYY"
      },
      "execution_count": null,
      "outputs": []
    },
    {
      "cell_type": "code",
      "execution_count": null,
      "metadata": {
        "id": "gaen96XeRJkE"
      },
      "outputs": [],
      "source": [
        "df.agg({'Fare_amount': 'sum'}).show()"
      ]
    },
    {
      "cell_type": "code",
      "execution_count": null,
      "metadata": {
        "id": "oV-4aP1GQuzy"
      },
      "outputs": [],
      "source": [
        "df.agg({'Tip_amount': 'sum'}).show()"
      ]
    },
    {
      "cell_type": "markdown",
      "source": [],
      "metadata": {
        "id": "XFQ41DaB-_vP"
      }
    },
    {
      "cell_type": "code",
      "source": [],
      "metadata": {
        "id": "27oOXakP-9p8"
      },
      "execution_count": null,
      "outputs": []
    }
  ],
  "metadata": {
    "colab": {
      "provenance": [],
      "collapsed_sections": [
        "GMLGMRrbZMm6",
        "N3bqoTy3beV1",
        "XWYEyx3vVVz8",
        "vuOBx95qagek"
      ],
      "authorship_tag": "ABX9TyMuaUdL+xzYY3ldc0gwVv8s",
      "include_colab_link": true
    },
    "kernelspec": {
      "display_name": "Python 3",
      "name": "python3"
    },
    "language_info": {
      "name": "python"
    }
  },
  "nbformat": 4,
  "nbformat_minor": 0
}